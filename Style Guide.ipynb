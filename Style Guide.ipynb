{
 "cells": [
  {
   "cell_type": "markdown",
   "metadata": {},
   "source": [
    "Import statements go at the top of the notebook, to make it clear what libraries are required:"
   ]
  },
  {
   "cell_type": "code",
   "execution_count": 1,
   "metadata": {
    "collapsed": true
   },
   "outputs": [],
   "source": [
    "%matplotlib inline\n",
    "\n",
    "import numpy as np\n",
    "import matplotlib.pyplot as plt"
   ]
  },
  {
   "cell_type": "markdown",
   "metadata": {},
   "source": [
    "## Part A (2 points)\n",
    "\n",
    "There should be a header for each part of the problem. Use level two headers (##) and include the number of points this part of the problem is worth.\n",
    "\n",
    "Give generic instructions/background in normal markdown cells."
   ]
  },
  {
   "cell_type": "markdown",
   "metadata": {},
   "source": [
    "<div class=\"alert alert-success\">\n",
    "For specific instructions, put them in a green box in a separate markdown cell. Then, have the next cell be an answer cell where students need to put their solutions:\n",
    "</div>"
   ]
  },
  {
   "cell_type": "code",
   "execution_count": 2,
   "metadata": {
    "collapsed": true,
    "nbgrader": {
     "grade": false,
     "grade_id": "my_function",
     "locked": false,
     "solution": true
    }
   },
   "outputs": [],
   "source": [
    "def my_function(x, n):\n",
    "    \"\"\"\n",
    "    Give detailed instructions about the parameters and return values in\n",
    "    the function docstring. Use the numpy docstring style to do this.\n",
    "    \n",
    "    Parameters\n",
    "    ----------\n",
    "    x : int or float\n",
    "        A number\n",
    "    n : int\n",
    "        Another number to multiply x by\n",
    "        \n",
    "    Returns\n",
    "    -------\n",
    "    out : int\n",
    "        A number equivalent to x * n\n",
    "\n",
    "    \"\"\"\n",
    "    ### BEGIN SOLUTION\n",
    "\n",
    "    # use the special syntax to delimit the region where students will\n",
    "    # actually write their answer and then put in an example solution\n",
    "    return x * n\n",
    "    \n",
    "    ### END SOLUTION"
   ]
  },
  {
   "cell_type": "markdown",
   "metadata": {},
   "source": [
    "Sometimes, it is helpful to students to give them a few examples of how to call the function. You can also leave them  a cell instructing them to write their own test cases and explore playing around with the function."
   ]
  },
  {
   "cell_type": "code",
   "execution_count": 3,
   "metadata": {
    "collapsed": true
   },
   "outputs": [],
   "source": [
    "# add your own test cases here!\n"
   ]
  },
  {
   "cell_type": "code",
   "execution_count": 7,
   "metadata": {
    "collapsed": false,
    "nbgrader": {
     "grade": true,
     "grade_id": "test_my_function",
     "locked": true,
     "points": 2,
     "solution": false
    }
   },
   "outputs": [
    {
     "name": "stdout",
     "output_type": "stream",
     "text": [
      "Success!\n"
     ]
    }
   ],
   "source": [
    "\"\"\"Test that my_function works correctly.\"\"\"\n",
    "from numpy.testing import assert_almost_equal\n",
    "\n",
    "# numpy.testing.allclose is also really useful (for comparing numpy arrays)\n",
    "\n",
    "# test a few different outputs; if using floats, use an assert\n",
    "# function that allows room for floating point error\n",
    "assert_almost_equal(my_function(1, 1), 1)\n",
    "assert_almost_equal(my_function(1.2, 1), 1.2)\n",
    "assert_almost_equal(my_function(3, 4), 12)\n",
    "assert_almost_equal(my_function(10, 20), 200)\n",
    "\n",
    "# test a lot of different things so they can't just use a bunch\n",
    "# of if statements\n",
    "for i in np.arange(0, 10, 0.1):\n",
    "    assert_equal(my_function(i, 1), i)\n",
    "    assert_equal(my_function(i, 2), i + i)\n",
    "    assert_equal(my_function(i, 3), i + i + i)\n",
    "\n",
    "# print success so students know they have passed the tests\n",
    "print('Success!')"
   ]
  },
  {
   "cell_type": "markdown",
   "metadata": {},
   "source": [
    "---\n",
    "## Part B (1 point)\n",
    "\n",
    "When starting a new part of the problem, add a horizontal line before the header to visually separate the different parts."
   ]
  },
  {
   "cell_type": "markdown",
   "metadata": {},
   "source": [
    "<div class=\"alert alert-success\">\n",
    "For written answers, you should still include the instructions in a green box in its own markdown cell.\n",
    "</div>"
   ]
  },
  {
   "cell_type": "markdown",
   "metadata": {
    "nbgrader": {
     "grade": true,
     "grade_id": "part_b",
     "locked": false,
     "points": 1,
     "solution": true
    }
   },
   "source": [
    "This is the answer to the written question. You can write the solution or rubric here."
   ]
  }
 ],
 "metadata": {
  "celltoolbar": "Create Assignment",
  "kernelspec": {
   "display_name": "Python 3",
   "language": "python",
   "name": "python3"
  },
  "language_info": {
   "codemirror_mode": {
    "name": "ipython",
    "version": 3
   },
   "file_extension": ".py",
   "mimetype": "text/x-python",
   "name": "python",
   "nbconvert_exporter": "python",
   "pygments_lexer": "ipython3",
   "version": "3.4.2"
  }
 },
 "nbformat": 4,
 "nbformat_minor": 0
}
