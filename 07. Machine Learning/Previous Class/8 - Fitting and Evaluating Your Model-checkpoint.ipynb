{
 "metadata": {
  "name": "",
  "signature": "sha256:90ea01b6509b55720485d89cf0b0b0665936514a8d7ce6864b6fd55337fa23b1"
 },
 "nbformat": 3,
 "nbformat_minor": 0,
 "worksheets": [
  {
   "cells": [
    {
     "cell_type": "markdown",
     "metadata": {},
     "source": [
      "#Agenda\n",
      "\n",
      "- Define the problem and the approach\n",
      "- Data basics: loading data, looking at your data, basic commands\n",
      "- Handling missing values\n",
      "- Intro to scikit-learn\n",
      "- Grouping and aggregating data\n",
      "- Feature selection\n",
      "- <p style=\"color: red\">Fitting and evaluating a model</p>\n",
      "- Deploying your work"
     ]
    },
    {
     "cell_type": "markdown",
     "metadata": {},
     "source": [
      "#In this workbook you will\n",
      "- Create your own classifier for predicting delinquent customers\n",
      "- Build basic reports to help interpret the effectiveness of your model\n",
      "- Convert the results of your model to a credit score"
     ]
    },
    {
     "cell_type": "code",
     "collapsed": false,
     "input": [
      "import pandas as pd\n",
      "import numpy as np\n",
      "import pylab as pl"
     ],
     "language": "python",
     "metadata": {},
     "outputs": [],
     "prompt_number": 1
    },
    {
     "cell_type": "code",
     "collapsed": false,
     "input": [
      "train = pd.read_csv(\"./data/credit-data-trainingset.csv\")\n",
      "test = pd.read_csv(\"./data/credit-data-testset.csv\")\n",
      "test.head()"
     ],
     "language": "python",
     "metadata": {},
     "outputs": [
      {
       "html": [
        "<div style=\"max-height:1000px;max-width:1500px;overflow:auto;\">\n",
        "<table border=\"1\" class=\"dataframe\">\n",
        "  <thead>\n",
        "    <tr style=\"text-align: right;\">\n",
        "      <th></th>\n",
        "      <th>serious_dlqin2yrs</th>\n",
        "      <th>revolving_utilization_of_unsecured_lines</th>\n",
        "      <th>age</th>\n",
        "      <th>number_of_time30-59_days_past_due_not_worse</th>\n",
        "      <th>debt_ratio</th>\n",
        "      <th>monthly_income</th>\n",
        "      <th>number_of_open_credit_lines_and_loans</th>\n",
        "      <th>number_of_times90_days_late</th>\n",
        "      <th>number_real_estate_loans_or_lines</th>\n",
        "      <th>number_of_time60-89_days_past_due_not_worse</th>\n",
        "      <th>number_of_dependents</th>\n",
        "      <th>monthly_income_imputed</th>\n",
        "    </tr>\n",
        "  </thead>\n",
        "  <tbody>\n",
        "    <tr>\n",
        "      <th>0</th>\n",
        "      <td> 0</td>\n",
        "      <td> 0.233810</td>\n",
        "      <td> 30</td>\n",
        "      <td> 0</td>\n",
        "      <td>    0.036050</td>\n",
        "      <td>  3300</td>\n",
        "      <td>  5</td>\n",
        "      <td> 0</td>\n",
        "      <td> 0</td>\n",
        "      <td> 0</td>\n",
        "      <td> 0</td>\n",
        "      <td> 6017</td>\n",
        "    </tr>\n",
        "    <tr>\n",
        "      <th>1</th>\n",
        "      <td> 1</td>\n",
        "      <td> 0.964673</td>\n",
        "      <td> 40</td>\n",
        "      <td> 3</td>\n",
        "      <td>    0.382965</td>\n",
        "      <td> 13700</td>\n",
        "      <td>  9</td>\n",
        "      <td> 3</td>\n",
        "      <td> 1</td>\n",
        "      <td> 1</td>\n",
        "      <td> 2</td>\n",
        "      <td> 2850</td>\n",
        "    </tr>\n",
        "    <tr>\n",
        "      <th>2</th>\n",
        "      <td> 0</td>\n",
        "      <td> 0.061086</td>\n",
        "      <td> 78</td>\n",
        "      <td> 0</td>\n",
        "      <td> 2058.000000</td>\n",
        "      <td>  2500</td>\n",
        "      <td> 10</td>\n",
        "      <td> 0</td>\n",
        "      <td> 2</td>\n",
        "      <td> 0</td>\n",
        "      <td> 0</td>\n",
        "      <td> 2500</td>\n",
        "    </tr>\n",
        "    <tr>\n",
        "      <th>3</th>\n",
        "      <td> 0</td>\n",
        "      <td> 0.075427</td>\n",
        "      <td> 32</td>\n",
        "      <td> 0</td>\n",
        "      <td>    0.085512</td>\n",
        "      <td>  7916</td>\n",
        "      <td>  6</td>\n",
        "      <td> 0</td>\n",
        "      <td> 0</td>\n",
        "      <td> 0</td>\n",
        "      <td> 0</td>\n",
        "      <td> 4145</td>\n",
        "    </tr>\n",
        "    <tr>\n",
        "      <th>4</th>\n",
        "      <td> 0</td>\n",
        "      <td> 0.046560</td>\n",
        "      <td> 58</td>\n",
        "      <td> 0</td>\n",
        "      <td>    0.241622</td>\n",
        "      <td>  2416</td>\n",
        "      <td>  9</td>\n",
        "      <td> 0</td>\n",
        "      <td> 1</td>\n",
        "      <td> 0</td>\n",
        "      <td> 0</td>\n",
        "      <td> 2850</td>\n",
        "    </tr>\n",
        "  </tbody>\n",
        "</table>\n",
        "<p>5 rows \u00d7 12 columns</p>\n",
        "</div>"
       ],
       "metadata": {},
       "output_type": "pyout",
       "prompt_number": 2,
       "text": [
        "   serious_dlqin2yrs  revolving_utilization_of_unsecured_lines  age  \\\n",
        "0                  0                                  0.233810   30   \n",
        "1                  1                                  0.964673   40   \n",
        "2                  0                                  0.061086   78   \n",
        "3                  0                                  0.075427   32   \n",
        "4                  0                                  0.046560   58   \n",
        "\n",
        "   number_of_time30-59_days_past_due_not_worse   debt_ratio  monthly_income  \\\n",
        "0                                            0     0.036050            3300   \n",
        "1                                            3     0.382965           13700   \n",
        "2                                            0  2058.000000            2500   \n",
        "3                                            0     0.085512            7916   \n",
        "4                                            0     0.241622            2416   \n",
        "\n",
        "   number_of_open_credit_lines_and_loans  number_of_times90_days_late  \\\n",
        "0                                      5                            0   \n",
        "1                                      9                            3   \n",
        "2                                     10                            0   \n",
        "3                                      6                            0   \n",
        "4                                      9                            0   \n",
        "\n",
        "   number_real_estate_loans_or_lines  \\\n",
        "0                                  0   \n",
        "1                                  1   \n",
        "2                                  2   \n",
        "3                                  0   \n",
        "4                                  1   \n",
        "\n",
        "   number_of_time60-89_days_past_due_not_worse  number_of_dependents  \\\n",
        "0                                            0                     0   \n",
        "1                                            1                     2   \n",
        "2                                            0                     0   \n",
        "3                                            0                     0   \n",
        "4                                            0                     0   \n",
        "\n",
        "   monthly_income_imputed  \n",
        "0                    6017  \n",
        "1                    2850  \n",
        "2                    2500  \n",
        "3                    4145  \n",
        "4                    2850  \n",
        "\n",
        "[5 rows x 12 columns]"
       ]
      }
     ],
     "prompt_number": 2
    },
    {
     "cell_type": "markdown",
     "metadata": {},
     "source": [
      "##Import some classifiers"
     ]
    },
    {
     "cell_type": "code",
     "collapsed": false,
     "input": [
      "from sklearn.linear_model import LogisticRegression\n",
      "from sklearn.neighbors import KNeighborsClassifier\n",
      "from sklearn.ensemble import RandomForestClassifier, GradientBoostingClassifier\n",
      "from sklearn.svm import SVC"
     ],
     "language": "python",
     "metadata": {},
     "outputs": [],
     "prompt_number": 3
    },
    {
     "cell_type": "markdown",
     "metadata": {},
     "source": [
      "##Fitting your model"
     ]
    },
    {
     "cell_type": "code",
     "collapsed": false,
     "input": [
      "features = ['revolving_utilization_of_unsecured_lines', 'debt_ratio',\n",
      "            'monthly_income', 'age', 'number_of_times90_days_late']\n",
      "\n",
      "clf = KNeighborsClassifier(n_neighbors=13, warn_on_equidistant=False)"
     ],
     "language": "python",
     "metadata": {},
     "outputs": []
    },
    {
     "cell_type": "code",
     "collapsed": false,
     "input": [
      "clf.fit(train[features], train.serious_dlqin2yrs)"
     ],
     "language": "python",
     "metadata": {},
     "outputs": []
    },
    {
     "cell_type": "markdown",
     "metadata": {},
     "source": [
      "###Generating Predictions"
     ]
    },
    {
     "cell_type": "code",
     "collapsed": false,
     "input": [
      "#classes (returns an array)\n",
      "clf.predict(test[features])"
     ],
     "language": "python",
     "metadata": {},
     "outputs": []
    },
    {
     "cell_type": "code",
     "collapsed": false,
     "input": [
      "#probabilities (returns a numpy array)\n",
      "clf.predict_proba(test[features])"
     ],
     "language": "python",
     "metadata": {},
     "outputs": []
    },
    {
     "cell_type": "markdown",
     "metadata": {},
     "source": [
      "###Plot a histogram of the probabilities"
     ]
    },
    {
     "cell_type": "code",
     "collapsed": false,
     "input": [
      "probs = clf.predict_proba(test[features])\n",
      "prob_true = probs[::,1]\n",
      "pl.hist(prob_true)"
     ],
     "language": "python",
     "metadata": {},
     "outputs": []
    },
    {
     "cell_type": "markdown",
     "metadata": {},
     "source": [
      "##[Evaluating your model](http://scikit-learn.org/stable/modules/model_evaluation.html#classification-metrics)"
     ]
    },
    {
     "cell_type": "code",
     "collapsed": false,
     "input": [
      "from sklearn.metrics import roc_curve, auc, classification_report, confusion_matrix"
     ],
     "language": "python",
     "metadata": {},
     "outputs": []
    },
    {
     "cell_type": "code",
     "collapsed": false,
     "input": [
      "preds = clf.predict_proba(test[features])\n",
      "preds"
     ],
     "language": "python",
     "metadata": {},
     "outputs": []
    },
    {
     "cell_type": "markdown",
     "metadata": {},
     "source": [
      "##Classification reports"
     ]
    },
    {
     "cell_type": "markdown",
     "metadata": {},
     "source": [
      "###What does this tell you?"
     ]
    },
    {
     "cell_type": "code",
     "collapsed": false,
     "input": [
      "confusion_matrix(test['serious_dlqin2yrs'], clf.predict(test[features]))"
     ],
     "language": "python",
     "metadata": {},
     "outputs": []
    },
    {
     "cell_type": "code",
     "collapsed": false,
     "input": [
      "print classification_report(test['serious_dlqin2yrs'], clf.predict(test[features]), labels=[0, 1])"
     ],
     "language": "python",
     "metadata": {},
     "outputs": []
    },
    {
     "cell_type": "markdown",
     "metadata": {},
     "source": [
      "###Write your own version of confusion_matrix using `pandas`. Be sure to label the rows/columns.\n",
      "*HINT: use crosstab*"
     ]
    },
    {
     "cell_type": "code",
     "collapsed": false,
     "input": [
      "pd.crosstab(test['serious_dlqin2yrs'], clf.predict(test[features]), rownames=[\"Actual\"], colnames=[\"Predicted\"])"
     ],
     "language": "python",
     "metadata": {},
     "outputs": []
    },
    {
     "cell_type": "markdown",
     "metadata": {},
     "source": [
      "###The ROC Curve\n",
      "To evaluate our classifier, we're going to use an [ROC Curve](http://en.wikipedia.org/wiki/Receiver_operating_characteristic). ROC Curves are great for evaluating binary (0, 1) classification models. A ROC Curve plots the False Postive Rate (fpr) vs. the True Positive Rate (tpr) for a classifier.\n",
      "\n",
      "See example in [scikit-learn docs](http://scikit-learn.org/stable/auto_examples/plot_roc.html#example-plot-roc-py)."
     ]
    },
    {
     "cell_type": "code",
     "collapsed": false,
     "input": [
      "def plot_roc(name, probs):\n",
      "    fpr, tpr, thresholds = roc_curve(test['serious_dlqin2yrs'], probs)\n",
      "    roc_auc = auc(fpr, tpr)\n",
      "    pl.clf()\n",
      "    pl.plot(fpr, tpr, label='ROC curve (area = %0.2f)' % roc_auc)\n",
      "    pl.plot([0, 1], [0, 1], 'k--')\n",
      "    pl.xlim([0.0, 1.05])\n",
      "    pl.ylim([0.0, 1.05])\n",
      "    pl.xlabel('False Positive Rate')\n",
      "    pl.ylabel('True Positive Rate')\n",
      "    pl.title(name)\n",
      "    pl.legend(loc=\"lower right\")\n",
      "    pl.show()\n",
      "plot_roc(\"Perfect Classifier\", test['serious_dlqin2yrs'])\n",
      "plot_roc(\"Guessing\", np.random.uniform(0, 1, len(test['serious_dlqin2yrs'])))\n",
      "\n",
      "#[::,1] selects the 2nd column of the numpy array\n",
      "plot_roc(\"KNN\", preds[::,1])"
     ],
     "language": "python",
     "metadata": {},
     "outputs": []
    },
    {
     "cell_type": "code",
     "collapsed": false,
     "input": [
      "clf = RandomForestClassifier()\n",
      "clf.fit(train[features], train.serious_dlqin2yrs)"
     ],
     "language": "python",
     "metadata": {},
     "outputs": []
    },
    {
     "cell_type": "code",
     "collapsed": false,
     "input": [
      "probs = clf.predict_proba(test[features])[::,1]\n",
      "plot_roc(\"RandomForest\", probs)"
     ],
     "language": "python",
     "metadata": {},
     "outputs": []
    },
    {
     "cell_type": "markdown",
     "metadata": {},
     "source": [
      "###Build your own classifier\n",
      "Pick a different algorithm and a new set of features. Can you beat the 0.74 AUC?"
     ]
    },
    {
     "cell_type": "code",
     "collapsed": false,
     "input": [
      "train.head()"
     ],
     "language": "python",
     "metadata": {},
     "outputs": []
    },
    {
     "cell_type": "code",
     "collapsed": false,
     "input": [
      "features = ['revolving_utilization_of_unsecured_lines', 'debt_ratio',\n",
      "            'number_of_times90_days_late', 'number_real_estate_loans_or_lines']\n",
      "clf = GradientBoostingClassifier()\n",
      "clf.fit(train[features], train.serious_dlqin2yrs)\n",
      "probs = clf.predict_proba(test[features])[::,1]\n",
      "plot_roc(\"Your Classifier\", probs)"
     ],
     "language": "python",
     "metadata": {},
     "outputs": []
    },
    {
     "cell_type": "markdown",
     "metadata": {},
     "source": [
      "###Converting to credit score\n",
      "We're going to take the P(delinquent) outputted by the model and convert it to a FICO style score. We calculate the log odds which we then convert into 'points'. in this case, a increase/decrease in 40 points (arbritrary) means a person's riskness has halved/doubled--40/log(2). We're starting with a base score of 340 (arbitrary)."
     ]
    },
    {
     "cell_type": "code",
     "collapsed": false,
     "input": [
      "probs\n",
      "odds = (1 - probs) / probs\n",
      "score = np.log(odds)*(40/np.log(2)) + 340\n",
      "pl.hist(score)"
     ],
     "language": "python",
     "metadata": {},
     "outputs": []
    },
    {
     "cell_type": "code",
     "collapsed": false,
     "input": [
      "def convert_prob_to_score(p):\n",
      "    \"\"\"\n",
      "    takes a probability and converts it to a score\n",
      "    Example:\n",
      "        convert_prob_to_score(0.1)\n",
      "        466\n",
      "    \"\"\"\n",
      "    odds = (1 - p) / p\n",
      "    scores = np.log(odds)*(40/np.log(2)) + 340\n",
      "    return scores.astype(np.int)\n",
      "\n",
      "convert_prob_to_score(probs)"
     ],
     "language": "python",
     "metadata": {},
     "outputs": []
    },
    {
     "cell_type": "markdown",
     "metadata": {},
     "source": [
      "##We just did the following\n",
      "\n",
      "- Trained a credit classifier\n",
      "- Evaluated the results by both plotting data and generating reports\n",
      "- Converted the model into a credit score"
     ]
    }
   ],
   "metadata": {}
  }
 ]
}