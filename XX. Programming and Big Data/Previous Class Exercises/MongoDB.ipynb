{
 "metadata": {
  "name": "",
  "signature": "sha256:91402bff5009df772cf05d43d6ef72524d251d0623adfda31f939a6c0217c84a"
 },
 "nbformat": 3,
 "nbformat_minor": 0,
 "worksheets": [
  {
   "cells": [
    {
     "cell_type": "code",
     "collapsed": false,
     "input": [
      "# import the MongoClient package that we\n",
      "# will use to communicate with the db\n",
      "from pymongo import MongoClient\n",
      "\n",
      "# create a client\n",
      "client = MongoClient()\n",
      "# set the database that we want to work with to the named one.\n",
      "# REPLACE ncollier with your user name\n",
      "db = client.ncollier\n",
      "# login to that database\n",
      "# REPLACE ncollier with your user name\n",
      "db.authenticate('ncollier', 'mongo_passwd')"
     ],
     "language": "python",
     "metadata": {},
     "outputs": []
    },
    {
     "cell_type": "code",
     "collapsed": false,
     "input": [
      "# create and return the named collection or just return it\n",
      "# if it already exists\n",
      "people = db.people\n",
      "# can also use dictionary style access\n",
      "people = db['people']"
     ],
     "language": "python",
     "metadata": {},
     "outputs": []
    },
    {
     "cell_type": "code",
     "collapsed": false,
     "input": [
      "# create a document and insert it into the database\n",
      "doc = {'name' : 'Sam', 'type' : 'instructor', 'id_number' : 0}\n",
      "# insert it into the collection, it will return the unique\n",
      "# ObjectId for that doc\n",
      "people.insert(doc)"
     ],
     "language": "python",
     "metadata": {},
     "outputs": []
    },
    {
     "cell_type": "code",
     "collapsed": false,
     "input": [
      "# these are python dictionaries. We can fill them incrementally\n",
      "# create an empty dictionary\n",
      "doc = {}\n",
      "doc['name'] = 'Bill'\n",
      "doc['type'] = 'student'\n",
      "doc['id_number'] = 24\n",
      "people.insert(doc)"
     ],
     "language": "python",
     "metadata": {},
     "outputs": []
    },
    {
     "cell_type": "code",
     "collapsed": false,
     "input": [
      "# insert more documents\n",
      "people.insert({'name' : 'Sarah', 'type' : 'instructor', 'id_number' : 4})\n",
      "people.insert({'name' : 'John', 'type' : 'student', 'id_number' : 1})\n",
      "\n",
      "# iterate over all the documents\n",
      "for doc in people.find():\n",
      "    print doc\n"
     ],
     "language": "python",
     "metadata": {},
     "outputs": []
    },
    {
     "cell_type": "code",
     "collapsed": false,
     "input": [
      "# querying: find a single doc, syntax almost the\n",
      "# same as mongo shell\n",
      "people.find_one()"
     ],
     "language": "python",
     "metadata": {},
     "outputs": []
    },
    {
     "cell_type": "code",
     "collapsed": false,
     "input": [
      "# find one but with condition\n",
      "people.find_one({'name' : 'Sam'})"
     ],
     "language": "python",
     "metadata": {},
     "outputs": []
    },
    {
     "cell_type": "code",
     "collapsed": false,
     "input": [
      "# find one but with multiple conditions\n",
      "people.find_one({'type' : 'student', 'id_number' : 24})"
     ],
     "language": "python",
     "metadata": {},
     "outputs": []
    },
    {
     "cell_type": "code",
     "collapsed": false,
     "input": [
      "# find one with less than condition\n",
      "people.find_one({'id_number' : {'$lt' : 3}})"
     ],
     "language": "python",
     "metadata": {},
     "outputs": []
    },
    {
     "cell_type": "code",
     "collapsed": false,
     "input": [
      "# find all with condition, get a single property\n",
      "for doc in people.find({'id_number' : {'$lt' : 3}}):\n",
      "    print doc['name']"
     ],
     "language": "python",
     "metadata": {},
     "outputs": []
    },
    {
     "cell_type": "code",
     "collapsed": false,
     "input": [
      "# update a document\n",
      "people.update({'name' : 'John'}, {'$set' : {'id_number' : 132}})\n",
      "people.find_one({'name' : 'John'})"
     ],
     "language": "python",
     "metadata": {},
     "outputs": []
    },
    {
     "cell_type": "code",
     "collapsed": false,
     "input": [
      "people.remove({'name' : 'John'})"
     ],
     "language": "python",
     "metadata": {},
     "outputs": []
    },
    {
     "cell_type": "heading",
     "level": 4,
     "metadata": {},
     "source": [
      "Insert NSF Award data into a mongo db database"
     ]
    },
    {
     "cell_type": "code",
     "collapsed": false,
     "input": [
      "# iterate through a csv format file\n",
      "import csv\n",
      "# open the file\n",
      "with open(\"./NSF_awarddata_5000.csv\") as f:\n",
      "    # create a csv reader for reading the file\n",
      "    reader = csv.reader(f)\n",
      "    # reader.next() returns a list of the column values\n",
      "    # first line in our file is a header\n",
      "    header = reader.next()\n",
      "    print \"headers:\", header\n",
      "    data = reader.next();\n",
      "    print \"first row of data: \", data\n",
      "    print header[0], \":\", data[0] "
     ],
     "language": "python",
     "metadata": {},
     "outputs": []
    },
    {
     "cell_type": "code",
     "collapsed": false,
     "input": [],
     "language": "python",
     "metadata": {},
     "outputs": []
    }
   ],
   "metadata": {}
  }
 ]
}