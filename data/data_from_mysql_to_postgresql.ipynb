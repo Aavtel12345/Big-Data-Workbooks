{
 "cells": [
  {
   "cell_type": "markdown",
   "metadata": {},
   "source": [
    "# Converting data from mysql to postgresql using pandas\n",
    "\n",
    "# Table of Contents\n",
    "\n",
    "- [Setup](#Setup)\n",
    "\n",
    "    - [Setup - Imports](#Setup---Imports)\n",
    "    - [Setup - Database](#Setup---Database)\n",
    "    \n",
    "        - [Setup - Database - SQLAlchemy](#Setup---Database---SQLAlchemy)\n",
    "    \n",
    "    - [Setup - Functions](#Setup---Functions)\n",
    "    \n",
    "        - [Setup - Function `column_name_to_lower_case`](#Setup---Function-column_name_to_lower_case)\n",
    "        \n",
    "- [Migrate data from MySQL to PostgreSQL](#Migrate-data-from-MySQL-to-PostgreSQL)\n",
    "- [Data cleanup](#Data-cleanup)\n",
    "\n",
    "    - [Cleanup - `machine_learning.arra_funded`](#Cleanup---machine_learning.arra_funded)\n",
    "    - [Cleanup - unique constraints for old multi-part keys](#Cleanup---unique-constraints-for-old-multi-part-keys)\n",
    "\n",
    "- [Create tab-delimited files for each table](#Create-tab-delimited-files-for-each-table)\n",
    "- [Update MySQL tables](#Update-MySQL-tables)\n",
    "\n",
    "    - [`homework_MachineLearning2.sql`](#homework_MachineLearning2.sql)\n",
    "    - [`homework_NSF_Award.sql`](#homework_NSF_Award.sql)\n",
    "    - [`homework_TextAnalysis.sql`](#homework_TextAnalysis.sql)\n",
    "    - [`homework_UCPay2011.sql`](#homework_UCPay2011.sql)\n",
    "    - [`homework_grant.sql`](#homework_grant.sql)\n",
    "    - [`homework_vendor.sql`](#homework_vendor.sql)\n",
    "\n",
    "- [TODO](#TODO)\n",
    "- [Finally...](#Finally...)"
   ]
  },
  {
   "cell_type": "markdown",
   "metadata": {},
   "source": [
    "# Setup\n",
    "\n",
    "- back to [Table of Contents](#Table-of-Contents)"
   ]
  },
  {
   "cell_type": "markdown",
   "metadata": {},
   "source": [
    "## Setup - Imports\n",
    "\n",
    "- back to [Table of Contents](#Table-of-Contents)"
   ]
  },
  {
   "cell_type": "code",
   "execution_count": null,
   "metadata": {
    "collapsed": false
   },
   "outputs": [],
   "source": [
    "# imports\n",
    "import datetime\n",
    "import pandas\n",
    "import psycopg2\n",
    "import pymysql\n",
    "import sqlalchemy\n",
    "\n",
    "print( \"packages imported at \" + str( datetime.datetime.now() ) )"
   ]
  },
  {
   "cell_type": "markdown",
   "metadata": {},
   "source": [
    "## Setup - Database\n",
    "\n",
    "- back to [Table of Contents](#Table-of-Contents)"
   ]
  },
  {
   "cell_type": "code",
   "execution_count": null,
   "metadata": {
    "collapsed": false
   },
   "outputs": [],
   "source": [
    "# Variables to hold connection information\n",
    "\n",
    "# ==> MySQL\n",
    "mysql_username = \"<username>\"\n",
    "mysql_password = \"<password>\"\n",
    "mysql_host = \"localhost\"\n",
    "mysql_port = \"3306\"\n",
    "mysql_database = \"homework\"\n",
    "mysql_charset = \"utf8\"\n",
    "\n",
    "# ==> PostgreSQL\n",
    "pgsql_username = \"<username>\"\n",
    "pgsql_password = \"<password>\"\n",
    "pgsql_host = \"localhost\"\n",
    "pgsql_port = \"5432\"\n",
    "pgsql_database = \"homework\"\n",
    "pgsql_encoding = \"utf8\"\n",
    "\n",
    "print( \"database connection info defined at \" + str( datetime.datetime.now() ) )"
   ]
  },
  {
   "cell_type": "markdown",
   "metadata": {},
   "source": [
    "### Setup - Database - SQLAlchemy\n",
    "\n",
    "- back to [Table of Contents](#Table-of-Contents)"
   ]
  },
  {
   "cell_type": "code",
   "execution_count": null,
   "metadata": {
    "collapsed": false
   },
   "outputs": [],
   "source": [
    "# Create SQLAlchemy connections to both MySQL and PostgreSQL\n",
    "\n",
    "# declare variables\n",
    "connection_string = \"\"\n",
    "execution_option_dict = None\n",
    "mysql_engine = None\n",
    "pgsql_engine = None\n",
    "\n",
    "# shared execution options\n",
    "execution_option_dict = {}\n",
    "execution_option_dict[ \"stream_results\" ] = True\n",
    "#execution_option_dict[ \"autocommit\" ] = True\n",
    "\n",
    "# ==> MySQL\n",
    "\n",
    "# Create database engine for pandas.\n",
    "connection_string = \"mysql+pymysql://\" + mysql_username + \":\" + mysql_password + \"@\" + mysql_host + \":\" + mysql_port + \"/\" + mysql_database + \"?charset=\" + mysql_charset\n",
    "mysql_engine = sqlalchemy.create_engine( connection_string, execution_options = execution_option_dict )\n",
    "\n",
    "# ==> PostgreSQL\n",
    "\n",
    "# Create database engine for pandas.\n",
    "connection_string = \"postgresql+psycopg2://\" + pgsql_username + \":\" + pgsql_password + \"@\" + pgsql_host + \":\" + pgsql_port + \"/\" + pgsql_database + \"?client_encoding=\" + pgsql_encoding\n",
    "pgsql_engine = sqlalchemy.create_engine( connection_string, execution_options = execution_option_dict )\n",
    "\n",
    "print( \"sqlalchemy database engines created at \" + str( datetime.datetime.now() ) )"
   ]
  },
  {
   "cell_type": "markdown",
   "metadata": {},
   "source": [
    "### Setup - Database - psycopg2\n",
    "\n",
    "- back to [Table of Contents](#Table-of-Contents)\n",
    "\n",
    "Create connection and cursor for things that break SQLAlchemy (sigh)."
   ]
  },
  {
   "cell_type": "code",
   "execution_count": null,
   "metadata": {
    "collapsed": false
   },
   "outputs": [],
   "source": [
    "# create psycopg2 connection to PostgreSQL using connection variables defined above.\n",
    "pgsql_connection = psycopg2.connect( host = pgsql_host, port = pgsql_port, database = pgsql_database, user = pgsql_username, password = pgsql_password )\n",
    "\n",
    "print( \"psycopg2 database connection created at \" + str( datetime.datetime.now() ) )"
   ]
  },
  {
   "cell_type": "code",
   "execution_count": null,
   "metadata": {
    "collapsed": false
   },
   "outputs": [],
   "source": [
    "# create psycopg2 cursor using pgsql_connection.\n",
    "pgsql_cursor = pgsql_connection.cursor( cursor_factory = psycopg2.extras.DictCursor )\n",
    "\n",
    "print( \"psycopg2 database cursor created at \" + str( datetime.datetime.now() ) )"
   ]
  },
  {
   "cell_type": "markdown",
   "metadata": {},
   "source": [
    "## Setup - Functions\n",
    "\n",
    "- back to [Table of Contents](#Table-of-Contents)\n",
    "\n",
    "Run the file `data_functions.py`, which contains re-usable database functions.  List of functions will be printed in the output after you execute the file."
   ]
  },
  {
   "cell_type": "code",
   "execution_count": null,
   "metadata": {
    "collapsed": false
   },
   "outputs": [],
   "source": [
    "# Must be run in the /data folder.\n",
    "%run data_functions.py"
   ]
  },
  {
   "cell_type": "markdown",
   "metadata": {},
   "source": [
    "# Migrate data from MySQL to PostgreSQL\n",
    "\n",
    "- back to [Table of Contents](#Table-of-Contents)"
   ]
  },
  {
   "cell_type": "code",
   "execution_count": null,
   "metadata": {
    "collapsed": false
   },
   "outputs": [],
   "source": [
    "# database name\n",
    "database_name = \"homework\"\n",
    "\n",
    "# make a list of the names of the tables we want to migrate\n",
    "homework_table_list = []\n",
    "homework_table_list.append( \"machine_learning\" )\n",
    "homework_table_list.append( \"nsf_award\" )\n",
    "homework_table_list.append( \"text_analysis\" )\n",
    "homework_table_list.append( \"uc_pay_2011\" )\n",
    "homework_table_list.append( \"ugrant\" )\n",
    "homework_table_list.append( \"vendor\" )\n",
    "\n",
    "print( \"table list populated at \" + str( datetime.datetime.now() ) + \": \" + str( homework_table_list ) )"
   ]
  },
  {
   "cell_type": "code",
   "execution_count": null,
   "metadata": {
    "collapsed": false
   },
   "outputs": [],
   "source": [
    "# declare variables\n",
    "table_select_string = \"\"\n",
    "table_df = None\n",
    "\n",
    "# for each homework database table, pull it in from MySQL, write it out to PostgreSQL.\n",
    "for table_name in homework_table_list:\n",
    "    \n",
    "    print( \"==> starting migration of table \" + table_name + \" at \" + str( datetime.datetime.now() ) )\n",
    "    \n",
    "    # read the table into pandas from mysql\n",
    "    table_select_string = \"SELECT * FROM \" + database_name + \".\" + table_name + \";\"\n",
    "    table_df = pandas.read_sql( table_select_string, con = mysql_engine )\n",
    "    \n",
    "    # convert column names to lower case\n",
    "    table_df = column_names_to_lower_case( table_df )\n",
    "    \n",
    "    print( table_name + \" column names: \" + str( list( table_df.columns ) ) )\n",
    "    \n",
    "    # write the table into postgresql.\n",
    "    table_df.to_sql( table_name, con = pgsql_engine )\n",
    "\n",
    "    print( \"<== migration of table \" + table_name + \" completed at \" + str( datetime.datetime.now() ) )\n",
    "    \n",
    "#-- END loop over tables --#"
   ]
  },
  {
   "cell_type": "markdown",
   "metadata": {},
   "source": [
    "# Data cleanup\n",
    "\n",
    "- back to [Table of Contents](#Table-of-Contents)"
   ]
  },
  {
   "cell_type": "markdown",
   "metadata": {},
   "source": [
    "## Cleanup - `machine_learning.arra_funded`\n",
    "\n",
    "- back to [Table of Contents](#Table-of-Contents)\n",
    "\n",
    "In the `machine_learning`, table, convert arra_funded from text to int (\\x01 ==> 1, \\x00 ==> 0).  In the MySQL table, the data field is \"bit\" (boolean), and pandas doesn't know what to do with that, so it converts to a string with an explicitly decimal integer value.  Interesting.  Wonder what the format's underlying storage format is?"
   ]
  },
  {
   "cell_type": "code",
   "execution_count": null,
   "metadata": {
    "collapsed": false
   },
   "outputs": [],
   "source": [
    "# get distinct values\n",
    "sql_string = \"SELECT DISTINCT arra_funded AS unique_value FROM machine_learning;\"\n",
    "\n",
    "# run SQL.\n",
    "pgsql_cursor.execute( sql_string )\n",
    "\n",
    "# loop over results\n",
    "for current_row in pgsql_cursor:\n",
    "    \n",
    "    # output unique_value\n",
    "    print( str( current_row[ \"unique_value\" ] ) )\n",
    "    \n",
    "#-- END loop over distinct values in arra_funded --#"
   ]
  },
  {
   "cell_type": "code",
   "execution_count": null,
   "metadata": {
    "collapsed": false
   },
   "outputs": [],
   "source": [
    "# First, make new column `arra_funded_int` that is of type \"int\".\n",
    "sql_string = \"ALTER TABLE public.machine_learning ADD COLUMN arra_funded_int int2;\"\n",
    "\n",
    "# run and commit.\n",
    "#pgsql_cursor.execute( sql_string )\n",
    "#pgsql_connection.commit()\n",
    "\n",
    "print( str( datetime.datetime.now() ) + \": \" + sql_string )"
   ]
  },
  {
   "cell_type": "code",
   "execution_count": null,
   "metadata": {
    "collapsed": false
   },
   "outputs": [],
   "source": [
    "# Now, set arra_funded_int to 0 where arra_funded = \"\\x00\"...\n",
    "#     have to escape the back-slash with a back-slash ( \"\\\\\" ).\n",
    "sql_string = \"UPDATE public.machine_learning SET arra_funded_int = 0 WHERE arra_funded = '\\\\x00';\"\n",
    "\n",
    "# run and commit.\n",
    "#pgsql_cursor.execute( sql_string )\n",
    "#pgsql_connection.commit()\n",
    "\n",
    "print( str( datetime.datetime.now() ) + \": \" + sql_string )"
   ]
  },
  {
   "cell_type": "code",
   "execution_count": null,
   "metadata": {
    "collapsed": false
   },
   "outputs": [],
   "source": [
    "# ...and set arra_funded_int to 1 where arra_funded = \"\\x01\".\n",
    "#     have to escape the back-slash with a back-slash ( \"\\\\\" ).\n",
    "sql_string = \"UPDATE public.machine_learning SET arra_funded_int = 1 WHERE arra_funded = '\\\\x01';\"\n",
    "\n",
    "# run and commit.\n",
    "#pgsql_cursor.execute( sql_string )\n",
    "#pgsql_connection.commit()\n",
    "\n",
    "print( str( datetime.datetime.now() ) + \": \" + sql_string )"
   ]
  },
  {
   "cell_type": "code",
   "execution_count": null,
   "metadata": {
    "collapsed": false
   },
   "outputs": [],
   "source": [
    "# remove arra_funded column\n",
    "sql_string = \"ALTER TABLE public.machine_learning DROP COLUMN arra_funded;\"\n",
    "\n",
    "# run and commit.\n",
    "#pgsql_cursor.execute( sql_string )\n",
    "#pgsql_connection.commit()\n",
    "\n",
    "print( str( datetime.datetime.now() ) + \": \" + sql_string )"
   ]
  },
  {
   "cell_type": "code",
   "execution_count": null,
   "metadata": {
    "collapsed": false
   },
   "outputs": [],
   "source": [
    "# and rename \"arra_funded_int\" to \"arra_funded\"\n",
    "sql_string = \"ALTER TABLE machine_learning RENAME COLUMN arra_funded_int TO arra_funded;\"\n",
    "\n",
    "# run and commit.\n",
    "#pgsql_cursor.execute( sql_string )\n",
    "#pgsql_connection.commit()\n",
    "\n",
    "print( str( datetime.datetime.now() ) + \": \" + sql_string )"
   ]
  },
  {
   "cell_type": "markdown",
   "metadata": {},
   "source": [
    "## Cleanup - unique constraints for old multi-part keys\n",
    "\n",
    "- return to [Table of Contents](#Table-of-Contents)\n",
    "\n",
    "Convert the old primary keys on `ugrants` and `vendor` to just be unique constraints (since we have a unique integer primary key):\n",
    "\n",
    "- ugrant\n",
    "\n",
    "        PRIMARY KEY (`award_id`,`topic_id`)\n",
    "\n",
    "- vendor\n",
    "\n",
    "        PRIMARY KEY (`periodstartdate`,`institutionid`,`paymentamount`,`award_id`)"
   ]
  },
  {
   "cell_type": "code",
   "execution_count": null,
   "metadata": {
    "collapsed": false
   },
   "outputs": [],
   "source": [
    "# ==> ugrant\n",
    "\n",
    "# create SQL string\n",
    "sql_string = \"ALTER TABLE ugrant ADD CONSTRAINT ugrant_primary_key UNIQUE( award_id, topic_id );\"\n",
    "\n",
    "# run and commit.\n",
    "#pgsql_cursor.execute( sql_string )\n",
    "#pgsql_connection.commit()\n",
    "\n",
    "print( str( datetime.datetime.now() ) + \": \" + sql_string )"
   ]
  },
  {
   "cell_type": "code",
   "execution_count": null,
   "metadata": {
    "collapsed": false
   },
   "outputs": [],
   "source": [
    "# ==> vendor\n",
    "\n",
    "# create SQL string\n",
    "sql_string = \"ALTER TABLE vendor ADD CONSTRAINT vendor_primary_key UNIQUE( periodstartdate, institutionid, paymentamount, award_id );\"\n",
    "\n",
    "# run and commit.\n",
    "#pgsql_cursor.execute( sql_string )\n",
    "#pgsql_connection.commit()\n",
    "\n",
    "print( str( datetime.datetime.now() ) + \": \" + sql_string )"
   ]
  },
  {
   "cell_type": "markdown",
   "metadata": {},
   "source": [
    "# Create tab-delimited files for each table\n",
    "\n",
    "- back to [Table of Contents](#Table-of-Contents)"
   ]
  },
  {
   "cell_type": "code",
   "execution_count": null,
   "metadata": {
    "collapsed": false
   },
   "outputs": [],
   "source": [
    "# declare variables\n",
    "table_select_string = \"\"\n",
    "table_df = None\n",
    "\n",
    "# for each homework database table, pull it in from PostgreSQL, write it out to CSV file.\n",
    "for table_name in homework_table_list:\n",
    "    \n",
    "    print( \"==> starting tab-delimited export of table \" + table_name + \" at \" + str( datetime.datetime.now() ) )\n",
    "    \n",
    "    # read the table into pandas from postgresql\n",
    "    table_select_string = \"SELECT * FROM \" + table_name + \";\"\n",
    "    table_df = pandas.read_sql( table_select_string, con = pgsql_engine )\n",
    "    \n",
    "    # write the table to CSV file.\n",
    "    output_file_path = table_name + \".tab.txt\"\n",
    "    table_df.to_csv( output_file_path, sep = '\\t', encoding = 'utf-8', index = False )\n",
    "\n",
    "    print( \"<== tab-delimited export of table \" + table_name + \" to \" + output_file_path + \" completed at \" + str( datetime.datetime.now() ) )\n",
    "    \n",
    "#-- END loop over tables --#"
   ]
  },
  {
   "cell_type": "markdown",
   "metadata": {},
   "source": [
    "# Update MySQL tables\n",
    "\n",
    "- Back to [Table of Contents](#Table-of-Contents)\n",
    "\n",
    "Next, so we have the same table and column names for MySQL and PostgreSQL, pull in data frames from PostgreSQL, then output them to an empty database named \"homework\" in MySQL.  One option is to just make all new tables:"
   ]
  },
  {
   "cell_type": "code",
   "execution_count": null,
   "metadata": {
    "collapsed": false
   },
   "outputs": [],
   "source": [
    "# declare variables\n",
    "table_select_string = \"\"\n",
    "table_df = None\n",
    "\n",
    "# for each homework database table, pull it in from PostgreSQL, write it out to CSV file.\n",
    "for table_name in homework_table_list:\n",
    "    \n",
    "    print( \"==> starting migration of table \" + table_name + \" from PostgreSQL to MySQL at \" + str( datetime.datetime.now() ) )\n",
    "    \n",
    "    # read the table into pandas from postgresql\n",
    "    table_select_string = \"SELECT * FROM \" + table_name + \";\"\n",
    "    table_df = pandas.read_sql( table_select_string, con = pgsql_engine )\n",
    "    \n",
    "    # write the table to MySQL database.\n",
    "    #table_df.to_sql( table_name, con = mysql_engine, index = False )\n",
    "\n",
    "    print( \"<== migration of table \" + table_name + \" from PostgreSQL to MySQL completed at \" + str( datetime.datetime.now() ) )\n",
    "    \n",
    "#-- END loop over tables --#"
   ]
  },
  {
   "cell_type": "markdown",
   "metadata": {},
   "source": [
    "Turns out you lose all of the typing, though, so going through the files for each table and using vi to replace the capital letter table and column names with all lower case, and then adding in a unique integer primary key named index.  So, we are just going to use vi to update the create scripts."
   ]
  },
  {
   "cell_type": "markdown",
   "metadata": {},
   "source": [
    "## `homework_MachineLearning2.sql`\n",
    "\n",
    "- back to [Table of Contents](#Table-of-Contents)\n",
    "\n",
    "Original CREATE TABLE:\n",
    "\n",
    "    CREATE TABLE `MachineLearning2` (\n",
    "      `APPLICATION_ID` int(11) NOT NULL,\n",
    "      `CFDA_CODE` char(15) DEFAULT NULL,\n",
    "      `YEAR` int(4) DEFAULT NULL,\n",
    "      `ACTIVITY` char(3) DEFAULT NULL,\n",
    "      `ADMINISTERING_IC` char(2) DEFAULT NULL,\n",
    "      `ARRA_FUNDED` bit(1) DEFAULT NULL,\n",
    "      `ORG_NAME` varchar(100) DEFAULT NULL,\n",
    "      `ORG_DEPT` varchar(50) DEFAULT NULL,\n",
    "      `topic_id` int(11) NOT NULL,\n",
    "      `STUDY_SECTION` varchar(4) DEFAULT NULL,\n",
    "      `TOTAL_COST` decimal(13,2) DEFAULT NULL,\n",
    "      `ED_INST_TYPE` varchar(65) DEFAULT NULL\n",
    "    ) ENGINE=InnoDB DEFAULT CHARSET=utf8;\n",
    "\n",
    "Changes to `homework_MachineLearning2.sql`\n",
    "\n",
    "- rename to: `homework-machine_learning.sql`\n",
    "- table name: `MachineLearning2` ==> `machine_learning`\n",
    "- column names (vi find and replace syntax):\n",
    "\n",
    "        %s/`APPLICATION_ID`/`application_id`/g\n",
    "        %s/`CFDA_CODE`/`cfda_code`/g\n",
    "        %s/`YEAR`/`year`/g\n",
    "        %s/`ACTIVITY`/`activity`/g\n",
    "        %s/`ADMINISTERING_IC`/`administering_ic`/g\n",
    "        %s/`ARRA_FUNDED`/`arra_funded`/g\n",
    "        %s/`ORG_NAME`/`org_name`/g\n",
    "        %s/`ORG_DEPT`/`org_dept`/g\n",
    "        %s/`STUDY_SECTION`/`study_section`/g\n",
    "        %s/`TOTAL_COST`/`total_cost`/g\n",
    "        %s/`ED_INST_TYPE`/`ed_inst_type`/g\n",
    "\n",
    "- added primary key `index`:\n",
    "\n",
    "        `index` bigint(20) unsigned NOT NULL AUTO_INCREMENT,\n",
    "        PRIMARY KEY (`index`)\n",
    "        \n",
    "New CREATE TABLE:\n",
    "\n",
    "    CREATE TABLE `machine_learning` (\n",
    "      `index` bigint(20) unsigned NOT NULL AUTO_INCREMENT,\n",
    "      `application_id` int(11) NOT NULL,\n",
    "      `cfda_code` char(15) CHARACTER SET utf8 DEFAULT NULL,\n",
    "      `year` int(4) DEFAULT NULL,\n",
    "      `activity` char(3) CHARACTER SET utf8 DEFAULT NULL,\n",
    "      `administering_ic` char(2) CHARACTER SET utf8 DEFAULT NULL,\n",
    "      `arra_funded` bit(1) DEFAULT NULL,\n",
    "      `org_name` varchar(100) CHARACTER SET utf8 DEFAULT NULL,\n",
    "      `org_dept` varchar(50) CHARACTER SET utf8 DEFAULT NULL,\n",
    "      `topic_id` int(11) NOT NULL,\n",
    "      `study_section` varchar(4) CHARACTER SET utf8 DEFAULT NULL,\n",
    "      `total_cost` decimal(13,2) DEFAULT NULL,\n",
    "      `ed_inst_type` varchar(65) CHARACTER SET utf8 DEFAULT NULL,\n",
    "      PRIMARY KEY (`index`)\n",
    "    ) ENGINE=InnoDB DEFAULT CHARSET=utf8;\n",
    "    \n",
    "And, updated each INSERT statement, from:\n",
    "\n",
    "    INSERT INTO `machine_learning` VALUES\n",
    "    \n",
    "to:\n",
    "\n",
    "    INSERT INTO `machine_learning` ( `application_id`, `cfda_code`, `year`, `activity`, `administering_ic`, `arra_funded`, `org_name`, `org_dept`, `topic_id`, `study_section`, `total_cost`, `ed_inst_type` ) VALUES\n",
    "    \n",
    "vi search and replace syntax:\n",
    "\n",
    "    %s/INSERT INTO `machine_learning`/INSERT INTO `machine_learning` ( `application_id`, `cfda_code`, `year`, `activity`, `administering_ic`, `arra_funded`, `org_name`, `org_dept`, `topic_id`, `study_section`, `total_cost`, `ed_inst_type` )/g"
   ]
  },
  {
   "cell_type": "markdown",
   "metadata": {},
   "source": [
    "## `homework_NSF_Award.sql`\n",
    "\n",
    "- back to [Table of Contents](#Table-of-Contents)\n",
    "\n",
    "Original CREATE TABLE:\n",
    "\n",
    "    CREATE TABLE `NSF_Award` (\n",
    "      `AwardId` bigint(20) DEFAULT NULL,\n",
    "      `FirstName` text,\n",
    "      `LastName` text,\n",
    "      `StartDate` text,\n",
    "      `EndDate` text,\n",
    "      `AwardTitle` text,\n",
    "      `AwardEffectiveDate` text,\n",
    "      `AwardExpirationDate` text,\n",
    "      `Name` text,\n",
    "      `CityName` text,\n",
    "      `ZipCode` text,\n",
    "      `PhoneNumber` double DEFAULT NULL,\n",
    "      `StreetAddress` text,\n",
    "      `CountryName` text,\n",
    "      `StateName` text,\n",
    "      `StateCode` text\n",
    "    ) ENGINE=InnoDB DEFAULT CHARSET=utf8;\n",
    "\n",
    "Changes to `homework_NSF_Award.sql`\n",
    "\n",
    "- rename to: `homework-nsf_award.sql`\n",
    "- table name: `NSF_Award` ==> `nsf_award`\n",
    "\n",
    "        %s/`NSF_Award`/`nsf_award`/g\n",
    "\n",
    "- column names (vi find and replace syntax):\n",
    "\n",
    "        %s/`AwardId`/`awardid`/g\n",
    "        %s/`FirstName`/`firstname`/g\n",
    "        %s/`LastName`/`lastname`/g\n",
    "        %s/`StartDate`/`startdate`/g\n",
    "        %s/`EndDate`/`enddate`/g\n",
    "        %s/`AwardTitle`/`awardtitle`/g\n",
    "        %s/`AwardEffectiveDate`/`awardeffectivedate`/g\n",
    "        %s/`AwardExpirationDate`/`awardexpirationdate`/g\n",
    "        %s/`Name`/`name`/g\n",
    "        %s/`CityName`/`cityname`/g\n",
    "        %s/`ZipCode`/`zipcode`/g\n",
    "        %s/`PhoneNumber`/`phonenumber`/g\n",
    "        %s/`StreetAddress`/`streetaddress`/g\n",
    "        %s/`CountryName`/`countryname`/g\n",
    "        %s/`StateName`/`statename`/g\n",
    "        %s/`StateCode`/`statecode`/g\n",
    "\n",
    "- added primary key `index`:\n",
    "\n",
    "        `index` bigint(20) unsigned NOT NULL AUTO_INCREMENT,\n",
    "        PRIMARY KEY (`index`)\n",
    "        \n",
    "New CREATE TABLE:\n",
    "\n",
    "    CREATE TABLE `nsf_award` (\n",
    "      `index` bigint(20) unsigned NOT NULL AUTO_INCREMENT,\n",
    "      `awardid` bigint(20) DEFAULT NULL,\n",
    "      `firstname` text,\n",
    "      `lastname` text,\n",
    "      `startdate` text,\n",
    "      `enddate` text,\n",
    "      `awardtitle` text,\n",
    "      `awardeffectivedate` text,\n",
    "      `awardexpirationdate` text,\n",
    "      `name` text,\n",
    "      `cityname` text,\n",
    "      `zipcode` text,\n",
    "      `phonenumber` double DEFAULT NULL,\n",
    "      `streetaddress` text,\n",
    "      `countryname` text,\n",
    "      `statename` text,\n",
    "      `statecode` text,\n",
    "      PRIMARY KEY (`index`)\n",
    "    ) ENGINE=InnoDB DEFAULT CHARSET=utf8;\n",
    "\n",
    "And, updated each INSERT statement, from:\n",
    "\n",
    "    INSERT INTO `nsf_award` VALUES\n",
    "    \n",
    "to:\n",
    "\n",
    "    INSERT INTO `nsf_award` ( `awardid`, `firstname`, `lastname`, `startdate`, `enddate`, `awardtitle`, `awardeffectivedate`, `awardexpirationdate`, `name`, `cityname`, `zipcode`, `phonenumber`, `streetaddress`, `countryname`, `statename`, `statecode` ) VALUES\n",
    "    \n",
    "vi search and replace syntax:\n",
    "\n",
    "    %s/INSERT INTO `nsf_award`/INSERT INTO `nsf_award` ( `awardid`, `firstname`, `lastname`, `startdate`, `enddate`, `awardtitle`, `awardeffectivedate`, `awardexpirationdate`, `name`, `cityname`, `zipcode`, `phonenumber`, `streetaddress`, `countryname`, `statename`, `statecode` )/g"
   ]
  },
  {
   "cell_type": "markdown",
   "metadata": {},
   "source": [
    "## `homework_TextAnalysis.sql`\n",
    "\n",
    "- back to [Table of Contents](#Table-of-Contents)\n",
    "\n",
    "Original CREATE TABLE:\n",
    "\n",
    "    CREATE TABLE `TextAnalysis` (\n",
    "      `APPLICATION_ID` int(11) DEFAULT NULL,\n",
    "      `ABSTRACT_TEXT` text CHARACTER SET utf8\n",
    "    ) ENGINE=InnoDB DEFAULT CHARSET=utf8;\n",
    "\n",
    "Changes to `homework_TextAnalysis.sql`\n",
    "\n",
    "- rename to: `homework-text_analysis.sql`\n",
    "- table name: `TextAnalysis` ==> `text_analysis`\n",
    "\n",
    "        %s/`TextAnalysis`/`text_analysis`/g\n",
    "\n",
    "- column names (vi find and replace syntax):\n",
    "\n",
    "        %s/`APPLICATION_ID`/`application_id`/g\n",
    "        %s/`ABSTRACT_TEXT`/`abstract_text`/g\n",
    "\n",
    "- added primary key `index`:\n",
    "\n",
    "        `index` bigint(20) unsigned NOT NULL AUTO_INCREMENT,\n",
    "        PRIMARY KEY (`index`)\n",
    "        \n",
    "New CREATE TABLE:\n",
    "\n",
    "    CREATE TABLE `text_analysis` (\n",
    "      `index` bigint(20) unsigned NOT NULL AUTO_INCREMENT,\n",
    "      `application_id` int(11) DEFAULT NULL,\n",
    "      `abstract_text` text CHARACTER SET utf8,\n",
    "      PRIMARY KEY (`index`)\n",
    "    ) ENGINE=InnoDB DEFAULT CHARSET=utf8;\n",
    "\n",
    "And, updated each INSERT statement, from:\n",
    "\n",
    "    INSERT INTO `text_analysis` VALUES\n",
    "    \n",
    "to:\n",
    "\n",
    "    INSERT INTO `text_analysis` ( `application_id`, `abstract_text` ) VALUES\n",
    "    \n",
    "vi search and replace syntax:\n",
    "\n",
    "    %s/INSERT INTO `text_analysis`/INSERT INTO `text_analysis` ( `application_id`, `abstract_text` )/g"
   ]
  },
  {
   "cell_type": "markdown",
   "metadata": {},
   "source": [
    "## `homework_UCPay2011.sql`\n",
    "\n",
    "- back to [Table of Contents](#Table-of-Contents)\n",
    "\n",
    "Original CREATE TABLE:\n",
    "\n",
    "    CREATE TABLE `UCPay2011` (\n",
    "      `ID` bigint(20) DEFAULT NULL,\n",
    "      `year` bigint(20) DEFAULT NULL,\n",
    "      `campus` text,\n",
    "      `name` text,\n",
    "      `title` text,\n",
    "      `gross` double DEFAULT NULL,\n",
    "      `base` double DEFAULT NULL,\n",
    "      `overtime` double DEFAULT NULL,\n",
    "      `extra` bigint(20) DEFAULT NULL,\n",
    "      `exclude` bigint(20) DEFAULT NULL\n",
    "    ) ENGINE=InnoDB DEFAULT CHARSET=utf8;\n",
    "\n",
    "Changes to `homework_UCPay2011.sql`\n",
    "\n",
    "- rename to: `homework-uc_pay_2011.sql`\n",
    "- table name: `UCPay2011` ==> `uc_pay_2011`\n",
    "\n",
    "        %s/`UCPay2011`/`uc_pay_2011`/g\n",
    "\n",
    "- column names (vi find and replace syntax):\n",
    "\n",
    "        %s/`ID`/`id`/g\n",
    "\n",
    "- added primary key `index`:\n",
    "\n",
    "        `index` bigint(20) unsigned NOT NULL AUTO_INCREMENT,\n",
    "        PRIMARY KEY (`index`)\n",
    "        \n",
    "New CREATE TABLE:\n",
    "\n",
    "    CREATE TABLE `uc_pay_2011` (\n",
    "      `index` bigint(20) unsigned NOT NULL AUTO_INCREMENT,\n",
    "      `id` bigint(20) DEFAULT NULL,\n",
    "      `year` bigint(20) DEFAULT NULL,\n",
    "      `campus` text,\n",
    "      `name` text,\n",
    "      `title` text,\n",
    "      `gross` double DEFAULT NULL,\n",
    "      `base` double DEFAULT NULL,\n",
    "      `overtime` double DEFAULT NULL,\n",
    "      `extra` bigint(20) DEFAULT NULL,\n",
    "      `exclude` bigint(20) DEFAULT NULL,\n",
    "      PRIMARY KEY (`index`)\n",
    "    ) ENGINE=InnoDB DEFAULT CHARSET=utf8;\n",
    "\n",
    "And, updated each INSERT statement, from:\n",
    "\n",
    "    INSERT INTO `uc_pay_2011` VALUES\n",
    "    \n",
    "to:\n",
    "\n",
    "    INSERT INTO `uc_pay_2011` ( `id`, `year`, `campus`, `name`, `title`, `gross`, `base`, `overtime`, `extra`, `exclude` ) VALUES\n",
    "    \n",
    "vi search and replace syntax:\n",
    "\n",
    "    %s/INSERT INTO `uc_pay_2011`/INSERT INTO `uc_pay_2011` ( `id`, `year`, `campus`, `name`, `title`, `gross`, `base`, `overtime`, `extra`, `exclude` )/g"
   ]
  },
  {
   "cell_type": "markdown",
   "metadata": {},
   "source": [
    "## `homework_grant.sql`\n",
    "\n",
    "- back to [Table of Contents](#Table-of-Contents)\n",
    "\n",
    "Original CREATE TABLE:\n",
    "\n",
    "    CREATE TABLE `ugrant` (\n",
    "      `award_id` varchar(50) NOT NULL,\n",
    "      `topic_id` int(11) NOT NULL,\n",
    "      `proportion` double DEFAULT NULL,\n",
    "      `agency` varchar(5) DEFAULT NULL,\n",
    "      `topic_text` text,\n",
    "      PRIMARY KEY (`award_id`,`topic_id`)\n",
    "    ) ENGINE=InnoDB DEFAULT CHARSET=utf8;\n",
    "\n",
    "Changes to `homework_grant.sql`\n",
    "\n",
    "- rename to: `homework-grant.sql`\n",
    "- remove primary key of award_id and topic_id.\n",
    "- added primary key `index`:\n",
    "\n",
    "        `index` bigint(20) unsigned NOT NULL AUTO_INCREMENT,\n",
    "        PRIMARY KEY (`index`)\n",
    "        \n",
    "- added UNIQUE constraint on award_id and topic_id.\n",
    "\n",
    "        UNIQUE KEY `ugrant_unique_award_id_topic_id` (`award_id`,`topic_id`)\n",
    "        \n",
    "New CREATE TABLE:\n",
    "\n",
    "    CREATE TABLE `ugrant` (\n",
    "      `index` bigint(20) unsigned NOT NULL AUTO_INCREMENT,\n",
    "      `award_id` varchar(50) NOT NULL,\n",
    "      `topic_id` int(11) NOT NULL,\n",
    "      `proportion` double DEFAULT NULL,\n",
    "      `agency` varchar(5) DEFAULT NULL,\n",
    "      `topic_text` text,\n",
    "      PRIMARY KEY (`index`),\n",
    "      UNIQUE KEY `ugrant_unique_award_id_topic_id` (`award_id`,`topic_id`)\n",
    "    ) ENGINE=InnoDB DEFAULT CHARSET=utf8;\n",
    "\n",
    "And, updated each INSERT statement, from:\n",
    "\n",
    "    INSERT INTO `ugrant` VALUES\n",
    "    \n",
    "to:\n",
    "\n",
    "    INSERT INTO `ugrant` ( `award_id`, `topic_id`, `proportion`, `agency`, `topic_text` ) VALUES\n",
    "    \n",
    "vi search and replace syntax:\n",
    "\n",
    "    %s/INSERT INTO `ugrant`/INSERT INTO `ugrant` ( `award_id`, `topic_id`, `proportion`, `agency`, `topic_text` )/g"
   ]
  },
  {
   "cell_type": "markdown",
   "metadata": {},
   "source": [
    "## `homework_vendor.sql`\n",
    "\n",
    "- back to [Table of Contents](#Table-of-Contents)\n",
    "\n",
    "Original CREATE TABLE:\n",
    "\n",
    "    CREATE TABLE `vendor` (\n",
    "      `periodstartdate` date NOT NULL,\n",
    "      `award_id` varchar(60) CHARACTER SET utf8 NOT NULL,\n",
    "      `institutionid` varchar(200) CHARACTER SET utf8 NOT NULL,\n",
    "      `paymentamount` double NOT NULL,\n",
    "      `cfda` varchar(10) CHARACTER SET utf8 DEFAULT NULL,\n",
    "      `fipscode` varchar(6) CHARACTER SET utf8 DEFAULT NULL,\n",
    "      `statecode` varchar(10) DEFAULT NULL,\n",
    "      `countycode` varchar(10) DEFAULT NULL,\n",
    "      `agency_abbrev` varchar(30) CHARACTER SET utf8 DEFAULT NULL,\n",
    "      `agency_text` varchar(70) CHARACTER SET utf8 DEFAULT NULL,\n",
    "      `sub_agency_text` varchar(100) CHARACTER SET utf8 DEFAULT NULL,\n",
    "      PRIMARY KEY (`periodstartdate`,`institutionid`,`paymentamount`,`award_id`)\n",
    "    ) ENGINE=InnoDB DEFAULT CHARSET=utf8;\n",
    "\n",
    "Changes to `homework_vendor.sql`\n",
    "\n",
    "- rename to: `homework-vendor.sql`\n",
    "- remove primary key of `periodstartdate`,`institutionid`,`paymentamount`,`award_id`\n",
    "- added primary key `index`:\n",
    "\n",
    "        `index` bigint(20) unsigned NOT NULL AUTO_INCREMENT,\n",
    "        PRIMARY KEY (`index`)\n",
    "        \n",
    "- added UNIQUE constraint on `periodstartdate`,`institutionid`,`paymentamount`,`award_id`.\n",
    "\n",
    "        UNIQUE KEY `vendor_unique_periodstartdate_institutionid_paymentamount_award_id` (`periodstartdate`,`institutionid`,`paymentamount`,`award_id`)\n",
    "        \n",
    "New CREATE TABLE:\n",
    "\n",
    "    CREATE TABLE `vendor` (\n",
    "      `index` bigint(20) unsigned NOT NULL AUTO_INCREMENT,  \n",
    "      `periodstartdate` date NOT NULL,\n",
    "      `award_id` varchar(60) CHARACTER SET utf8 NOT NULL, \n",
    "      `institutionid` varchar(200) CHARACTER SET utf8 NOT NULL,\n",
    "      `paymentamount` double NOT NULL, \n",
    "      `cfda` varchar(10) CHARACTER SET utf8 DEFAULT NULL,\n",
    "      `fipscode` varchar(6) CHARACTER SET utf8 DEFAULT NULL,\n",
    "      `statecode` varchar(10) DEFAULT NULL,\n",
    "      `countycode` varchar(10) DEFAULT NULL,\n",
    "      `agency_abbrev` varchar(30) CHARACTER SET utf8 DEFAULT NULL,\n",
    "      `agency_text` varchar(70) CHARACTER SET utf8 DEFAULT NULL,\n",
    "      `sub_agency_text` varchar(100) CHARACTER SET utf8 DEFAULT NULL,\n",
    "      PRIMARY KEY (`index`),\n",
    "      UNIQUE KEY `vendor_unique_startdate_instid_payamt_award_id` (`periodstartdate`,`institutionid`,`paymentamount`,`award_id`)\n",
    "    ) ENGINE=InnoDB DEFAULT CHARSET=utf8;\n",
    "\n",
    "And, updated each INSERT statement, from:\n",
    "\n",
    "    INSERT INTO `vendor` VALUES\n",
    "    \n",
    "to:\n",
    "\n",
    "    INSERT INTO `vendor` ( `periodstartdate`, `award_id`,  `institutionid`, `paymentamount`,  `cfda`, `fipscode`, `statecode`, `countycode`, `agency_abbrev`, `agency_text`, `sub_agency_text` ) VALUES\n",
    "    \n",
    "vi search and replace syntax:\n",
    "\n",
    "    %s/INSERT INTO `vendor`/INSERT INTO `vendor` ( `periodstartdate`, `award_id`,  `institutionid`, `paymentamount`,  `cfda`, `fipscode`, `statecode`, `countycode`, `agency_abbrev`, `agency_text`, `sub_agency_text` )/g"
   ]
  },
  {
   "cell_type": "markdown",
   "metadata": {},
   "source": [
    "# TODO\n",
    "\n",
    "- back to [Table of Contents](#Table-of-Contents)\n",
    "\n",
    "TODO:\n",
    "\n",
    "- update notebooks to refer to lower-case names, new table names, and to use the sqlalchemy way of doing SQL calls rather than a direct call via DBAPI.  See if it works for both mysql and postgresql."
   ]
  },
  {
   "cell_type": "markdown",
   "metadata": {},
   "source": [
    "# Finally...\n",
    "\n",
    "- back to [Table of Contents](#Table-of-Contents)\n",
    "\n",
    "Close engines, connections, etc.:"
   ]
  },
  {
   "cell_type": "code",
   "execution_count": null,
   "metadata": {
    "collapsed": true
   },
   "outputs": [],
   "source": [
    "# sometimes you'll need to rollback.\n",
    "pgsql_connection.rollback()"
   ]
  },
  {
   "cell_type": "code",
   "execution_count": null,
   "metadata": {
    "collapsed": false
   },
   "outputs": [],
   "source": [
    "# close SQLAlchemy engines.\n",
    "mysql_engine.dispose()\n",
    "pgsql_engine.dispose()\n",
    "\n",
    "# close psycopg2 DBAPI connection.\n",
    "pgsql_cursor.close()\n",
    "pgsql_connection.close()\n",
    "\n",
    "print( \"database connections closed (disposed) at \" + str( datetime.datetime.now() ) )"
   ]
  },
  {
   "cell_type": "code",
   "execution_count": null,
   "metadata": {
    "collapsed": true
   },
   "outputs": [],
   "source": []
  }
 ],
 "metadata": {
  "anaconda-cloud": {},
  "kernelspec": {
   "display_name": "Python [conda root]",
   "language": "python",
   "name": "conda-root-py"
  },
  "language_info": {
   "codemirror_mode": {
    "name": "ipython",
    "version": 3
   },
   "file_extension": ".py",
   "mimetype": "text/x-python",
   "name": "python",
   "nbconvert_exporter": "python",
   "pygments_lexer": "ipython3",
   "version": "3.5.2"
  }
 },
 "nbformat": 4,
 "nbformat_minor": 1
}
