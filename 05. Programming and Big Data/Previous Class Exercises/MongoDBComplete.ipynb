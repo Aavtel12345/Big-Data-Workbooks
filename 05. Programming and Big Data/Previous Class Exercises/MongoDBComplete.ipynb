{
 "metadata": {
  "name": "",
  "signature": "sha256:c45c9e1631a1c97cd8cc78bba68fa47ad62ed2edb9b0878e9ab5272a7880aae0"
 },
 "nbformat": 3,
 "nbformat_minor": 0,
 "worksheets": [
  {
   "cells": [
    {
     "cell_type": "code",
     "collapsed": false,
     "input": [
      "# import the MongoClient package that we\n",
      "# will use to communicate with the db\n",
      "from pymongo import MongoClient\n",
      "\n",
      "# create a client\n",
      "client = MongoClient()\n",
      "# set the database that we want to work with to the named one.\n",
      "# REPLACE ncollier with your user name\n",
      "db = client.ncollier\n",
      "# login to that database\n",
      "# REPLACE ncollier with your user name\n",
      "db.authenticate('ncollier', 'mongo_passwd')"
     ],
     "language": "python",
     "metadata": {},
     "outputs": []
    },
    {
     "cell_type": "code",
     "collapsed": false,
     "input": [
      "# create and return the named collection or just return it\n",
      "# if it already exists\n",
      "people = db.people\n",
      "# can also use dictionary style access\n",
      "people = db['people']"
     ],
     "language": "python",
     "metadata": {},
     "outputs": []
    },
    {
     "cell_type": "code",
     "collapsed": false,
     "input": [
      "# create a document and insert it into the database\n",
      "doc = {'name' : 'Sam', 'type' : 'instructor', 'id_number' : 0}\n",
      "# insert it into the collection, it will return the unique\n",
      "# ObjectId for that doc\n",
      "people.insert(doc)"
     ],
     "language": "python",
     "metadata": {},
     "outputs": []
    },
    {
     "cell_type": "code",
     "collapsed": false,
     "input": [
      "# these are python dictionaries. We can fill them incrementally\n",
      "# create an empty dictionary\n",
      "doc = {}\n",
      "doc['name'] = 'Bill'\n",
      "doc['type'] = 'student'\n",
      "doc['id_number'] = 24\n",
      "people.insert(doc)"
     ],
     "language": "python",
     "metadata": {},
     "outputs": []
    },
    {
     "cell_type": "code",
     "collapsed": false,
     "input": [
      "# insert more documents\n",
      "people.insert({'name' : 'Sarah', 'type' : 'instructor', 'id_number' : 4})\n",
      "people.insert({'name' : 'John', 'type' : 'student', 'id_number' : 1})\n",
      "\n",
      "# iterate over all the documents\n",
      "for doc in people.find():\n",
      "    print doc\n"
     ],
     "language": "python",
     "metadata": {},
     "outputs": []
    },
    {
     "cell_type": "code",
     "collapsed": false,
     "input": [
      "# querying: find a single doc, syntax almost the\n",
      "# same as mongo shell\n",
      "people.find_one()"
     ],
     "language": "python",
     "metadata": {},
     "outputs": []
    },
    {
     "cell_type": "code",
     "collapsed": false,
     "input": [
      "# find one but with condition\n",
      "people.find_one({'name' : 'Sam'})"
     ],
     "language": "python",
     "metadata": {},
     "outputs": []
    },
    {
     "cell_type": "code",
     "collapsed": false,
     "input": [
      "# find one with less than condition\n",
      "people.find_one({'id_number' : {'$lt' : 3}})"
     ],
     "language": "python",
     "metadata": {},
     "outputs": []
    },
    {
     "cell_type": "code",
     "collapsed": false,
     "input": [
      "# find all with condition, get a single property\n",
      "for doc in people.find({'id_number' : {'$lt' : 3}}):\n",
      "    print doc['name']"
     ],
     "language": "python",
     "metadata": {},
     "outputs": []
    },
    {
     "cell_type": "code",
     "collapsed": false,
     "input": [
      "# update a document\n",
      "people.update({'name' : 'John'}, {'$set' : {'id_number' : 132}})\n",
      "people.find_one({'name' : 'John'})"
     ],
     "language": "python",
     "metadata": {},
     "outputs": []
    },
    {
     "cell_type": "heading",
     "level": 4,
     "metadata": {},
     "source": [
      "Insert NSF Award data into a mongo db database"
     ]
    },
    {
     "cell_type": "code",
     "collapsed": false,
     "input": [
      "# iterate through a csv format file\n",
      "import csv\n",
      "# open the file\n",
      "with open(\"./NSF_awarddata_5000.csv\") as f:\n",
      "    # create a csv reader for reading the file\n",
      "    reader = csv.reader(f)\n",
      "    # reader.next() returns a list of the column values\n",
      "    # first line in our file is a header\n",
      "    header = reader.next()\n",
      "    print header\n",
      "    data = reader.next();\n",
      "    print data\n",
      "    "
     ],
     "language": "python",
     "metadata": {},
     "outputs": []
    },
    {
     "cell_type": "code",
     "collapsed": false,
     "input": [
      "# insert the award data into an nsf_awards collection\n",
      "with open(\"./NSF_awarddata_5000.csv\") as f:\n",
      "    reader = csv.reader(f)\n",
      "    # read the header and keep the values to \n",
      "    # use as keys in the documents we insert\n",
      "    header = reader.next()\n",
      "    for row in reader:\n",
      "        doc = {\n",
      "            header[0] : int(row[0]),\n",
      "            header[1] : int(row[1]),\n",
      "            header[2] : row[2],\n",
      "            header[3] : row[3],\n",
      "            header[4] : row[4],\n",
      "            header[5] : row[5],\n",
      "            header[6] : int(row[6])\n",
      "        }\n",
      "        db.nsf_awards.insert(doc)\n"
     ],
     "language": "python",
     "metadata": {},
     "outputs": []
    },
    {
     "cell_type": "code",
     "collapsed": false,
     "input": [
      "# do a \"find_one()\" just to check that it worked\n",
      "db.nsf_awards.find_one()"
     ],
     "language": "python",
     "metadata": {},
     "outputs": []
    },
    {
     "cell_type": "code",
     "collapsed": false,
     "input": [
      "# calculate min, max, and average by directorate, excluding\n",
      "# awards that were 0\n",
      "results = db.nsf_awards.aggregate([\n",
      "    { '$match' : {'funding_amount' : {'$gt' : 0}}},\n",
      "    { '$group' : {'_id' : '$nsf_directorate',\n",
      "                'min' : {'$min' : '$funding_amount'},\n",
      "                'max' : {'$max' : '$funding_amount'},\n",
      "                'avg' : {'$avg' : '$funding_amount'}}}\n",
      "])\n",
      "    \n",
      "for doc in results['result']:\n",
      "    print \"%s\\n\\tmin: %d\\n\\tmax: %d\\n\\tavg: %d\" % \\\n",
      "    (doc['_id'], doc['min'],doc['max'], doc['avg'])"
     ],
     "language": "python",
     "metadata": {},
     "outputs": []
    }
   ],
   "metadata": {}
  }
 ]
}