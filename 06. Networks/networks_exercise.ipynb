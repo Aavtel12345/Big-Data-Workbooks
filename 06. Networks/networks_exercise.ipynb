{
 "cells": [
  {
   "cell_type": "markdown",
   "metadata": {},
   "source": [
    "# Networks Exercise"
   ]
  },
  {
   "cell_type": "code",
   "execution_count": 17,
   "metadata": {
    "collapsed": false
   },
   "outputs": [],
   "source": [
    "# Imports \n",
    "import sys\n",
    "from py2neo import authenticate, Graph, Relationship\n",
    "#from py2neo.cypher import CypherWriter\n",
    "#import MySQLdb\n",
    "import pandas\n",
    "import pymysql\n",
    "import numpy as np\n",
    "import operator \n",
    "import pprint\n",
    "\n"
   ]
  },
  {
   "cell_type": "markdown",
   "metadata": {},
   "source": [
    "## Connect to the Neo4j Database\n",
    "Run the cell below to set up a connection to the Neo4j database using py2neo"
   ]
  },
  {
   "cell_type": "code",
   "execution_count": 2,
   "metadata": {
    "collapsed": false
   },
   "outputs": [
    {
     "name": "stdout",
     "output_type": "stream",
     "text": [
      "<Graph uri=u'http://localhost:7474/db/data/'>\n"
     ]
    }
   ],
   "source": [
    "# set up authentication parameters\n",
    "authenticate(\"localhost:7474\", \"neo4j\", \"upintheA1R!!\")\n",
    "\n",
    "# Create a variable for our graph and print our connection infomation\n",
    "graph_db = Graph()\n",
    "print graph_db\n"
   ]
  },
  {
   "cell_type": "markdown",
   "metadata": {},
   "source": [
    "#### The cell below is intended for you to test Cypher Queries"
   ]
  },
  {
   "cell_type": "markdown",
   "metadata": {},
   "source": [
    "# Introduction to Neo4j and Cypher\n",
    "## What is a Graph Database?"
   ]
  },
  {
   "cell_type": "markdown",
   "metadata": {},
   "source": [
    "### Quick Review of Neo4j and Cypher \n",
    "\n",
    "When you think of data, you probably imagine an excel table where each row is an individual observation or data point. \n",
    "For example, \n",
    "\n",
    "|name | age | employee_id|\n",
    "|-----|-----|------------|\n",
    "|Joe  |  34 |   12345    |\n",
    "|Ann  |  54 |   12346    |\n",
    "    \n",
    "In a graph database, that row is more like a ball. \n",
    "\n",
    "\n",
    "##### (node: Employee {name:Joe, age: 34, employee_id: 12345})\n",
    "\n",
    "This ball is called a \"node\" in Neo4j. In fact, the little parentheses around Joe's information are designed to help the user think of Joe's information as a little ball. \n",
    "\n",
    "All the information about Joe is still there, but it's just not in a flat table format. Instead of storing each peice of Joe's information in a variable column, Joe's information is stored as **properties**, ie name, age, employee_id.\n",
    "Joe's node also has a **label**, *Employee*, to identify this node as belonging to an employee.\n",
    "\n",
    "\n",
    "Neo4j uses the Cypher Query Language to get information out of the Database. \n",
    "\n",
    "##### Components of a simple Cypher Query:\n",
    "+ MATCH      \n",
    "     - Essentially the same thing as SELECT in SQL \n",
    "+ (n)        \n",
    "    - Any node (the n is just a variable, could be any letter) \n",
    "+ RETURN     \n",
    "    - Needed in every query \n",
    "+ LIMIT      \n",
    "    - Same as in SQL \n",
    "\n",
    "The following query will return 20 nodes from the database:  \n",
    "##### graph_db.cypher.execute(\"MATCH (n) RETURN n LIMIT 20\")\n",
    "\n",
    "If I wanted to query just Award nodes, I would run this query;  \n",
    "##### graph_db.cypher.execute(\"MATCH (n:Award) RETURN n LIMIT 20\")\n"
   ]
  },
  {
   "cell_type": "markdown",
   "metadata": {},
   "source": [
    "## Part A (X points) - Cypher Query language"
   ]
  },
  {
   "cell_type": "markdown",
   "metadata": {
    "collapsed": true
   },
   "source": [
    "### Write a query that matches 10 nodes of type Employee and returns the employeeid. Limit to 10 nodes."
   ]
  },
  {
   "cell_type": "code",
   "execution_count": 3,
   "metadata": {
    "collapsed": false,
    "nbgrader": {
     "grade": false,
     "grade_id": "squares",
     "locked": false,
     "solution": true
    }
   },
   "outputs": [
    {
     "data": {
      "text/plain": [
       "[{u'n.employeeid': u'90014540'},\n",
       " {u'n.employeeid': u'90026679'},\n",
       " {u'n.employeeid': u'90017693'},\n",
       " {u'n.employeeid': u'90028696'},\n",
       " {u'n.employeeid': u'90013819'},\n",
       " {u'n.employeeid': u'90001118'},\n",
       " {u'n.employeeid': u'90001300'},\n",
       " {u'n.employeeid': u'90023086'},\n",
       " {u'n.employeeid': u'90017074'},\n",
       " {u'n.employeeid': u'90025003'}]"
      ]
     },
     "execution_count": 3,
     "metadata": {},
     "output_type": "execute_result"
    }
   ],
   "source": [
    "graph_db.data(\"MATCH (n:Employee) RETURN n.employeeid LIMIT 10\")"
   ]
  },
  {
   "cell_type": "code",
   "execution_count": null,
   "metadata": {
    "collapsed": false
   },
   "outputs": [],
   "source": [
    "\"\"\"\n",
    "Your query should return a list containing dictonaries.\n",
    "\n",
    "Returned Object from py2neo\n",
    "\n",
    "[{u'n.employeeid': u'90014540'},\n",
    " {u'n.employeeid': u'90026679'},\n",
    " {u'n.employeeid': u'90017693'},\n",
    " {u'n.employeeid': u'90028696'},\n",
    " {u'n.employeeid': u'90013819'},\n",
    " {u'n.employeeid': u'90001118'},\n",
    " {u'n.employeeid': u'90001300'},\n",
    " {u'n.employeeid': u'90023086'},\n",
    " {u'n.employeeid': u'90017074'},\n",
    " {u'n.employeeid': u'90025003'}]\n",
    "\"\"\"\n",
    "print \"________\""
   ]
  },
  {
   "cell_type": "markdown",
   "metadata": {},
   "source": [
    "What makes graph databases like Neo4j special is the ability to create relationships between nodes:\n",
    "\n",
    "For instance, the database has two types of relationships; WORKED_ON  and WORKED_WITH\n",
    " + Employees have a *WORKED_ON* relationship with nodes which represent awards on which the person has worked.   \n",
    " + Employees have a *WORKED_WITH* relationship other persons that have worked on the same award.   \n",
    "\n",
    "To view what this looks like, this query will return 5 instances of the pattern where an employee worked_on an award, and return the relationship. \n",
    "\n",
    "#### graph_db.cypher.execute(\"MATCH (e)-[r:WORKED_ON]->(a) RETURN  r LIMIT 5;\")\n",
    "\n",
    "If you look at this query you kinda see a pattern of (node1) -[relationship]-> (node2). You can imagine that this is one ball with an arrow pointing to another ball. Each ball is a node of data and the arrow is a relationship.  What this query is asking the the database to do is go through all the nodes and relationships and find the pattern where one node has a realtionship pointing to another node and that realtionship has the label \"WORKED_ON\".  \n"
   ]
  },
  {
   "cell_type": "markdown",
   "metadata": {
    "collapsed": true
   },
   "source": [
    "### Write a query that matches nodes of type Employee that have a WORKED_WITH relationship with another node of type Employee. return the employeeid of both employee nodes. Limit the response to 5.  "
   ]
  },
  {
   "cell_type": "code",
   "execution_count": 4,
   "metadata": {
    "collapsed": false
   },
   "outputs": [
    {
     "data": {
      "text/plain": [
       "[{u'a.employeeid': u'90000919', u'b.employeeid': u'90028696'},\n",
       " {u'a.employeeid': u'90024693', u'b.employeeid': u'90013819'},\n",
       " {u'a.employeeid': u'90001652', u'b.employeeid': u'90001118'},\n",
       " {u'a.employeeid': u'90025754', u'b.employeeid': u'90001300'},\n",
       " {u'a.employeeid': u'90022371', u'b.employeeid': u'90023086'}]"
      ]
     },
     "execution_count": 4,
     "metadata": {},
     "output_type": "execute_result"
    }
   ],
   "source": [
    "graph_db.data(\"MATCH (a)-[r:WORKED_WITH]->(b) RETURN a.employeeid, b.employeeid LIMIT 5;\") "
   ]
  },
  {
   "cell_type": "code",
   "execution_count": 5,
   "metadata": {
    "collapsed": false,
    "nbgrader": {
     "grade": true,
     "grade_id": "correct_squares",
     "locked": true,
     "points": 1,
     "solution": false
    }
   },
   "outputs": [
    {
     "name": "stdout",
     "output_type": "stream",
     "text": [
      "_______\n"
     ]
    }
   ],
   "source": [
    "\"\"\"\n",
    "Your query should return a list containing dictonaries.\n",
    "\n",
    "[{u'a.employeeid': u'90000919', u'b.employeeid': u'90028696'},\n",
    " {u'a.employeeid': u'90024693', u'b.employeeid': u'90013819'},\n",
    " {u'a.employeeid': u'90001652', u'b.employeeid': u'90001118'},\n",
    " {u'a.employeeid': u'90025754', u'b.employeeid': u'90001300'},\n",
    " {u'a.employeeid': u'90004472', u'b.employeeid': u'90023086'}]\n",
    "\n",
    "\"\"\"\n",
    "print \"_______\"\n",
    "\n"
   ]
  },
  {
   "cell_type": "markdown",
   "metadata": {
    "collapsed": true,
    "nbgrader": {
     "grade": true,
     "grade_id": "squares_invalid_input",
     "locked": true,
     "points": 1,
     "solution": false
    }
   },
   "source": [
    "## Neo4j and Networkx "
   ]
  },
  {
   "cell_type": "markdown",
   "metadata": {},
   "source": [
    "This would all be so much cooler if you could see the data, right?\n",
    "\n",
    "But first, we have to convert our neo4j database into a networks objects \n",
    "Pulling data from a cypher query into networkx objects with example"
   ]
  },
  {
   "cell_type": "code",
   "execution_count": 13,
   "metadata": {
    "collapsed": false,
    "scrolled": true
   },
   "outputs": [],
   "source": [
    "#Imports that should really be at the top of the notebook \n",
    "import networkx\n",
    "# Allows plots to be showed inline \n",
    "#import matplotlib as plt\n",
    "%matplotlib inline\n",
    "\n",
    "\n",
    "# Get ALL the Nodes and relationsips \n",
    "# The below query translates to,\n",
    "# find all nodes that have a retlationship with another node\n",
    "# (this is any node in our graph)\n",
    "# Return all the data for the nodes and relationships that are found \n",
    "all_data = graph_db.data(\"MATCH (n1) -[r]-> (n2) RETURN n1, r, n2;\") \n",
    "\n",
    "#Convert all_data to a dataframe object\n",
    "all_data_df = pandas.DataFrame(all_data)\n",
    "\n",
    "# Adding a 'weight' to see connections better\n",
    "all_data_df['weight'] = .01\n",
    "\n",
    "# Create a Networkds Graph of all the Data \n",
    "all_data_g = networkx.from_pandas_dataframe(all_data_df, 'n1', 'n2', ['weight'])\n",
    "\n"
   ]
  },
  {
   "cell_type": "markdown",
   "metadata": {},
   "source": [
    "### Graph all the Data! \n",
    "Run the cell below to create a networkx graph of all the data"
   ]
  },
  {
   "cell_type": "code",
   "execution_count": 14,
   "metadata": {
    "collapsed": false
   },
   "outputs": [
    {
     "data": {
      "image/png": "[encoded data removed]",
      "text/plain": [
       "<matplotlib.figure.Figure at 0x117534a8>"
      ]
     },
     "metadata": {},
     "output_type": "display_data"
    }
   ],
   "source": [
    "# Create a Color Map\n",
    "# color_map =[]\n",
    "# for node in all_data_g.nodes(data =True):\n",
    "#     this_labels = node[1]['labels']\n",
    "#     if 'Employee' in this_labels:\n",
    "#         color_map.append('green')\n",
    "#     elif 'Student' in this_labels:\n",
    "#         color_map.append('yellow')\n",
    "#     elif 'Award' in this_labels:\n",
    "#         color_map.append('red')\n",
    "        \n",
    "        \n",
    "# networkx.draw(all_data_g, node_color=color_map)\n",
    "networkx.draw(all_data_g)"
   ]
  },
  {
   "cell_type": "markdown",
   "metadata": {},
   "source": [
    "**Admittently, this is not the most informative graph.  There are too many nodes and connections to be able to see any patterners or insigths in the dataset. At best, you might be able to get a rough idea of the relative number of Employees, to awards to students **"
   ]
  },
  {
   "cell_type": "markdown",
   "metadata": {},
   "source": [
    "### We just created a plot of all the Employees, Students, and Awards in the Graph.  Now lets practice plotting subgraphs. \n",
    " \n",
    "\n",
    "### Write a function that accepts an specific Award Number, finds all the Employees/Students who worked on that award, and return the data as a networkx graph. Also, have your function plot the graph. \n",
    "\n",
    "\n",
    "\n",
    "**Hint: The folowing line returns the employees and student who worked on the award aw1006**\n",
    "MATCH (n) -[r:WORKED_ON] -> (a:Award {award_num:'aw1006'}) RETURN n,r\n",
    "\n",
    "**Hint: you can pass parameters to a ipython magic call by placing the parameter in curly brakets, the cell below shows an example**\n"
   ]
  },
  {
   "cell_type": "code",
   "execution_count": 15,
   "metadata": {
    "collapsed": false
   },
   "outputs": [
    {
     "data": {
      "text/plain": [
       "[{u'e': (a6dcbd8:Employee {employeeid:\"90022882\",position:\"FACULTY\"})}]"
      ]
     },
     "execution_count": 15,
     "metadata": {},
     "output_type": "execute_result"
    }
   ],
   "source": [
    "# This is the employee id of an employee I would like to search for. It is saved into a parameter, employee_id_parameter \n",
    "employee_id_parameter = '90022882'\n",
    "\n",
    "# This line searches for an employye where the employee id is provided by the parameter, employee_id_parameter \n",
    "# This query translate to,\n",
    "# Find the Node of type Employee where the employee id is equal to the value in the\n",
    "# variable employee_id_parameter. Return that nodes data. \n",
    "graph_db.data(\"MATCH (e:Employee {employeeid:\" + \"'\" + employee_id_parameter + \"'\" +\"}) RETURN e;\") "
   ]
  },
  {
   "cell_type": "code",
   "execution_count": 18,
   "metadata": {
    "collapsed": false
   },
   "outputs": [
    {
     "name": "stdout",
     "output_type": "stream",
     "text": [
      "  a.award_num n.employeeid\n",
      "0      aw1501     90047948\n",
      "1      aw1501        29193\n",
      "2      aw1501     90028906\n"
     ]
    },
    {
     "data": {
      "text/plain": [
       "<networkx.classes.graph.Graph at 0x10786e80>"
      ]
     },
     "execution_count": 18,
     "metadata": {},
     "output_type": "execute_result"
    },
    {
     "data": {
      "image/png": "[encoded data removed]",
      "text/plain": [
       "<matplotlib.figure.Figure at 0x10786470>"
      ]
     },
     "metadata": {},
     "output_type": "display_data"
    }
   ],
   "source": [
    "def employee_peers(award_num):\n",
    "    \"\"\"\n",
    "    Creates a networkx plot of employees and students that have worked on an award.\n",
    "    \n",
    "    Parameters\n",
    "    ----------\n",
    "    award_num - The award_num of a specifc award, ie aw1006\n",
    "    \n",
    "    Returns \n",
    "    --------\n",
    "    A Networkx graph object of an award and the persons who worked on that award \n",
    "    \n",
    "    \"\"\"\n",
    "    # Collect Employees that worked with that Employee \n",
    " \n",
    "    award = award_num\n",
    "    # This Cypher Query translates to,\n",
    "    # Fins the nodes that have a WORKED_ON relationship with an node of type Award that has the award_num of the value of the \n",
    "    # award variable. Return the employeeid and award number of the found nodes \n",
    "    query = graph_db.data(\"MATCH (n) -[r:WORKED_ON]-> (a:Award {award_num:\" + \"'\" + award + \"'\" + \"}) RETURN n.employeeid, a.award_num;\") \n",
    "    \n",
    "    # Convert to DataFrame\n",
    "    node_data = pandas.DataFrame(query)\n",
    "    pprint.pprint(node_data)\n",
    "\n",
    "    # Create the Networkx Graph \n",
    "    G = networkx.from_pandas_dataframe(node_data, 'n.employeeid', 'a.award_num')\n",
    "    \n",
    "#     color_map =[]\n",
    "#     for node in G.nodes(data =True):\n",
    "#         this_labels = node[1]['labels']\n",
    "#         if 'Employee' in this_labels:\n",
    "#             color_map.append('green')\n",
    "#         elif 'Student' in this_labels:\n",
    "#             color_map.append('yellow')\n",
    "#         elif 'Award' in this_labels:\n",
    "#             color_map.append('red')\n",
    "\n",
    "#     networkx.draw(G, node_color=color_map)\n",
    "    networkx.draw(G)\n",
    "    \n",
    "    #Return the Graph Object \n",
    "    return G \n",
    "        \n",
    "# Testing the function with the award aw1501\n",
    "employee_peers(\"aw1501\")"
   ]
  },
  {
   "cell_type": "markdown",
   "metadata": {},
   "source": [
    "## Anaylsing Networks \n",
    "The networkx module also has built in tools to analyse graphs. The following measurements are used to acess how the nodes are related to each other in the graph database."
   ]
  },
  {
   "cell_type": "markdown",
   "metadata": {
    "collapsed": true
   },
   "source": [
    "### Network Measurments \n",
    "This is the vacab for studing a network \n",
    "\n",
    " **Degree Centrality ** - counts the number of edges that a node has \n",
    "     - Nodes with a high degree of connections usally play an important role in a network \n",
    " **Betweenness ** - indicator of a nodes centality in a network. \n",
    "     - Equal to the number of shortes paths from all vertices to all others that pass through that node \n",
    " **Diameter** - The longest shrortest path over all pairs of nodes \n",
    "     - Often we want to find the shortest distance between two nodes, the diameter is the longest of theses paths \n",
    "     - Nodes that occur on many shortest paths between other nodes in the graph have a high betweenness centrality score \n",
    " **Cliques ** - A clique is a subset of vertices of an undirected graph such that every two distinct vertices in the clique are adjacent.\n",
    "\n",
    "The functions below are written for your conviencenceby http://www.slideshare.net/arnicas/a-quick-and-dirty-intro-to-networkx-and-d3\n",
    "\n",
    "     \n",
    "   \n",
    " "
   ]
  },
  {
   "cell_type": "code",
   "execution_count": 19,
   "metadata": {
    "collapsed": true,
    "nbgrader": {
     "grade": true,
     "grade_id": "correct_sum_of_squares",
     "locked": true,
     "points": 1,
     "solution": false
    }
   },
   "outputs": [],
   "source": [
    "def calculate_degree_centrality(graph):\n",
    "    ''' \n",
    "    Calculate degree centrality of a node, sets value on node as attribute; returns graph, and dict of the degree centrality values.\n",
    "\tAlso has code to print the top 10 nodes by degree centrality to console\n",
    "    \n",
    "    Parametes\n",
    "    ----------\n",
    "    graph - A Networkx object Graph \n",
    "\t'''\n",
    "    g = graph\n",
    "    dc = networkx.degree_centrality(g)\n",
    "    networkx.set_node_attributes(g, 'degress_centrality', dc)\n",
    "    degcent_sorted = sorted(dc.items(), key = operator.itemgetter(1), reverse = True)\n",
    "    for key, vlaue in degcent_sorted[0:10]:\n",
    "        print \"Highest degree Centrality:\", key, vlaue\n",
    "    return graph, dc "
   ]
  },
  {
   "cell_type": "code",
   "execution_count": 26,
   "metadata": {
    "collapsed": false
   },
   "outputs": [],
   "source": [
    "def calculate_betweenness(graph):\n",
    "    ''' \n",
    "    Calculate betweenness centrality of a node, sets value on node as attribute; returns graph, and dict of the betweenness centrality values\n",
    "\n",
    "    Parametes\n",
    "    ----------\n",
    "    graph - A Networkx object Graph \n",
    "    '''\n",
    "    g = graph\n",
    "    bc=networkx.betweenness_centrality(g)\n",
    "    networkx.set_node_attributes(g,'betweenness',bc)\n",
    "    degcent_sorted = sorted(bc.items(), key = operator.itemgetter(1), reverse = True)\n",
    "    for key, vlaue in degcent_sorted[0:10]:\n",
    "        print \"Highest Betweeness :\", key, vlaue\n",
    "    return g #, bc"
   ]
  },
  {
   "cell_type": "code",
   "execution_count": 20,
   "metadata": {
    "collapsed": true
   },
   "outputs": [],
   "source": [
    "def find_cliques(graph):\n",
    "\t''' \n",
    "    Calculate cliques and return as sorted list.  Print sizes of cliques found.\n",
    "    \n",
    "    Parametes\n",
    "    ----------\n",
    "    graph - A Networkx object Graph \n",
    "\t'''\n",
    "\tg = graph\n",
    "\tcl = networkx.find_cliques(g)\n",
    "\tcl = sorted(list( cl ), key=len, reverse=True)\n",
    "\tprint \"Number of cliques:\", len(cl)\n",
    "\tcl_sizes = [len(c) for c in cl]\n",
    "\tprint \"Size of cliques:\", cl_sizes\n",
    "\treturn cl"
   ]
  },
  {
   "cell_type": "code",
   "execution_count": 21,
   "metadata": {
    "collapsed": true
   },
   "outputs": [],
   "source": [
    "def find_diameter(graph):\n",
    "    \"\"\"\n",
    "    Calulcated the Diameter of a graph\n",
    "    \n",
    "    Parametes\n",
    "    ----------\n",
    "    graph - A Networkx object Graph    \n",
    "    \"\"\"\n",
    "    diameter = networkx.diameter(graph)\n",
    "    print \"Diameter: \", diameter\n",
    "    return diameter"
   ]
  },
  {
   "cell_type": "markdown",
   "metadata": {},
   "source": [
    "## Part B(a) (X points) - Analysing Graphs \n",
    "\n",
    "### Preform some exploritory analysis on the full data. Use the funtions abouve to,\n",
    "    1. Obtain a list of the highest 10 levels of Degree Centrality\n",
    "    2. Obtain a list of the highest 10 levels of Betweenness\n",
    "    3. The number of cliques and the sizes of those cliques. \n",
    "        \n",
    "    \n",
    "By looking at these results, what do you think about the shape of the graph? how would you charaterized the relationships in the graph? "
   ]
  },
  {
   "cell_type": "code",
   "execution_count": 28,
   "metadata": {
    "collapsed": false,
    "nbgrader": {
     "grade": true,
     "grade_id": "sum_of_squares_uses_squares",
     "locked": true,
     "points": 1,
     "solution": false
    },
    "scrolled": false
   },
   "outputs": [
    {
     "name": "stdout",
     "output_type": "stream",
     "text": [
      "_________________DEGREE CENTRALITY ________________\n",
      "Highest degree Centrality: (b06bdb9:Employee {employeeid:\"90026915\",position:\"FACULTY\"}) 0.0109335576114\n",
      "Highest degree Centrality: (e724c26:Employee {employeeid:\"90014760\",position:\"FACULTY\"}) 0.0100925147183\n",
      "Highest degree Centrality: (d0e638a:Employee {employeeid:\"90029887\",position:\"FACULTY\"}) 0.0100925147183\n",
      "Highest degree Centrality: (c53b0f9:Employee {employeeid:\"90028055\",position:\"FACULTY\"}) 0.00925147182506\n",
      "Highest degree Centrality: (a3fce5f:Employee {employeeid:\"98101941\",position:\"FACULTY\"}) 0.00925147182506\n",
      "Highest degree Centrality: (ebce6d8:Employee {employeeid:\"90003650\",position:\"FACULTY\"}) 0.00841042893188\n",
      "Highest degree Centrality: (da927ba:Employee {employeeid:\"90003207\",position:\"FACULTY\"}) 0.00841042893188\n",
      "Highest degree Centrality: (c74d5ac:Employee {employeeid:\"90024693\",position:\"FACULTY\"}) 0.00841042893188\n",
      "Highest degree Centrality: (ad9b94b:Employee {employeeid:\"90006295\",position:\"FACULTY\"}) 0.00841042893188\n",
      "Highest degree Centrality: (b830b41:Student {employeeid:\"90039108\",position:\"STUDENT\"}) 0.00756938603869\n",
      "_________________Betweensess ________________\n",
      "Highest Betweeness : (eb343c0:Employee {employeeid:\"1646\",position:\"FACULTY\"}) 0.0089442221486\n",
      "Highest Betweeness : (ee0ca5f:Employee {employeeid:\"90008389\",position:\"FACULTY\"}) 0.00888758626353\n",
      "Highest Betweeness : (def98e0:Employee {employeeid:\"90024642\",position:\"FACULTY\"}) 0.00879130525893\n",
      "Highest Betweeness : (a70e487:Employee {employeeid:\"90028845\",position:\"FACULTY\"}) 0.00864971554627\n",
      "Highest Betweeness : (bc04790:Employee {employeeid:\"90026452\",position:\"FACULTY\"}) 0.00840901303475\n",
      "Highest Betweeness : (ef0dae9:Employee {employeeid:\"16578\",position:\"FACULTY\"}) 0.00816547872898\n",
      "Highest Betweeness : (d6a456a:Employee {employeeid:\"90028246\",position:\"FACULTY\"}) 0.0080975156669\n",
      "Highest Betweeness : (f5bc418:Employee {employeeid:\"90024603\",position:\"FACULTY\"}) 0.00754248399328\n",
      "Highest Betweeness : (b9d16ab:Employee {employeeid:\"90001461\",position:\"FACULTY\"}) 0.00735841736683\n",
      "Highest Betweeness : (a2a8a72:Employee {employeeid:\"90001528\",position:\"FACULTY\"}) 0.00684869440126\n",
      "\n",
      "_________________Cliques ________________\n",
      "Number of cliques: 557\n",
      "Size of cliques: [7, 6, 5, 5, 5, 5, 5, 5, 5, 5, 5, 5, 5, 5, 5, 5, 5, 5, 5, 5, 4, 4, 4, 4, 4, 4, 4, 4, 4, 4, 4, 4, 4, 4, 4, 4, 4, 4, 4, 4, 4, 4, 4, 4, 4, 4, 4, 4, 4, 4, 4, 4, 4, 4, 4, 4, 4, 4, 4, 4, 4, 4, 4, 4, 4, 4, 4, 4, 4, 4, 4, 4, 4, 4, 4, 4, 4, 4, 4, 4, 4, 4, 4, 4, 4, 4, 4, 4, 4, 4, 4, 4, 4, 4, 4, 4, 4, 4, 4, 4, 4, 4, 4, 4, 4, 4, 4, 3, 3, 3, 3, 3, 3, 3, 3, 3, 3, 3, 3, 3, 3, 3, 3, 3, 3, 3, 3, 3, 3, 3, 3, 3, 3, 3, 3, 3, 3, 3, 3, 3, 3, 3, 3, 3, 3, 3, 3, 3, 3, 3, 3, 3, 3, 3, 3, 3, 3, 3, 3, 3, 3, 3, 3, 3, 3, 3, 3, 3, 3, 3, 3, 3, 3, 3, 3, 3, 3, 3, 3, 3, 3, 3, 3, 3, 3, 3, 3, 3, 3, 3, 3, 3, 3, 3, 3, 3, 3, 3, 3, 3, 3, 3, 3, 3, 3, 3, 3, 3, 3, 3, 3, 3, 3, 3, 3, 3, 3, 3, 2, 2, 2, 2, 2, 2, 2, 2, 2, 2, 2, 2, 2, 2, 2, 2, 2, 2, 2, 2, 2, 2, 2, 2, 2, 2, 2, 2, 2, 2, 2, 2, 2, 2, 2, 2, 2, 2, 2, 2, 2, 2, 2, 2, 2, 2, 2, 2, 2, 2, 2, 2, 2, 2, 2, 2, 2, 2, 2, 2, 2, 2, 2, 2, 2, 2, 2, 2, 2, 2, 2, 2, 2, 2, 2, 2, 2, 2, 2, 2, 2, 2, 2, 2, 2, 2, 2, 2, 2, 2, 2, 2, 2, 2, 2, 2, 2, 2, 2, 2, 2, 2, 2, 2, 2, 2, 2, 2, 2, 2, 2, 2, 2, 2, 2, 2, 2, 2, 2, 2, 2, 2, 2, 2, 2, 2, 2, 2, 2, 2, 2, 2, 2, 2, 2, 2, 2, 2, 2, 2, 2, 2, 2, 2, 2, 2, 2, 2, 2, 2, 2, 2, 2, 2, 2, 2, 2, 2, 2, 2, 2, 2, 2, 2, 2, 2, 2, 2, 2, 2, 2, 2, 2, 2, 2, 2, 2, 2, 2, 2, 2, 2, 2, 2, 2, 2, 2, 2, 2, 2, 2, 2, 2, 2, 2, 2, 2, 2, 2, 2, 2, 2, 2, 2, 2, 2, 2, 2, 2, 2, 2, 2, 2, 2, 2, 2, 2, 2, 2, 2, 2, 2, 2, 2, 2, 2, 2, 2, 2, 2, 2, 2, 2, 2, 2, 2, 2, 2, 2, 2, 2, 2, 2, 2, 2, 2, 2, 2, 2, 2, 2, 2, 2, 2, 2, 2, 2, 2, 2, 2, 2, 2, 2, 2, 2, 2, 2, 2, 2, 2, 2, 2, 2, 2, 2, 2, 2, 2, 2, 2, 2, 2, 2, 2, 2, 2, 2, 2, 2, 2, 2, 2, 2, 2, 2, 2, 2, 2, 2, 2, 2, 2, 2, 2, 2, 2, 2, 2, 2, 2, 2, 2, 2, 2, 2, 2, 2, 2, 2, 2, 2, 2, 2, 2, 2, 2, 2, 2, 2, 2, 2, 2, 2, 2, 2, 2, 2, 2, 2]\n",
      "__________________________________________\n"
     ]
    }
   ],
   "source": [
    "print \"_________________DEGREE CENTRALITY ________________\"\n",
    "calculate_degree_centrality(all_data_g)\n",
    "print \"_________________Betweensess ________________\"\n",
    "print calculate_betweenness(all_data_g)\n",
    "print \"_________________Cliques ________________\"\n",
    "find_cliques(all_data_g)\n",
    "print \"__________________________________________\""
   ]
  },
  {
   "cell_type": "markdown",
   "metadata": {},
   "source": [
    "## Part B(b) (X points) - Analysing a Sub Graph \n",
    "\n",
    "From looking at the measures abouve, it seems like our graph has alot of independent units that are not created to the larger graph. For instances, There seems to be alot of clquies with length 2. This indicats one employee working on one award. Lets say we are intrested in the sub-network where all the nodes are connected. \n",
    "\n",
    "### Preform the same exploritory analysis on the subset created below. The subset is the largest connected set of nodes in the graph. \n",
    "\n",
    "Use the funtions abouve to,\n",
    "    1. Obtain a list of the highest 10 levels of Degree Centrality\n",
    "    2. Obtain a list of the highest 10 levels of Betweenness\n",
    "    3. The number of cliques and the sizes of those cliques. Hint ( you probably will have to to the .to_undirected() atribute on the graph object for this measure\n",
    "    4. Find the Diameter of the Subgraph\n",
    "    \n",
    "By looking at these results, what do you think about the shape of the graph? how would you charaterized the relationships in the graph? "
   ]
  },
  {
   "cell_type": "code",
   "execution_count": 77,
   "metadata": {
    "collapsed": false
   },
   "outputs": [
    {
     "name": "stdout",
     "output_type": "stream",
     "text": [
      "Number of Awards:  159\n",
      "Number of Students:  0\n",
      "Number of Faculty:  0\n",
      "Number of Awards:  159\n"
     ]
    },
    {
     "data": {
      "image/png": "[encoded data removed]",
      "text/plain": [
       "<matplotlib.figure.Figure at 0xd2d5c18>"
      ]
     },
     "metadata": {},
     "output_type": "display_data"
    }
   ],
   "source": [
    "# Create the Subgraph \n",
    "subgraph_generator = max(networkx.connected_components(all_data_g), key =len)\n",
    "\n",
    "subgraph_g = all_data_g.subgraph(subgraph_generator)\n",
    "\n",
    "# color_map =[]\n",
    "# for node in subgraph_g.nodes(data =True):\n",
    "#     this_labels = node[1]['labels']\n",
    "#     if 'Employee' in this_labels:\n",
    "#         color_map.append('green')\n",
    "#     elif 'Student' in this_labels:\n",
    "#         color_map.append('yellow')\n",
    "#     elif 'Award' in this_labels:\n",
    "#         color_map.append('red')\n",
    "\n",
    "# networkx.draw(subgraph_g, node_color=color_map)\n",
    "\n",
    "networkx.draw(subgraph_g)\n",
    "\n",
    "person_data = list(networkx.get_node_attributes(subgraph_g,'position').values())\n",
    "\n",
    "print 'Number of Awards: ', networkx.number_of_nodes(subgraph_g)\n",
    "print 'Number of Students: ', person_data.count('STUDENT')\n",
    "print 'Number of Faculty: ', person_data.count('FACULTY')\n",
    "print \"Number of Awards: \",  networkx.number_of_nodes(subgraph_g) - person_data.count('STUDENT') - person_data.count('FACULTY')"
   ]
  },
  {
   "cell_type": "code",
   "execution_count": 79,
   "metadata": {
    "collapsed": false
   },
   "outputs": [
    {
     "name": "stdout",
     "output_type": "stream",
     "text": [
      "_________________DEGREE CENTRALITY ________________\n",
      "Highest degree Centrality: (a3fce5f:Employee {employeeid:\"98101941\",position:\"FACULTY\"}) 0.0696202531646\n",
      "Highest degree Centrality: (b9d16ab:Employee {employeeid:\"90001461\",position:\"FACULTY\"}) 0.0569620253165\n",
      "Highest degree Centrality: (ef0dae9:Employee {employeeid:\"16578\",position:\"FACULTY\"}) 0.0569620253165\n",
      "Highest degree Centrality: (debdaa1:Employee {employeeid:\"90028781\",position:\"FACULTY\"}) 0.0569620253165\n",
      "Highest degree Centrality: (a38c557:Employee {employeeid:\"90004472\",position:\"FACULTY\"}) 0.0569620253165\n",
      "Highest degree Centrality: (b8f8672:Employee {employeeid:\"90012327\",position:\"FACULTY\"}) 0.0569620253165\n",
      "Highest degree Centrality: (b64f301:Employee {employeeid:\"90029332\",position:\"FACULTY\"}) 0.0569620253165\n",
      "Highest degree Centrality: (d10ceb0:Employee {employeeid:\"90025970\",position:\"FACULTY\"}) 0.0569620253165\n",
      "Highest degree Centrality: (c28edcd:Employee {employeeid:\"90012285\",position:\"FACULTY\"}) 0.0569620253165\n",
      "Highest degree Centrality: (def98e0:Employee {employeeid:\"90024642\",position:\"FACULTY\"}) 0.0506329113924\n",
      "_________________Betweensess ________________\n",
      "Number of cliques: 77\n",
      "Size of cliques: [5, 5, 5, 5, 5, 5, 5, 5, 5, 5, 4, 4, 4, 4, 4, 4, 4, 4, 4, 4, 4, 4, 4, 4, 4, 4, 4, 4, 4, 4, 4, 4, 4, 3, 3, 3, 3, 3, 2, 2, 2, 2, 2, 2, 2, 2, 2, 2, 2, 2, 2, 2, 2, 2, 2, 2, 2, 2, 2, 2, 2, 2, 2, 2, 2, 2, 2, 2, 2, 2, 2, 2, 2, 2, 2, 2, 2]\n",
      "_________________Cliques ________________\n",
      "Highest Betweeness : (eb343c0:Employee {employeeid:\"1646\",position:\"FACULTY\"}) 0.509312263162\n",
      "Highest Betweeness : (ee0ca5f:Employee {employeeid:\"90008389\",position:\"FACULTY\"}) 0.506087236959\n",
      "Highest Betweeness : (def98e0:Employee {employeeid:\"90024642\",position:\"FACULTY\"}) 0.500604692413\n",
      "Highest Betweeness : (a70e487:Employee {employeeid:\"90028845\",position:\"FACULTY\"}) 0.492542126905\n",
      "Highest Betweeness : (bc04790:Employee {employeeid:\"90026452\",position:\"FACULTY\"}) 0.478835765541\n",
      "Highest Betweeness : (ef0dae9:Employee {employeeid:\"16578\",position:\"FACULTY\"}) 0.464968152866\n",
      "Highest Betweeness : (d6a456a:Employee {employeeid:\"90028246\",position:\"FACULTY\"}) 0.461098121422\n",
      "Highest Betweeness : (f5bc418:Employee {employeeid:\"90024603\",position:\"FACULTY\"}) 0.42949286463\n",
      "Highest Betweeness : (b9d16ab:Employee {employeeid:\"90001461\",position:\"FACULTY\"}) 0.419011529469\n",
      "Highest Betweeness : (a2a8a72:Employee {employeeid:\"90001528\",position:\"FACULTY\"}) 0.389986293639\n",
      "\n",
      "_________________Diameter ________________\n",
      "Diameter:  22\n",
      "______________________________________________\n"
     ]
    }
   ],
   "source": [
    "print \"_________________DEGREE CENTRALITY ________________\"\n",
    "calculate_degree_centrality(subgraph_g)\n",
    "print \"_________________Betweensess ________________\"\n",
    "find_cliques(subgraph_g)\n",
    "print \"_________________Cliques ________________\"\n",
    "print calculate_betweenness(subgraph_g)\n",
    "print \"_________________Diameter ________________\"\n",
    "find_diameter(subgraph_g)\n",
    "print \"______________________________________________\""
   ]
  },
  {
   "cell_type": "markdown",
   "metadata": {},
   "source": [
    "# Plotting the Results \n",
    "\n",
    "Betweeness and Centrality are both measures on how connnected a node is to its surounding nodes. However they meaure connectivness in slightly different ways. A Node with high Degree centrality does not nessasarily mean the node also has a high level a Betwennness Centrality.\n",
    "\n",
    "   A node with high betweeness but low degree might indicated that a nodes few connections are critical to the shape of the graph\n",
    "\n",
    "   A node with high degree but low betweenness might indicate that a nodes connections are redundent and connections can bypass that node\n",
    "    \n",
    "    \n",
    "### Run the Cell below to create a scatterplot of betweeness vs centrality of our Subgraph"
   ]
  },
  {
   "cell_type": "code",
   "execution_count": 80,
   "metadata": {
    "collapsed": false
   },
   "outputs": [
    {
     "data": {
      "image/png": "[encoded data removed]",
      "text/plain": [
       "<matplotlib.figure.Figure at 0xcd314e0>"
      ]
     },
     "metadata": {},
     "output_type": "display_data"
    }
   ],
   "source": [
    "dc_data = list(networkx.degree_centrality(subgraph_g).values())\n",
    "bw_data = list(networkx.betweenness_centrality(subgraph_g).values())\n",
    "\n",
    "import numpy as np\n",
    "import matplotlib.pyplot as plt\n",
    "\n",
    "x = dc_data\n",
    "y = bw_data\n",
    "\n",
    "plt.scatter(x, y)\n",
    "\n",
    "#title\n",
    "plt.title(\"Betweeness vs Centrality\")\n",
    "\n",
    "#labels\n",
    "plt.xlabel(\"Degree Centrality\")\n",
    "plt.ylabel(\"Betweenness Centrality\")\n",
    "plt.show()"
   ]
  },
  {
   "cell_type": "markdown",
   "metadata": {},
   "source": [
    "# Part B (X points) - Analysing Graphs"
   ]
  },
  {
   "cell_type": "markdown",
   "metadata": {},
   "source": [
    " 1) Write a function that plots histgrams of the Degree of Centrality and Betweenness\n",
    "     The function should take a networks graph as a parameter and return nothing\n",
    " \n",
    " 2) Use the find_cliques() function to find the number of cliques in the graph \n",
    " \n",
    " 3) Based of the graph you created above, the number of cliques, and the histgrams of Centrality and Betweenness, how would you discribe the community this graph represents? \n",
    " \n",
    " Hint: Use the networkx funtions documentation to find a function that allows you to collect the atributes of a node "
   ]
  },
  {
   "cell_type": "code",
   "execution_count": 81,
   "metadata": {
    "collapsed": false,
    "scrolled": false
   },
   "outputs": [
    {
     "data": {
      "image/png": "[encoded data removed]",
      "text/plain": [
       "<matplotlib.figure.Figure at 0xdc432e8>"
      ]
     },
     "metadata": {},
     "output_type": "display_data"
    },
    {
     "data": {
      "image/png": "[encoded data removed]",
      "text/plain": [
       "<matplotlib.figure.Figure at 0xd8a3e80>"
      ]
     },
     "metadata": {},
     "output_type": "display_data"
    }
   ],
   "source": [
    "# Your soultion should Look somthing Like this \n",
    "\n",
    "def graph_data(graph):\n",
    "    \"\"\"\n",
    "    Creates histograms of the the Degree of Centrality and the Betweenness Centrality \n",
    "    \n",
    "    Parametes\n",
    "    ----------\n",
    "    graph - A Networkx object Graph. Graph nodes must have degress_centrality and betweenness\n",
    "    \n",
    "    \"\"\"\n",
    "    # Create an empty list to hold all of our degress_centrality items  \n",
    "    cen_list = []\n",
    "    # Use the built in function get_node_attributes to collect the degress_centrality for each node\n",
    "    for item in networkx.get_node_attributes(graph, 'degress_centrality'):\n",
    "        cen_list.append(networkx.get_node_attributes(graph, 'degress_centrality')[item])\n",
    "    \n",
    "    # Pass the cen_list to a plt object and plot as a histogram \n",
    "    plt.figure(1)\n",
    "    #title\n",
    "    plt.title(\"Degree Centrality\")\n",
    "\n",
    "    #labels\n",
    "    plt.xlabel(\"Degree Centrality\")\n",
    "    \n",
    "    plt.hist(cen_list)\n",
    "    \n",
    "    # Create an empty list to hold all of our eigen_cent items \n",
    "    bw_list = []\n",
    "    # Use the built in function get_node_attributes to collect the eigen_cent for each node\n",
    "    for item in networkx.get_node_attributes(graph, 'betweenness'):\n",
    "        bw_list.append(networkx.get_node_attributes(graph, 'betweenness')[item])\n",
    "    \n",
    "    # Pass the eig_list to a plt object and plot as a histogram \n",
    "    plt.figure(2)\n",
    "    #title\n",
    "    plt.title(\"Betweeness Centrality\")\n",
    "\n",
    "    #labels\n",
    "    plt.xlabel(\"Betweeness Centrality\")\n",
    "    plt.hist(bw_list)\n",
    "\n",
    "    \n",
    "# Call the function graph_data() on our Networkx graph \n",
    "graph_data(subgraph_g)\n",
    "\n"
   ]
  },
  {
   "cell_type": "code",
   "execution_count": 82,
   "metadata": {
    "collapsed": false
   },
   "outputs": [
    {
     "name": "stdout",
     "output_type": "stream",
     "text": [
      "Number of cliques: 77\n",
      "Size of cliques: [5, 5, 5, 5, 5, 5, 5, 5, 5, 5, 4, 4, 4, 4, 4, 4, 4, 4, 4, 4, 4, 4, 4, 4, 4, 4, 4, 4, 4, 4, 4, 4, 4, 3, 3, 3, 3, 3, 2, 2, 2, 2, 2, 2, 2, 2, 2, 2, 2, 2, 2, 2, 2, 2, 2, 2, 2, 2, 2, 2, 2, 2, 2, 2, 2, 2, 2, 2, 2, 2, 2, 2, 2, 2, 2, 2, 2]\n"
     ]
    },
    {
     "data": {
      "text/plain": [
       "[[(e6fc9c0:Award {award_num:\"aw1012\"}),\n",
       "  (b8f8672:Employee {employeeid:\"90012327\",position:\"FACULTY\"}),\n",
       "  (e876d9e:Employee {employeeid:\"8391\",position:\"FACULTY\"}),\n",
       "  (def98e0:Employee {employeeid:\"90024642\",position:\"FACULTY\"}),\n",
       "  (ef0dae9:Employee {employeeid:\"16578\",position:\"FACULTY\"})],\n",
       " [(d14148d:Award {award_num:\"aw1011\"}),\n",
       "  (a6ca4f3:Employee {employeeid:\"8791\",position:\"FACULTY\"}),\n",
       "  (b68f121:Employee {employeeid:\"90001779\",position:\"FACULTY\"}),\n",
       "  (b9d16ab:Employee {employeeid:\"90001461\",position:\"FACULTY\"}),\n",
       "  (ef0dae9:Employee {employeeid:\"16578\",position:\"FACULTY\"})],\n",
       " [(d77556e:Award {award_num:\"aw1028\"}),\n",
       "  (ad6fbd2:Employee {employeeid:\"90002137\",position:\"FACULTY\"}),\n",
       "  (efe0c54:Employee {employeeid:\"90019945\",position:\"FACULTY\"}),\n",
       "  (c28edcd:Employee {employeeid:\"90012285\",position:\"FACULTY\"}),\n",
       "  (f7d42b1:Employee {employeeid:\"90029250\",position:\"FACULTY\"})],\n",
       " [(d439e71:Award {award_num:\"aw1027\"}),\n",
       "  (b64f301:Employee {employeeid:\"90029332\",position:\"FACULTY\"}),\n",
       "  (cdab58f:Employee {employeeid:\"15578\",position:\"FACULTY\"}),\n",
       "  (a3e3db8:Employee {employeeid:\"90024115\",position:\"FACULTY\"}),\n",
       "  (c28edcd:Employee {employeeid:\"90012285\",position:\"FACULTY\"})],\n",
       " [(b0116b5:Award {award_num:\"aw1023\"}),\n",
       "  (e576f96:Employee {employeeid:\"90028721\",position:\"FACULTY\"}),\n",
       "  (b64f301:Employee {employeeid:\"90029332\",position:\"FACULTY\"}),\n",
       "  (d10ceb0:Employee {employeeid:\"90025970\",position:\"FACULTY\"}),\n",
       "  (c5c01fa:Employee {employeeid:\"90030018\",position:\"FACULTY\"})],\n",
       " [(db0b425:Award {award_num:\"aw1022\"}),\n",
       "  (b823fc7:Employee {employeeid:\"90025445\",position:\"FACULTY\"}),\n",
       "  (bba024e:Employee {employeeid:\"90008329\",position:\"FACULTY\"}),\n",
       "  (a10e846:Employee {employeeid:\"90008134\",position:\"FACULTY\"}),\n",
       "  (d10ceb0:Employee {employeeid:\"90025970\",position:\"FACULTY\"})],\n",
       " [(a3fce5f:Employee {employeeid:\"98101941\",position:\"FACULTY\"}),\n",
       "  (debdaa1:Employee {employeeid:\"90028781\",position:\"FACULTY\"}),\n",
       "  (ff2d6d2:Employee {employeeid:\"90002437\",position:\"FACULTY\"}),\n",
       "  (ec4a968:Employee {employeeid:\"90025003\",position:\"FACULTY\"}),\n",
       "  (d232024:Award {award_num:\"aw1009\"})],\n",
       " [(a3fce5f:Employee {employeeid:\"98101941\",position:\"FACULTY\"}),\n",
       "  (b9d16ab:Employee {employeeid:\"90001461\",position:\"FACULTY\"}),\n",
       "  (aa03700:Employee {employeeid:\"90019735\",position:\"FACULTY\"}),\n",
       "  (c1603e3:Employee {employeeid:\"90000321\",position:\"FACULTY\"}),\n",
       "  (f2dc5e1:Award {award_num:\"aw1010\"})],\n",
       " [(c2defcb:Employee {employeeid:\"90026898\",position:\"FACULTY\"}),\n",
       "  (e1876b7:Employee {employeeid:\"90023086\",position:\"FACULTY\"}),\n",
       "  (bd94cd7:Award {award_num:\"aw1007\"}),\n",
       "  (a38c557:Employee {employeeid:\"90004472\",position:\"FACULTY\"}),\n",
       "  (b6e322b:Employee {employeeid:\"90022371\",position:\"FACULTY\"})],\n",
       " [(a38c557:Employee {employeeid:\"90004472\",position:\"FACULTY\"}),\n",
       "  (debdaa1:Employee {employeeid:\"90028781\",position:\"FACULTY\"}),\n",
       "  (a1d3ef7:Employee {employeeid:\"90017074\",position:\"FACULTY\"}),\n",
       "  (f247921:Award {award_num:\"aw1008\"}),\n",
       "  (d66260a:Employee {employeeid:\"90024665\",position:\"FACULTY\"})],\n",
       " [(a12d199:Employee {employeeid:\"90001063\",position:\"FACULTY\"}),\n",
       "  (d16d8e6:Award {award_num:\"aw1207\"}),\n",
       "  (e27fa1a:Employee {employeeid:\"90013011\",position:\"FACULTY\"}),\n",
       "  (c22b59f:Student {employeeid:\"90020566\",position:\"STUDENT\"})],\n",
       " [(c491f53:Student {employeeid:\"90047097\",position:\"STUDENT\"}),\n",
       "  (a5e4cab:Award {award_num:\"aw1490\"}),\n",
       "  (f1de976:Employee {employeeid:\"90003404\",position:\"FACULTY\"}),\n",
       "  (ecf5de1:Student {employeeid:\"90022364\",position:\"STUDENT\"})],\n",
       " [(fbb0bee:Student {employeeid:\"90022621\",position:\"STUDENT\"}),\n",
       "  (c241d75:Employee {employeeid:\"90027179\",position:\"FACULTY\"}),\n",
       "  (f578b51:Award {award_num:\"aw1488\"}),\n",
       "  (e27a6d6:Student {employeeid:\"90045895\",position:\"STUDENT\"})],\n",
       " [(b4f621f:Student {employeeid:\"90047761\",position:\"STUDENT\"}),\n",
       "  (d427c10:Award {award_num:\"aw1489\"}),\n",
       "  (c257021:Employee {employeeid:\"90022510\",position:\"FACULTY\"}),\n",
       "  (f4c7f9a:Student {employeeid:\"90021873\",position:\"STUDENT\"})],\n",
       " [(c6fdcb0:Award {award_num:\"aw1018\"}),\n",
       "  (d6a456a:Employee {employeeid:\"90028246\",position:\"FACULTY\"}),\n",
       "  (a6dcbd8:Employee {employeeid:\"90022882\",position:\"FACULTY\"}),\n",
       "  (f5bc418:Employee {employeeid:\"90024603\",position:\"FACULTY\"})],\n",
       " [(fbe991a:Employee {employeeid:\"90012940\",position:\"FACULTY\"}),\n",
       "  (cce3d6a:Employee {employeeid:\"90028695\",position:\"FACULTY\"}),\n",
       "  (c1de405:Student {employeeid:\"90048749\",position:\"STUDENT\"}),\n",
       "  (f9f7378:Award {award_num:\"aw1193\"})],\n",
       " [(f394fc1:Award {award_num:\"aw1020\"}),\n",
       "  (e062e10:Employee {employeeid:\"90000016\",position:\"FACULTY\"}),\n",
       "  (c257021:Employee {employeeid:\"90022510\",position:\"FACULTY\"}),\n",
       "  (a2a8a72:Employee {employeeid:\"90001528\",position:\"FACULTY\"})],\n",
       " [(f47833d:Award {award_num:\"aw1019\"}),\n",
       "  (c241d75:Employee {employeeid:\"90027179\",position:\"FACULTY\"}),\n",
       "  (a2a8a72:Employee {employeeid:\"90001528\",position:\"FACULTY\"}),\n",
       "  (f5bc418:Employee {employeeid:\"90024603\",position:\"FACULTY\"})],\n",
       " [(e65bb6d:Award {award_num:\"aw1021\"}),\n",
       "  (b823fc7:Employee {employeeid:\"90025445\",position:\"FACULTY\"}),\n",
       "  (f1de976:Employee {employeeid:\"90003404\",position:\"FACULTY\"}),\n",
       "  (e062e10:Employee {employeeid:\"90000016\",position:\"FACULTY\"})],\n",
       " [(f09ddd9:Award {award_num:\"aw1487\"}),\n",
       "  (b7a859a:Student {employeeid:\"90047980\",position:\"STUDENT\"}),\n",
       "  (efdf7b9:Student {employeeid:\"90045690\",position:\"STUDENT\"}),\n",
       "  (a6dcbd8:Employee {employeeid:\"90022882\",position:\"FACULTY\"})],\n",
       " [(af7442a:Employee {employeeid:\"90025788\",position:\"FACULTY\"}),\n",
       "  (c31bcd7:Student {employeeid:\"90023169\",position:\"STUDENT\"}),\n",
       "  (c6cff44:Award {award_num:\"aw1180\"}),\n",
       "  (e1e11a7:Employee {employeeid:\"6663\",position:\"FACULTY\"})],\n",
       " [(eb343c0:Employee {employeeid:\"1646\",position:\"FACULTY\"}),\n",
       "  (def4204:Award {award_num:\"aw1014\"}),\n",
       "  (ee0ca5f:Employee {employeeid:\"90008389\",position:\"FACULTY\"}),\n",
       "  (cce3d6a:Employee {employeeid:\"90028695\",position:\"FACULTY\"})],\n",
       " [(eb343c0:Employee {employeeid:\"1646\",position:\"FACULTY\"}),\n",
       "  (e1e11a7:Employee {employeeid:\"6663\",position:\"FACULTY\"}),\n",
       "  (e6ac1d7:Award {award_num:\"aw1013\"}),\n",
       "  (def98e0:Employee {employeeid:\"90024642\",position:\"FACULTY\"})],\n",
       " [(ee0ca5f:Employee {employeeid:\"90008389\",position:\"FACULTY\"}),\n",
       "  (bc366e5:Award {award_num:\"aw1015\"}),\n",
       "  (a70e487:Employee {employeeid:\"90028845\",position:\"FACULTY\"}),\n",
       "  (e27fa1a:Employee {employeeid:\"90013011\",position:\"FACULTY\"})],\n",
       " [(a3fce5f:Employee {employeeid:\"98101941\",position:\"FACULTY\"}),\n",
       "  (d2604cc:Employee {employeeid:\"90004328\",position:\"FACULTY\"}),\n",
       "  (aceb2a4:Award {award_num:\"aw1238\"}),\n",
       "  (ef557f7:Student {employeeid:\"90020531\",position:\"STUDENT\"})],\n",
       " [(f3f7c33:Student {employeeid:\"90049247\",position:\"STUDENT\"}),\n",
       "  (e9ce628:Employee {employeeid:\"90026243\",position:\"FACULTY\"}),\n",
       "  (b8f8672:Employee {employeeid:\"90012327\",position:\"FACULTY\"}),\n",
       "  (ab7830a:Award {award_num:\"aw1159\"})],\n",
       " [(d34704d:Student {employeeid:\"90049354\",position:\"STUDENT\"}),\n",
       "  (b68f121:Employee {employeeid:\"90001779\",position:\"FACULTY\"}),\n",
       "  (b5daaaf:Employee {employeeid:\"90010462\",position:\"FACULTY\"}),\n",
       "  (edb3676:Award {award_num:\"aw1149\"})],\n",
       " [(cf402f2:Student {employeeid:\"90022054\",position:\"STUDENT\"}),\n",
       "  (a6dbb3f:Employee {employeeid:\"90023237\",position:\"FACULTY\"}),\n",
       "  (decdb5f:Award {award_num:\"aw1148\"}),\n",
       "  (c1603e3:Employee {employeeid:\"90000321\",position:\"FACULTY\"})],\n",
       " [(a8f46c6:Student {employeeid:\"90035162\",position:\"STUDENT\"}),\n",
       "  (a31bf25:Employee {employeeid:\"90021622\",position:\"FACULTY\"}),\n",
       "  (d1a55c4:Award {award_num:\"aw1147\"}),\n",
       "  (ec4a968:Employee {employeeid:\"90025003\",position:\"FACULTY\"})],\n",
       " [(dae1da6:Student {employeeid:\"90022302\",position:\"STUDENT\"}),\n",
       "  (a1d3ef7:Employee {employeeid:\"90017074\",position:\"FACULTY\"}),\n",
       "  (b021723:Employee {employeeid:\"90026012\",position:\"FACULTY\"}),\n",
       "  (df23270:Award {award_num:\"aw1146\"})],\n",
       " [(cfc396a:Student {employeeid:\"90034319\",position:\"STUDENT\"}),\n",
       "  (e1876b7:Employee {employeeid:\"90023086\",position:\"FACULTY\"}),\n",
       "  (a664cf6:Employee {employeeid:\"90029620\",position:\"FACULTY\"}),\n",
       "  (e6de19e:Award {award_num:\"aw1145\"})],\n",
       " [(d6a456a:Employee {employeeid:\"90028246\",position:\"FACULTY\"}),\n",
       "  (ee33771:Employee {employeeid:\"90002533\",position:\"FACULTY\"}),\n",
       "  (bc04790:Employee {employeeid:\"90026452\",position:\"FACULTY\"}),\n",
       "  (a9f39ca:Award {award_num:\"aw1017\"})],\n",
       " [(bc04790:Employee {employeeid:\"90026452\",position:\"FACULTY\"}),\n",
       "  (b6ebb2e:Employee {employeeid:\"90004139\",position:\"FACULTY\"}),\n",
       "  (a94b886:Award {award_num:\"aw1016\"}),\n",
       "  (a70e487:Employee {employeeid:\"90028845\",position:\"FACULTY\"})],\n",
       " [(c1d63aa:Student {employeeid:\"90044765\",position:\"STUDENT\"}),\n",
       "  (a10e846:Employee {employeeid:\"90008134\",position:\"FACULTY\"}),\n",
       "  (c2af5f8:Award {award_num:\"aw1491\"})],\n",
       " [(f0ca19a:Student {employeeid:\"90046449\",position:\"STUDENT\"}),\n",
       "  (b8f8672:Employee {employeeid:\"90012327\",position:\"FACULTY\"}),\n",
       "  (c2a794f:Award {award_num:\"aw1481\"})],\n",
       " [(cc35e33:Student {employeeid:\"90044333\",position:\"STUDENT\"}),\n",
       "  (e1e11a7:Employee {employeeid:\"6663\",position:\"FACULTY\"}),\n",
       "  (c7085f9:Award {award_num:\"aw1482\"})],\n",
       " [(a5ab3e4:Award {award_num:\"aw1277\"}),\n",
       "  (b6e322b:Employee {employeeid:\"90022371\",position:\"FACULTY\"}),\n",
       "  (a519855:Employee {employeeid:\"90023803\",position:\"FACULTY\"})],\n",
       " [(c73c41b:Award {award_num:\"aw1094\"}),\n",
       "  (b3fd8b9:Employee {employeeid:\"13534\",position:\"FACULTY\"}),\n",
       "  (e876d9e:Employee {employeeid:\"8391\",position:\"FACULTY\"})],\n",
       " [(c32e16e:Award {award_num:\"aw1117\"}),\n",
       "  (b3fd8b9:Employee {employeeid:\"13534\",position:\"FACULTY\"})],\n",
       " [(c54170c:Award {award_num:\"aw1248\"}),\n",
       "  (a2a8a72:Employee {employeeid:\"90001528\",position:\"FACULTY\"})],\n",
       " [(a9e1d01:Award {award_num:\"aw1247\"}),\n",
       "  (f5bc418:Employee {employeeid:\"90024603\",position:\"FACULTY\"})],\n",
       " [(d3494f0:Award {award_num:\"aw1478\"}),\n",
       "  (ec4a968:Employee {employeeid:\"90025003\",position:\"FACULTY\"})],\n",
       " [(da85ffd:Award {award_num:\"aw1477\"}),\n",
       "  (a1d3ef7:Employee {employeeid:\"90017074\",position:\"FACULTY\"})],\n",
       " [(ab6af8f:Award {award_num:\"aw1240\"}),\n",
       "  (ef0dae9:Employee {employeeid:\"16578\",position:\"FACULTY\"})],\n",
       " [(e941d7f:Award {award_num:\"aw1239\"}),\n",
       "  (b9d16ab:Employee {employeeid:\"90001461\",position:\"FACULTY\"})],\n",
       " [(dafa9c3:Award {award_num:\"aw1242\"}),\n",
       "  (eb343c0:Employee {employeeid:\"1646\",position:\"FACULTY\"})],\n",
       " [(b1b1c10:Award {award_num:\"aw1241\"}),\n",
       "  (def98e0:Employee {employeeid:\"90024642\",position:\"FACULTY\"})],\n",
       " [(d7fc073:Award {award_num:\"aw1476\"}),\n",
       "  (e1876b7:Employee {employeeid:\"90023086\",position:\"FACULTY\"})],\n",
       " [(b195555:Award {award_num:\"aw1243\"}),\n",
       "  (ee0ca5f:Employee {employeeid:\"90008389\",position:\"FACULTY\"})],\n",
       " [(b1f1499:Award {award_num:\"aw1246\"}),\n",
       "  (d6a456a:Employee {employeeid:\"90028246\",position:\"FACULTY\"})],\n",
       " [(affdfa3:Award {award_num:\"aw1245\"}),\n",
       "  (bc04790:Employee {employeeid:\"90026452\",position:\"FACULTY\"})],\n",
       " [(caced3e:Award {award_num:\"aw1100\"}),\n",
       "  (a3e3db8:Employee {employeeid:\"90024115\",position:\"FACULTY\"})],\n",
       " [(dc6063d:Award {award_num:\"aw1101\"}),\n",
       "  (f7d42b1:Employee {employeeid:\"90029250\",position:\"FACULTY\"})],\n",
       " [(f623173:Award {award_num:\"aw1330\"}),\n",
       "  (d2604cc:Employee {employeeid:\"90004328\",position:\"FACULTY\"})],\n",
       " [(cd28b41:Award {award_num:\"aw1278\"}),\n",
       "  (d66260a:Employee {employeeid:\"90024665\",position:\"FACULTY\"})],\n",
       " [(b7c6bd5:Award {award_num:\"aw1485\"}),\n",
       "  (b6ebb2e:Employee {employeeid:\"90004139\",position:\"FACULTY\"})],\n",
       " [(c682156:Award {award_num:\"aw1486\"}),\n",
       "  (ee33771:Employee {employeeid:\"90002533\",position:\"FACULTY\"})],\n",
       " [(d395dcc:Award {award_num:\"aw1483\"}),\n",
       "  (cce3d6a:Employee {employeeid:\"90028695\",position:\"FACULTY\"})],\n",
       " [(a9555ee:Award {award_num:\"aw1484\"}),\n",
       "  (e27fa1a:Employee {employeeid:\"90013011\",position:\"FACULTY\"})],\n",
       " [(ca13740:Award {award_num:\"aw1095\"}),\n",
       "  (bba024e:Employee {employeeid:\"90008329\",position:\"FACULTY\"})],\n",
       " [(fedc809:Award {award_num:\"aw1096\"}),\n",
       "  (e576f96:Employee {employeeid:\"90028721\",position:\"FACULTY\"})],\n",
       " [(a519855:Employee {employeeid:\"90023803\",position:\"FACULTY\"}),\n",
       "  (f6808e1:Award {award_num:\"aw1352\"})],\n",
       " [(b058c84:Award {award_num:\"aw1479\"}),\n",
       "  (c1603e3:Employee {employeeid:\"90000321\",position:\"FACULTY\"})],\n",
       " [(def42ed:Award {award_num:\"aw1480\"}),\n",
       "  (b68f121:Employee {employeeid:\"90001779\",position:\"FACULTY\"})],\n",
       " [(c2defcb:Employee {employeeid:\"90026898\",position:\"FACULTY\"}),\n",
       "  (f05888e:Award {award_num:\"aw1235\"})],\n",
       " [(a38c557:Employee {employeeid:\"90004472\",position:\"FACULTY\"}),\n",
       "  (ca9b137:Award {award_num:\"aw1236\"})],\n",
       " [(b823fc7:Employee {employeeid:\"90025445\",position:\"FACULTY\"}),\n",
       "  (bd438e3:Award {award_num:\"aw1250\"})],\n",
       " [(e062e10:Employee {employeeid:\"90000016\",position:\"FACULTY\"}),\n",
       "  (aa6a337:Award {award_num:\"aw1249\"})],\n",
       " [(b64f301:Employee {employeeid:\"90029332\",position:\"FACULTY\"}),\n",
       "  (e5f63d6:Award {award_num:\"aw1252\"})],\n",
       " [(d10ceb0:Employee {employeeid:\"90025970\",position:\"FACULTY\"}),\n",
       "  (f901e5f:Award {award_num:\"aw1251\"})],\n",
       " [(efe0c54:Employee {employeeid:\"90019945\",position:\"FACULTY\"}),\n",
       "  (a69617a:Award {award_num:\"aw1254\"})],\n",
       " [(c28edcd:Employee {employeeid:\"90012285\",position:\"FACULTY\"}),\n",
       "  (cd1743d:Award {award_num:\"aw1253\"})],\n",
       " [(cd56d9f:Award {award_num:\"aw1280\"}),\n",
       "  (aa03700:Employee {employeeid:\"90019735\",position:\"FACULTY\"})],\n",
       " [(e60c9ce:Award {award_num:\"aw1279\"}),\n",
       "  (ff2d6d2:Employee {employeeid:\"90002437\",position:\"FACULTY\"})],\n",
       " [(be6397a:Award {award_num:\"aw1281\"}),\n",
       "  (a6ca4f3:Employee {employeeid:\"8791\",position:\"FACULTY\"})],\n",
       " [(b37c884:Award {award_num:\"aw1237\"}),\n",
       "  (debdaa1:Employee {employeeid:\"90028781\",position:\"FACULTY\"})],\n",
       " [(ce84424:Award {award_num:\"aw1244\"}),\n",
       "  (a70e487:Employee {employeeid:\"90028845\",position:\"FACULTY\"})]]"
      ]
     },
     "execution_count": 82,
     "metadata": {},
     "output_type": "execute_result"
    }
   ],
   "source": [
    "# Call the fucntion find_cliques() on our Networkx graph \n",
    "find_cliques(subgraph_g)"
   ]
  }
 ],
 "metadata": {
  "anaconda-cloud": {},
  "celltoolbar": "Create Assignment",
  "kernelspec": {
   "display_name": "Python 2",
   "language": "python",
   "name": "python2"
  },
  "language_info": {
   "codemirror_mode": {
    "name": "ipython",
    "version": 2
   },
   "file_extension": ".py",
   "mimetype": "text/x-python",
   "name": "python",
   "nbconvert_exporter": "python",
   "pygments_lexer": "ipython2",
   "version": "2.7.11"
  }
 },
 "nbformat": 4,
 "nbformat_minor": 0
}
