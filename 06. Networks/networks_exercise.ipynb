{
 "cells": [
  {
   "cell_type": "markdown",
   "metadata": {},
   "source": [
    "# Networks Exercise"
   ]
  },
  {
   "cell_type": "markdown",
   "metadata": {},
   "source": [
    "## Run the Cell Below Before Preforming the Excersizes\n",
    "This cell creates a Neo4j graph database from a SQL query. You do not need to understand how it works right now, but you are welcome to look through this code if you are intrested. "
   ]
  },
  {
   "cell_type": "code",
   "execution_count": null,
   "metadata": {
    "collapsed": false
   },
   "outputs": [],
   "source": [
    "# Imports \n",
    "import sys\n",
    "from py2neo import neo4j, Graph, Relationship\n",
    "from py2neo.cypher import CypherWriter\n",
    "import MySQLdb\n",
    "import operator\n",
    "\n",
    "print \"Clear Imports\"\n",
    "# Create MySQL connection\n",
    "user = \"\"\n",
    "password = \"\"\n",
    "database = \"starmetrics\"\n",
    "\n",
    "# invoke the connect() function, passing parameters in variables.\n",
    "db = MySQLdb.connect( user = user, passwd = password, db = database )\n",
    "\n",
    "# output basic database connection info.\n",
    "print( db )\n",
    "\n",
    "cursor = db.cursor( MySQLdb.cursors.DictCursor )\n",
    "# Print Curser\n",
    "print(cursor)\n",
    "\n",
    "print \"Clear Database Connection\"\n",
    "\n",
    "# Collecting data from SQL \n",
    "\n",
    "# The Following is a Query of the starmetrics database\n",
    "# It collects the following variables for Purdue University between the \n",
    "#years 2008 - 2012:  \n",
    "#From the employee Table: id, employeeid, uniqueawardnumber, employeeoccupation\n",
    "#From the occupation Table: occupationalclassification \n",
    "\n",
    "# NOTE I LIMIT TO 200 BECAUSE THE REST OF THE NOTEBOOK WONT RUN OTHERWISE \n",
    "sql_select = \"SElECT employee.employeeid, employee.uniqueawardnumber, employee.occupation_orig, \\\n",
    "occupation.occupationalclassification \\\n",
    "FROM starmetrics.employee \\\n",
    "INNER JOIN starmetrics.occupation ON \\\n",
    "starmetrics.employee.occupation_orig = occupation.occupation_orig \\\n",
    "WHERE starmetrics.employee.university = 'purdue' AND starmetrics.employee.year BETWEEN 2008 AND 2012 LIMIT 200;\"\n",
    "\n",
    "result_count = cursor.execute(sql_select);\n",
    "\n",
    "# Count the number of rows returned \n",
    "print(\"Found \" + str(result_count) + \" rows\")\n",
    "\n",
    "# Store the results of the Query in a list\n",
    "results = cursor.fetchall()\n",
    "\n",
    "print \"Clear SQL Query\"\n",
    "\n",
    "# Create connection to the Neo4jsdatabase using defaults\n",
    "# note, I imported Graph when I imported py2neo\n",
    "graph_db = Graph()\n",
    "print graph_db\n",
    "\n",
    "# Create The Neo4j Database \n",
    "graph_db.create()\n",
    "\n",
    "#Jsut to make sure the new database is empty, this code will delete all exsiting nodes and relationships \n",
    "graph_db.delete_all()\n",
    "\n",
    "# Force nodes to have unique employeeids and uniqueawardnumber\n",
    "#graph_db.schema.create_uniqueness_constraint(\"employeeid\", \"uniqueawardnumber\")\n",
    "\n",
    "print \"Clear Create Neo DB\"\n",
    "\n",
    "# Above I saved the results of the SQL Query into a list called results\n",
    "# Below I iterate over that list, create properties based on the varibles in the SQL database,\n",
    "# and finaly create an 'employee' node with those properties\n",
    "\n",
    "for employee in results:\n",
    "    id_num = employee['employeeid']\n",
    "    occ_orig = employee['occupation_orig']\n",
    "    occ_class = employee['occupationalclassification']\n",
    "    award_num = employee['uniqueawardnumber']\n",
    "    # Wee tiny bit of data cleaning\n",
    "    if award_num[0] == \"'\":\n",
    "        award_num = award_num[1:len(award_num)]\n",
    "\n",
    "    # Create a node with above infomation (This node is not in the Graph yet though)\n",
    "    new_employee_node = neo4j.Node(\"Employee\", employeeid = id_num, occcupation_orig = occ_orig, \\\n",
    "                      occupationalclassification = occ_class)\n",
    "    new_award_node = neo4j.Node(\"Award\", uniqueawardnumber = award_num)\n",
    "    \n",
    "    new_employee = False\n",
    "    new_award    = False\n",
    "    # Check to see that the employee is not already in the graph \n",
    "    if graph_db.find_one(\"Employee\", \"employeeid\", id_num) == None:\n",
    "        new_employee = True\n",
    "        graph_db.create( new_employee_node )\n",
    "    \n",
    "        \n",
    "    \n",
    "    # Check to see that the award is not already in the graph \n",
    "    if graph_db.find_one(\"Award\", \"uniqueawardnumber\", award_num) == None:\n",
    "        new_award = True\n",
    "        graph_db.create( new_award_node )\n",
    "   \n",
    "    # Add relationships between the employees and the awards \n",
    "    # if noth bothe employee and the award are new, create a realtionship between them\n",
    "    if (new_employee & new_award):\n",
    "        new_relationship = Relationship(new_employee_node, \"worked_on\", new_award_node)\n",
    "        graph_db.create( new_relationship )\n",
    "    # if jus t he employee is new, then the award must already exisit \n",
    "    elif (new_employee):\n",
    "        # find the exsisting award node \n",
    "        exsitsting_award_node = graph_db.find_one(\"Award\", \"uniqueawardnumber\", award_num)\n",
    "        # Create realtionship between that node and the new employee\n",
    "        new_relationship = Relationship(new_employee_node, \"worked_on\", exsitsting_award_node)\n",
    "        graph_db.create( new_relationship )\n",
    "    \n",
    "print \"Clear Population\"\n",
    "\n",
    "# When looking at Employees and Awards, each Award has one to many Employees. So the quickest way to find a group of \n",
    "#employees that worked together is to find individual awards \n",
    "\n",
    "# for this we will use a straingt cypher command \n",
    "# Note, these cypher commands return RecordList Objects, Not Lists \n",
    "\n",
    "# Notice that we are asking Cypher to return n.uniqueawardnumber AS uniqueawardnumber\n",
    "# doingthis will allow us to access this attribute as:  print awards_record[1].uniqueawardnumber\n",
    "awards_record = graph_db.cypher.execute(\"MATCH (n:Award) RETURN n, n.uniqueawardnumber AS uniqueawardnumber;\")\n",
    "\n",
    "# Get length of Record \n",
    "awards_record_len = graph_db.cypher.execute(\"MATCH (n:Award) RETURN COUNT(*) AS count\")\n",
    "\n",
    "# Get the number of returned nodes as a number \n",
    "awards_record_len = awards_record_len[0].count\n",
    "\n",
    "# The Cypher returned a RecordList Object, but a list would be easiest to work with;\n",
    "\n",
    "\"\"\"\n",
    "The following loop wil add every award number to a list ( I don't need the whole object to find the\n",
    "employees who worked on that award )\n",
    "\n",
    "Note, I find while loops work better for this work than for loops \n",
    "\"\"\"\n",
    "count = 0\n",
    "awards = []\n",
    "while count < awards_record_len:\n",
    "    awards.append(str(awards_record[count].uniqueawardnumber))\n",
    "    count += 1 \n",
    "    \n",
    "print \"Clear Employee Relatiponships Part 1\" \n",
    "\n",
    "# Next we want to get a list of employees that worked on each of those awards \n",
    "\n",
    "# for every award in our award list; \n",
    "count = 0 \n",
    "while count < len(awards):\n",
    "    # Create a Cypher Query that collects the employees that have \"worked_on\" that award;\n",
    "    tx = graph_db.cypher.begin()\n",
    "    statment = \"MATCH (n)-[r:worked_on]->(m {uniqueawardnumber:{NUM}}) RETURN n.employeeid AS employeeid;\"\n",
    "    # This bit of code subsitutes NUM for the award number contained in out awards list \n",
    "    tx.append(statment, {\"NUM\": awards[count]})\n",
    "    relivent_employees_record = tx.commit()\n",
    "    \n",
    "    # Create a Query that collects the number employees that have \"worked_on\" that award;\n",
    "    tx = graph_db.cypher.begin()\n",
    "    statment = \"MATCH (n)-[r:worked_on]->(m {uniqueawardnumber:{NUM}}) RETURN Count(*) AS count;\"\n",
    "    tx.append(statment, {\"NUM\": awards[count]})\n",
    "    relivent_employees_record_len = tx.commit()\n",
    "    \n",
    "    # Get the number of returned nodes as a number (Cuz remember, the cypher Returns a RecordList)\n",
    "    relivent_employees_record_len = relivent_employees_record_len[0][0].count\n",
    "    \n",
    "    #print relivent_employees_record\n",
    "    #print relivent_employees_record[0][0].employeeid\n",
    "\n",
    "    \n",
    "    #I want emplyees in a list, not a Record Object, \n",
    "    i = 0\n",
    "    relivent_employees = []\n",
    "    while i < relivent_employees_record_len:\n",
    "        relivent_employees.append(str(relivent_employees_record[0][i].employeeid))\n",
    "        i += 1\n",
    "    \n",
    "    # Next create Relatioships between the employees'\n",
    "    \"\"\"\n",
    "    What I'm doing here is saying connect the first employee with each employee that follows it in the list,\n",
    "    then repete the process with the next employee until you reach the end of the list \n",
    "    \n",
    "    There is a bug in the logic here\n",
    "    \"\"\"\n",
    "    current_employee = 0 \n",
    "    while current_employee < len(relivent_employees):\n",
    "        next_employee = current_employee + 1 \n",
    "        while next_employee < len(relivent_employees):\n",
    "            tx = graph_db.cypher.begin()\n",
    "            statment = \"MATCH (n {employeeid: {NUM1}}), (m {employeeid: {NUM2}}) \\\n",
    "            CREATE (n)-[r:worked_with]->(m) RETURN r;\"  \n",
    "            tx.append(statment, {\"NUM1\": relivent_employees[current_employee], \"NUM2\": relivent_employees[next_employee]})\n",
    "            tx.commit()\n",
    "            next_employee += 1 \n",
    "        current_employee += 1\n",
    "    \n",
    "\n",
    "    #DONT COMMENT THIS OUT REN\n",
    "    count += 1\n",
    "print \"Clear Employee Relatiponships Part 2\" \n",
    "\n",
    "print \"Neo4j Database Loaded\""
   ]
  },
  {
   "cell_type": "markdown",
   "metadata": {},
   "source": [
    "#### The cell below is intended for you to test Cypher Queries"
   ]
  },
  {
   "cell_type": "code",
   "execution_count": null,
   "metadata": {
    "collapsed": false
   },
   "outputs": [],
   "source": [
    "graph_db.cypher.execute(\"MATCH (n) RETURN COUNT(*);\")\n"
   ]
  },
  {
   "cell_type": "markdown",
   "metadata": {},
   "source": [
    "# Introduction to Neo4j and Cypher\n",
    "## What is a Graph Database?"
   ]
  },
  {
   "cell_type": "markdown",
   "metadata": {},
   "source": [
    " When you think of data, you probably imagine an excel table where each row is an individual observation or data point. \n",
    "For example, \n",
    "\n",
    "|name | age | employee_id|\n",
    "|-----|-----|------------|\n",
    "|Joe  |  34 |   12345    |\n",
    "|Ann  |  54 |   12346    |\n",
    "    \n",
    "In a graph database, that row is more like a ball. \n",
    "\n",
    "\n",
    "##### (node: Employee {name:Joe, age: 34, employee_id: 12345})\n",
    "\n",
    "This ball is called a \"node\" in Neo4j. In fact, the little parentheses around Joe's information are designed to help the user think of Joe's information as a little ball. \n",
    "\n",
    "All the information about Joe is still there, but it's just not in a flat table format. Instead of storing each peice of Joe's information in a variable column, Joe's information is stored as **properties**, ie name, age, employee_id.\n",
    "Joe's node also has a **label**, *Employee*, to identify this node as belonging to an employee.\n"
   ]
  },
  {
   "cell_type": "markdown",
   "metadata": {},
   "source": [
    "Neo4j uses the Cypher Query Language to get information out of the Database. \n",
    "\n",
    "##### Components of a simple Cypher Query:\n",
    "+ MATCH      \n",
    "     - Essentially the same thing as SELECT in SQL \n",
    "+ (n)        \n",
    "    - Any node (the n is just a variable, could be any letter) \n",
    "+ RETURN     \n",
    "    - Needed in every query \n",
    "+ LIMIT      \n",
    "    - Same as in SQL \n",
    "\n",
    "The following query will return 20 nodes from the database:  \n",
    "##### graph_db.cypher.execute(\"MATCH (n) RETURN n LIMIT 20\")\n",
    "\n",
    "If you look at the results, you might notice the some nodes have n0000:Employee and other have n0000:Award.\n",
    "This is because some of the nodes describe the data of an employee and thus have the Employee label while others describe awards and are thus labels appropriately \n",
    "\n",
    "If I wanted to query just Award nodes, I would run this query;  \n",
    "##### graph_db.cypher.execute(\"MATCH (n:Award) RETURN n LIMIT 20\")\n"
   ]
  },
  {
   "cell_type": "markdown",
   "metadata": {},
   "source": [
    "## Part A (X points) - Cypher Query language"
   ]
  },
  {
   "cell_type": "markdown",
   "metadata": {
    "collapsed": true
   },
   "source": [
    " Write a Query that returns 10 Employee nodes"
   ]
  },
  {
   "cell_type": "code",
   "execution_count": null,
   "metadata": {
    "collapsed": false,
    "nbgrader": {
     "grade": false,
     "grade_id": "squares",
     "locked": false,
     "solution": true
    }
   },
   "outputs": [],
   "source": [
    "graph.cypher.execute(\"MATCH (n:Employee) RETURN n LIMIT 10\")"
   ]
  },
  {
   "cell_type": "code",
   "execution_count": null,
   "metadata": {
    "collapsed": true
   },
   "outputs": [],
   "source": [
    "\"\"\"\n",
    "Your query should return a RecordList of employee nodes like the following one. \n",
    "(Note, this is not a python list, it is a RecordList object)  \n",
    "\n",
    "    | n                                                                                                                   \n",
    "----+----------------------------------------------------------------------------------------------------------------------\n",
    "  1 | (n269757:Employee {employeeid:\"90009387\",occcupation_orig:\"UNDERGRAD\",occupationalclassification:\"Undergraduate\"})  \n",
    "  2 | (n269759:Employee {employeeid:\"90027173\",occcupation_orig:\"GRADUATE\",occupationalclassification:\"Graduate Student\"})\n",
    "  3 | (n269761:Employee {employeeid:\"90014540\",occcupation_orig:\"FACULTY\",occupationalclassification:\"Faculty\"})          \n",
    "  4 | (n269762:Employee {employeeid:\"90022062\",occcupation_orig:\"GRADUATE\",occupationalclassification:\"Graduate Student\"})\n",
    "  5 | (n269763:Employee {employeeid:\"90003312\",occcupation_orig:\"GRADUATE\",occupationalclassification:\"Graduate Student\"})\n",
    "  6 | (n269764:Employee {employeeid:\"90026679\",occcupation_orig:\"FACULTY\",occupationalclassification:\"Faculty\"})          \n",
    "  7 | (n269766:Employee {employeeid:\"90017693\",occcupation_orig:\"FACULTY\",occupationalclassification:\"Faculty\"})          \n",
    "  8 | (n269767:Employee {employeeid:\"90028696\",occcupation_orig:\"FACULTY\",occupationalclassification:\"Faculty\"})          \n",
    "  9 | (n269769:Employee {employeeid:\"90013819\",occcupation_orig:\"FACULTY\",occupationalclassification:\"Faculty\"})          \n",
    " 10 | (n269771:Employee {employeeid:\"15226\",occcupation_orig:\"GRADUATE\",occupationalclassification:\"Graduate Student\"}) \n",
    " \n",
    " \"\"\""
   ]
  },
  {
   "cell_type": "markdown",
   "metadata": {},
   "source": [
    "What makes graph databases like Neo4j special is the ability to create relationships between nodes:\n",
    "\n",
    "For instance, the database has two types of relationships; worked_on and worked_with.  \n",
    " + Employees have a *worked_on* relationship with nodes which represent awards on which the employee has worked.   \n",
    " + Employees have a *worked_with* relationship with nodes that represent employees that worked on the same award\n",
    "\n",
    "To view what this looks like, this query will return 5 instances of the pattern where an employee worked_on an award, and return the relationship. \n",
    "\n",
    "#### graph_db.cypher.execute(\"MATCH (e)-[r:worked_on]->(a) RETURN  r LIMIT 5;\")\n",
    "\n",
    "If you look at this query you kinda see a pattern of (node1) -[relationship]-> (node2). You can imagine that this is one ball with an arrow pointing to another ball. Each ball is a node of data and the arrow is a relationship.  What this query is asking the the database to do is go through all the nodes and relationships and find the pattern where one node has a realtionship pointing to another node and that realtionship has the label \"worked_on\".  \n"
   ]
  },
  {
   "cell_type": "markdown",
   "metadata": {
    "collapsed": true
   },
   "source": [
    "Write a Query that returns 15 instances of employees that worked on the same grant. Return both employee nodes"
   ]
  },
  {
   "cell_type": "code",
   "execution_count": null,
   "metadata": {
    "collapsed": true
   },
   "outputs": [],
   "source": [
    "graph_db.cypher.execute(\"MATCH (a)-[r:worked_with]->(b) RETURN a, b LIMIT 15;\") "
   ]
  },
  {
   "cell_type": "code",
   "execution_count": null,
   "metadata": {
    "collapsed": true,
    "nbgrader": {
     "grade": true,
     "grade_id": "correct_squares",
     "locked": true,
     "points": 1,
     "solution": false
    }
   },
   "outputs": [],
   "source": [
    "\"\"\"\n",
    "Your query should return a RecordList of employee nodes. (Note, this is not a python list, it is a RecordList object)  \n",
    "\n",
    "    | a                    | b                   \n",
    "----+----------------------+----------------------\n",
    "  1 | (n269825:`90003312`) | (n269826:`90022062`)\n",
    "  2 | (n269827:`90003312`) | (n269828:`90014540`)\n",
    "  3 | (n269829:`90003312`) | (n269830:`90027173`)\n",
    "  4 | (n269831:`90022062`) | (n269832:`90014540`)\n",
    "  5 | (n269833:`90022062`) | (n269834:`90027173`)\n",
    "  6 | (n269835:`90014540`) | (n269836:`90027173`)\n",
    "  7 | (n269837:`90017693`) | (n269838:`90026679`)\n",
    "  8 | (n269839:`2623`)     | (n269840:`15226`)   \n",
    "  9 | (n269841:`2623`)     | (n269842:`90013819`)\n",
    " 10 | (n269843:`15226`)    | (n269844:`90013819`)\n",
    " 11 | (n269845:`90026924`) | (n269846:`10622`)   \n",
    " 12 | (n269847:`90026924`) | (n269848:`90001300`)\n",
    " 13 | (n269849:`90026924`) | (n269850:`90003242`)\n",
    " 14 | (n269851:`90026924`) | (n269852:`90007913`)\n",
    " 15 | (n269853:`10622`)    | (n269854:`90001300`)\n",
    "\n",
    "\"\"\"\n",
    "\n",
    "https://www.wakari.io/sharing/bundle/nvikram/Basics%20of%20Networkx?has_login=False\n",
    "http://patrick-fuller.com/igraph/examples/ipython.html"
   ]
  },
  {
   "cell_type": "markdown",
   "metadata": {
    "collapsed": true,
    "nbgrader": {
     "grade": true,
     "grade_id": "squares_invalid_input",
     "locked": true,
     "points": 1,
     "solution": false
    }
   },
   "source": [
    "## Neo4j and Networkx "
   ]
  },
  {
   "cell_type": "markdown",
   "metadata": {},
   "source": [
    "This would all be so much cooler if you could see the data, right?\n",
    "\n",
    "But first, we have to convert our neo4j database into a networks objects \n",
    "Pulling data from a cypher query into networkx objects with example"
   ]
  },
  {
   "cell_type": "code",
   "execution_count": null,
   "metadata": {
    "collapsed": false
   },
   "outputs": [],
   "source": [
    "def recordlist_to_list(recordlist, record_property, len_of_recordlist = 1):\n",
    "    \"\"\"\n",
    "    Used to convert the result of a cypher query into a python list. \n",
    "    The Cypher Query should return a single property of the node as an alias, ie \n",
    "    graph_db.cypher.execute(\"MATCH (n) RETURN n.record_property AS record_property  \n",
    "    \n",
    "    Parameters\n",
    "    --------------------------------\n",
    "    recordlist: A RecordList object returned by a Cypher.execute command \n",
    "    record_property: The property that was returned by the Cypher.execute command as an alias \n",
    "    len_of_recordlist: the number of nodes returned by the Cypher.execute command. Defaluted to 1\n",
    "    \"\"\"\n",
    "    \n",
    "    count = 0\n",
    "    final_list = []\n",
    "    while count < len_of_recordlist:\n",
    "        command = \"recordlist[\" + str(count) + \"][0]\" +\"['\" + record_property +\"']\"      \n",
    "        final_list.append( eval(command))\n",
    "        count += 1 \n",
    "    return final_list\n"
   ]
  },
  {
   "cell_type": "code",
   "execution_count": null,
   "metadata": {
    "collapsed": false
   },
   "outputs": [],
   "source": [
    "## Collect a collection of nodes to display\n",
    "# maybe i'll make this a subgraph later '\n",
    "\n",
    "# Get a award node (I picked a random Award number to seach for)\n",
    "# Notice that this Query return only the award number\n",
    "specific_award_node = graph_db.cypher.execute(\"MATCH (m {uniqueawardnumber:'00.070 03-C-NE-PU'}) RETURN m;\")\n",
    "\n",
    "# Collect all the employees that worked on that award\n",
    "# Notice that this Query return only the employee id number \n",
    "associated_employees = graph_db.cypher.execute(\"MATCH (n:Employee) -[r:worked_on]->(a {uniqueawardnumber:'00.070 03-C-NE-PU'}) RETURN n;\") \n",
    "\n",
    "# Count number of employees that worked on that Awars ( this will be used below )\n",
    "num_associtated_employees = graph_db.cypher.execute(\"MATCH (n:Employee) -[r:worked_on]->(a {uniqueawardnumber:'00.070 03-C-NE-PU'}) RETURN COUNT(n);\") \n",
    "\n",
    "# Remember, all the queries above return RecordList objects, which is a little awkward to deal with. So i'm going to use \n",
    "# the function I created, record_to_list(),to convert the infomation I want into a python list \n",
    "\n",
    "# First, I convert the award node ( Note, because the award numbers are unique, I know there are only one of these)\n",
    "specific_award_node = recordlist_to_list(specific_award_node, 'uniqueawardnumber')\n",
    "\n",
    "# Next , I  need the number of Employees who worked on that project \n",
    "num_associtated_employees = graph_db.cypher.execute(\"MATCH (n:Employee) -[r:worked_on]->\\\n",
    "(a {uniqueawardnumber:'00.070 03-C-NE-PU'}) RETURN n;\").to_subgraph().order\n",
    "\n",
    "\n",
    "# Finally, I use the number of employees who worked on that node \n",
    "associated_employees = recordlist_to_list(associated_employees, \"employeeid\", num_associtated_employees)\n",
    "\n",
    "\n",
    "#print award node\n",
    "for item in specific_award_node:\n",
    "    print item\n",
    "\n",
    "#print associated_employees\n",
    "for item in associated_employees:\n",
    "    print item\n",
    "    \n",
    "############################################\n",
    "#NOTE, in order to get the number of nodes returned by the, \n",
    "# graph_db.cypher.execute(\"MATCH (n:Employee) -[r:worked_on]->(a {uniqueawardnumber:'00.070 03-C-NE-PU'}) RETURN n.employeeid AS employeeid;\") \n",
    "#Command I could call .to_subgraph on it \n",
    "# This will convert that reselt into a subgraph\n",
    "# then calling .order will return the number of nodes in that result \n",
    "# But make sure recordlist_list still recives and recordlist as a parameter otherwise we wont get our infomation\n"
   ]
  },
  {
   "cell_type": "markdown",
   "metadata": {},
   "source": [
    "At this point we have two lists \n",
    "\n",
    "+ specific_award_node is a list of length one that contains the award number of a particular award \n",
    "+ associated_employees is a list of length four that contains the employees that worked on that node \n",
    "\n",
    "Now lets create some Networkx objects from these list a display a plot of what this looks like "
   ]
  },
  {
   "cell_type": "code",
   "execution_count": null,
   "metadata": {
    "collapsed": false
   },
   "outputs": [],
   "source": [
    "# Creating Networks Objects \n",
    "\n",
    "#Imports that should really be at the top of the notebook \n",
    "import networkx as nx\n",
    "# Allows plots to be showed inline \n",
    "%matplotlib inline\n",
    "# Matplotlib is the default package for\n",
    "# rendering the graphs\n",
    "import matplotlib.pyplot as plt\n",
    "\n",
    "# Create the Networkx Graph \n",
    "G=nx.Graph()\n",
    "\n",
    "# Distonarys to contain colors and labels\n",
    "# Not nessasary\n",
    "custom_node_color = {}\n",
    "custom_labels     = {}\n",
    "\n",
    "#Create the networkx award node \n",
    "award_node = G.add_node(specific_award_node[0])\n",
    "custom_node_color[specific_award_node[0]] = 'r'\n",
    "\n",
    "#Create networkx nodes for the employees that worked on that node \n",
    "for item in associated_employees:\n",
    "    G.add_node(item)\n",
    "    custom_node_color[item] = 'c'\n",
    "    custom_labels[item] = str(item)\n",
    "    # We know at each of these employees are connected to the award, so lets draw those relationshipd \n",
    "    # Note, in Networkx relationships are called edges \n",
    "    G.add_edge(item, award_node)\n",
    "    \n",
    "\n",
    "print G.nodes()\n",
    "nx.draw(G,labels=custom_labels, node_color=custom_node_color.values())\n",
    "plt.show()\n",
    "\n",
    "\n",
    "# Idk why we always get a bonus None node, I like to thnk of it as a gift "
   ]
  },
  {
   "cell_type": "markdown",
   "metadata": {},
   "source": [
    " We just created aplot of all the employees worked on an award\n",
    " \n",
    " Employees also have realtionhsips with each other, the employees that worked with them\n",
    " \n",
    "\n",
    "### Write a function that accepts  a Cypher Query, and returns a networkx graph. Also, have your function plot the graph \n",
    "\n",
    "Hint: graph_db.cypher.execute(\"MATCH (n {employeeid:'704'}) -[r:worked_with] -> (b) RETURN b;\") "
   ]
  },
  {
   "cell_type": "code",
   "execution_count": null,
   "metadata": {
    "collapsed": false
   },
   "outputs": [],
   "source": [
    "def employee_peers():\n",
    "    \"\"\"\n",
    "    \n",
    "    \"\"\"\n",
    "    # Collect Employees that worked with that Employee \n",
    "    \n",
    "    peer_employees = graph_db.cypher.execute(\"MATCH (n {employeeid:'704'}) -[r:worked_with] -> (b) RETURN b;\")\n",
    "    subgraph = graph_db.cypher.execute(\"MATCH (n {employeeid:'704'}) -[r:worked_with] -> (b) RETURN b;\").to_subgraph()\n",
    "    num_peer_employees = peer_employees.to_subgraph().order\n",
    "    print subgraph\n",
    "    \n",
    "    # Convert that RecordList to a list object \n",
    "    peer_employees = recordlist_to_list(peer_employees, \"employeeid\", num_peer_employees)\n",
    "    print peer_employees\n",
    "    \n",
    "    # Create the Networkx Graph \n",
    "    G=nx.Graph()\n",
    "    \n",
    "    # Distonarys to contain and labels\n",
    "    custom_labels     = {}\n",
    "    \n",
    "    # I know that there is one employee that is the connector between all these other employees, \n",
    "    # so ill create a dummby node to represent them\n",
    "    origin_employee = G.add_node(\"Orinianl Employee\")\n",
    "    \n",
    "    # Create that employee's peers \n",
    "    for employee in peer_employees:\n",
    "        G.add_node(employee)\n",
    "        custom_labels[employee] = str(employee)\n",
    "        # We know this employee worked with the origin emplyee, so lets connect them \n",
    "        G.add_edge(employee, origin_employee)\n",
    "\n",
    "        \n",
    "    # Draw and Display the Plot \n",
    "    print G.nodes()\n",
    "    nx.draw(G, labels=custom_labels)\n",
    "    plt.show()\n",
    "    \n",
    "    #Return the Graph Object \n",
    "    return G \n",
    "        \n",
    "        \n",
    "employee_peers()"
   ]
  },
  {
   "cell_type": "markdown",
   "metadata": {},
   "source": [
    "## Anaylsing Networks "
   ]
  },
  {
   "cell_type": "markdown",
   "metadata": {},
   "source": [
    "In order to analyse the entire graph, we need to put the enitr graph into Networkx. I've wrtten a function to do this for you. Run the code cell below"
   ]
  },
  {
   "cell_type": "code",
   "execution_count": null,
   "metadata": {
    "collapsed": false
   },
   "outputs": [],
   "source": [
    "def neo4j_to_networks():\n",
    "    \n",
    "    nodes = {}\n",
    "    #Collect all the nodes \n",
    "    \n",
    "    all_employee_nodes = graph_db.cypher.execute(\"MATCH (n:Employee) RETURN n;\")\n",
    "    num_all_employee_nodes = graph_db.cypher.execute(\"MATCH (n:Employee) RETURN n;\").to_subgraph().order\n",
    "    \n",
    "    count = 0\n",
    "    while count < num_all_employee_nodes:\n",
    "        current_node =  all_employee_nodes[count][0]\n",
    "        node_type = \"employee\"\n",
    "        id_num = current_node['employeeid']\n",
    "        occ_orig = current_node['occcupation_orig']\n",
    "        occ_class = current_node['occupationalclassification']\n",
    "        nodes[id_num] = {'node_type': node_type, 'occcupation_orig': occ_orig, 'occupationalclassification': occ_class}\n",
    "        count += 1 \n",
    "    \n",
    "    # Now for the award nodes     \n",
    "    all_award_nodes = graph_db.cypher.execute(\"MATCH (n:Award) RETURN n;\")\n",
    "    num_all_award_nodes = graph_db.cypher.execute(\"MATCH (n:Award) RETURN n;\").to_subgraph().order\n",
    "    \n",
    "    count = 0\n",
    "    while count < num_all_award_nodes:\n",
    "        current_node =  all_award_nodes[count][0]\n",
    "        award_num = current_node['uniqueawardnumber']\n",
    "        node_type = \"award\"\n",
    "        nodes[award_num] = {'node_type': node_type}\n",
    "        count += 1 \n",
    "      \n",
    " #   for node in nodes:\n",
    " #       print node, nodes[node]     \n",
    "    \n",
    "    # Relationships \n",
    "    employee_award_relationships = graph_db.cypher.execute(\"MATCH (a:Employee)-[r]-(b:Award) RETURN a.employeeid, type(r), b.uniqueawardnumber;\")\n",
    "    #print employee_award_relationships\n",
    "    \n",
    "    employee_employee_relationships = graph_db.cypher.execute(\"MATCH (a:Employee)-[r]->(b:Employee) RETURN a.employeeid, type(r), b.employeeid;\")\n",
    "    #print employee_employee_relationships\n",
    "    \n",
    "    \n",
    "    # Create Networks graph \n",
    "    NG =nx.Graph()\n",
    "    \n",
    "    # Distonarys to contain colors and labels\n",
    "    # Not nessasary\n",
    "    custom_node_color = {}\n",
    "    custom_labels     = {}\n",
    "    \n",
    "    #Create the networkxs nodes \n",
    "    for node in nodes:   \n",
    "        # This next line create a node with the ideification number as the node name and \n",
    "        # populates the node's atributes with the dictonary represtend by nodes[node]\n",
    "        NG.add_node(node, nodes[node])\n",
    "        if nodes[node]['node_type'] == 'award':\n",
    "            custom_node_color[node] = 'r'     \n",
    "        else: \n",
    "            custom_node_color[node] = 'g'\n",
    "\n",
    "    \n",
    "    #print NG.node['90030442']['node_type']\n",
    "    \n",
    "    \n",
    "    # Next, lets create relationships between the nodes based on our dictoarys list above \n",
    "    \n",
    "    for record in employee_award_relationships:\n",
    "        NG.add_edge(record[0], record[2], {'edge_type': record[1]})\n",
    "    \n",
    "    for record in employee_employee_relationships:\n",
    "        NG.add_edge(record[0], record[2], {'edge_type': record[1]})\n",
    "\n",
    "    # Draw the Graph \n",
    "    nx.draw(NG,labels=custom_labels, node_color=custom_node_color.values())\n",
    "    plt.show()\n",
    "    return NG \n",
    "    \n"
   ]
  },
  {
   "cell_type": "code",
   "execution_count": null,
   "metadata": {
    "collapsed": false,
    "nbgrader": {
     "grade": false,
     "grade_id": "sum_of_squares",
     "locked": false,
     "solution": true
    }
   },
   "outputs": [],
   "source": [
    "# Call the function to create Networkx Graph \n",
    "NG = neo4j_to_networks()"
   ]
  },
  {
   "cell_type": "markdown",
   "metadata": {},
   "source": [
    "So this is kinda cool. We can see groups of emplyees huddled around awards. In some piles we see more than one award. "
   ]
  },
  {
   "cell_type": "markdown",
   "metadata": {
    "collapsed": true
   },
   "source": [
    "### Network Measurments \n",
    "This is the vacab for studing a network \n",
    "\n",
    " **Degree Centrality ** - counts the number of edges that a node has \n",
    "     - Nodes with a high degree of connections usally play an important role in a network \n",
    " **Betweenness ** - indicator of a nodes centality in a network. \n",
    "     - Equal to the number of shortes paths from all vertices to all others that pass through that node \n",
    " **Diameter** - The longest shrortest path over all pairs of nodes \n",
    "     - Often we want to find the shortest distance between two nodes, the diameter is the longest of theses paths \n",
    "     - Nodes that occur on many shortest paths between other nodes in the graph have a high betweenness centrality score \n",
    " **Eigenvector Centality ** - the sum of the centrality scores of it's neighbors \n",
    "     - A Node is important if it is connected to other important nodes \n",
    "     - A few influental contacts may outrant many medicore contacts \n",
    "\n",
    "The functions below are written for your conviencence \n",
    "     \n",
    "   \n",
    " "
   ]
  },
  {
   "cell_type": "code",
   "execution_count": null,
   "metadata": {
    "collapsed": true,
    "nbgrader": {
     "grade": true,
     "grade_id": "correct_sum_of_squares",
     "locked": true,
     "points": 1,
     "solution": false
    }
   },
   "outputs": [],
   "source": [
    "def calculate_degree_centrality(graph):\n",
    "    ''' \n",
    "    Calculate degree centrality of a node, sets value on node as attribute; returns graph, and dict of the degree centrality values.\n",
    "\tAlso has code to print the top 10 nodes by degree centrality to console\n",
    "    \n",
    "    Parametes\n",
    "    ----------\n",
    "    graph - A Networkx object Graph \n",
    "\t'''\n",
    "    g = graph\n",
    "    dc = nx.degree_centrality(g)\n",
    "    nx.set_node_attributes(g, 'degress_centrality', dc)\n",
    "    degcent_sorted = sorted(dc.items(), key = operator.itemgetter(1), reverse = True)\n",
    "    for key, vlaue in degcent_sorted[0:10]:\n",
    "        print \"Highest degree Centrality:\", key, vlaue\n",
    "    return graph, dc "
   ]
  },
  {
   "cell_type": "code",
   "execution_count": null,
   "metadata": {
    "collapsed": true
   },
   "outputs": [],
   "source": [
    "def calculate_betweenness(graph):\n",
    "\t''' \n",
    "    Calculate betweenness centrality of a node, sets value on node as attribute; returns graph, and dict of the betweenness centrality values\n",
    "\t\n",
    "    Parametes\n",
    "    ----------\n",
    "    graph - A Networkx object Graph \n",
    "    '''\n",
    "\tg = graph\n",
    "\tbc=nx.betweenness_centrality(g)\n",
    "\tnx.set_node_attributes(g,'betweenness',bc)\n",
    "\treturn g, bc"
   ]
  },
  {
   "cell_type": "code",
   "execution_count": null,
   "metadata": {
    "collapsed": true
   },
   "outputs": [],
   "source": [
    "def calculate_eigenvector_centrality(graph):  \n",
    "\t''' \n",
    "    Calculate eigenvector centrality of a node, sets value on node as attribute; returns graph, and dict of the eigenvector centrality values.\n",
    "\tAlso has commented out code to sort by ec value\n",
    "    \n",
    "    Parametes\n",
    "    ----------\n",
    "    graph - A Networkx object Graph \n",
    "\t'''\n",
    "\tg = graph\n",
    "\tec = nx.eigenvector_centrality(g)\n",
    "\tnx.set_node_attributes(g,'eigen_cent',ec)\n",
    "\tec_sorted = sorted(ec.items(), key=operator.itemgetter(1), reverse=True)\n",
    "\treturn g, ec\n"
   ]
  },
  {
   "cell_type": "code",
   "execution_count": null,
   "metadata": {
    "collapsed": true
   },
   "outputs": [],
   "source": [
    "def find_cliques(graph):\n",
    "\t''' \n",
    "    Calculate cliques and return as sorted list.  Print sizes of cliques found.\n",
    "    \n",
    "    Parametes\n",
    "    ----------\n",
    "    graph - A Networkx object Graph \n",
    "\t'''\n",
    "\tg = graph\n",
    "\tcl = nx.find_cliques(g)\n",
    "\tcl = sorted(list( cl ), key=len, reverse=True)\n",
    "\tprint \"Number of cliques:\", len(cl)\n",
    "\tcl_sizes = [len(c) for c in cl]\n",
    "\tprint \"Size of cliques:\", cl_sizes\n",
    "\treturn cl"
   ]
  },
  {
   "cell_type": "code",
   "execution_count": null,
   "metadata": {
    "collapsed": true
   },
   "outputs": [],
   "source": []
  },
  {
   "cell_type": "code",
   "execution_count": null,
   "metadata": {
    "collapsed": false,
    "nbgrader": {
     "grade": true,
     "grade_id": "sum_of_squares_uses_squares",
     "locked": true,
     "points": 1,
     "solution": false
    },
    "scrolled": true
   },
   "outputs": [],
   "source": [
    "calculate_degree_centrality(NG)\n",
    "calculate_eigenvector_centrality(NG)\n",
    "find_cliques(NG)\n",
    "calculate_betweenness(NG)\n",
    "\n"
   ]
  },
  {
   "cell_type": "markdown",
   "metadata": {},
   "source": [
    "## Part B (X points) - Analysing Graphs"
   ]
  },
  {
   "cell_type": "markdown",
   "metadata": {},
   "source": [
    " 1) Write a function that plots histgrams of the Degree of Centrality and Eigenvector Centrality\n",
    " \n",
    " 2) Use the find_cliques() function to find the number of cliques in the graph \n",
    " \n",
    " 3) Based of the graph you created above, the number of cliques, and the histgrams of Centrality and Eigenvector Centrality, how would you discribe the community this graph represents? \n",
    " \n",
    " Hint: Use the networkx funtions documentation to find a function that allows you to collect the atributes of a node "
   ]
  },
  {
   "cell_type": "code",
   "execution_count": null,
   "metadata": {
    "collapsed": false,
    "scrolled": true
   },
   "outputs": [],
   "source": [
    "# Your soultion should Look somthing Like this \n",
    "\n",
    "def graph_data(graph):\n",
    "    \"\"\"\n",
    "    Creates histograms of the the Degree of Centrality and the Eiggenvector Centrality \n",
    "    \n",
    "    Parametes\n",
    "    ----------\n",
    "    graph - A Networkx object Graph. Graph nodes must have degress_centrality and eigen_cent\n",
    "    \n",
    "    \"\"\"\n",
    "    # Create an empty list to hold all of our degress_centrality items  \n",
    "    cen_list = []\n",
    "    # Use the built in function get_node_attributes to collect the degress_centrality for each node\n",
    "    for item in nx.get_node_attributes(graph, 'degress_centrality'):\n",
    "        cen_list.append(nx.get_node_attributes(graph, 'degress_centrality')[item])\n",
    "    \n",
    "    # Pass the cen_list to a plt object and plot as a histogram \n",
    "    plt.figure(1)\n",
    "    plt.hist(cen_list)\n",
    "    \n",
    "    # Create an empty list to hold all of our eigen_cent items \n",
    "    eig_list = []\n",
    "    # Use the built in function get_node_attributes to collect the eigen_cent for each node\n",
    "    for item in nx.get_node_attributes(graph, 'eigen_cent'):\n",
    "        eig_list.append(nx.get_node_attributes(graph, 'eigen_cent')[item])\n",
    "    \n",
    "    # Pass the eig_list to a plt object and plot as a histogram \n",
    "    plt.figure(2)\n",
    "    plt.hist(eig_list)\n",
    "\n",
    "    \n",
    "# Call the function graph_data() on our Networkx graph \n",
    "graph_data(NG)\n",
    "\n",
    "# Call the fucntion find_cliques() on our Networkx graph \n",
    "find_cliques(NG)"
   ]
  },
  {
   "cell_type": "markdown",
   "metadata": {},
   "source": [
    "## Visualization "
   ]
  },
  {
   "cell_type": "markdown",
   "metadata": {},
   "source": [
    "Networkx is all well and good for preforming network analysis, but the plots of the network is a little flat and hard to read. \n",
    "\n",
    "One option to gain a more dynamic vizulization is igraph.  "
   ]
  },
  {
   "cell_type": "code",
   "execution_count": null,
   "metadata": {
    "collapsed": false,
    "scrolled": true
   },
   "outputs": [],
   "source": [
    "# import igraph \n",
    "import igraph\n",
    "\n",
    "# I graph example \n",
    "\n",
    "graph = {\n",
    "    'nodes': {\n",
    "        'ross': {'color': 0xffaaaa, 'size': 2.0},\n",
    "        'joey': {'size': 0.5},\n",
    "        'chandler': {'color': 0x2222ff, 'size': 1.25},\n",
    "        'phoebe': {'color': 0x22ff22},\n",
    "        'rachel': {},\n",
    "        'monica': {},\n",
    "        'jack': {},\n",
    "        'judy': {},\n",
    "    },\n",
    "    'edges': [\n",
    "        {'source': 'chandler', 'target': 'ross'},\n",
    "        {'source': 'monica', 'target': 'ross'},\n",
    "        {'source': 'ross', 'target': 'rachel', 'size': 3, 'color': 0xffaaaa},\n",
    "        {'source': 'ross', 'target': 'joey'},\n",
    "        {'source': 'ross', 'target': 'phoebe'},\n",
    "        {'source': 'ross', 'target': 'judy'},\n",
    "        {'source': 'monica', 'target': 'rachel'},\n",
    "        {'source': 'rachel', 'target': 'jack'},\n",
    "        {'source': 'chandler', 'target': 'phoebe'}\n",
    "    ]\n",
    "}\n",
    "\n",
    "igraph.draw(graph)\n",
    "\n",
    "# Pretty cool, right??????"
   ]
  },
  {
   "cell_type": "code",
   "execution_count": null,
   "metadata": {
    "collapsed": false,
    "scrolled": false
   },
   "outputs": [],
   "source": [
    "# The function below returns to the original Neo4j data to preform queries \n",
    "#and create a data structer like the one in the example in the cell above \n",
    "\n",
    "\n",
    "def to_igraph():\n",
    "    \"\"\"\n",
    "    This function queries the loaded dataset and returns a object that can be red by igraph\n",
    "    \"\"\"\n",
    "    # This dictonary will hold the nodes \n",
    "    nodes = {}\n",
    "\n",
    "    #Collect all the nodes \n",
    "    all_employee_nodes = graph_db.cypher.execute(\"MATCH (n:Employee) RETURN n;\")\n",
    "    num_all_employee_nodes = graph_db.cypher.execute(\"MATCH (n:Employee) RETURN n;\").to_subgraph().order\n",
    "\n",
    "    count = 0\n",
    "    while count < num_all_employee_nodes:\n",
    "        current_node =  all_employee_nodes[count][0]\n",
    "        node_type = \"employee\"\n",
    "        id_num = current_node['employeeid']\n",
    "        occ_orig = current_node['occcupation_orig']\n",
    "        occ_class = current_node['occupationalclassification']\n",
    "        nodes[id_num] = {'node_type': node_type, 'occcupation_orig': occ_orig, 'occupationalclassification': occ_class}\n",
    "        count += 1 \n",
    "\n",
    "    # Now for the award nodes     \n",
    "    all_award_nodes = graph_db.cypher.execute(\"MATCH (n:Award) RETURN n;\")\n",
    "    num_all_award_nodes = graph_db.cypher.execute(\"MATCH (n:Award) RETURN n;\").to_subgraph().order\n",
    "\n",
    "    count = 0\n",
    "    while count < num_all_award_nodes:\n",
    "        current_node =  all_award_nodes[count][0]\n",
    "        award_num = current_node['uniqueawardnumber']\n",
    "        node_type = \"award\"\n",
    "        nodes[award_num] = {'node_type': node_type}\n",
    "        count += 1 \n",
    "\n",
    "    # Populate the node dictonary \n",
    "    node_list = {}\n",
    "    for node in nodes:\n",
    "        node_list[node] = {}    \n",
    "        if nodes[node]['node_type'] == \"award\":\n",
    "            node_list[node]['color'] = 0xff4000\n",
    "            node_list[node]['size'] = 3\n",
    "        elif nodes[node]['occupationalclassification'] == \"FACULTY\":\n",
    "            node_list[node]['color'] = 0x0099cc\n",
    "            node_list[node]['size'] = 1\n",
    "        else: \n",
    "            node_list[node]['color'] = 0x43a16f\n",
    "            node_list[node]['size'] = 1\n",
    "\n",
    "\n",
    "\n",
    "    # Relationships \n",
    "    employee_award_relationships = graph_db.cypher.execute(\"MATCH (a:Employee)-[r]-(b:Award) RETURN a.employeeid, type(r), b.uniqueawardnumber;\")\n",
    "    #print employee_award_relationships\n",
    "\n",
    "    employee_employee_relationships = graph_db.cypher.execute(\"MATCH (a:Employee)-[r]->(b:Employee) RETURN a.employeeid, type(r), b.employeeid;\")\n",
    "    #print employee_employee_relationships\n",
    "\n",
    "    # Next, lets create relationships between the nodes based on our dictoarys list above \n",
    "\n",
    "    edges = []\n",
    "    for record in employee_award_relationships:\n",
    "        row = {}\n",
    "        row['source'] = record[0]\n",
    "        row['target'] = record[2]\n",
    "        edges.append(row)\n",
    "    for record in employee_employee_relationships:\n",
    "        row = {}\n",
    "        row['source'] = record[0]\n",
    "        row['target'] = record[2]\n",
    "        edges.append(row)\n",
    "\n",
    "    # this is the final object that we will pass to igraph     \n",
    "    final_object = {}\n",
    "    final_object['nodes'] = node_list\n",
    "    final_object['edges'] = edges\n",
    "    \n",
    "    return final_object\n",
    "\n"
   ]
  },
  {
   "cell_type": "code",
   "execution_count": null,
   "metadata": {
    "collapsed": false
   },
   "outputs": [],
   "source": [
    "\n",
    "# Call the function we created and save it under the name igraph_data\n",
    "igraph_data = to_igraph()\n",
    "\n",
    "# Draw the igraph data\n",
    "igraph.draw(igraph_data)"
   ]
  },
  {
   "cell_type": "markdown",
   "metadata": {},
   "source": [
    "## Part C (X points) - Visualization Practice  \n",
    "The interactive Graphs are pretty cool \n",
    "\n",
    "Use the code above as an exaple to develop and the igraph documentation to create your own vizulization or modify the exisiting one. For example, you can add lables or vizulize just one cliques # beCreative  "
   ]
  }
 ],
 "metadata": {
  "celltoolbar": "Create Assignment",
  "kernelspec": {
   "display_name": "Python 2",
   "language": "python",
   "name": "python2"
  },
  "language_info": {
   "codemirror_mode": {
    "name": "ipython",
    "version": 2
   },
   "file_extension": ".py",
   "mimetype": "text/x-python",
   "name": "python",
   "nbconvert_exporter": "python",
   "pygments_lexer": "ipython2",
   "version": "2.7.6"
  }
 },
 "nbformat": 4,
 "nbformat_minor": 0
}
