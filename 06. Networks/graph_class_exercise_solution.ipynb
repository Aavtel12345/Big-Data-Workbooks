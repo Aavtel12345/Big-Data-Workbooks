{
 "metadata": {
  "name": "",
  "signature": "sha256:8d623a3da4b252d08f5ec1f29ccba8525a85617545614272da17860399ad3448"
 },
 "nbformat": 3,
 "nbformat_minor": 0,
 "worksheets": [
  {
   "cells": [
    {
     "cell_type": "markdown",
     "metadata": {},
     "source": [
      "#Network Analysis\n",
      "May 16, 2014\n",
      "\n",
      "We will be using SNAP to do the network analysis in this exercise. You can find documentation, reference manual, and tutorial at http://snap.stanford.edu/\n",
      "\n",
      "## Class Exercise:\n",
      "\n",
      "1. Decide on Representation: What does the graph consist of? What are nodes? What are edges?\n",
      "2. Generates Nodes and Edges: SQL query -> text files. \n",
      "3. Create Graph(s) in SNAP: load data from text files\n",
      "4. Analyze the graphs in SNAP"
     ]
    },
    {
     "cell_type": "code",
     "collapsed": false,
     "input": [
      "import snap"
     ],
     "language": "python",
     "metadata": {},
     "outputs": [],
     "prompt_number": 1
    },
    {
     "cell_type": "markdown",
     "metadata": {},
     "source": [
      "## Representation\n",
      "What is a node?\n",
      "    - It's an arbitrary decision that depends on what you want to analyze and what kind of inferences you want to make\n",
      "    - Award? What would that allow you to infer? \n",
      "    - Researchers?\n",
      "    \n",
      "What is an edge?\n",
      "    - connecting awards given by the same unit/department/division?\n",
      "    - connecting resewarchers who are funded by the same award?\n",
      "    "
     ]
    },
    {
     "cell_type": "markdown",
     "metadata": {},
     "source": [
      "## Data Extraction/Preparation\n",
      "SNAP (and other graph analysis tools) typically require a list of nodes and edges to create a graph (depending on the type of graph)\n",
      "\n",
      "### Task 1: Generate 2 text files using SQL database:\n",
      "    1. list of nodes \n",
      "    2. list of edges (comma delimited)"
     ]
    },
    {
     "cell_type": "code",
     "collapsed": false,
     "input": [
      "# sql code"
     ],
     "language": "python",
     "metadata": {},
     "outputs": []
    },
    {
     "cell_type": "markdown",
     "metadata": {},
     "source": [
      "## Graph Creation\n",
      "\n",
      "### Task 2: Create a graph in SNAP using the two text files you just generated.\n",
      "Things to consider:\n",
      "    - What kind of graph do you wnat to create? Directed? Undirected?\n",
      "    - You can iterate over the nodes and edges or load them all at the same time\n",
      "        - AddNode() and AddEdge() functions\n",
      "        - LoadEdgeList()"
     ]
    },
    {
     "cell_type": "code",
     "collapsed": false,
     "input": [
      "# initialize undirected graph\n",
      "G1 = snap.TUNGraph.New() "
     ],
     "language": "python",
     "metadata": {},
     "outputs": [],
     "prompt_number": 3
    },
    {
     "cell_type": "markdown",
     "metadata": {},
     "source": [
      "## Basic Network Statistics\n",
      "\n",
      "Let's check and see if everything got loaded and what the network contains\n",
      "1. How many nodes are there?\n",
      "2. How many edges?\n",
      "3. How many nodes have no edges?\n"
     ]
    },
    {
     "cell_type": "code",
     "collapsed": false,
     "input": [
      "# basic network statistics code\n",
      "# hints: "
     ],
     "language": "python",
     "metadata": {},
     "outputs": []
    },
    {
     "cell_type": "markdown",
     "metadata": {},
     "source": [
      "## Network Structure\n",
      "Let's dig a little deeper in the network\n",
      "1. What is the degree distribution?\n",
      "2. How many connected components are there? \n",
      "3. How is the size of these CCs distributed?\n",
      "4. How many triads?\n",
      "5. What is the clustering coefficient?\n",
      "6. what is the graph diameter?\n",
      "7. What is the modularity of the network? What does that tell us?\n",
      "8. Try other properties SNAP allows us to calculate? \n",
      "    - which ones seem useful/interesting? why?"
     ]
    },
    {
     "cell_type": "code",
     "collapsed": false,
     "input": [
      "# network structure code\n"
     ],
     "language": "python",
     "metadata": {},
     "outputs": []
    },
    {
     "cell_type": "markdown",
     "metadata": {},
     "source": [
      "## What have we learned about the network we've generated so far?\n",
      "\n",
      "1. ...\n",
      "2. ...\n",
      "3. ...\n",
      "4. ...\n"
     ]
    },
    {
     "cell_type": "markdown",
     "metadata": {},
     "source": [
      "## Two interesting directions\n",
      "1. Go back and regenerate the graph in a different way\n",
      "    1. restrict by type of people and generate different graphs for different types of researchers\n",
      "    2. restrict by date and generate different graphs for different time windows\n",
      "\n",
      "2. Figure out the underlying model for how this network could have been generated?\n",
      "    1. is it a random graph?\n",
      "    2. does it exhibit small world properties? how would you tell?"
     ]
    },
    {
     "cell_type": "code",
     "collapsed": false,
     "input": [
      "# generate random graph of the same size and compare network properties\n",
      "\n",
      "# generate preferntial attachment graph and do the same analysis\n",
      "\n"
     ],
     "language": "python",
     "metadata": {},
     "outputs": []
    }
   ],
   "metadata": {}
  }
 ]
}