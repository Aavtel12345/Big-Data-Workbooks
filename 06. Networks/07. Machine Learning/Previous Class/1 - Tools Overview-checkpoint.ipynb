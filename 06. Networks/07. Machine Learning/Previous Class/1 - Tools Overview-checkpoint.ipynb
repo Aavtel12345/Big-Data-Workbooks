{
 "metadata": {
  "name": "",
  "signature": "sha256:bf6f0b4ec919c5369a7a783a6f4732280503877d94a8fb949ec43e68e7dc2f0a"
 },
 "nbformat": 3,
 "nbformat_minor": 0,
 "worksheets": [
  {
   "cells": [
    {
     "cell_type": "markdown",
     "metadata": {},
     "source": [
      "<hr>\n",
      "# MACHINE LEARNING 101  \n",
      "\n",
      "Adapted from Data Gotham 2013 notebook (https://github.com/yhat/DataGotham2013/tree/master/notebooks)\n",
      "\n",
      "- Part 1: Overview\n",
      "- Part 2: Case Study\n",
      "\n",
      "### Overview of Python for Data Analysis"
     ]
    },
    {
     "cell_type": "markdown",
     "metadata": {},
     "source": [
      "## Contents\n",
      "\n",
      "- [IPython](#IPython)\n",
      "- [NumPy](#NumPy)\n",
      "- [SciPy](#SciPy)\n",
      "- [Matplotlib](#Matplotlib)\n",
      "- [pandas](#pandas)\n",
      "- [scikit-learn](#scikit-learn)\n",
      "- [statsmodels](#statsmodels)"
     ]
    },
    {
     "cell_type": "markdown",
     "metadata": {},
     "source": [
      "<a id=\"IPython\"></a>\n",
      "<hr>\n",
      "\n",
      "## IPython\n",
      "\n",
      "Command line and web IDE designed for use with Python and several other scientific and web-based technologies."
     ]
    },
    {
     "cell_type": "markdown",
     "metadata": {},
     "source": [
      "#### What is it?\n",
      "\n",
      "### A computing architecture for Python composed of \n",
      "\n",
      " - 2 Python shells (terminal and Qt-based)\n",
      "\n",
      "- A web notebook that runs in the browser."
     ]
    },
    {
     "cell_type": "markdown",
     "metadata": {},
     "source": [
      "### What can you do with it?\n",
      "\n",
      "## Code completion\n",
      "\n",
      "#### ```IPython``` tells you about the objects you're working with, showing you helpful usage info about functions, methods available, datatypes, and more."
     ]
    },
    {
     "cell_type": "code",
     "collapsed": false,
     "input": [
      "things = [\"First Name\", \"Last Name\"]\n",
      "\n",
      "def snakify(txt):\n",
      "    \"return string in snake_case\"\n",
      "    return txt.replace(\" \",\"_\").lower()\n",
      "\n",
      "print [snakify(thing) for thing in things]\n",
      "\n",
      "\n",
      "snakify( \"My Name is Mike\" )"
     ],
     "language": "python",
     "metadata": {},
     "outputs": [
      {
       "output_type": "stream",
       "stream": "stdout",
       "text": [
        "['first_name', 'last_name']\n"
       ]
      },
      {
       "metadata": {},
       "output_type": "pyout",
       "prompt_number": 21,
       "text": [
        "'my_name_is_mike'"
       ]
      }
     ],
     "prompt_number": 21
    },
    {
     "cell_type": "markdown",
     "metadata": {},
     "source": [
      "<bold class=\"bold\">Tip: </bold>Comment and uncomment lines with ``` command + / ``` if you're on a mac."
     ]
    },
    {
     "cell_type": "markdown",
     "metadata": {},
     "source": [
      "## Interact with the command-line\n",
      "\n",
      "#### Use many shell commands directly from IPython, including shell scripts."
     ]
    },
    {
     "cell_type": "code",
     "collapsed": false,
     "input": [
      "# try these out too\n",
      "! pwd\n",
      "!ls -lt"
     ],
     "language": "python",
     "metadata": {},
     "outputs": [
      {
       "output_type": "stream",
       "stream": "stdout",
       "text": [
        "/Users/rayid/Projects/census class/python/tutorials/census/notebooks\r\n"
       ]
      },
      {
       "output_type": "stream",
       "stream": "stdout",
       "text": [
        "total 4272\r\n",
        "-rw-r--r--   1 rayid  staff    43971 Apr 21 00:09 1 - Tools Overview.ipynb\r\n",
        "-rw-r--r--   1 rayid  staff  1171929 Apr 21 00:08 salary_data.csv\r\n",
        "-rw-r--r--   1 rayid  staff   175147 Apr 20 23:34 3 - Importing Data.ipynb\r\n",
        "-rw-r--r--   1 rayid  staff    11345 Apr 20 23:25 2 - Case Study.ipynb\r\n",
        "-rw-r--r--   1 rayid  staff   195214 Apr 20 23:08 4 - scikit-learn basics.ipynb\r\n",
        "-rw-r--r--   1 rayid  staff    34017 Apr 20 23:08 5 - Imputing Data.ipynb\r\n",
        "-rw-r--r--   1 rayid  staff    56149 Apr 20 23:08 6 - Aggregation and Grouping.ipynb\r\n",
        "-rw-r--r--   1 rayid  staff   181281 Apr 20 23:08 7 - Feature Engineering.ipynb\r\n",
        "-rw-r--r--   1 rayid  staff   162070 Apr 20 23:08 8 - Fitting and Evaluating Your Model.ipynb\r\n",
        "-rw-r--r--   1 rayid  staff     7821 Apr 20 23:08 9 - Deployment.ipynb\r\n",
        "drwxr-xr-x  11 rayid  staff      374 Apr 20 23:08 \u001b[34mdata\u001b[m\u001b[m\r\n",
        "-rw-r--r--   1 rayid  staff     1351 Apr 20 23:08 iris.dot\r\n",
        "-rw-r--r--   1 rayid  staff    13186 Apr 20 23:08 iris.pdf\r\n",
        "-rw-r--r--   1 rayid  staff   104038 Apr 20 23:08 iris.png\r\n",
        "-rw-r--r--   1 rayid  staff     2903 Apr 20 23:08 outline.txt\r\n"
       ]
      }
     ],
     "prompt_number": 22
    },
    {
     "cell_type": "markdown",
     "metadata": {},
     "source": [
      "#### Capture the output of a shell command and store the results in a python variable."
     ]
    },
    {
     "cell_type": "code",
     "collapsed": false,
     "input": [
      "foo = ! echo hello, world\n",
      "foo"
     ],
     "language": "python",
     "metadata": {},
     "outputs": [
      {
       "metadata": {},
       "output_type": "pyout",
       "prompt_number": 23,
       "text": [
        "['hello, world']"
       ]
      }
     ],
     "prompt_number": 23
    },
    {
     "cell_type": "markdown",
     "metadata": {},
     "source": [
      "#### Use curl to download data."
     ]
    },
    {
     "cell_type": "code",
     "collapsed": false,
     "input": [
      "# download salary_data.csv save contents to \n",
      "# a local file in the same directory as this notebook\n",
      "!curl http://www.justinmrao.com/salary_data.csv >> ./salary_data.csv"
     ],
     "language": "python",
     "metadata": {},
     "outputs": [
      {
       "output_type": "stream",
       "stream": "stdout",
       "text": [
        "  % Total    % Received % Xferd  Average Speed   Time    Time     Time  Current\r\n",
        "                                 Dload  Upload   Total   Spent    Left  Speed\r\n",
        "\r",
        "  0     0    0     0    0     0      0      0 --:--:-- --:--:-- --:--:--     0"
       ]
      },
      {
       "output_type": "stream",
       "stream": "stdout",
       "text": [
        "\r",
        "  0     0    0     0    0     0      0      0 --:--:--  0:00:01 --:--:--     0"
       ]
      },
      {
       "output_type": "stream",
       "stream": "stdout",
       "text": [
        "\r",
        "  1  381k    1  6891    0     0   3683      0  0:01:46  0:00:01  0:01:45  3683"
       ]
      },
      {
       "output_type": "stream",
       "stream": "stdout",
       "text": [
        "\r",
        " 41  381k   41  158k    0     0  62358      0  0:00:06  0:00:02  0:00:04 62337"
       ]
      },
      {
       "output_type": "stream",
       "stream": "stdout",
       "text": [
        "\r",
        "100  381k  100  381k    0     0   116k      0  0:00:03  0:00:03 --:--:--  116k\r\n"
       ]
      }
     ],
     "prompt_number": 24
    },
    {
     "cell_type": "code",
     "collapsed": false,
     "input": [
      "# peak at the first row\n",
      "! head -n 1 salary_data.csv | tr -s \",\" \"\\n\""
     ],
     "language": "python",
     "metadata": {},
     "outputs": [
      {
       "output_type": "stream",
       "stream": "stdout",
       "text": [
        "team\r\n",
        "year\r\n",
        "player\r\n",
        "contract_years_remaining\r\n",
        "contract_thru\r\n",
        "position\r\n",
        "full_name\r\n",
        "salary_year\r\n",
        "salary_total\r\n",
        "year_counter\r\n",
        "obs\r\n",
        "mean_salary\r\n",
        "mean_remaining\r",
        "\r\n"
       ]
      }
     ],
     "prompt_number": 25
    },
    {
     "cell_type": "code",
     "collapsed": false,
     "input": [
      "# peak at the second row\n",
      "! head -n+2 salary_data.csv | tail -n-1 | tr -s \",\" \"\\n\""
     ],
     "language": "python",
     "metadata": {},
     "outputs": [
      {
       "output_type": "stream",
       "stream": "stdout",
       "text": [
        "\"Boston Celtics\"\r\n",
        "\"2002-03\"\r\n",
        "\"Bremer\r\n",
        " J.R.\"\r\n",
        "1\r\n",
        "\"2002-03\"\r\n",
        "\"G\"\r\n",
        "\" Bremer\"\r\n",
        "349458\r\n",
        "349458\r\n",
        "1\r\n",
        "2\r\n",
        "456568.5\r\n",
        "1\r",
        "\r\n"
       ]
      }
     ],
     "prompt_number": 6
    },
    {
     "cell_type": "markdown",
     "metadata": {},
     "source": [
      "## Include rich media and javascript\n",
      "#### IPython gives you inline plots and allows you to use virtually any browser supported media."
     ]
    },
    {
     "cell_type": "markdown",
     "metadata": {},
     "source": [
      "Inline plotting"
     ]
    },
    {
     "cell_type": "code",
     "collapsed": false,
     "input": [
      "import pylab as pl\n",
      "X = range(10)\n",
      "y = range(11,21)\n",
      "pl.scatter(X,y, c='r')\n",
      "pl.show()\n",
      "print"
     ],
     "language": "python",
     "metadata": {},
     "outputs": [
      {
       "output_type": "stream",
       "stream": "stdout",
       "text": [
        "\n"
       ]
      }
     ],
     "prompt_number": 7
    },
    {
     "cell_type": "markdown",
     "metadata": {},
     "source": [
      "#### Write and run javascript among other languages including Ruby, Octave, Julia, R, etc."
     ]
    },
    {
     "cell_type": "code",
     "collapsed": false,
     "input": [
      "%%javascript\n",
      "\n",
      "function say_hi ( ) {\n",
      "    alert(\"Hello, World\");\n",
      "};\n",
      "\n",
      "say_hi();\n",
      "console.log(\"Welcome!\");"
     ],
     "language": "python",
     "metadata": {},
     "outputs": [
      {
       "javascript": [
        "\n",
        "function say_hi ( ) {\n",
        "    alert(\"Hello, World\");\n",
        "};\n",
        "\n",
        "say_hi();\n",
        "console.log(\"Welcome!\");"
       ],
       "metadata": {},
       "output_type": "display_data",
       "text": [
        "<IPython.core.display.Javascript at 0x10420e990>"
       ]
      }
     ],
     "prompt_number": 8
    },
    {
     "cell_type": "markdown",
     "metadata": {},
     "source": [
      "#### Render images from the web via a url or images on your local computer via the filename."
     ]
    },
    {
     "cell_type": "code",
     "collapsed": false,
     "input": [
      "from IPython.display import Image\n",
      "Image(\"http://ipython.org/_static/IPy_header.png\")"
     ],
     "language": "python",
     "metadata": {},
     "outputs": [
      {
       "metadata": {},
       "output_type": "pyout",
       "png": "[encoded data removed]",
       "prompt_number": 9,
       "text": [
        "<IPython.core.display.Image at 0x10420ee10>"
       ]
      }
     ],
     "prompt_number": 9
    },
    {
     "cell_type": "markdown",
     "metadata": {},
     "source": [
      "#### Render video"
     ]
    },
    {
     "cell_type": "code",
     "collapsed": false,
     "input": [
      "from IPython.lib.display import YouTubeVideo\n",
      "YouTubeVideo('SncapPrTusA', width=680, height=400)"
     ],
     "language": "python",
     "metadata": {},
     "outputs": [
      {
       "html": [
        "\n",
        "        <iframe\n",
        "            width=\"680\"\n",
        "            height=400\"\n",
        "            src=\"https://www.youtube.com/embed/SncapPrTusA\"\n",
        "            frameborder=\"0\"\n",
        "            allowfullscreen\n",
        "        ></iframe>\n",
        "        "
       ],
       "metadata": {},
       "output_type": "pyout",
       "prompt_number": 10,
       "text": [
        "<IPython.lib.display.YouTubeVideo at 0x1042130d0>"
       ]
      }
     ],
     "prompt_number": 10
    },
    {
     "cell_type": "markdown",
     "metadata": {},
     "source": [
      "<a id=\"NumPy\"></a>\n",
      "<hr>\n",
      "\n",
      "## NumPy\n",
      "\n",
      "One of the fundamental packages for scientific computing with Python. Many other popular packages and projects use NumPy under the hood, so it's pretty helpful to be familiar with its core concepts."
     ]
    },
    {
     "cell_type": "markdown",
     "metadata": {},
     "source": [
      "#### What is it?\n",
      "\n",
      "### A collection of tools, utilities, and data structures for working with data.\n",
      "\n",
      "- A powerful N-dimensional array object\n",
      "- Element by element broadcasting operations (as opposed to iterating)\n",
      "- Tools for integrating C/C++ and Fortran code\n",
      "- Linear algebra and other mathematical and random number facilities\n",
      "\n"
     ]
    },
    {
     "cell_type": "markdown",
     "metadata": {},
     "source": [
      "## N-dimensional arrays\n",
      "\n",
      "#### The ```ndarray``` is a bit like a python list only more efficient."
     ]
    },
    {
     "cell_type": "code",
     "collapsed": false,
     "input": [
      "\"\"\"example taken from Scipy and NumPy by Eli Bressert (p. 6)\"\"\"\n",
      "import numpy as np\n",
      "\n",
      "def list_times(alist, scalar):\n",
      "    for i, val in enumerate(alist):\n",
      "        alist[i] = val * scalar\n",
      "    return alist"
     ],
     "language": "python",
     "metadata": {},
     "outputs": [],
     "prompt_number": 11
    },
    {
     "cell_type": "code",
     "collapsed": false,
     "input": [
      "arr = np.arange(1e7)\n",
      "l   = arr.tolist()"
     ],
     "language": "python",
     "metadata": {},
     "outputs": [],
     "prompt_number": 12
    },
    {
     "cell_type": "code",
     "collapsed": false,
     "input": [
      "%timeit arr * 1.1"
     ],
     "language": "python",
     "metadata": {},
     "outputs": [
      {
       "output_type": "stream",
       "stream": "stdout",
       "text": [
        "10 loops, best of 3: 25.6 ms per loop\n"
       ]
      }
     ],
     "prompt_number": 13
    },
    {
     "cell_type": "code",
     "collapsed": false,
     "input": [
      "%timeit list_times(l, 1.1)"
     ],
     "language": "python",
     "metadata": {},
     "outputs": [
      {
       "output_type": "stream",
       "stream": "stdout",
       "text": [
        "1 loops, best of 3: 1.55 s per loop\n"
       ]
      }
     ],
     "prompt_number": 14
    },
    {
     "cell_type": "markdown",
     "metadata": {},
     "source": [
      "#### ```ndarray```s behave somewhat like lists."
     ]
    },
    {
     "cell_type": "code",
     "collapsed": false,
     "input": [
      "print \"len(l)\", len(l)\n",
      "print \"len(arr)\", len(arr)"
     ],
     "language": "python",
     "metadata": {},
     "outputs": [
      {
       "output_type": "stream",
       "stream": "stdout",
       "text": [
        "len(l) 10000000\n",
        "len(arr) 10000000\n"
       ]
      }
     ],
     "prompt_number": 15
    },
    {
     "cell_type": "markdown",
     "metadata": {},
     "source": [
      "#### The ```ndarray``` is capible of more advanced slicing."
     ]
    },
    {
     "cell_type": "code",
     "collapsed": false,
     "input": [
      "l = [ [1,2], [3,4] ]\n",
      "arr   = np.array(l)\n",
      "\n",
      "print \"Value in Row One, Column One: %d\" % l[0][0]\n",
      "print \"Value in Row One, Column One: %d\" % arr[0,0]\n",
      "print \"Value in All Rows, Column Two: %s\" % str(arr[::,1])\n",
      "print \"Value in Row Two, Both Columns: %s\" % str(arr[1::,])"
     ],
     "language": "python",
     "metadata": {},
     "outputs": [
      {
       "output_type": "stream",
       "stream": "stdout",
       "text": [
        "Value in Row One, Column One: 1\n",
        "Value in Row One, Column One: 1\n",
        "Value in All Rows, Column Two: [2 4]\n",
        "Value in Row Two, Both Columns: [[3 4]]\n"
       ]
      }
     ],
     "prompt_number": 16
    },
    {
     "cell_type": "markdown",
     "metadata": {},
     "source": [
      "#### You can access elements stored in an ```ndarray``` using ```arr[]``` sub notation ```arr[rows, columns]```.\n",
      "\n",
      "#### Select the entire 10th row like so ```arr[9, :]```.  ```9``` indicates \"row 10\" and ```:``` indicates <em>all</em> columns."
     ]
    },
    {
     "cell_type": "code",
     "collapsed": false,
     "input": [
      "zero_to_1000 = np.arange(0,1000)               # create an array of integers from 0 to 1000\n",
      "zero_to_1000 = zero_to_1000.reshape( (500,2) ) # reshape into 2 dimensions (500 Rows x 2 Cols2)\n",
      "zero_to_1000[:100, 1]                          # select the 2nd columns from the top 100 rows"
     ],
     "language": "python",
     "metadata": {},
     "outputs": [
      {
       "metadata": {},
       "output_type": "pyout",
       "prompt_number": 17,
       "text": [
        "array([  1,   3,   5,   7,   9,  11,  13,  15,  17,  19,  21,  23,  25,\n",
        "        27,  29,  31,  33,  35,  37,  39,  41,  43,  45,  47,  49,  51,\n",
        "        53,  55,  57,  59,  61,  63,  65,  67,  69,  71,  73,  75,  77,\n",
        "        79,  81,  83,  85,  87,  89,  91,  93,  95,  97,  99, 101, 103,\n",
        "       105, 107, 109, 111, 113, 115, 117, 119, 121, 123, 125, 127, 129,\n",
        "       131, 133, 135, 137, 139, 141, 143, 145, 147, 149, 151, 153, 155,\n",
        "       157, 159, 161, 163, 165, 167, 169, 171, 173, 175, 177, 179, 181,\n",
        "       183, 185, 187, 189, 191, 193, 195, 197, 199])"
       ]
      }
     ],
     "prompt_number": 17
    },
    {
     "cell_type": "markdown",
     "metadata": {},
     "source": [
      "#### NumPy arrays support boolean indexing for selection."
     ]
    },
    {
     "cell_type": "code",
     "collapsed": false,
     "input": [
      "numbers = np.random.uniform(size=100)\n",
      "numbers = numbers.reshape((50,2))\n",
      "mask = (numbers >= 0.7) & (numbers <= 0.9)\n",
      "mask[:10]"
     ],
     "language": "python",
     "metadata": {},
     "outputs": [
      {
       "metadata": {},
       "output_type": "pyout",
       "prompt_number": 18,
       "text": [
        "array([[False, False],\n",
        "       [False,  True],\n",
        "       [False, False],\n",
        "       [False, False],\n",
        "       [False, False],\n",
        "       [False, False],\n",
        "       [False, False],\n",
        "       [False, False],\n",
        "       [ True, False],\n",
        "       [ True,  True]], dtype=bool)"
       ]
      }
     ],
     "prompt_number": 18
    },
    {
     "cell_type": "code",
     "collapsed": false,
     "input": [
      "numbers[mask, :] # pass the boolean mask to the array using sub notation"
     ],
     "language": "python",
     "metadata": {},
     "outputs": [
      {
       "ename": "IndexError",
       "evalue": "too many indices for array",
       "output_type": "pyerr",
       "traceback": [
        "\u001b[0;31m---------------------------------------------------------------------------\u001b[0m\n\u001b[0;31mIndexError\u001b[0m                                Traceback (most recent call last)",
        "\u001b[0;32m<ipython-input-19-800c505f3ce7>\u001b[0m in \u001b[0;36m<module>\u001b[0;34m()\u001b[0m\n\u001b[0;32m----> 1\u001b[0;31m \u001b[0mnumbers\u001b[0m\u001b[0;34m[\u001b[0m\u001b[0mmask\u001b[0m\u001b[0;34m,\u001b[0m \u001b[0;34m:\u001b[0m\u001b[0;34m]\u001b[0m \u001b[0;31m# pass the boolean mask to the array using sub notation\u001b[0m\u001b[0;34m\u001b[0m\u001b[0m\n\u001b[0m",
        "\u001b[0;31mIndexError\u001b[0m: too many indices for array"
       ]
      }
     ],
     "prompt_number": 19
    },
    {
     "cell_type": "markdown",
     "metadata": {},
     "source": [
      "<a id=\"SciPy\"></a>\n",
      "<hr>\n",
      "\n",
      "## SciPy\n",
      "\n",
      "SciPy contains functions and utilities for common scientific tasks. Most of SciPy's features rely on NumPy and many other scientific projects rely on SciPy.\n",
      "\n",
      "\n",
      "We aren't using SciPy directly in this tutorial, and since it's rather large in scope, we'll just give you some of the project highlights.\n",
      "\n",
      "- Optimization and Minimization\n",
      "    - 80 continuous distributions\n",
      "    - 60 statistical functions\n",
      "- Interpolation\n",
      "- Integration\n",
      "- Statistics\n",
      "- Spatial and Clustering Analysis\n",
      "- Signal and Image Processing\n",
      "- Sparse Matrices"
     ]
    },
    {
     "cell_type": "markdown",
     "metadata": {},
     "source": [
      "<a id=\"Matplotlib\"></a>\n",
      "<hr>\n",
      "\n",
      "## Matplotlib"
     ]
    },
    {
     "cell_type": "code",
     "collapsed": false,
     "input": [
      "import pylab as pl\n",
      "import matplotlib.pyplot as plt"
     ],
     "language": "python",
     "metadata": {},
     "outputs": []
    },
    {
     "cell_type": "code",
     "collapsed": false,
     "input": [
      "# Make some data to plot\n",
      "x = np.linspace(start=0, stop=2*np.pi, num=50)\n",
      "y1 = np.sin(x)\n",
      "y2 = np.cos(x)"
     ],
     "language": "python",
     "metadata": {},
     "outputs": []
    },
    {
     "cell_type": "markdown",
     "metadata": {},
     "source": [
      "#### Lines"
     ]
    },
    {
     "cell_type": "code",
     "collapsed": false,
     "input": [
      "fig, ax = plt.subplots(1, figsize=(12,6))\n",
      "ax.plot(x, y1, label='sin')\n",
      "ax.plot(x, y2, label='cos')\n",
      "\n",
      "ax.legend(fontsize=16)\n",
      "ax.axes.xaxis.set_label_text(\"X Axis\", fontdict={\"size\":22})\n",
      "ax.axes.yaxis.set_label_text(\"y Axis\", fontdict={\"size\":22})\n",
      "ax.title.set_text(\"This is a graph\\n\")\n",
      "ax.title.set_fontsize(28)\n",
      "fig.show()\n",
      "print"
     ],
     "language": "python",
     "metadata": {},
     "outputs": []
    },
    {
     "cell_type": "markdown",
     "metadata": {},
     "source": [
      "#### Histograms"
     ]
    },
    {
     "cell_type": "code",
     "collapsed": false,
     "input": [
      "d = randn(100) * 100.\n",
      "m = d.mean()\n",
      "s = d.std()\n",
      "m_y = 1.5\n",
      "\n",
      "fig = figure(figsize=(12,6))\n",
      "ax = subplot(111)\n",
      "ax.hist(d, 15)\n",
      "ax.plot(m, m_y, \"ko\")\n",
      "ax.plot([m - s, m + s], [m_y] * 2, \"k--\");"
     ],
     "language": "python",
     "metadata": {},
     "outputs": []
    },
    {
     "cell_type": "markdown",
     "metadata": {},
     "source": [
      "#### Multiple plots."
     ]
    },
    {
     "cell_type": "code",
     "collapsed": false,
     "input": [
      "x = np.arange(0, 100)\n",
      "y = np.random.rand(100)  # 100 random numbers\n",
      "fig, ((ax1, ax2), (ax3, ax4)) = plt.subplots(2,2,figsize=(10,10))\n",
      "ax1.plot(x, y)\n",
      "ax2.hist(y)\n",
      "ax3.scatter(x, y)\n",
      "ax4.boxplot(y)\n",
      "pl.show()"
     ],
     "language": "python",
     "metadata": {},
     "outputs": []
    },
    {
     "cell_type": "markdown",
     "metadata": {},
     "source": [
      "## ggplot2 matplotlib theme\n",
      "\n",
      "- [https://s3.amazonaws.com/demo-datasets/matplotlib.zip](https://s3.amazonaws.com/demo-datasets/matplotlib.zip)"
     ]
    },
    {
     "cell_type": "code",
     "collapsed": false,
     "input": [
      "#if you already have a matplotlib config file, you'll need to run this in the terminal\n",
      "! unzip ~/Downloads/matplotlib.zip -d ~/"
     ],
     "language": "python",
     "metadata": {},
     "outputs": []
    },
    {
     "cell_type": "markdown",
     "metadata": {},
     "source": [
      "#### Matplotlib takes some getting used to, but don't fret. There are some solid examples and recipes available online that are super helpful.\n",
      "\n",
      "[http://matplotlib.org/gallery.html](http://matplotlib.org/gallery.html.)"
     ]
    },
    {
     "cell_type": "markdown",
     "metadata": {},
     "source": [
      "<a id=\"pandas\"></a>\n",
      "<hr>\n",
      "\n",
      "## pandas\n",
      "\n",
      "#### pandas is the utility belt for data analysts using python. The package centers around the pandas ```DataFrame```, a two-dimensional data structure with indexable rows and columns. It has effectively taken the best parts of Base R, R packages like plyr and reshape2 and consolidated them into a single library.\n",
      "\n",
      "#### Library highlights include:\n",
      "\n",
      "- DataFrame\n",
      "- Indexable rows and columns (e.g. selecting columns and rows via column/row names)\n",
      "- Boolean indexing\n",
      "- Graceful treatment of missing or ```NA``` values\n",
      "- Broadcasting (i.e. calling a function on an entire row or column without iteration)\n",
      "- Outstanding ```split```, ```apply```, ```combine```, ```groupby``` functionality\n",
      "- Simple yet powerful string manipulation (again, applied over a large number of strings)\n",
      "- Built-in summary statistics (```mean```, ```std```, ```corr```, etc.)\n",
      "- Merging, joining, data set concatenation\n"
     ]
    },
    {
     "cell_type": "code",
     "collapsed": false,
     "input": [
      "import pandas as pd\n",
      "df = pd.DataFrame({\"A\": range(10), \"B\": np.random.random(size=10)})\n",
      "df.B.corr(df.A)"
     ],
     "language": "python",
     "metadata": {},
     "outputs": []
    },
    {
     "cell_type": "markdown",
     "metadata": {},
     "source": [
      "<a id=\"scikit-learn\"></a>\n",
      "<hr>\n",
      "\n",
      "## scikit-learn\n",
      "\n",
      "scikit-learn is composed of a wide number of machine learning algorithms, utilities, and transformations all following a common and consistent API.\n",
      "\n",
      "#### Library highlights include:\n",
      "\n",
      "- Biclustering\n",
      "- Clustering\n",
      "- Covariance estimation\n",
      "- Cross decomposition\n",
      "- Dataset examples\n",
      "- Decomposition\n",
      "- Ensemble methods\n",
      "- Gaussian Process for Machine Learning\n",
      "- Generalized Linear Models\n",
      "- Manifold learning\n",
      "- Gaussian Mixture Models\n",
      "- Nearest Neighbors\n",
      "- Semi Supervised Classification\n",
      "- Support Vector Machines\n",
      "- Decision Trees"
     ]
    },
    {
     "cell_type": "code",
     "collapsed": false,
     "input": [
      "%load http://scikit-learn.org/stable/_downloads/plot_lena_ward_segmentation.py"
     ],
     "language": "python",
     "metadata": {},
     "outputs": []
    },
    {
     "cell_type": "code",
     "collapsed": false,
     "input": [
      "\"\"\"\n",
      "===============================================================\n",
      "A demo of structured Ward hierarchical clustering on Lena image\n",
      "===============================================================\n",
      "\n",
      "Compute the segmentation of a 2D image with Ward hierarchical\n",
      "clustering. The clustering is spatially constrained in order\n",
      "for each segmented region to be in one piece.\n",
      "\"\"\"\n",
      "\n",
      "# Author : Vincent Michel, 2010\n",
      "#          Alexandre Gramfort, 2011\n",
      "# License: BSD 3 clause\n",
      "\n",
      "print(__doc__)\n",
      "\n",
      "import time as time\n",
      "import numpy as np\n",
      "import scipy as sp\n",
      "import pylab as pl\n",
      "from sklearn.feature_extraction.image import grid_to_graph\n",
      "from sklearn.cluster import Ward\n",
      "\n",
      "###############################################################################\n",
      "# Generate data\n",
      "lena = sp.misc.lena()\n",
      "# Downsample the image by a factor of 4\n",
      "lena = lena[::2, ::2] + lena[1::2, ::2] + lena[::2, 1::2] + lena[1::2, 1::2]\n",
      "X = np.reshape(lena, (-1, 1))\n",
      "\n",
      "###############################################################################\n",
      "# Define the structure A of the data. Pixels connected to their neighbors.\n",
      "connectivity = grid_to_graph(*lena.shape)\n",
      "\n",
      "###############################################################################\n",
      "# Compute clustering\n",
      "print(\"Compute structured hierarchical clustering...\")\n",
      "st = time.time()\n",
      "n_clusters = 15  # number of regions\n",
      "ward = Ward(n_clusters=n_clusters, connectivity=connectivity).fit(X)\n",
      "label = np.reshape(ward.labels_, lena.shape)\n",
      "print(\"Elapsed time: \", time.time() - st)\n",
      "print(\"Number of pixels: \", label.size)\n",
      "print(\"Number of clusters: \", np.unique(label).size)\n",
      "\n",
      "###############################################################################\n",
      "# Plot the results on an image\n",
      "pl.figure(figsize=(5, 5))\n",
      "pl.imshow(lena, cmap=pl.cm.gray)\n",
      "for l in range(n_clusters):\n",
      "    pl.contour(label == l, contours=1,\n",
      "               colors=[pl.cm.spectral(l / float(n_clusters)), ])\n",
      "pl.xticks(())\n",
      "pl.yticks(())\n",
      "pl.show()\n"
     ],
     "language": "python",
     "metadata": {},
     "outputs": []
    },
    {
     "cell_type": "markdown",
     "metadata": {},
     "source": [
      "<a id=\"statsmodels\"></a>\n",
      "<hr>\n",
      "\n",
      "## statsmodels\n",
      "####statistics & econometrics package with useful tools for parameter estimation & statistical testing\n",
      "\n",
      "####Features include:\n",
      "- linear regression models\n",
      "- GLMs\n",
      "- time series modeling\n",
      "- integration with `pandas`"
     ]
    },
    {
     "cell_type": "code",
     "collapsed": false,
     "input": [
      "%load https://gist.github.com/glamp/6536064/raw/57146ac3406f7541d944264ed9aa85dad6e085a1/statsmodels_example.py"
     ],
     "language": "python",
     "metadata": {},
     "outputs": []
    },
    {
     "cell_type": "code",
     "collapsed": false,
     "input": [
      "import pandas as pd\n",
      "import statsmodels.api as sm\n",
      "import pylab as pl\n",
      "import numpy as np\n",
      " \n",
      "# read the data in\n",
      "df = pd.read_csv(\"http://www.ats.ucla.edu/stat/data/binary.csv\")\n",
      " \n",
      "# rename the 'rank' column because there is also a DataFrame method called 'rank'\n",
      "df.columns = [\"admit\", \"gre\", \"gpa\", \"prestige\"]\n",
      "dummy_ranks = pd.get_dummies(df['prestige'], prefix='prestige')\n",
      "dummy_ranks.head()\n",
      "\n",
      "# create a clean data frame for the regression\n",
      "cols_to_keep = ['admit', 'gre', 'gpa']\n",
      "data = df[cols_to_keep].join(dummy_ranks.ix[:, 'prestige_2':])\n",
      "data.head()\n",
      "\n",
      "# manually add the intercept\n",
      "data['intercept'] = 1.0\n",
      "\n",
      "train_cols = data.columns[1:]\n",
      "# Index([gre, gpa, prestige_2, prestige_3, prestige_4], dtype=object)\n",
      " \n",
      "logit = sm.Logit(data['admit'], data[train_cols])\n",
      " \n",
      "# fit the model\n",
      "result = logit.fit()\n",
      "\n",
      "print result.summary()"
     ],
     "language": "python",
     "metadata": {},
     "outputs": []
    },
    {
     "cell_type": "code",
     "collapsed": false,
     "input": [],
     "language": "python",
     "metadata": {},
     "outputs": []
    }
   ],
   "metadata": {}
  }
 ]
}