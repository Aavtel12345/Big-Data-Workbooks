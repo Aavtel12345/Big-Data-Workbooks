{
 "metadata": {
  "name": ""
 },
 "nbformat": 3,
 "nbformat_minor": 0,
 "worksheets": [
  {
   "cells": [
    {
     "cell_type": "markdown",
     "metadata": {},
     "source": [
      "#Agenda\n",
      "\n",
      "- Define the problem and the approach\n",
      "- Data basics: loading data, looking at your data, basic commands\n",
      "- Handling missing values\n",
      "- Intro to scikit-learn\n",
      "- Grouping and aggregating data\n",
      "- <p style=\"color: red\">Feature selection</p>\n",
      "- Fitting and evaluating a model\n",
      "- Deploying your work"
     ]
    },
    {
     "cell_type": "markdown",
     "metadata": {},
     "source": [
      "#In this workbook you will\n",
      "- Use RandomForest to calculate the best features for your model\n",
      "- Handling outlying data using `apply` and `groupby`\n",
      "- Discretize (or bucket) data into groups\n",
      "- Make your own features for your model"
     ]
    },
    {
     "cell_type": "code",
     "collapsed": false,
     "input": [
      "import pandas as pd\n",
      "import numpy as np\n",
      "import pylab as pl"
     ],
     "language": "python",
     "metadata": {},
     "outputs": [],
     "prompt_number": 2
    },
    {
     "cell_type": "code",
     "collapsed": false,
     "input": [
      "df = pd.read_csv(\"./data/credit-data-trainingset.csv\")"
     ],
     "language": "python",
     "metadata": {},
     "outputs": [],
     "prompt_number": 3
    },
    {
     "cell_type": "code",
     "collapsed": false,
     "input": [
      "df.head()"
     ],
     "language": "python",
     "metadata": {},
     "outputs": [
      {
       "html": [
        "<div style=\"max-height:1000px;max-width:1500px;overflow:auto;\">\n",
        "<table border=\"1\" class=\"dataframe\">\n",
        "  <thead>\n",
        "    <tr style=\"text-align: right;\">\n",
        "      <th></th>\n",
        "      <th>serious_dlqin2yrs</th>\n",
        "      <th>revolving_utilization_of_unsecured_lines</th>\n",
        "      <th>age</th>\n",
        "      <th>number_of_time30-59_days_past_due_not_worse</th>\n",
        "      <th>debt_ratio</th>\n",
        "      <th>monthly_income</th>\n",
        "      <th>number_of_open_credit_lines_and_loans</th>\n",
        "      <th>number_of_times90_days_late</th>\n",
        "      <th>number_real_estate_loans_or_lines</th>\n",
        "      <th>number_of_time60-89_days_past_due_not_worse</th>\n",
        "      <th>number_of_dependents</th>\n",
        "    </tr>\n",
        "  </thead>\n",
        "  <tbody>\n",
        "    <tr>\n",
        "      <th>0</th>\n",
        "      <td> 0</td>\n",
        "      <td> 0.658180</td>\n",
        "      <td> 38</td>\n",
        "      <td> 1</td>\n",
        "      <td> 0.085113</td>\n",
        "      <td>  3042</td>\n",
        "      <td> 2</td>\n",
        "      <td> 1</td>\n",
        "      <td> 0</td>\n",
        "      <td> 0</td>\n",
        "      <td> 0</td>\n",
        "    </tr>\n",
        "    <tr>\n",
        "      <th>1</th>\n",
        "      <td> 0</td>\n",
        "      <td> 0.233810</td>\n",
        "      <td> 30</td>\n",
        "      <td> 0</td>\n",
        "      <td> 0.036050</td>\n",
        "      <td>  3300</td>\n",
        "      <td> 5</td>\n",
        "      <td> 0</td>\n",
        "      <td> 0</td>\n",
        "      <td> 0</td>\n",
        "      <td> 0</td>\n",
        "    </tr>\n",
        "    <tr>\n",
        "      <th>2</th>\n",
        "      <td> 0</td>\n",
        "      <td> 0.907239</td>\n",
        "      <td> 49</td>\n",
        "      <td> 1</td>\n",
        "      <td> 0.024926</td>\n",
        "      <td> 63588</td>\n",
        "      <td> 7</td>\n",
        "      <td> 0</td>\n",
        "      <td> 1</td>\n",
        "      <td> 0</td>\n",
        "      <td> 0</td>\n",
        "    </tr>\n",
        "    <tr>\n",
        "      <th>3</th>\n",
        "      <td> 0</td>\n",
        "      <td> 0.754464</td>\n",
        "      <td> 39</td>\n",
        "      <td> 0</td>\n",
        "      <td> 0.209940</td>\n",
        "      <td>  3500</td>\n",
        "      <td> 8</td>\n",
        "      <td> 0</td>\n",
        "      <td> 0</td>\n",
        "      <td> 0</td>\n",
        "      <td> 0</td>\n",
        "    </tr>\n",
        "    <tr>\n",
        "      <th>4</th>\n",
        "      <td> 0</td>\n",
        "      <td> 0.189169</td>\n",
        "      <td> 57</td>\n",
        "      <td> 0</td>\n",
        "      <td> 0.606291</td>\n",
        "      <td> 23684</td>\n",
        "      <td> 9</td>\n",
        "      <td> 0</td>\n",
        "      <td> 4</td>\n",
        "      <td> 0</td>\n",
        "      <td> 2</td>\n",
        "    </tr>\n",
        "  </tbody>\n",
        "</table>\n",
        "</div>"
       ],
       "metadata": {},
       "output_type": "pyout",
       "prompt_number": 4,
       "text": [
        "   serious_dlqin2yrs  revolving_utilization_of_unsecured_lines  age  \\\n",
        "0                  0                                  0.658180   38   \n",
        "1                  0                                  0.233810   30   \n",
        "2                  0                                  0.907239   49   \n",
        "3                  0                                  0.754464   39   \n",
        "4                  0                                  0.189169   57   \n",
        "\n",
        "   number_of_time30-59_days_past_due_not_worse  debt_ratio  monthly_income  \\\n",
        "0                                            1    0.085113            3042   \n",
        "1                                            0    0.036050            3300   \n",
        "2                                            1    0.024926           63588   \n",
        "3                                            0    0.209940            3500   \n",
        "4                                            0    0.606291           23684   \n",
        "\n",
        "   number_of_open_credit_lines_and_loans  number_of_times90_days_late  \\\n",
        "0                                      2                            1   \n",
        "1                                      5                            0   \n",
        "2                                      7                            0   \n",
        "3                                      8                            0   \n",
        "4                                      9                            0   \n",
        "\n",
        "   number_real_estate_loans_or_lines  \\\n",
        "0                                  0   \n",
        "1                                  0   \n",
        "2                                  1   \n",
        "3                                  0   \n",
        "4                                  4   \n",
        "\n",
        "   number_of_time60-89_days_past_due_not_worse  number_of_dependents  \n",
        "0                                            0                     0  \n",
        "1                                            0                     0  \n",
        "2                                            0                     0  \n",
        "3                                            0                     0  \n",
        "4                                            0                     2  "
       ]
      }
     ],
     "prompt_number": 4
    },
    {
     "cell_type": "markdown",
     "metadata": {},
     "source": [
      "##Finding Important Features\n",
      "We're going to let scikit-learn help us determine which variables are the best at predicting risk. To do this, we're going to use an algorithm called `RandomForest`. `RandomForest` randomly generates a \"forest\" of decision trees. As the trees are randomly generated, the algorithm takes turns leaving out each variable in fitting the model. This allows the `RandomForest` to calculate just how much worse a model does when each variable is left out."
     ]
    },
    {
     "cell_type": "code",
     "collapsed": false,
     "input": [
      "from sklearn.ensemble import RandomForestClassifier\n",
      "\n",
      "features = np.array(['revolving_utilization_of_unsecured_lines',\n",
      "                     'age', 'number_of_time30-59_days_past_due_not_worse',\n",
      "                     'debt_ratio', 'monthly_income','number_of_open_credit_lines_and_loans', \n",
      "                     'number_of_times90_days_late', 'number_real_estate_loans_or_lines',\n",
      "                     'number_of_time60-89_days_past_due_not_worse', 'number_of_dependents'])"
     ],
     "language": "python",
     "metadata": {},
     "outputs": [],
     "prompt_number": 5
    },
    {
     "cell_type": "code",
     "collapsed": false,
     "input": [
      "clf = RandomForestClassifier(compute_importances=True)\n",
      "clf.fit(df[features], df['serious_dlqin2yrs'])"
     ],
     "language": "python",
     "metadata": {},
     "outputs": [
      {
       "output_type": "stream",
       "stream": "stderr",
       "text": [
        "/Library/Frameworks/Python.framework/Versions/2.7/lib/python2.7/site-packages/sklearn/ensemble/forest.py:783: DeprecationWarning: Setting compute_importances is no longer required as version 0.14. Variable importances are now computed on the fly when accessing the feature_importances_ attribute. This parameter will be removed in 0.16.\n",
        "  DeprecationWarning)\n"
       ]
      },
      {
       "metadata": {},
       "output_type": "pyout",
       "prompt_number": 6,
       "text": [
        "RandomForestClassifier(bootstrap=True, compute_importances=None,\n",
        "            criterion='gini', max_depth=None, max_features='auto',\n",
        "            min_density=None, min_samples_leaf=1, min_samples_split=2,\n",
        "            n_estimators=10, n_jobs=1, oob_score=False, random_state=None,\n",
        "            verbose=0)"
       ]
      }
     ],
     "prompt_number": 6
    },
    {
     "cell_type": "code",
     "collapsed": false,
     "input": [
      "# from the calculated importances, order them from most to least important\n",
      "# and make a barplot so we can visualize what is/isn't important\n",
      "importances = clf.feature_importances_\n",
      "sorted_idx = np.argsort(importances)"
     ],
     "language": "python",
     "metadata": {},
     "outputs": [],
     "prompt_number": 7
    },
    {
     "cell_type": "code",
     "collapsed": false,
     "input": [
      "padding = np.arange(len(features)) + 0.5\n",
      "pl.barh(padding, importances[sorted_idx], align='center')\n",
      "pl.yticks(padding, features[sorted_idx])\n",
      "pl.xlabel(\"Relative Importance\")\n",
      "pl.title(\"Variable Importance\")\n",
      "pl.show()"
     ],
     "language": "python",
     "metadata": {},
     "outputs": [
      {
       "metadata": {},
       "output_type": "display_data",
       "png": "[encoded data removed]",
       "text": [
        "<matplotlib.figure.Figure at 0x1094a7250>"
       ]
      }
     ],
     "prompt_number": 8
    },
    {
     "cell_type": "markdown",
     "metadata": {},
     "source": [
      "So you can see that the best variable is `revolving_utilization_of_unsecured_lines` while the worst is `number_real_estate_loans_or_lines`. There's also a dramatic drop off after `number_of_open_credit_lines_and_loans`. This is where you need to use your own discretion. How many variables should you include in your model?"
     ]
    },
    {
     "cell_type": "markdown",
     "metadata": {},
     "source": [
      "###Engineering Additional Features\n",
      "Feature selection/engineering will likely have the biggest impact in determining the success/failure of your model. Even if you're using the latest and greatest algorithm, if you put in non-important features you're going to get poor results. Remember, it's math, not magic.\n",
      "\n",
      "Feature engineering is a skill that will take time to get the hang of. Sometimes the best way is to just talk to people. Ask questions, brainstorm with others, etc. Oftentimes 2 features might not be helpful when used individually, but when combined they can be extremely powerful.\n",
      "\n"
     ]
    },
    {
     "cell_type": "code",
     "collapsed": false,
     "input": [
      "df['income_bins'] = pd.cut(df.monthly_income, bins=15)\n",
      "pd.value_counts(df['income_bins'])\n",
      "# not very helpful"
     ],
     "language": "python",
     "metadata": {},
     "outputs": [
      {
       "metadata": {},
       "output_type": "pyout",
       "prompt_number": 9,
       "text": [
        "(-1794.06, 119604]    112875\n",
        "(119604, 239208]          28\n",
        "(239208, 358812]           4\n",
        "(598020, 717624]           4\n",
        "(717624, 837228]           2\n",
        "(358812, 478416]           2\n",
        "(1674456, 1794060]         1\n",
        "(478416, 598020]           1\n",
        "(1554852, 1674456]         1\n",
        "(956832, 1076436]          1"
       ]
      }
     ],
     "prompt_number": 9
    },
    {
     "cell_type": "markdown",
     "metadata": {},
     "source": [
      "###Bucketing Continuous Values"
     ]
    },
    {
     "cell_type": "markdown",
     "metadata": {},
     "source": [
      "####Use the cap_value function you wrote previously to cap monthly_income at $15,000"
     ]
    },
    {
     "cell_type": "code",
     "collapsed": false,
     "input": [
      "def cap_values(x, cap):\n",
      "    if x > cap:\n",
      "        return cap\n",
      "    else:\n",
      "        return x\n",
      "    \n",
      "df.monthly_income = df.monthly_income.apply(lambda x: cap_values(x, 15000))"
     ],
     "language": "python",
     "metadata": {},
     "outputs": [],
     "prompt_number": 10
    },
    {
     "cell_type": "code",
     "collapsed": false,
     "input": [
      "df.monthly_income.describe()"
     ],
     "language": "python",
     "metadata": {},
     "outputs": [
      {
       "metadata": {},
       "output_type": "pyout",
       "prompt_number": 11,
       "text": [
        "count    112919.000000\n",
        "mean       4993.724165\n",
        "std        4076.537284\n",
        "min           0.000000\n",
        "25%        1868.500000\n",
        "50%        4416.000000\n",
        "75%        7416.000000\n",
        "max       15000.000000"
       ]
      }
     ],
     "prompt_number": 11
    },
    {
     "cell_type": "code",
     "collapsed": false,
     "input": [
      "df['income_bins'] = pd.cut(df.monthly_income, bins=15, labels=False)\n",
      "pd.value_counts(df.income_bins)"
     ],
     "language": "python",
     "metadata": {},
     "outputs": [
      {
       "metadata": {},
       "output_type": "pyout",
       "prompt_number": 12,
       "text": [
        "0     23991\n",
        "4     12000\n",
        "3     11918\n",
        "2     10459\n",
        "5     10095\n",
        "6      8127\n",
        "7      6841\n",
        "1      5694\n",
        "8      5329\n",
        "14     5108\n",
        "9      4549\n",
        "10     3475\n",
        "11     2292\n",
        "12     1835\n",
        "13     1206"
       ]
      }
     ],
     "prompt_number": 12
    },
    {
     "cell_type": "code",
     "collapsed": false,
     "input": [
      "df[[\"income_bins\", \"serious_dlqin2yrs\"]].groupby(\"income_bins\").mean()"
     ],
     "language": "python",
     "metadata": {},
     "outputs": [
      {
       "html": [
        "<div style=\"max-height:1000px;max-width:1500px;overflow:auto;\">\n",
        "<table border=\"1\" class=\"dataframe\">\n",
        "  <thead>\n",
        "    <tr style=\"text-align: right;\">\n",
        "      <th></th>\n",
        "      <th>serious_dlqin2yrs</th>\n",
        "    </tr>\n",
        "    <tr>\n",
        "      <th>income_bins</th>\n",
        "      <th></th>\n",
        "    </tr>\n",
        "  </thead>\n",
        "  <tbody>\n",
        "    <tr>\n",
        "      <th>0 </th>\n",
        "      <td> 0.055646</td>\n",
        "    </tr>\n",
        "    <tr>\n",
        "      <th>1 </th>\n",
        "      <td> 0.104320</td>\n",
        "    </tr>\n",
        "    <tr>\n",
        "      <th>2 </th>\n",
        "      <td> 0.091978</td>\n",
        "    </tr>\n",
        "    <tr>\n",
        "      <th>3 </th>\n",
        "      <td> 0.085669</td>\n",
        "    </tr>\n",
        "    <tr>\n",
        "      <th>4 </th>\n",
        "      <td> 0.075833</td>\n",
        "    </tr>\n",
        "    <tr>\n",
        "      <th>5 </th>\n",
        "      <td> 0.069638</td>\n",
        "    </tr>\n",
        "    <tr>\n",
        "      <th>6 </th>\n",
        "      <td> 0.063123</td>\n",
        "    </tr>\n",
        "    <tr>\n",
        "      <th>7 </th>\n",
        "      <td> 0.058763</td>\n",
        "    </tr>\n",
        "    <tr>\n",
        "      <th>8 </th>\n",
        "      <td> 0.053481</td>\n",
        "    </tr>\n",
        "    <tr>\n",
        "      <th>9 </th>\n",
        "      <td> 0.051000</td>\n",
        "    </tr>\n",
        "    <tr>\n",
        "      <th>10</th>\n",
        "      <td> 0.039424</td>\n",
        "    </tr>\n",
        "    <tr>\n",
        "      <th>11</th>\n",
        "      <td> 0.039267</td>\n",
        "    </tr>\n",
        "    <tr>\n",
        "      <th>12</th>\n",
        "      <td> 0.040327</td>\n",
        "    </tr>\n",
        "    <tr>\n",
        "      <th>13</th>\n",
        "      <td> 0.038143</td>\n",
        "    </tr>\n",
        "    <tr>\n",
        "      <th>14</th>\n",
        "      <td> 0.045810</td>\n",
        "    </tr>\n",
        "  </tbody>\n",
        "</table>\n",
        "</div>"
       ],
       "metadata": {},
       "output_type": "pyout",
       "prompt_number": 13,
       "text": [
        "             serious_dlqin2yrs\n",
        "income_bins                   \n",
        "0                     0.055646\n",
        "1                     0.104320\n",
        "2                     0.091978\n",
        "3                     0.085669\n",
        "4                     0.075833\n",
        "5                     0.069638\n",
        "6                     0.063123\n",
        "7                     0.058763\n",
        "8                     0.053481\n",
        "9                     0.051000\n",
        "10                    0.039424\n",
        "11                    0.039267\n",
        "12                    0.040327\n",
        "13                    0.038143\n",
        "14                    0.045810"
       ]
      }
     ],
     "prompt_number": 13
    },
    {
     "cell_type": "code",
     "collapsed": false,
     "input": [
      "cols = [\"income_bins\", \"serious_dlqin2yrs\"]\n",
      "df[cols].groupby(\"income_bins\").mean().plot()"
     ],
     "language": "python",
     "metadata": {},
     "outputs": [
      {
       "metadata": {},
       "output_type": "pyout",
       "prompt_number": 15,
       "text": [
        "<matplotlib.axes.AxesSubplot at 0x1094aced0>"
       ]
      },
      {
       "metadata": {},
       "output_type": "display_data",
       "png": "[encoded data removed]",
       "text": [
        "<matplotlib.figure.Figure at 0x10bdfd9d0>"
       ]
      }
     ],
     "prompt_number": 15
    },
    {
     "cell_type": "code",
     "collapsed": false,
     "input": [
      "cols = ['age', 'serious_dlqin2yrs']\n",
      "age_means = df[cols].groupby(\"age\").mean()\n",
      "age_means.plot()"
     ],
     "language": "python",
     "metadata": {},
     "outputs": [
      {
       "metadata": {},
       "output_type": "pyout",
       "prompt_number": 16,
       "text": [
        "<matplotlib.axes.AxesSubplot at 0x10be5ae90>"
       ]
      },
      {
       "metadata": {},
       "output_type": "display_data",
       "png": "[encoded data removed]",
       "text": [
        "<matplotlib.figure.Figure at 0x10be5e850>"
       ]
      }
     ],
     "prompt_number": 16
    },
    {
     "cell_type": "markdown",
     "metadata": {},
     "source": [
      "####Bin `age` into 20 different groups. Then make a frequency table that shows the number of customers that were/were not delinquent for each bin.\n",
      "*HINT: You might want to have larger bins near the min/max values to account for outliers.*"
     ]
    },
    {
     "cell_type": "code",
     "collapsed": false,
     "input": [
      "#DELETE THIS\n",
      "#df[\"age_bucket\"] = pd.cut(df.age, range(-1, 110, 10))\n",
      "#buckets = [-1, 25] + range(25, 80, 5) + [80, 120]\n",
      "#df[\"age_bucket\"] = pd.cut(df.age, buckets) \n",
      "#pd.crosstab(df.age_bucket, df.serious_dlqin2yrs)"
     ],
     "language": "python",
     "metadata": {},
     "outputs": [
      {
       "html": [
        "<div style=\"max-height:1000px;max-width:1500px;overflow:auto;\">\n",
        "<table border=\"1\" class=\"dataframe\">\n",
        "  <thead>\n",
        "    <tr style=\"text-align: right;\">\n",
        "      <th>serious_dlqin2yrs</th>\n",
        "      <th>0</th>\n",
        "      <th>1</th>\n",
        "    </tr>\n",
        "    <tr>\n",
        "      <th>age_bucket</th>\n",
        "      <th></th>\n",
        "      <th></th>\n",
        "    </tr>\n",
        "  </thead>\n",
        "  <tbody>\n",
        "    <tr>\n",
        "      <th>(-1, 25]</th>\n",
        "      <td>  2023</td>\n",
        "      <td>  248</td>\n",
        "    </tr>\n",
        "    <tr>\n",
        "      <th>(25, 30]</th>\n",
        "      <td>  5157</td>\n",
        "      <td>  672</td>\n",
        "    </tr>\n",
        "    <tr>\n",
        "      <th>(30, 35]</th>\n",
        "      <td>  7247</td>\n",
        "      <td>  883</td>\n",
        "    </tr>\n",
        "    <tr>\n",
        "      <th>(35, 40]</th>\n",
        "      <td>  9281</td>\n",
        "      <td>  937</td>\n",
        "    </tr>\n",
        "    <tr>\n",
        "      <th>(40, 45]</th>\n",
        "      <td> 11182</td>\n",
        "      <td> 1043</td>\n",
        "    </tr>\n",
        "    <tr>\n",
        "      <th>(45, 50]</th>\n",
        "      <td> 13005</td>\n",
        "      <td> 1124</td>\n",
        "    </tr>\n",
        "    <tr>\n",
        "      <th>(50, 55]</th>\n",
        "      <td> 12531</td>\n",
        "      <td>  959</td>\n",
        "    </tr>\n",
        "    <tr>\n",
        "      <th>(55, 60]</th>\n",
        "      <td> 12077</td>\n",
        "      <td>  652</td>\n",
        "    </tr>\n",
        "    <tr>\n",
        "      <th>(60, 65]</th>\n",
        "      <td> 11880</td>\n",
        "      <td>  497</td>\n",
        "    </tr>\n",
        "    <tr>\n",
        "      <th>(65, 70]</th>\n",
        "      <td>  8003</td>\n",
        "      <td>  228</td>\n",
        "    </tr>\n",
        "    <tr>\n",
        "      <th>(70, 75]</th>\n",
        "      <td>  5525</td>\n",
        "      <td>  143</td>\n",
        "    </tr>\n",
        "    <tr>\n",
        "      <th>(75, 80]</th>\n",
        "      <td>  3840</td>\n",
        "      <td>   82</td>\n",
        "    </tr>\n",
        "    <tr>\n",
        "      <th>(80, 120]</th>\n",
        "      <td>  3630</td>\n",
        "      <td>   70</td>\n",
        "    </tr>\n",
        "  </tbody>\n",
        "</table>\n",
        "</div>"
       ],
       "metadata": {},
       "output_type": "pyout",
       "prompt_number": 17,
       "text": [
        "serious_dlqin2yrs      0     1\n",
        "age_bucket                    \n",
        "(-1, 25]            2023   248\n",
        "(25, 30]            5157   672\n",
        "(30, 35]            7247   883\n",
        "(35, 40]            9281   937\n",
        "(40, 45]           11182  1043\n",
        "(45, 50]           13005  1124\n",
        "(50, 55]           12531   959\n",
        "(55, 60]           12077   652\n",
        "(60, 65]           11880   497\n",
        "(65, 70]            8003   228\n",
        "(70, 75]            5525   143\n",
        "(75, 80]            3840    82\n",
        "(80, 120]           3630    70"
       ]
      }
     ],
     "prompt_number": 17
    },
    {
     "cell_type": "markdown",
     "metadata": {},
     "source": [
      "####Using the age bins, calculate the percent of customers that were delinquent for each bucket"
     ]
    },
    {
     "cell_type": "code",
     "collapsed": false,
     "input": [
      "#DELETE#df[[\"age_bucket\", \"serious_dlqin2yrs\"]].groupby(\"age_bucket\").mean()"
     ],
     "language": "python",
     "metadata": {},
     "outputs": [
      {
       "html": [
        "<div style=\"max-height:1000px;max-width:1500px;overflow:auto;\">\n",
        "<table border=\"1\" class=\"dataframe\">\n",
        "  <thead>\n",
        "    <tr style=\"text-align: right;\">\n",
        "      <th></th>\n",
        "      <th>serious_dlqin2yrs</th>\n",
        "    </tr>\n",
        "    <tr>\n",
        "      <th>age_bucket</th>\n",
        "      <th></th>\n",
        "    </tr>\n",
        "  </thead>\n",
        "  <tbody>\n",
        "    <tr>\n",
        "      <th>(-1, 25]</th>\n",
        "      <td> 0.109203</td>\n",
        "    </tr>\n",
        "    <tr>\n",
        "      <th>(25, 30]</th>\n",
        "      <td> 0.115286</td>\n",
        "    </tr>\n",
        "    <tr>\n",
        "      <th>(30, 35]</th>\n",
        "      <td> 0.108610</td>\n",
        "    </tr>\n",
        "    <tr>\n",
        "      <th>(35, 40]</th>\n",
        "      <td> 0.091701</td>\n",
        "    </tr>\n",
        "    <tr>\n",
        "      <th>(40, 45]</th>\n",
        "      <td> 0.085317</td>\n",
        "    </tr>\n",
        "    <tr>\n",
        "      <th>(45, 50]</th>\n",
        "      <td> 0.079553</td>\n",
        "    </tr>\n",
        "    <tr>\n",
        "      <th>(50, 55]</th>\n",
        "      <td> 0.071090</td>\n",
        "    </tr>\n",
        "    <tr>\n",
        "      <th>(55, 60]</th>\n",
        "      <td> 0.051222</td>\n",
        "    </tr>\n",
        "    <tr>\n",
        "      <th>(60, 65]</th>\n",
        "      <td> 0.040155</td>\n",
        "    </tr>\n",
        "    <tr>\n",
        "      <th>(65, 70]</th>\n",
        "      <td> 0.027700</td>\n",
        "    </tr>\n",
        "    <tr>\n",
        "      <th>(70, 75]</th>\n",
        "      <td> 0.025229</td>\n",
        "    </tr>\n",
        "    <tr>\n",
        "      <th>(75, 80]</th>\n",
        "      <td> 0.020908</td>\n",
        "    </tr>\n",
        "    <tr>\n",
        "      <th>(80, 120]</th>\n",
        "      <td> 0.018919</td>\n",
        "    </tr>\n",
        "  </tbody>\n",
        "</table>\n",
        "</div>"
       ],
       "metadata": {},
       "output_type": "pyout",
       "prompt_number": 18,
       "text": [
        "            serious_dlqin2yrs\n",
        "age_bucket                   \n",
        "(-1, 25]             0.109203\n",
        "(25, 30]             0.115286\n",
        "(30, 35]             0.108610\n",
        "(35, 40]             0.091701\n",
        "(40, 45]             0.085317\n",
        "(45, 50]             0.079553\n",
        "(50, 55]             0.071090\n",
        "(55, 60]             0.051222\n",
        "(60, 65]             0.040155\n",
        "(65, 70]             0.027700\n",
        "(70, 75]             0.025229\n",
        "(75, 80]             0.020908\n",
        "(80, 120]            0.018919"
       ]
      }
     ],
     "prompt_number": 18
    },
    {
     "cell_type": "code",
     "collapsed": false,
     "input": [
      "df[[\"age_bucket\", \"serious_dlqin2yrs\"]].groupby(\"age_bucket\").mean().plot()"
     ],
     "language": "python",
     "metadata": {},
     "outputs": [
      {
       "metadata": {},
       "output_type": "pyout",
       "prompt_number": 19,
       "text": [
        "<matplotlib.axes.AxesSubplot at 0x10be13a10>"
       ]
      },
      {
       "metadata": {},
       "output_type": "display_data",
       "png": "[encoded data removed]",
       "text": [
        "<matplotlib.figure.Figure at 0x1068d7f10>"
       ]
      }
     ],
     "prompt_number": 19
    },
    {
     "cell_type": "code",
     "collapsed": false,
     "input": [
      "labels, levels = pd.factorize(df.age_bucket)\n",
      "df.age_bucket = labels"
     ],
     "language": "python",
     "metadata": {},
     "outputs": [],
     "prompt_number": 20
    },
    {
     "cell_type": "markdown",
     "metadata": {},
     "source": [
      "####Write something that buckets debt_ratio into 4 (nearly) equally sized groups.\n",
      "*Hint: use the `quantile` method for Series*"
     ]
    },
    {
     "cell_type": "code",
     "collapsed": false,
     "input": [
      "#DELETE\n",
      "#bins = []\n",
      "#for q in [0, .25, .5, .75, 1]:\n",
      "#    bins.append(df.debt_ratio.quantile(q))\n",
      "\n",
      "debt_ratio_binned = pd.cut(df.debt_ratio, bins=bins)\n",
      "\n",
      "print pd.value_counts(debt_ratio_binned)[1]==37500"
     ],
     "language": "python",
     "metadata": {},
     "outputs": [
      {
       "output_type": "stream",
       "stream": "stdout",
       "text": [
        "True\n"
       ]
      }
     ],
     "prompt_number": 43
    },
    {
     "cell_type": "markdown",
     "metadata": {},
     "source": [
      "###Scaling Features\n",
      "Some algorithms will work better if your data is centered around 0. The `StandardScaler` module in `scikit-learn` makes it very easy to quickly scale columns in your data frame."
     ]
    },
    {
     "cell_type": "code",
     "collapsed": false,
     "input": [
      "from sklearn.preprocessing import StandardScaler\n",
      "\n",
      "df['monthly_income_scaled'] = StandardScaler().fit_transform(df.monthly_income)"
     ],
     "language": "python",
     "metadata": {},
     "outputs": [],
     "prompt_number": 21
    },
    {
     "cell_type": "code",
     "collapsed": false,
     "input": [
      "print df.monthly_income_scaled.describe()\n",
      "print\n",
      "print \"Mean at 0?\", round(df.monthly_income_scaled.mean(), 10)==0\n",
      "\n",
      "pl.hist(df.monthly_income_scaled)"
     ],
     "language": "python",
     "metadata": {},
     "outputs": [
      {
       "output_type": "stream",
       "stream": "stdout",
       "text": [
        "count    1.129190e+05\n",
        "mean     4.520662e-14\n",
        "std      1.000004e+00\n",
        "min     -1.224997e+00\n",
        "25%     -7.666404e-01\n",
        "50%     -1.417200e-01\n",
        "75%      5.942020e-01\n",
        "max      2.454613e+00\n",
        "\n",
        "Mean at 0? True\n"
       ]
      },
      {
       "metadata": {},
       "output_type": "pyout",
       "prompt_number": 22,
       "text": [
        "(array([25826, 14318, 17677, 16336, 11667,  8630,  6635,  3681,  2359,  5790]),\n",
        " array([-1.22499708, -0.8570361 , -0.48907513, -0.12111415,  0.24684683,\n",
        "        0.6148078 ,  0.98276878,  1.35072976,  1.71869073,  2.08665171,\n",
        "        2.45461269]),\n",
        " <a list of 10 Patch objects>)"
       ]
      },
      {
       "metadata": {},
       "output_type": "display_data",
       "png": "[encoded data removed]",
       "text": [
        "<matplotlib.figure.Figure at 0x10726f7d0>"
       ]
      }
     ],
     "prompt_number": 22
    },
    {
     "cell_type": "markdown",
     "metadata": {},
     "source": [
      "##Redo our feature importance"
     ]
    },
    {
     "cell_type": "code",
     "collapsed": false,
     "input": [
      "features = np.array(['revolving_utilization_of_unsecured_lines',\n",
      "                     'age', 'number_of_time30-59_days_past_due_not_worse',\n",
      "                     'debt_ratio', 'monthly_income','number_of_open_credit_lines_and_loans', \n",
      "                     'number_of_times90_days_late', 'number_real_estate_loans_or_lines',\n",
      "                     'number_of_time60-89_days_past_due_not_worse', 'number_of_dependents',\n",
      "                     'income_bins', 'age_bucket', 'monthly_income_scaled'])\n",
      "\n",
      "clf = RandomForestClassifier(compute_importances=True)\n",
      "clf.fit(df[features], df['serious_dlqin2yrs'])\n",
      "\n",
      "importances = clf.feature_importances_\n",
      "sorted_idx = np.argsort(importances)\n",
      "\n",
      "padding = np.arange(len(features)) + 0.5\n",
      "pl.barh(padding, importances[sorted_idx], align='center')\n",
      "pl.yticks(padding, features[sorted_idx])\n",
      "pl.xlabel(\"Relative Importance\")\n",
      "pl.title(\"Variable Importance\")\n",
      "pl.show()"
     ],
     "language": "python",
     "metadata": {},
     "outputs": [
      {
       "output_type": "stream",
       "stream": "stderr",
       "text": [
        "/Library/Frameworks/Python.framework/Versions/2.7/lib/python2.7/site-packages/sklearn/ensemble/forest.py:783: DeprecationWarning: Setting compute_importances is no longer required as version 0.14. Variable importances are now computed on the fly when accessing the feature_importances_ attribute. This parameter will be removed in 0.16.\n",
        "  DeprecationWarning)\n"
       ]
      },
      {
       "metadata": {},
       "output_type": "display_data",
       "png": "[encoded data removed]",
       "text": [
        "<matplotlib.figure.Figure at 0x107280210>"
       ]
      }
     ],
     "prompt_number": 23
    },
    {
     "cell_type": "code",
     "collapsed": false,
     "input": [
      "best_features = features[sorted_idx][::-1]\n",
      "best_features"
     ],
     "language": "python",
     "metadata": {},
     "outputs": [
      {
       "metadata": {},
       "output_type": "pyout",
       "prompt_number": 24,
       "text": [
        "array(['revolving_utilization_of_unsecured_lines', 'debt_ratio',\n",
        "       'monthly_income', 'number_of_times90_days_late', 'age',\n",
        "       'monthly_income_scaled', 'number_of_open_credit_lines_and_loans',\n",
        "       'number_of_time30-59_days_past_due_not_worse',\n",
        "       'number_of_time60-89_days_past_due_not_worse', 'age_bucket',\n",
        "       'number_of_dependents', 'number_real_estate_loans_or_lines',\n",
        "       'income_bins'], \n",
        "      dtype='|S43')"
       ]
      }
     ],
     "prompt_number": 24
    },
    {
     "cell_type": "markdown",
     "metadata": {},
     "source": [
      "##Test out your own features\n",
      "Partner with the person sitting next to you and see if you can come up with some new features that outperform the basic variables.\n",
      "\n",
      "- brainstorm new features\n",
      "- create them using pandas\n",
      "- test their effectiveness w/ scikit-learn\n",
      "\n",
      "Things you might try:\n",
      "\n",
      "- Try using some of the scikit-learn [preprecessing functions](http://scikit-learn.org/stable/modules/preprocessing.html#preprocessing)\n",
      "- Use `pd.get_dummies` for making numerical variables into categorical variables\n",
      "- Combine features together (total times late, log(monthly_income), age^2)"
     ]
    },
    {
     "cell_type": "markdown",
     "metadata": {},
     "source": [
      "##We just did the following\n",
      "\n",
      "- Ranked feature importance using RandomForest\n",
      "- Created some of our own features using `pandas` and `scikit-learn`\n",
      "- Scaled data using `scikit-learn`"
     ]
    },
    {
     "cell_type": "code",
     "collapsed": false,
     "input": [],
     "language": "python",
     "metadata": {},
     "outputs": []
    },
    {
     "cell_type": "code",
     "collapsed": false,
     "input": [],
     "language": "python",
     "metadata": {},
     "outputs": []
    },
    {
     "cell_type": "code",
     "collapsed": false,
     "input": [],
     "language": "python",
     "metadata": {},
     "outputs": []
    },
    {
     "cell_type": "code",
     "collapsed": false,
     "input": [],
     "language": "python",
     "metadata": {},
     "outputs": []
    },
    {
     "cell_type": "code",
     "collapsed": false,
     "input": [
      "##Eventually delete the remainder"
     ],
     "language": "python",
     "metadata": {},
     "outputs": []
    },
    {
     "cell_type": "code",
     "collapsed": false,
     "input": [
      "features = best_features[:5]\n",
      "df[features].describe()"
     ],
     "language": "python",
     "metadata": {},
     "outputs": [
      {
       "html": [
        "<div style=\"max-height:1000px;max-width:1500px;overflow:auto;\">\n",
        "<table border=\"1\" class=\"dataframe\">\n",
        "  <thead>\n",
        "    <tr style=\"text-align: right;\">\n",
        "      <th></th>\n",
        "      <th>revolving_utilization_of_unsecured_lines</th>\n",
        "      <th>debt_ratio</th>\n",
        "      <th>monthly_income</th>\n",
        "      <th>monthly_income_scaled</th>\n",
        "      <th>age</th>\n",
        "    </tr>\n",
        "  </thead>\n",
        "  <tbody>\n",
        "    <tr>\n",
        "      <th>count</th>\n",
        "      <td> 150000.000000</td>\n",
        "      <td> 150000.000000</td>\n",
        "      <td> 1.500000e+05</td>\n",
        "      <td> 1.500000e+05</td>\n",
        "      <td> 150000.000000</td>\n",
        "    </tr>\n",
        "    <tr>\n",
        "      <th>mean</th>\n",
        "      <td>      6.048438</td>\n",
        "      <td>    353.005076</td>\n",
        "      <td> 5.547716e-14</td>\n",
        "      <td> 5.547716e-14</td>\n",
        "      <td>     52.295207</td>\n",
        "    </tr>\n",
        "    <tr>\n",
        "      <th>std</th>\n",
        "      <td>    249.755371</td>\n",
        "      <td>   2037.818523</td>\n",
        "      <td> 1.000003e+00</td>\n",
        "      <td> 1.000003e+00</td>\n",
        "      <td>     14.771866</td>\n",
        "    </tr>\n",
        "    <tr>\n",
        "      <th>min</th>\n",
        "      <td>      0.000000</td>\n",
        "      <td>      0.000000</td>\n",
        "      <td>-1.222482e+00</td>\n",
        "      <td>-1.222482e+00</td>\n",
        "      <td>      0.000000</td>\n",
        "    </tr>\n",
        "    <tr>\n",
        "      <th>25%</th>\n",
        "      <td>      0.029867</td>\n",
        "      <td>      0.175074</td>\n",
        "      <td>-7.819155e-01</td>\n",
        "      <td>-7.819155e-01</td>\n",
        "      <td>     41.000000</td>\n",
        "    </tr>\n",
        "    <tr>\n",
        "      <th>50%</th>\n",
        "      <td>      0.154181</td>\n",
        "      <td>      0.366508</td>\n",
        "      <td>-1.364860e-01</td>\n",
        "      <td>-1.364860e-01</td>\n",
        "      <td>     52.000000</td>\n",
        "    </tr>\n",
        "    <tr>\n",
        "      <th>75%</th>\n",
        "      <td>      0.559046</td>\n",
        "      <td>      0.868254</td>\n",
        "      <td> 5.973016e-01</td>\n",
        "      <td> 5.973016e-01</td>\n",
        "      <td>     63.000000</td>\n",
        "    </tr>\n",
        "    <tr>\n",
        "      <th>max</th>\n",
        "      <td>  50708.000000</td>\n",
        "      <td> 329664.000000</td>\n",
        "      <td> 2.448904e+00</td>\n",
        "      <td> 2.448904e+00</td>\n",
        "      <td>    109.000000</td>\n",
        "    </tr>\n",
        "  </tbody>\n",
        "</table>\n",
        "</div>"
       ],
       "metadata": {},
       "output_type": "pyout",
       "prompt_number": 249,
       "text": [
        "       revolving_utilization_of_unsecured_lines     debt_ratio  monthly_income  \\\n",
        "count                             150000.000000  150000.000000    1.500000e+05   \n",
        "mean                                   6.048438     353.005076    5.547716e-14   \n",
        "std                                  249.755371    2037.818523    1.000003e+00   \n",
        "min                                    0.000000       0.000000   -1.222482e+00   \n",
        "25%                                    0.029867       0.175074   -7.819155e-01   \n",
        "50%                                    0.154181       0.366508   -1.364860e-01   \n",
        "75%                                    0.559046       0.868254    5.973016e-01   \n",
        "max                                50708.000000  329664.000000    2.448904e+00   \n",
        "\n",
        "       monthly_income_scaled            age  \n",
        "count           1.500000e+05  150000.000000  \n",
        "mean            5.547716e-14      52.295207  \n",
        "std             1.000003e+00      14.771866  \n",
        "min            -1.222482e+00       0.000000  \n",
        "25%            -7.819155e-01      41.000000  \n",
        "50%            -1.364860e-01      52.000000  \n",
        "75%             5.973016e-01      63.000000  \n",
        "max             2.448904e+00     109.000000  "
       ]
      }
     ],
     "prompt_number": 249
    },
    {
     "cell_type": "code",
     "collapsed": false,
     "input": [
      "def cap_outliers(x):\n",
      "    mask = (x >= x.quantile(.95))\n",
      "    x[mask] = x.median()\n",
      "    return x"
     ],
     "language": "python",
     "metadata": {},
     "outputs": [],
     "prompt_number": 250
    },
    {
     "cell_type": "code",
     "collapsed": false,
     "input": [
      "df.debt_ratio = cap_outliers(df.debt_ratio)\n",
      "df.monthly_income = cap_outliers(df.monthly_income)"
     ],
     "language": "python",
     "metadata": {},
     "outputs": [],
     "prompt_number": 251
    },
    {
     "cell_type": "code",
     "collapsed": false,
     "input": [
      "df[features].describe()"
     ],
     "language": "python",
     "metadata": {},
     "outputs": [
      {
       "html": [
        "<div style=\"max-height:1000px;max-width:1500px;overflow:auto;\">\n",
        "<table border=\"1\" class=\"dataframe\">\n",
        "  <thead>\n",
        "    <tr style=\"text-align: right;\">\n",
        "      <th></th>\n",
        "      <th>revolving_utilization_of_unsecured_lines</th>\n",
        "      <th>debt_ratio</th>\n",
        "      <th>monthly_income</th>\n",
        "      <th>monthly_income_scaled</th>\n",
        "      <th>age</th>\n",
        "    </tr>\n",
        "  </thead>\n",
        "  <tbody>\n",
        "    <tr>\n",
        "      <th>count</th>\n",
        "      <td> 150000.000000</td>\n",
        "      <td> 150000.000000</td>\n",
        "      <td> 150000.000000</td>\n",
        "      <td> 1.500000e+05</td>\n",
        "      <td> 150000.000000</td>\n",
        "    </tr>\n",
        "    <tr>\n",
        "      <th>mean</th>\n",
        "      <td>      6.048438</td>\n",
        "      <td>    132.187917</td>\n",
        "      <td>     -0.127024</td>\n",
        "      <td> 5.547716e-14</td>\n",
        "      <td>     52.295207</td>\n",
        "    </tr>\n",
        "    <tr>\n",
        "      <th>std</th>\n",
        "      <td>    249.755371</td>\n",
        "      <td>    431.584439</td>\n",
        "      <td>      0.833931</td>\n",
        "      <td> 1.000003e+00</td>\n",
        "      <td>     14.771866</td>\n",
        "    </tr>\n",
        "    <tr>\n",
        "      <th>min</th>\n",
        "      <td>      0.000000</td>\n",
        "      <td>      0.000000</td>\n",
        "      <td>     -1.222482</td>\n",
        "      <td>-1.222482e+00</td>\n",
        "      <td>      0.000000</td>\n",
        "    </tr>\n",
        "    <tr>\n",
        "      <th>25%</th>\n",
        "      <td>      0.029867</td>\n",
        "      <td>      0.175074</td>\n",
        "      <td>     -0.781916</td>\n",
        "      <td>-7.819155e-01</td>\n",
        "      <td>     41.000000</td>\n",
        "    </tr>\n",
        "    <tr>\n",
        "      <th>50%</th>\n",
        "      <td>      0.154181</td>\n",
        "      <td>      0.366506</td>\n",
        "      <td>     -0.136486</td>\n",
        "      <td>-1.364860e-01</td>\n",
        "      <td>     52.000000</td>\n",
        "    </tr>\n",
        "    <tr>\n",
        "      <th>75%</th>\n",
        "      <td>      0.559046</td>\n",
        "      <td>      0.649179</td>\n",
        "      <td>      0.409082</td>\n",
        "      <td> 5.973016e-01</td>\n",
        "      <td>     63.000000</td>\n",
        "    </tr>\n",
        "    <tr>\n",
        "      <th>max</th>\n",
        "      <td>  50708.000000</td>\n",
        "      <td>   2448.000000</td>\n",
        "      <td>      2.101835</td>\n",
        "      <td> 2.448904e+00</td>\n",
        "      <td>    109.000000</td>\n",
        "    </tr>\n",
        "  </tbody>\n",
        "</table>\n",
        "</div>"
       ],
       "metadata": {},
       "output_type": "pyout",
       "prompt_number": 252,
       "text": [
        "       revolving_utilization_of_unsecured_lines     debt_ratio  monthly_income  \\\n",
        "count                             150000.000000  150000.000000   150000.000000   \n",
        "mean                                   6.048438     132.187917       -0.127024   \n",
        "std                                  249.755371     431.584439        0.833931   \n",
        "min                                    0.000000       0.000000       -1.222482   \n",
        "25%                                    0.029867       0.175074       -0.781916   \n",
        "50%                                    0.154181       0.366506       -0.136486   \n",
        "75%                                    0.559046       0.649179        0.409082   \n",
        "max                                50708.000000    2448.000000        2.101835   \n",
        "\n",
        "       monthly_income_scaled            age  \n",
        "count           1.500000e+05  150000.000000  \n",
        "mean            5.547716e-14      52.295207  \n",
        "std             1.000003e+00      14.771866  \n",
        "min            -1.222482e+00       0.000000  \n",
        "25%            -7.819155e-01      41.000000  \n",
        "50%            -1.364860e-01      52.000000  \n",
        "75%             5.973016e-01      63.000000  \n",
        "max             2.448904e+00     109.000000  "
       ]
      }
     ],
     "prompt_number": 252
    },
    {
     "cell_type": "code",
     "collapsed": false,
     "input": [
      "from sklearn.decomposition import RandomizedPCA\n",
      "from sklearn.preprocessing import StandardScaler"
     ],
     "language": "python",
     "metadata": {},
     "outputs": [],
     "prompt_number": 253
    },
    {
     "cell_type": "code",
     "collapsed": false,
     "input": [
      "pca = RandomizedPCA(n_components=2)\n",
      "for f in features:\n",
      "    df[f] = StandardScaler().fit_transform(df[f].astype(np.float))"
     ],
     "language": "python",
     "metadata": {},
     "outputs": [],
     "prompt_number": 254
    },
    {
     "cell_type": "code",
     "collapsed": false,
     "input": [
      "X = pca.fit_transform(df[features])"
     ],
     "language": "python",
     "metadata": {},
     "outputs": [],
     "prompt_number": 255
    },
    {
     "cell_type": "code",
     "collapsed": false,
     "input": [
      "X"
     ],
     "language": "python",
     "metadata": {},
     "outputs": [
      {
       "metadata": {},
       "output_type": "pyout",
       "prompt_number": 256,
       "text": [
        "array([[ 1.64476218, -0.35298587],\n",
        "       [-0.57412757, -0.85206089],\n",
        "       [-0.4217929 , -0.96200735],\n",
        "       ..., \n",
        "       [-1.52065449,  1.79339764],\n",
        "       [-1.4689103 , -0.3112598 ],\n",
        "       [-1.47520656,  0.18290261]])"
       ]
      }
     ],
     "prompt_number": 256
    },
    {
     "cell_type": "code",
     "collapsed": false,
     "input": [
      "pl.scatter(X[::,0], X[::,1], c=df.serious_dlqin2yrs)\n",
      "#barf"
     ],
     "language": "python",
     "metadata": {},
     "outputs": [
      {
       "metadata": {},
       "output_type": "pyout",
       "prompt_number": 259,
       "text": [
        "<matplotlib.collections.PathCollection at 0x119f04210>"
       ]
      },
      {
       "metadata": {},
       "output_type": "display_data",
       "png": "[encoded data removed]",
       "text": [
        "<matplotlib.figure.Figure at 0x118c74290>"
       ]
      }
     ],
     "prompt_number": 259
    },
    {
     "cell_type": "code",
     "collapsed": false,
     "input": [
      "from sklearn.cluster import MiniBatchKMeans"
     ],
     "language": "python",
     "metadata": {},
     "outputs": [],
     "prompt_number": 99
    },
    {
     "cell_type": "code",
     "collapsed": false,
     "input": [
      "km = MiniBatchKMeans(n_clusters=20)"
     ],
     "language": "python",
     "metadata": {},
     "outputs": [],
     "prompt_number": 295
    },
    {
     "cell_type": "code",
     "collapsed": false,
     "input": [
      "km.fit(df[features])"
     ],
     "language": "python",
     "metadata": {},
     "outputs": [
      {
       "metadata": {},
       "output_type": "pyout",
       "prompt_number": 296,
       "text": [
        "MiniBatchKMeans(batch_size=100, compute_labels=True, init='k-means++',\n",
        "        init_size=None, k=None, max_iter=100, max_no_improvement=10,\n",
        "        n_clusters=20, n_init=3, random_state=None,\n",
        "        reassignment_ratio=0.01, tol=0.0, verbose=0)"
       ]
      }
     ],
     "prompt_number": 296
    },
    {
     "cell_type": "code",
     "collapsed": false,
     "input": [
      "clusters = pca.fit_transform(km.cluster_centers_)"
     ],
     "language": "python",
     "metadata": {},
     "outputs": [],
     "prompt_number": 297
    },
    {
     "cell_type": "code",
     "collapsed": false,
     "input": [
      "df['cluster'] = km.predict(df[features])\n",
      "pd.value_counts(df.cluster)"
     ],
     "language": "python",
     "metadata": {},
     "outputs": [
      {
       "metadata": {},
       "output_type": "pyout",
       "prompt_number": 298,
       "text": [
        "4     17865\n",
        "0     14241\n",
        "8     13997\n",
        "3     13852\n",
        "2     11809\n",
        "15    10462\n",
        "14     9819\n",
        "9      9363\n",
        "11     9080\n",
        "16     8534\n",
        "18     6294\n",
        "19     3974\n",
        "6      3933\n",
        "10     3516\n",
        "13     3090\n",
        "12     2944\n",
        "7      2917\n",
        "1      2301\n",
        "17     1947\n",
        "5        62"
       ]
      }
     ],
     "prompt_number": 298
    },
    {
     "cell_type": "code",
     "collapsed": false,
     "input": [
      "cluster_risk = df.groupby('cluster').apply(lambda x: x.serious_dlqin2yrs.mean())"
     ],
     "language": "python",
     "metadata": {},
     "outputs": [],
     "prompt_number": 299
    },
    {
     "cell_type": "code",
     "collapsed": false,
     "input": [
      "pl.scatter(clusters[::,0], clusters[::,1])"
     ],
     "language": "python",
     "metadata": {},
     "outputs": [
      {
       "metadata": {},
       "output_type": "pyout",
       "prompt_number": 300,
       "text": [
        "<matplotlib.collections.PathCollection at 0x119f9cc10>"
       ]
      },
      {
       "metadata": {},
       "output_type": "display_data",
       "png": "[encoded data removed]",
       "text": [
        "<matplotlib.figure.Figure at 0x11b24c850>"
       ]
      }
     ],
     "prompt_number": 300
    },
    {
     "cell_type": "code",
     "collapsed": false,
     "input": [
      "for cluster, color in zip(clusters, cluster_risk.values):\n",
      "    pl.scatter(cluster[0], cluster[1], s=color*1000)"
     ],
     "language": "python",
     "metadata": {},
     "outputs": [
      {
       "metadata": {},
       "output_type": "display_data",
       "png": "[encoded data removed]",
       "text": [
        "<matplotlib.figure.Figure at 0x119fab190>"
       ]
      }
     ],
     "prompt_number": 301
    },
    {
     "cell_type": "code",
     "collapsed": false,
     "input": [],
     "language": "python",
     "metadata": {},
     "outputs": [
      {
       "metadata": {},
       "output_type": "pyout",
       "prompt_number": 278,
       "text": [
        "Int64Index([0, 1, 2, 3, 4, 5, 6, 7, 8, 9], dtype=int64)"
       ]
      }
     ],
     "prompt_number": 278
    },
    {
     "cell_type": "code",
     "collapsed": false,
     "input": [],
     "language": "python",
     "metadata": {},
     "outputs": []
    }
   ],
   "metadata": {}
  }
 ]
}