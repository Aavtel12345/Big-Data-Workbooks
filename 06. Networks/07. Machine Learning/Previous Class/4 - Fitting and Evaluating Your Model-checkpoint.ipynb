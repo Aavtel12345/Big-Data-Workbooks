{
 "metadata": {
  "name": ""
 },
 "nbformat": 3,
 "nbformat_minor": 0,
 "worksheets": [
  {
   "cells": [
    {
     "cell_type": "markdown",
     "metadata": {},
     "source": [
      "#Agenda\n",
      "\n",
      "- Define the problem and the approach\n",
      "- Data basics: loading data, looking at your data, basic commands\n",
      "- Handling missing values\n",
      "- Intro to scikit-learn\n",
      "- Grouping and aggregating data\n",
      "- Feature selection\n",
      "- <p style=\"color: red\">Fitting and evaluating a model</p>\n",
      "- Deploying your work"
     ]
    },
    {
     "cell_type": "markdown",
     "metadata": {},
     "source": [
      "#In this workbook you will\n",
      "- Create your own classifier for predicting delinquent customers\n",
      "- Build basic reports to help interpret the effectiveness of your model\n",
      "- Convert the results of your model to a credit score"
     ]
    },
    {
     "cell_type": "code",
     "collapsed": false,
     "input": [
      "import pandas as pd\n",
      "import numpy as np\n",
      "import pylab as pl"
     ],
     "language": "python",
     "metadata": {},
     "outputs": [],
     "prompt_number": 1
    },
    {
     "cell_type": "code",
     "collapsed": false,
     "input": [
      "train = pd.read_csv(\"./data/credit-data-trainingset.csv\")\n",
      "test = pd.read_csv(\"./data/credit-data-testset.csv\")\n",
      "test.head()"
     ],
     "language": "python",
     "metadata": {},
     "outputs": [
      {
       "html": [
        "<div style=\"max-height:1000px;max-width:1500px;overflow:auto;\">\n",
        "<table border=\"1\" class=\"dataframe\">\n",
        "  <thead>\n",
        "    <tr style=\"text-align: right;\">\n",
        "      <th></th>\n",
        "      <th>serious_dlqin2yrs</th>\n",
        "      <th>revolving_utilization_of_unsecured_lines</th>\n",
        "      <th>age</th>\n",
        "      <th>number_of_time30-59_days_past_due_not_worse</th>\n",
        "      <th>debt_ratio</th>\n",
        "      <th>monthly_income</th>\n",
        "      <th>number_of_open_credit_lines_and_loans</th>\n",
        "      <th>number_of_times90_days_late</th>\n",
        "      <th>number_real_estate_loans_or_lines</th>\n",
        "      <th>number_of_time60-89_days_past_due_not_worse</th>\n",
        "      <th>number_of_dependents</th>\n",
        "      <th>monthly_income_imputed</th>\n",
        "    </tr>\n",
        "  </thead>\n",
        "  <tbody>\n",
        "    <tr>\n",
        "      <th>0</th>\n",
        "      <td> 1</td>\n",
        "      <td> 0.766127</td>\n",
        "      <td> 45</td>\n",
        "      <td> 2</td>\n",
        "      <td>  0.802982</td>\n",
        "      <td>  9120</td>\n",
        "      <td> 13</td>\n",
        "      <td> 0</td>\n",
        "      <td> 6</td>\n",
        "      <td> 0</td>\n",
        "      <td> 2</td>\n",
        "      <td>  1846</td>\n",
        "    </tr>\n",
        "    <tr>\n",
        "      <th>1</th>\n",
        "      <td> 0</td>\n",
        "      <td> 0.957151</td>\n",
        "      <td> 40</td>\n",
        "      <td> 0</td>\n",
        "      <td>  0.121876</td>\n",
        "      <td>  2600</td>\n",
        "      <td>  4</td>\n",
        "      <td> 0</td>\n",
        "      <td> 0</td>\n",
        "      <td> 0</td>\n",
        "      <td> 1</td>\n",
        "      <td> 18000</td>\n",
        "    </tr>\n",
        "    <tr>\n",
        "      <th>2</th>\n",
        "      <td> 0</td>\n",
        "      <td> 0.213179</td>\n",
        "      <td> 74</td>\n",
        "      <td> 0</td>\n",
        "      <td>  0.375607</td>\n",
        "      <td>  3500</td>\n",
        "      <td>  3</td>\n",
        "      <td> 0</td>\n",
        "      <td> 1</td>\n",
        "      <td> 0</td>\n",
        "      <td> 1</td>\n",
        "      <td>  2100</td>\n",
        "    </tr>\n",
        "    <tr>\n",
        "      <th>3</th>\n",
        "      <td> 0</td>\n",
        "      <td> 0.116951</td>\n",
        "      <td> 27</td>\n",
        "      <td> 0</td>\n",
        "      <td> 46.000000</td>\n",
        "      <td>     0</td>\n",
        "      <td>  2</td>\n",
        "      <td> 0</td>\n",
        "      <td> 0</td>\n",
        "      <td> 0</td>\n",
        "      <td> 0</td>\n",
        "      <td>     0</td>\n",
        "    </tr>\n",
        "    <tr>\n",
        "      <th>4</th>\n",
        "      <td> 0</td>\n",
        "      <td> 0.548458</td>\n",
        "      <td> 64</td>\n",
        "      <td> 0</td>\n",
        "      <td>  0.209892</td>\n",
        "      <td> 11362</td>\n",
        "      <td>  7</td>\n",
        "      <td> 0</td>\n",
        "      <td> 1</td>\n",
        "      <td> 0</td>\n",
        "      <td> 2</td>\n",
        "      <td>  3928</td>\n",
        "    </tr>\n",
        "  </tbody>\n",
        "</table>\n",
        "</div>"
       ],
       "metadata": {},
       "output_type": "pyout",
       "prompt_number": 3,
       "text": [
        "   serious_dlqin2yrs  revolving_utilization_of_unsecured_lines  age  \\\n",
        "0                  1                                  0.766127   45   \n",
        "1                  0                                  0.957151   40   \n",
        "2                  0                                  0.213179   74   \n",
        "3                  0                                  0.116951   27   \n",
        "4                  0                                  0.548458   64   \n",
        "\n",
        "   number_of_time30-59_days_past_due_not_worse  debt_ratio  monthly_income  \\\n",
        "0                                            2    0.802982            9120   \n",
        "1                                            0    0.121876            2600   \n",
        "2                                            0    0.375607            3500   \n",
        "3                                            0   46.000000               0   \n",
        "4                                            0    0.209892           11362   \n",
        "\n",
        "   number_of_open_credit_lines_and_loans  number_of_times90_days_late  \\\n",
        "0                                     13                            0   \n",
        "1                                      4                            0   \n",
        "2                                      3                            0   \n",
        "3                                      2                            0   \n",
        "4                                      7                            0   \n",
        "\n",
        "   number_real_estate_loans_or_lines  \\\n",
        "0                                  6   \n",
        "1                                  0   \n",
        "2                                  1   \n",
        "3                                  0   \n",
        "4                                  1   \n",
        "\n",
        "   number_of_time60-89_days_past_due_not_worse  number_of_dependents  \\\n",
        "0                                            0                     2   \n",
        "1                                            0                     1   \n",
        "2                                            0                     1   \n",
        "3                                            0                     0   \n",
        "4                                            0                     2   \n",
        "\n",
        "   monthly_income_imputed  \n",
        "0                    1846  \n",
        "1                   18000  \n",
        "2                    2100  \n",
        "3                       0  \n",
        "4                    3928  "
       ]
      }
     ],
     "prompt_number": 3
    },
    {
     "cell_type": "markdown",
     "metadata": {},
     "source": [
      "##Import some classifiers"
     ]
    },
    {
     "cell_type": "code",
     "collapsed": false,
     "input": [
      "from sklearn.linear_model import LogisticRegression\n",
      "from sklearn.neighbors import KNeighborsClassifier\n",
      "from sklearn.ensemble import RandomForestClassifier, GradientBoostingClassifier\n",
      "from sklearn.svm import SVC"
     ],
     "language": "python",
     "metadata": {},
     "outputs": [],
     "prompt_number": 5
    },
    {
     "cell_type": "markdown",
     "metadata": {},
     "source": [
      "##Fitting your model"
     ]
    },
    {
     "cell_type": "code",
     "collapsed": false,
     "input": [
      "features = ['revolving_utilization_of_unsecured_lines', 'debt_ratio',\n",
      "            'monthly_income', 'age', 'number_of_times90_days_late']\n",
      "\n",
      "clf = KNeighborsClassifier(n_neighbors=13, warn_on_equidistant=False)"
     ],
     "language": "python",
     "metadata": {},
     "outputs": [
      {
       "output_type": "stream",
       "stream": "stderr",
       "text": [
        "-c:4: DeprecationWarning: The warn_on_equidistant parameter is deprecated and will be removed in 0.16.\n"
       ]
      }
     ],
     "prompt_number": 6
    },
    {
     "cell_type": "code",
     "collapsed": false,
     "input": [
      "clf.fit(train[features], train.serious_dlqin2yrs)"
     ],
     "language": "python",
     "metadata": {},
     "outputs": [
      {
       "metadata": {},
       "output_type": "pyout",
       "prompt_number": 7,
       "text": [
        "KNeighborsClassifier(algorithm='auto', leaf_size=30, metric='minkowski',\n",
        "           n_neighbors=13, p=2, weights='uniform')"
       ]
      }
     ],
     "prompt_number": 7
    },
    {
     "cell_type": "markdown",
     "metadata": {},
     "source": [
      "###Generating Predictions"
     ]
    },
    {
     "cell_type": "code",
     "collapsed": false,
     "input": [
      "#classes (returns an array)\n",
      "clf.predict(test[features])"
     ],
     "language": "python",
     "metadata": {},
     "outputs": [
      {
       "metadata": {},
       "output_type": "pyout",
       "prompt_number": 8,
       "text": [
        "array([0, 0, 0, ..., 0, 0, 0])"
       ]
      }
     ],
     "prompt_number": 8
    },
    {
     "cell_type": "code",
     "collapsed": false,
     "input": [
      "#probabilities (returns a numpy array)\n",
      "clf.predict_proba(test[features])"
     ],
     "language": "python",
     "metadata": {},
     "outputs": [
      {
       "metadata": {},
       "output_type": "pyout",
       "prompt_number": 9,
       "text": [
        "array([[ 0.92307692,  0.07692308],\n",
        "       [ 1.        ,  0.        ],\n",
        "       [ 1.        ,  0.        ],\n",
        "       ..., \n",
        "       [ 0.92307692,  0.07692308],\n",
        "       [ 1.        ,  0.        ],\n",
        "       [ 1.        ,  0.        ]])"
       ]
      }
     ],
     "prompt_number": 9
    },
    {
     "cell_type": "markdown",
     "metadata": {},
     "source": [
      "###Plot a histogram of the probabilities"
     ]
    },
    {
     "cell_type": "code",
     "collapsed": false,
     "input": [
      "probs = clf.predict_proba(test[features])\n",
      "prob_true = probs[::,1]\n",
      "pl.hist(prob_true)"
     ],
     "language": "python",
     "metadata": {},
     "outputs": [
      {
       "metadata": {},
       "output_type": "pyout",
       "prompt_number": 12,
       "text": [
        "(array([30658,  4510,  1338,   387,   113,    27,    24,    14,     5,     5]),\n",
        " array([ 0.        ,  0.08461538,  0.16923077,  0.25384615,  0.33846154,\n",
        "        0.42307692,  0.50769231,  0.59230769,  0.67692308,  0.76153846,\n",
        "        0.84615385]),\n",
        " <a list of 10 Patch objects>)"
       ]
      },
      {
       "metadata": {},
       "output_type": "display_data",
       "png": "[encoded data removed]",
       "text": [
        "<matplotlib.figure.Figure at 0x10ba22f50>"
       ]
      }
     ],
     "prompt_number": 12
    },
    {
     "cell_type": "markdown",
     "metadata": {},
     "source": [
      "##[Evaluating your model](http://scikit-learn.org/stable/modules/model_evaluation.html#classification-metrics)"
     ]
    },
    {
     "cell_type": "code",
     "collapsed": false,
     "input": [
      "from sklearn.metrics import roc_curve, auc, classification_report, confusion_matrix"
     ],
     "language": "python",
     "metadata": {},
     "outputs": [],
     "prompt_number": 13
    },
    {
     "cell_type": "code",
     "collapsed": false,
     "input": [
      "preds = clf.predict_proba(test[features])\n",
      "preds"
     ],
     "language": "python",
     "metadata": {},
     "outputs": [
      {
       "metadata": {},
       "output_type": "pyout",
       "prompt_number": 14,
       "text": [
        "array([[ 0.92307692,  0.07692308],\n",
        "       [ 1.        ,  0.        ],\n",
        "       [ 1.        ,  0.        ],\n",
        "       ..., \n",
        "       [ 0.92307692,  0.07692308],\n",
        "       [ 1.        ,  0.        ],\n",
        "       [ 1.        ,  0.        ]])"
       ]
      }
     ],
     "prompt_number": 14
    },
    {
     "cell_type": "markdown",
     "metadata": {},
     "source": [
      "##Classification reports"
     ]
    },
    {
     "cell_type": "markdown",
     "metadata": {},
     "source": [
      "###What does this tell you?"
     ]
    },
    {
     "cell_type": "code",
     "collapsed": false,
     "input": [
      "confusion_matrix(test['serious_dlqin2yrs'], clf.predict(test[features]))"
     ],
     "language": "python",
     "metadata": {},
     "outputs": [
      {
       "metadata": {},
       "output_type": "pyout",
       "prompt_number": 15,
       "text": [
        "array([[34572,    21],\n",
        "       [ 2461,    27]])"
       ]
      }
     ],
     "prompt_number": 15
    },
    {
     "cell_type": "code",
     "collapsed": false,
     "input": [
      "print classification_report(test['serious_dlqin2yrs'], clf.predict(test[features]), labels=[0, 1])"
     ],
     "language": "python",
     "metadata": {},
     "outputs": [
      {
       "output_type": "stream",
       "stream": "stdout",
       "text": [
        "             precision    recall  f1-score   support\n",
        "\n",
        "          0       0.93      1.00      0.97     34593\n",
        "          1       0.56      0.01      0.02      2488\n",
        "\n",
        "avg / total       0.91      0.93      0.90     37081\n",
        "\n"
       ]
      }
     ],
     "prompt_number": 16
    },
    {
     "cell_type": "markdown",
     "metadata": {},
     "source": [
      "###Write your own version of confusion_matrix using `pandas`. Be sure to label the rows/columns.\n",
      "*HINT: use crosstab*"
     ]
    },
    {
     "cell_type": "code",
     "collapsed": false,
     "input": [
      "#DELETE#pd.crosstab(test['serious_dlqin2yrs'], clf.predict(test[features]), rownames=[\"Actual\"], colnames=[\"Predicted\"])"
     ],
     "language": "python",
     "metadata": {},
     "outputs": [
      {
       "html": [
        "<div style=\"max-height:1000px;max-width:1500px;overflow:auto;\">\n",
        "<table border=\"1\" class=\"dataframe\">\n",
        "  <thead>\n",
        "    <tr style=\"text-align: right;\">\n",
        "      <th>Predicted</th>\n",
        "      <th>0</th>\n",
        "      <th>1</th>\n",
        "    </tr>\n",
        "    <tr>\n",
        "      <th>Actual</th>\n",
        "      <th></th>\n",
        "      <th></th>\n",
        "    </tr>\n",
        "  </thead>\n",
        "  <tbody>\n",
        "    <tr>\n",
        "      <th>0</th>\n",
        "      <td> 34572</td>\n",
        "      <td> 21</td>\n",
        "    </tr>\n",
        "    <tr>\n",
        "      <th>1</th>\n",
        "      <td>  2461</td>\n",
        "      <td> 27</td>\n",
        "    </tr>\n",
        "  </tbody>\n",
        "</table>\n",
        "</div>"
       ],
       "metadata": {},
       "output_type": "pyout",
       "prompt_number": 17,
       "text": [
        "Predicted      0   1\n",
        "Actual              \n",
        "0          34572  21\n",
        "1           2461  27"
       ]
      }
     ],
     "prompt_number": 17
    },
    {
     "cell_type": "markdown",
     "metadata": {},
     "source": [
      "###The ROC Curve\n",
      "To evaluate our classifier, we're going to use an [ROC Curve](http://en.wikipedia.org/wiki/Receiver_operating_characteristic). ROC Curves are great for evaluating binary (0, 1) classification models. A ROC Curve plots the False Postive Rate (fpr) vs. the True Positive Rate (tpr) for a classifier.\n",
      "\n",
      "See example in [scikit-learn docs](http://scikit-learn.org/stable/auto_examples/plot_roc.html#example-plot-roc-py)."
     ]
    },
    {
     "cell_type": "code",
     "collapsed": false,
     "input": [
      "def plot_roc(name, probs):\n",
      "    fpr, tpr, thresholds = roc_curve(test['serious_dlqin2yrs'], probs)\n",
      "    roc_auc = auc(fpr, tpr)\n",
      "    pl.clf()\n",
      "    pl.plot(fpr, tpr, label='ROC curve (area = %0.2f)' % roc_auc)\n",
      "    pl.plot([0, 1], [0, 1], 'k--')\n",
      "    pl.xlim([0.0, 1.05])\n",
      "    pl.ylim([0.0, 1.05])\n",
      "    pl.xlabel('False Positive Rate')\n",
      "    pl.ylabel('True Positive Rate')\n",
      "    pl.title(name)\n",
      "    pl.legend(loc=\"lower right\")\n",
      "    pl.show()\n",
      "plot_roc(\"Perfect Classifier\", test['serious_dlqin2yrs'])\n",
      "plot_roc(\"Guessing\", np.random.uniform(0, 1, len(test['serious_dlqin2yrs'])))\n",
      "\n",
      "#[::,1] selects the 2nd column of the numpy array\n",
      "plot_roc(\"KNN\", preds[::,1])"
     ],
     "language": "python",
     "metadata": {},
     "outputs": [
      {
       "metadata": {},
       "output_type": "display_data",
       "png": "[encoded data removed]",
       "text": [
        "<matplotlib.figure.Figure at 0x10ba3bdd0>"
       ]
      },
      {
       "metadata": {},
       "output_type": "display_data",
       "png": "[encoded data removed]",
       "text": [
        "<matplotlib.figure.Figure at 0x10901e450>"
       ]
      },
      {
       "metadata": {},
       "output_type": "display_data",
       "png": "[encoded data removed]",
       "text": [
        "<matplotlib.figure.Figure at 0x10ba79f50>"
       ]
      }
     ],
     "prompt_number": 18
    },
    {
     "cell_type": "code",
     "collapsed": false,
     "input": [
      "clf = RandomForestClassifier()\n",
      "clf.fit(train[features], train.serious_dlqin2yrs)"
     ],
     "language": "python",
     "metadata": {},
     "outputs": [
      {
       "metadata": {},
       "output_type": "pyout",
       "prompt_number": 19,
       "text": [
        "RandomForestClassifier(bootstrap=True, compute_importances=None,\n",
        "            criterion='gini', max_depth=None, max_features='auto',\n",
        "            min_density=None, min_samples_leaf=1, min_samples_split=2,\n",
        "            n_estimators=10, n_jobs=1, oob_score=False, random_state=None,\n",
        "            verbose=0)"
       ]
      }
     ],
     "prompt_number": 19
    },
    {
     "cell_type": "code",
     "collapsed": false,
     "input": [
      "probs = clf.predict_proba(test[features])[::,1]\n",
      "plot_roc(\"RandomForest\", probs)"
     ],
     "language": "python",
     "metadata": {},
     "outputs": [
      {
       "metadata": {},
       "output_type": "display_data",
       "png": "[encoded data removed]",
       "text": [
        "<matplotlib.figure.Figure at 0x10b9cbb90>"
       ]
      }
     ],
     "prompt_number": 20
    },
    {
     "cell_type": "markdown",
     "metadata": {},
     "source": [
      "###Build your own classifier\n",
      "Pick a different algorithm and a new set of features. Can you beat the 0.74 AUC?"
     ]
    },
    {
     "cell_type": "code",
     "collapsed": false,
     "input": [
      "features = ['features1', ...]\n",
      "clf = ...\n",
      "clf.fit(..., ...)\n",
      "probs = clf.predict_proba(test[features])[::,1]\n",
      "plot_roc(\"Your Classifier\", probs)"
     ],
     "language": "python",
     "metadata": {},
     "outputs": [],
     "prompt_number": 2
    },
    {
     "cell_type": "markdown",
     "metadata": {},
     "source": [
      "###Converting to credit score\n",
      "We're going to take the P(delinquent) outputted by the model and convert it to a FICO style score. We calculate the log odds which we then convert into 'points'. in this case, a increase/decrease in 40 points (arbritrary) means a person's riskness has halved/doubled--40/log(2). We're starting with a base score of 340 (arbitrary)."
     ]
    },
    {
     "cell_type": "code",
     "collapsed": false,
     "input": [
      "probs\n",
      "odds = (1 - probs) / probs\n",
      "score = np.log(odds)*(40/np.log(2)) + 340\n",
      "pl.hist(score)"
     ],
     "language": "python",
     "metadata": {},
     "outputs": [
      {
       "metadata": {},
       "output_type": "pyout",
       "prompt_number": 22,
       "text": [
        "(array([    1,     0,     2,    11,   317,  1274,  1873,  6922,  9670, 17011]),\n",
        " array([  32.61729114,   90.9744226 ,  149.33155407,  207.68868554,\n",
        "        266.04581701,  324.40294848,  382.76007995,  441.11721141,\n",
        "        499.47434288,  557.83147435,  616.18860582]),\n",
        " <a list of 10 Patch objects>)"
       ]
      },
      {
       "metadata": {},
       "output_type": "display_data",
       "png": "[encoded data removed]",
       "text": [
        "<matplotlib.figure.Figure at 0x10b9bec90>"
       ]
      }
     ],
     "prompt_number": 22
    },
    {
     "cell_type": "code",
     "collapsed": false,
     "input": [
      "def convert_prob_to_score(p):\n",
      "    \"\"\"\n",
      "    takes a probability and converts it to a score\n",
      "    Example:\n",
      "        convert_prob_to_score(0.1)\n",
      "        466\n",
      "    \"\"\"\n",
      "    odds = (1 - p) / p\n",
      "    scores = np.log(odds)*(40/np.log(2)) + 340\n",
      "    return scores.astype(np.int)\n",
      "\n",
      "convert_prob_to_score(probs)"
     ],
     "language": "python",
     "metadata": {},
     "outputs": [
      {
       "metadata": {},
       "output_type": "pyout",
       "prompt_number": 23,
       "text": [
        "array([432, 441, 569, ..., 603, 491, 507])"
       ]
      }
     ],
     "prompt_number": 23
    },
    {
     "cell_type": "markdown",
     "metadata": {},
     "source": [
      "##We just did the following\n",
      "\n",
      "- Trained a credit classifier\n",
      "- Evaluated the results by both plotting data and generating reports\n",
      "- Converted the model into a credit score"
     ]
    }
   ],
   "metadata": {}
  }
 ]
}