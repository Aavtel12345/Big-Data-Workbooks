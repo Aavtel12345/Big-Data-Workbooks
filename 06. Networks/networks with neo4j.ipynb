{
 "cells": [
  {
   "cell_type": "markdown",
   "metadata": {},
   "source": [
    "# Networks and Neo4j\n",
    "\n",
    "This chapter will go over the basics on how to connect to a neo4j database, query the database, and analyse data.  \n",
    "\n",
    "Before you begin this lesson,\n",
    "\n",
    "* Read though the Instalation Guide \n",
    "* Start you neo4j server (You should be able to over console in the browser.)\n",
    "    \n"
   ]
  },
  {
   "cell_type": "code",
   "execution_count": 28,
   "metadata": {
    "collapsed": false
   },
   "outputs": [
    {
     "name": "stdout",
     "output_type": "stream",
     "text": [
      "--COMPLETE--\n"
     ]
    }
   ],
   "source": [
    "# Imports \n",
    "import sys\n",
    "\n",
    "#from py2neo import authenticate, neo4j, Graph, Relationship\n",
    "from py2neo import authenticate, Graph, Relationship\n",
    "#from py2neo.cypher import CypherWriter\n",
    "#from py2neo import cypher\n",
    "# import cypher\n",
    "\n",
    "#import MySQLdb\n",
    "import pymysql\n",
    "import numpy\n",
    "import pprint\n",
    "import pandas\n",
    "\n",
    "import networkx\n",
    "# Allows plots to be showed inline \n",
    "import matplotlib\n",
    "%matplotlib inline\n",
    "\n",
    "print \"--COMPLETE--\"\n"
   ]
  },
  {
   "cell_type": "markdown",
   "metadata": {
    "collapsed": true
   },
   "source": [
    "### Connecting to the Neo4j Database \n",
    "\n",
    "To connect to the Neo4j Database we will be using the py2neo modual.\n",
    "\n",
    "In the cell below we will begin by creating a connection via py2neo. "
   ]
  },
  {
   "cell_type": "code",
   "execution_count": 27,
   "metadata": {
    "collapsed": false,
    "scrolled": false
   },
   "outputs": [
    {
     "name": "stdout",
     "output_type": "stream",
     "text": [
      "<Graph uri=u'http://localhost:7474/db/data/'>\n"
     ]
    }
   ],
   "source": [
    "# Set up connection to Ne04j local Database \n",
    "# You will need to authenticate your connection, use the next line as an example \n",
    "# authenticate(\"localhost:7474\", \"<YOUR USENAME HERE>, Default is: neo4j\", \"<YOUR_PASSWORD_HERE>\")\n",
    "\n",
    "database_host = \"localhost\"\n",
    "database_port = \"7474\"\n",
    "database_username = \"neo4j\"\n",
    "database_password = \"<PASSWORD>\"\n",
    "\n",
    "# set up authentication parameters\n",
    "authenticate( database_host + \":\" + database_port, database_username, database_password )\n",
    "\n",
    "# Create a variable for our graph and print our connection infomation\n",
    "graph_db = Graph()\n",
    "print( graph_db )\n"
   ]
  },
  {
   "cell_type": "markdown",
   "metadata": {},
   "source": [
    "### Testing our connection\n",
    "To extract data from our database, we can pass cypher commands to py2neo using the Graph object instance's `data()` command.\n",
    "\n",
    "Run the cell below to tell py2neo to return a single node."
   ]
  },
  {
   "cell_type": "code",
   "execution_count": 26,
   "metadata": {
    "collapsed": false
   },
   "outputs": [
    {
     "data": {
      "text/plain": [
       "[{u'n': (c11b024:Employee {employeeid:\"90014540\",position:\"FACULTY\"})}]"
      ]
     },
     "execution_count": 26,
     "metadata": {},
     "output_type": "execute_result"
    }
   ],
   "source": [
    "# The syntax below translates to,\n",
    "#'Match (Find) any node, lets call it n, and show me its data. Limit the results to 1'\n",
    "\n",
    "graph_db.data( \"MATCH (n) RETURN n limit 1\" )"
   ]
  },
  {
   "cell_type": "markdown",
   "metadata": {},
   "source": [
    "## Quick Review of Neo4j and Cypher \n",
    "\n",
    "When you think of data, you probably imagine an excel table where each row is an individual observation or data point. \n",
    "For example, \n",
    "\n",
    "|name | age | employee_id|\n",
    "|-----|-----|------------|\n",
    "|Joe  |  34 |   12345    |\n",
    "|Ann  |  54 |   12346    |\n",
    "    \n",
    "In a graph database, that row is more like a ball. \n",
    "\n",
    "\n",
    "##### (node: Employee {name:Joe, age: 34, employee_id: 12345})\n",
    "\n",
    "This ball is called a \"node\" in Neo4j. In fact, the little parentheses around Joe's information are designed to help the user think of Joe's information as a little ball. \n",
    "\n",
    "All the information about Joe is still there, but it's just not in a flat table format. Instead of storing each peice of Joe's information in a variable column, Joe's information is stored as **properties**, ie name, age, employee_id.\n",
    "Joe's node also has a **label**, *Employee*, to identify this node as belonging to an employee.\n",
    "\n",
    "Neo4j uses the Cypher Query Language to get information out of the Database. \n",
    "\n",
    "##### Components of a simple Cypher Query:\n",
    "+ MATCH      \n",
    "     - Essentially the same thing as SELECT in SQL \n",
    "+ (n)        \n",
    "    - Any node (the n is just a variable, could be any letter) \n",
    "+ RETURN     \n",
    "    - Needed in every query \n",
    "+ LIMIT      \n",
    "    - Same as in SQL \n",
    "\n",
    "The following query will return 20 nodes from the database:  \n",
    "##### graph_db.cypher.execute(\"MATCH (n) RETURN n LIMIT 20\")\n",
    "\n",
    "If I wanted to query just Award nodes, I would run this query;  \n",
    "##### graph_db.cypher.execute(\"MATCH (n:Award) RETURN n LIMIT 20\")\n"
   ]
  },
  {
   "cell_type": "code",
   "execution_count": 7,
   "metadata": {
    "collapsed": false
   },
   "outputs": [
    {
     "data": {
      "text/plain": [
       "[{u'n.award_num': u'aw1000'},\n",
       " {u'n.award_num': u'aw1001'},\n",
       " {u'n.award_num': u'aw1002'},\n",
       " {u'n.award_num': u'aw1003'},\n",
       " {u'n.award_num': u'aw1004'},\n",
       " {u'n.award_num': u'aw1005'},\n",
       " {u'n.award_num': u'aw1006'},\n",
       " {u'n.award_num': u'aw1007'},\n",
       " {u'n.award_num': u'aw1008'},\n",
       " {u'n.award_num': u'aw1009'},\n",
       " {u'n.award_num': u'aw1010'},\n",
       " {u'n.award_num': u'aw1011'},\n",
       " {u'n.award_num': u'aw1012'},\n",
       " {u'n.award_num': u'aw1013'},\n",
       " {u'n.award_num': u'aw1014'},\n",
       " {u'n.award_num': u'aw1015'},\n",
       " {u'n.award_num': u'aw1016'},\n",
       " {u'n.award_num': u'aw1017'},\n",
       " {u'n.award_num': u'aw1018'},\n",
       " {u'n.award_num': u'aw1019'}]"
      ]
     },
     "execution_count": 7,
     "metadata": {},
     "output_type": "execute_result"
    }
   ],
   "source": [
    "# You can use this cell to Test the Cypher Queries \n",
    "# The syntax below translates to, \n",
    "#'Match (Find) any nodes that are of type Award and show me the award number (award_num) data for each\n",
    "# of the nodes returned. Limit the results to 20'\n",
    "graph_db.data( \"MATCH (n:Award) RETURN n.award_num LIMIT 20\" )"
   ]
  },
  {
   "cell_type": "markdown",
   "metadata": {},
   "source": [
    "### Cypher Examples \n",
    "\n",
    "The below are some examples of different cypher commands executed using py2neo.\n",
    "\n",
    "Note: The object returned by Py2neo is a neted list of dictonaries where each dictonary represents a single node."
   ]
  },
  {
   "cell_type": "code",
   "execution_count": 8,
   "metadata": {
    "collapsed": false
   },
   "outputs": [
    {
     "name": "stdout",
     "output_type": "stream",
     "text": [
      "[{u'e.employeeid': u'90014540'},\n",
      " {u'e.employeeid': u'90026679'},\n",
      " {u'e.employeeid': u'90017693'},\n",
      " {u'e.employeeid': u'90028696'},\n",
      " {u'e.employeeid': u'90013819'},\n",
      " {u'e.employeeid': u'90001118'},\n",
      " {u'e.employeeid': u'90001300'},\n",
      " {u'e.employeeid': u'90023086'},\n",
      " {u'e.employeeid': u'90017074'},\n",
      " {u'e.employeeid': u'90025003'},\n",
      " {u'e.employeeid': u'90000321'},\n",
      " {u'e.employeeid': u'90001779'},\n",
      " {u'e.employeeid': u'90012327'},\n",
      " {u'e.employeeid': u'6663'},\n",
      " {u'e.employeeid': u'90028695'},\n",
      " {u'e.employeeid': u'90013011'},\n",
      " {u'e.employeeid': u'90004139'},\n",
      " {u'e.employeeid': u'90002533'},\n",
      " {u'e.employeeid': u'90022882'},\n",
      " {u'e.employeeid': u'90027179'}]\n"
     ]
    }
   ],
   "source": [
    "# Collect 20 Employee Nodes \n",
    "\n",
    "# The syntax below translates to, \n",
    "#'Match(Find) any nodes of type Employee \n",
    "# then show me the employee ID (employeeid) of the employee nodes. Limit the results to 20'\n",
    "node_query_single =  graph_db.data( \"MATCH (e:Employee) RETURN e.employeeid LIMIT 20\" )\n",
    "\n",
    "pprint.pprint( node_query_single )"
   ]
  },
  {
   "cell_type": "code",
   "execution_count": 9,
   "metadata": {
    "collapsed": false
   },
   "outputs": [
    {
     "name": "stdout",
     "output_type": "stream",
     "text": [
      "[{u'a.award_num': u'aw1000', u'e.employeeid': u'90014540'},\n",
      " {u'a.award_num': u'aw1001', u'e.employeeid': u'90014540'},\n",
      " {u'a.award_num': u'aw1002', u'e.employeeid': u'90014540'},\n",
      " {u'a.award_num': u'aw1003', u'e.employeeid': u'90014540'},\n",
      " {u'a.award_num': u'aw1004', u'e.employeeid': u'90014540'},\n",
      " {u'a.award_num': u'aw1005', u'e.employeeid': u'90014540'},\n",
      " {u'a.award_num': u'aw1006', u'e.employeeid': u'90014540'},\n",
      " {u'a.award_num': u'aw1007', u'e.employeeid': u'90014540'},\n",
      " {u'a.award_num': u'aw1008', u'e.employeeid': u'90014540'},\n",
      " {u'a.award_num': u'aw1009', u'e.employeeid': u'90014540'},\n",
      " {u'a.award_num': u'aw1010', u'e.employeeid': u'90014540'},\n",
      " {u'a.award_num': u'aw1011', u'e.employeeid': u'90014540'},\n",
      " {u'a.award_num': u'aw1012', u'e.employeeid': u'90014540'},\n",
      " {u'a.award_num': u'aw1013', u'e.employeeid': u'90014540'},\n",
      " {u'a.award_num': u'aw1014', u'e.employeeid': u'90014540'},\n",
      " {u'a.award_num': u'aw1015', u'e.employeeid': u'90014540'},\n",
      " {u'a.award_num': u'aw1016', u'e.employeeid': u'90014540'},\n",
      " {u'a.award_num': u'aw1017', u'e.employeeid': u'90014540'},\n",
      " {u'a.award_num': u'aw1018', u'e.employeeid': u'90014540'},\n",
      " {u'a.award_num': u'aw1019', u'e.employeeid': u'90014540'}]\n"
     ]
    }
   ],
   "source": [
    "# Collect 20 Award Nodes and 20 employee Nodes \n",
    "\n",
    "# The syntax below translates to, \n",
    "#'Match (Find) any nodes that are of type Award and Match(Find) any nodes of type Employee \n",
    "# then show me the award number (award_num) of the award nodes \n",
    "# and the employee ID (employeeid) of the employee nodes. Limit the results to 20'\n",
    "node_query_multiple =  graph_db.data(\"MATCH (a:Award), (e:Employee) RETURN a.award_num,e.employeeid LIMIT 20\" )\n",
    "\n",
    "pprint.pprint(node_query_multiple )"
   ]
  },
  {
   "cell_type": "code",
   "execution_count": 10,
   "metadata": {
    "collapsed": false
   },
   "outputs": [
    {
     "name": "stdout",
     "output_type": "stream",
     "text": [
      "[{u'a.award_num': u'aw1000',\n",
      "  u'e.employeeid': u'90014540',\n",
      "  u'type(r)': u'WORKED_ON'},\n",
      " {u'a.award_num': u'aw1001',\n",
      "  u'e.employeeid': u'90026679',\n",
      "  u'type(r)': u'WORKED_ON'},\n",
      " {u'a.award_num': u'aw1002',\n",
      "  u'e.employeeid': u'90017693',\n",
      "  u'type(r)': u'WORKED_ON'},\n",
      " {u'a.award_num': u'aw1003',\n",
      "  u'e.employeeid': u'90028696',\n",
      "  u'type(r)': u'WORKED_ON'},\n",
      " {u'a.award_num': u'aw1004',\n",
      "  u'e.employeeid': u'90013819',\n",
      "  u'type(r)': u'WORKED_ON'},\n",
      " {u'a.award_num': u'aw1005',\n",
      "  u'e.employeeid': u'90001118',\n",
      "  u'type(r)': u'WORKED_ON'},\n",
      " {u'a.award_num': u'aw1006',\n",
      "  u'e.employeeid': u'90001300',\n",
      "  u'type(r)': u'WORKED_ON'},\n",
      " {u'a.award_num': u'aw1145',\n",
      "  u'e.employeeid': u'90023086',\n",
      "  u'type(r)': u'WORKED_ON'},\n",
      " {u'a.award_num': u'aw1476',\n",
      "  u'e.employeeid': u'90023086',\n",
      "  u'type(r)': u'WORKED_ON'},\n",
      " {u'a.award_num': u'aw1007',\n",
      "  u'e.employeeid': u'90023086',\n",
      "  u'type(r)': u'WORKED_ON'},\n",
      " {u'a.award_num': u'aw1146',\n",
      "  u'e.employeeid': u'90017074',\n",
      "  u'type(r)': u'WORKED_ON'},\n",
      " {u'a.award_num': u'aw1477',\n",
      "  u'e.employeeid': u'90017074',\n",
      "  u'type(r)': u'WORKED_ON'},\n",
      " {u'a.award_num': u'aw1008',\n",
      "  u'e.employeeid': u'90017074',\n",
      "  u'type(r)': u'WORKED_ON'},\n",
      " {u'a.award_num': u'aw1147',\n",
      "  u'e.employeeid': u'90025003',\n",
      "  u'type(r)': u'WORKED_ON'},\n",
      " {u'a.award_num': u'aw1478',\n",
      "  u'e.employeeid': u'90025003',\n",
      "  u'type(r)': u'WORKED_ON'},\n",
      " {u'a.award_num': u'aw1009',\n",
      "  u'e.employeeid': u'90025003',\n",
      "  u'type(r)': u'WORKED_ON'},\n",
      " {u'a.award_num': u'aw1148',\n",
      "  u'e.employeeid': u'90000321',\n",
      "  u'type(r)': u'WORKED_ON'},\n",
      " {u'a.award_num': u'aw1479',\n",
      "  u'e.employeeid': u'90000321',\n",
      "  u'type(r)': u'WORKED_ON'},\n",
      " {u'a.award_num': u'aw1010',\n",
      "  u'e.employeeid': u'90000321',\n",
      "  u'type(r)': u'WORKED_ON'},\n",
      " {u'a.award_num': u'aw1149',\n",
      "  u'e.employeeid': u'90001779',\n",
      "  u'type(r)': u'WORKED_ON'}]\n"
     ]
    }
   ],
   "source": [
    "# Return 20 relationships where an Employee worked on an Award\n",
    "\n",
    "# The syntax below translates to, \n",
    "#'Match (Find) any instances of a node of type Award connected to a node of type employee. \n",
    "# For each relationship found, return the award number and the employee id of the nodes in that relationship. \n",
    "# also return the relationship type, 'WORKED_ON'\n",
    "#Limit the results to 20'\n",
    "relationsip_query = graph_db.data(\"MATCH (a:Award) <-[r:WORKED_ON]- (e:Employee) RETURN a.award_num,e.employeeid,type(r) LIMIT 20\")\n",
    "\n",
    "pprint.pprint( relationsip_query )"
   ]
  },
  {
   "cell_type": "code",
   "execution_count": 11,
   "metadata": {
    "collapsed": false
   },
   "outputs": [
    {
     "name": "stdout",
     "output_type": "stream",
     "text": [
      "[{u'a.award_num': u'aw1003',\n",
      "  u'e1.employeeid': u'90000919',\n",
      "  u'e2.employeeid': u'90028696'},\n",
      " {u'a.award_num': u'aw1004',\n",
      "  u'e1.employeeid': u'90024693',\n",
      "  u'e2.employeeid': u'90013819'},\n",
      " {u'a.award_num': u'aw1005',\n",
      "  u'e1.employeeid': u'90001652',\n",
      "  u'e2.employeeid': u'90001118'},\n",
      " {u'a.award_num': u'aw1006',\n",
      "  u'e1.employeeid': u'90025754',\n",
      "  u'e2.employeeid': u'90001300'},\n",
      " {u'a.award_num': u'aw1145',\n",
      "  u'e1.employeeid': u'90029620',\n",
      "  u'e2.employeeid': u'90023086'},\n",
      " {u'a.award_num': u'aw1007',\n",
      "  u'e1.employeeid': u'90026898',\n",
      "  u'e2.employeeid': u'90023086'},\n",
      " {u'a.award_num': u'aw1007',\n",
      "  u'e1.employeeid': u'90004472',\n",
      "  u'e2.employeeid': u'90023086'},\n",
      " {u'a.award_num': u'aw1007',\n",
      "  u'e1.employeeid': u'90022371',\n",
      "  u'e2.employeeid': u'90023086'},\n",
      " {u'a.award_num': u'aw1146',\n",
      "  u'e1.employeeid': u'90026012',\n",
      "  u'e2.employeeid': u'90017074'},\n",
      " {u'a.award_num': u'aw1008',\n",
      "  u'e1.employeeid': u'90004472',\n",
      "  u'e2.employeeid': u'90017074'},\n",
      " {u'a.award_num': u'aw1008',\n",
      "  u'e1.employeeid': u'90028781',\n",
      "  u'e2.employeeid': u'90017074'},\n",
      " {u'a.award_num': u'aw1008',\n",
      "  u'e1.employeeid': u'90024665',\n",
      "  u'e2.employeeid': u'90017074'},\n",
      " {u'a.award_num': u'aw1147',\n",
      "  u'e1.employeeid': u'90021622',\n",
      "  u'e2.employeeid': u'90025003'},\n",
      " {u'a.award_num': u'aw1009',\n",
      "  u'e1.employeeid': u'90028781',\n",
      "  u'e2.employeeid': u'90025003'},\n",
      " {u'a.award_num': u'aw1009',\n",
      "  u'e1.employeeid': u'98101941',\n",
      "  u'e2.employeeid': u'90025003'},\n",
      " {u'a.award_num': u'aw1009',\n",
      "  u'e1.employeeid': u'90002437',\n",
      "  u'e2.employeeid': u'90025003'},\n",
      " {u'a.award_num': u'aw1148',\n",
      "  u'e1.employeeid': u'90023237',\n",
      "  u'e2.employeeid': u'90000321'},\n",
      " {u'a.award_num': u'aw1010',\n",
      "  u'e1.employeeid': u'98101941',\n",
      "  u'e2.employeeid': u'90000321'},\n",
      " {u'a.award_num': u'aw1010',\n",
      "  u'e1.employeeid': u'90001461',\n",
      "  u'e2.employeeid': u'90000321'},\n",
      " {u'a.award_num': u'aw1010',\n",
      "  u'e1.employeeid': u'90019735',\n",
      "  u'e2.employeeid': u'90000321'}]\n"
     ]
    }
   ],
   "source": [
    "# Pattern Query \n",
    "\n",
    "# Retrun 20 instances of the pattern where two employees worked on the same award. Return only the employeeid of each employee  \n",
    "\n",
    "# The syntax below translates to, \n",
    "# 'Match (Find) any instances of two nodes of type employee having a relationship with a node of type award.\n",
    "# Return the employeeid of each of the employee nodes in that relationship.\n",
    "# Also, return the award number of the award in the relationship.  \n",
    "# Limit the results to 20'\n",
    "pattern_query = graph_db.data(\"MATCH (e1:Employee) --> (a:Award) <-- (e2:Employee) RETURN e1.employeeid, e2.employeeid, a.award_num LIMIT 20\")\n",
    "\n",
    "pprint.pprint( pattern_query )"
   ]
  },
  {
   "cell_type": "markdown",
   "metadata": {},
   "source": [
    "## Using Python to Automate Cypher Tasks \n",
    "\n",
    "An advantage of using python to interface with neo4j is that you can send commands to neo4j in a saved and reproducable manner. In theory, all the work we did copying and pasting commands into neo4j in the instalation chapter can be replaced with python commands.\n",
    "\n",
    "To demonstrate this we will add some new Nodes and Relationships to our graph.\n",
    "\n",
    "Roke College prides itself on providing research opportunities for its Students. Students are often employed by the university to provide research assistance to faculty members on the awards they work on. \n",
    "\n",
    "To fully add the Students to the database we will need to:\n",
    "    1. Create a variable setting the location of our files. This is the directory\n",
    "    where your student_data.csv and award_data.csv files are saved. \n",
    "    Example on Windows: data_directory_path = \"C:\\Users\\<YOUR_USERNAME>\\Documents\\Neo4j\\default.graphdb\\import\"\n",
    "    2. Load in the student nodes via a csv file \n",
    "    3. Create a WORKED_ON relationship between the students and the awards on which they work\n",
    "    4. Createa WORKED_WITH relationship between students and their peers who worked on the same awards \n",
    "    \n",
    "\n",
    "_NOTE:_\n",
    "\n",
    "_You may nottice that here we are using the MERGE command instead of the CREATE command to create relationships. This is done to prevent duplicate nodes and relationships from being created. A CREATE command will create a new node or relationship regardless of whether that entitiy already exsists. The MERGE command will create that node or relationship only if it does not already exist._\n"
   ]
  },
  {
   "cell_type": "markdown",
   "metadata": {},
   "source": [
    "##### Load in Student Nodes"
   ]
  },
  {
   "cell_type": "code",
   "execution_count": 29,
   "metadata": {
    "collapsed": false
   },
   "outputs": [
    {
     "name": "stdout",
     "output_type": "stream",
     "text": [
      "--COMPLETE--\n"
     ]
    }
   ],
   "source": [
    "# Store data directory path for re-use\n",
    "data_directory_path = \"\"\n",
    "\n",
    "\n",
    "# The syntax below translates to, \n",
    "#'Load the file at the location <File Path>.\n",
    "# For each row in that data, create a node of type Student with the properties employeeid and position\n",
    "cypher_string = '''USING PERIODIC COMMIT\n",
    "LOAD CSV WITH HEADERS FROM \\\"file://'''\n",
    "cypher_string += data_directory_path\n",
    "cypher_string += '''/student_data.csv\\\"\n",
    "AS row CREATE (:Student {employeeid: row.employeeid, position: row.occupation_orig});'''\n",
    "\n",
    "graph_db.data( cypher_string )\n",
    "print \"--COMPLETE--\""
   ]
  },
  {
   "cell_type": "markdown",
   "metadata": {},
   "source": [
    "##### Create Worked on Relationships with Awards "
   ]
  },
  {
   "cell_type": "code",
   "execution_count": 30,
   "metadata": {
    "collapsed": false
   },
   "outputs": [
    {
     "name": "stdout",
     "output_type": "stream",
     "text": [
      "--COMPLETE--\n"
     ]
    }
   ],
   "source": [
    "# The syntax below translates to, \n",
    "#'Load the file at the location <File Path>.\n",
    "# For each row in the file, find the Award node and Student node that corespond to the \n",
    "# arard_num and employeeid in that row.\n",
    "# if there is not already a WORKED_ON relationship between the two, create one. \n",
    "\n",
    "cypher_string = '''USING PERIODIC COMMIT\n",
    "LOAD CSV WITH HEADERS FROM \\\"file://'''\n",
    "cypher_string += data_directory_path\n",
    "cypher_string += '''/award_data.csv\" AS row\n",
    "MATCH (a:Award {award_num: row.uniqueawardnumber})\n",
    "MATCH (s:Student {employeeid: row.employeeid})\n",
    "MERGE (s)-[r:WORKED_ON]->(a);'''\n",
    "\n",
    "graph_db.data( cypher_string )\n",
    "print \"--COMPLETE--\""
   ]
  },
  {
   "cell_type": "markdown",
   "metadata": {},
   "source": [
    "##### Create Worked With relationships between the students and existing staff "
   ]
  },
  {
   "cell_type": "code",
   "execution_count": 14,
   "metadata": {
    "collapsed": false
   },
   "outputs": [
    {
     "data": {
      "text/plain": [
       "[]"
      ]
     },
     "execution_count": 14,
     "metadata": {},
     "output_type": "execute_result"
    }
   ],
   "source": [
    "# The syntax below translates to, \n",
    "# Find the instances where two nodes have a WORKED_ON relationship with an Award node,\n",
    "# if there is not a 'WORKED_WITH' relationship between the two, create one. \n",
    "cypher_string = '''MATCH (n1)-[:WORKED_ON]->(a:Award)<-[:WORKED_ON]-(n2)\n",
    "MERGE (n1)-[r:WORKED_WITH]-(n2);'''\n",
    "\n",
    "graph_db.data( cypher_string )\n",
    "print \"--COMPLETE--\""
   ]
  },
  {
   "cell_type": "markdown",
   "metadata": {},
   "source": [
    "### If you would like to see the new data, open your neo4j console. you'll see that we now have a new node label, Student. "
   ]
  },
  {
   "cell_type": "markdown",
   "metadata": {},
   "source": [
    "# Networkx\n",
    "### Plotting and Graph Analysis \n",
    "\n",
    "Networkx is a python modual for creating, displaying and analysing graph data. \n",
    "\n",
    "We can load data from our neo4j graph into networkx by preforming queries and passing that data to networkx.\n",
    "\n",
    "Run the cell below to see an example"
   ]
  },
  {
   "cell_type": "code",
   "execution_count": 24,
   "metadata": {
    "collapsed": false,
    "scrolled": false
   },
   "outputs": [
    {
     "name": "stdout",
     "output_type": "stream",
     "text": [
      "   a.award_num p.employeeid  weight\n",
      "0       aw1000     90014540    0.01\n",
      "1       aw1001     90026679    0.01\n",
      "2       aw1002     90017693    0.01\n",
      "3       aw1003     90000919    0.01\n",
      "4       aw1003     90028696    0.01\n",
      "5       aw1004     90024693    0.01\n",
      "6       aw1004     90013819    0.01\n",
      "7       aw1005     90001652    0.01\n",
      "8       aw1005     90001118    0.01\n",
      "9       aw1006     90039108    0.01\n",
      "10      aw1006     90039108    0.01\n",
      "11      aw1006     90025754    0.01\n",
      "12      aw1006     90001300    0.01\n",
      "13      aw1007     90026898    0.01\n",
      "14      aw1007     90004472    0.01\n",
      "15      aw1007     90022371    0.01\n",
      "16      aw1007     90023086    0.01\n",
      "17      aw1008     90004472    0.01\n",
      "18      aw1008     90028781    0.01\n",
      "19      aw1008     90024665    0.01\n",
      "20      aw1008     90017074    0.01\n",
      "21      aw1009     90028781    0.01\n",
      "22      aw1009     98101941    0.01\n",
      "23      aw1009     90002437    0.01\n",
      "24      aw1009     90025003    0.01\n",
      "25      aw1010     98101941    0.01\n",
      "26      aw1010     90001461    0.01\n",
      "27      aw1010     90019735    0.01\n",
      "28      aw1010     90000321    0.01\n",
      "29      aw1011     90001461    0.01\n",
      "30      aw1011        16578    0.01\n",
      "31      aw1011         8791    0.01\n",
      "32      aw1011     90001779    0.01\n",
      "33      aw1012        16578    0.01\n",
      "34      aw1012     90024642    0.01\n",
      "35      aw1012         8391    0.01\n",
      "36      aw1012     90012327    0.01\n",
      "37      aw1013     90024642    0.01\n",
      "38      aw1013         1646    0.01\n",
      "39      aw1013         6663    0.01\n",
      "40      aw1014         1646    0.01\n",
      "41      aw1014     90008389    0.01\n",
      "42      aw1014     90028695    0.01\n",
      "43      aw1015     90008389    0.01\n",
      "44      aw1015     90028845    0.01\n",
      "45      aw1015     90013011    0.01\n",
      "46      aw1016     90028845    0.01\n",
      "47      aw1016     90026452    0.01\n",
      "48      aw1016     90004139    0.01\n",
      "49      aw1017     90026452    0.01\n"
     ]
    },
    {
     "data": {
      "text/plain": [
       "'\\nNotes \\nGreen Nodes are Employees\\nYellow Nodes are Students\\nRed Nodes are Awards\\n\\n'"
      ]
     },
     "execution_count": 24,
     "metadata": {},
     "output_type": "execute_result"
    },
    {
     "data": {
      "image/png": "[encoded data removed]",
      "text/plain": [
       "<matplotlib.figure.Figure at 0xc898208>"
      ]
     },
     "metadata": {},
     "output_type": "display_data"
    }
   ],
   "source": [
    "# Preform a cypher query to get 50 instances where a person worked on an award\n",
    "results = graph_db.data(\"MATCH (p) -[r]-> (a:Award) RETURN p.employeeid, a.award_num LIMIT 50\")\n",
    "\n",
    "# Convert The results to a dataframe \n",
    "results_df =pandas.DataFrame(results)\n",
    "\n",
    "# This will make  the connections between the nodes easier to see \n",
    "results_df['weight'] = .01\n",
    "\n",
    "# Uncomment this next line if you would like to see what the data looks like \n",
    "print(pandas.DataFrame(results_df))\n",
    "\n",
    "# Convert to graph object\n",
    "graph = networkx.from_pandas_dataframe(results_df, 'p.employeeid', 'a.award_num', ['weight'])\n",
    "\n",
    "\n",
    "# The following code is used to keep track of employees vs. award numbers,\n",
    "# and then to assign colors to nodes of each type in the graph\n",
    "emps = {}\n",
    "awards = {} \n",
    "color_vals = []\n",
    "\n",
    "for pair in results:\n",
    "    emps[pair[\"p.employeeid\"]] = 1\n",
    "    awards[pair[\"a.award_num\"]] = 1\n",
    "\n",
    "\n",
    "for node in graph.nodes(data =True):\n",
    "    if node[0] in emps:\n",
    "        color_vals.append ('g')  # green\n",
    "    else:\n",
    "        color_vals.append ('r')  # red\n",
    "\n",
    "    \n",
    "# Draw the graph \n",
    "networkx.draw(graph, node_color = color_vals)\n",
    "\n",
    "\"\"\"\n",
    "Notes \n",
    "Green Nodes are Employees\n",
    "Yellow Nodes are Students\n",
    "Red Nodes are Awards\n",
    "\n",
    "\"\"\""
   ]
  },
  {
   "cell_type": "markdown",
   "metadata": {},
   "source": [
    "## Network Analysis \n",
    "The networkx module also has built in tools to analyse graphs. The following measurements are used to assess how the nodes are related to each other in the graph database.  "
   ]
  },
  {
   "cell_type": "markdown",
   "metadata": {},
   "source": [
    "### Network Measurments \n",
    "This is the vocabularly for studing a network \n",
    "\n",
    " **Degree Centrality ** - counts the number of edges that a node has \n",
    "     - Nodes with a high degree of connections usually play an important role in a network \n",
    " **Betweenness ** - indicator of a node's centality in a network. \n",
    "     - Equal to the number of shortest paths from all vertices to all others that pass through that node \n",
    " **Diameter** - The longest shortest path over all pairs of nodes \n",
    "     - Often we want to find the shortest distance between two nodes; the diameter is the longest of these paths \n",
    "     - Nodes that occur on many shortest paths between other nodes in the graph have a high betweenness centrality score  \n",
    " **Cliques ** - A clique is a subset of vertices of an undirected graph such that every two distinct vertices in the clique are adjacent.  \n",
    "     \n",
    "     \n",
    "Let's look at how these measurements appear in a sample set of data.\n",
    "  "
   ]
  },
  {
   "cell_type": "markdown",
   "metadata": {},
   "source": [
    "#### Run the Cell Below to create one of Networkx eample graphs, the Maze Graph"
   ]
  },
  {
   "cell_type": "code",
   "execution_count": 16,
   "metadata": {
    "collapsed": false
   },
   "outputs": [
    {
     "name": "stdout",
     "output_type": "stream",
     "text": [
      "Tuttle Graph\n",
      "-------------\n",
      "Number of Nodes: 8\n"
     ]
    },
    {
     "data": {
      "image/png": "[encoded data removed]",
      "text/plain": [
       "<matplotlib.figure.Figure at 0xc9f4198>"
      ]
     },
     "metadata": {},
     "output_type": "display_data"
    }
   ],
   "source": [
    "# Create The graph\n",
    "maze=networkx.sedgewick_maze_graph()\n",
    "\n",
    "# Draw the graph\n",
    "networkx.draw(maze)\n",
    "\n",
    "print( \"Tuttle Graph\" )\n",
    "print( \"-------------\" )\n",
    "print( \"Number of Nodes: \" + str( maze.number_of_nodes() ) )"
   ]
  },
  {
   "cell_type": "markdown",
   "metadata": {},
   "source": [
    "### Degree and Centrality\n",
    "\n",
    "- Counts the number of edges that a node has \n",
    "- Nodes with a high degree of connections usally play an important role in a network "
   ]
  },
  {
   "cell_type": "code",
   "execution_count": 17,
   "metadata": {
    "collapsed": false
   },
   "outputs": [
    {
     "name": "stdout",
     "output_type": "stream",
     "text": [
      "The Maximum number of Edges is 4\n",
      "The Minimum number of Edges is 1\n",
      "The Average number of Edges is 2.5\n",
      "The Median number of Edges is 2.5\n"
     ]
    }
   ],
   "source": [
    "# Calculate the degree of each node \n",
    "maze_degree = maze.degree().values()\n",
    "\n",
    "# Maxinum number of connections  \n",
    "print( \"The Maximum number of Edges is \" + str( max(maze_degree) ) )\n",
    "\n",
    "# Lowest Number of Connections \n",
    "print( \"The Minimum number of Edges is \" + str( min(maze_degree) ) )\n",
    "\n",
    "# Average Number of Connections \n",
    "print( \"The Average number of Edges is \" + str( numpy.mean(maze_degree) ) )\n",
    "\n",
    "# median number of connections \n",
    "print( \"The Median number of Edges is \" + str( numpy.median(maze_degree ) ) )"
   ]
  },
  {
   "cell_type": "code",
   "execution_count": 18,
   "metadata": {
    "collapsed": false
   },
   "outputs": [
    {
     "name": "stdout",
     "output_type": "stream",
     "text": [
      "The Maximum Degree Centrality is 0.571428571429\n",
      "The Minimum Degree Centrality is 0.142857142857\n",
      "The Average Degree Centrality is 0.357142857143\n",
      "The Median Degree Centrality is 0.357142857143\n"
     ]
    }
   ],
   "source": [
    "# Normalized degree is degree centrality divided by the maximum possible number of connections \n",
    "# The bigger the number, the more connections \n",
    "\n",
    "# Calulate  degree centrality for all the modes in the maze graph \n",
    "maze_degree_cen = networkx.degree_centrality(maze).values()\n",
    "\n",
    "# Maxinum number of Normalized Degree Centrality   \n",
    "print( \"The Maximum Degree Centrality is \" + str( max(maze_degree_cen) ) )\n",
    "\n",
    "# Lowest Number of Normalized Degree Centrality  \n",
    "print( \"The Minimum Degree Centrality is \" + str( min(maze_degree_cen) ) )\n",
    "\n",
    "# Average Number of Normalized Degree Centrality  \n",
    "print( \"The Average Degree Centrality is \" + str( numpy.mean(maze_degree_cen) ) )\n",
    "\n",
    "# median number of Normalized Degree Centrality  \n",
    "print( \"The Median Degree Centrality is \" + str( numpy.median(maze_degree_cen) ) )"
   ]
  },
  {
   "cell_type": "code",
   "execution_count": 19,
   "metadata": {
    "collapsed": false
   },
   "outputs": [
    {
     "name": "stdout",
     "output_type": "stream",
     "text": [
      "The Centrility of this graph is 0.285714285714\n"
     ]
    }
   ],
   "source": [
    "# Freeman Centralization:\n",
    "# How much variation is there in the centrality scores among the nodes?\n",
    "# http://cs.brynmawr.edu/Courses/cs380/spring2013/section02/slides/05_Centrality.pdf\n",
    "# Scores closer to one convey more popular nodes interact with many other nodes; \n",
    "# the closer to zero, the more interactions between nodes are evenly distributed \n",
    "\n",
    "# Calculate the centralization for all the nodes \n",
    "all_degrees = maze.degree().values()\n",
    "\n",
    "# Get the Maximum degree number \n",
    "max_degree = max(all_degrees)\n",
    "# Get the number of nodes in the maze graph\n",
    "nodes_num = maze.number_of_nodes()\n",
    "\n",
    "# Calculate the centrality using the max degree, the number of nodes, and the degrees of all then node\n",
    "centrality = sum([max_degree - x for x in all_degrees]) / float(((nodes_num - 1)*(nodes_num - 2)))\n",
    "print( \"The Centrility of this graph is \" + str( centrality ) )"
   ]
  },
  {
   "cell_type": "markdown",
   "metadata": {},
   "source": [
    "### Betweenness\n",
    "- Equal to the number of shortes paths from all vertices to all others that pass through that node "
   ]
  },
  {
   "cell_type": "code",
   "execution_count": 20,
   "metadata": {
    "collapsed": false,
    "scrolled": false
   },
   "outputs": [
    {
     "name": "stdout",
     "output_type": "stream",
     "text": [
      "The Maximum Betweenness measure is 0.357142857143\n",
      "The Minimum Betweenness measure is 0.0\n",
      "The Average Betweenness measure is 0.136904761905\n",
      "The Median Betweenness measure is 0.0833333333333\n"
     ]
    }
   ],
   "source": [
    "# Calulate Betweenness Centrality scores for all the nodes\n",
    "btw_cen = networkx.betweenness_centrality(maze).values()\n",
    "\n",
    "print( \"The Maximum Betweenness measure is \" + str(max(btw_cen)))\n",
    "\n",
    "print( \"The Minimum Betweenness measure is \" + str(min(btw_cen)))\n",
    "\n",
    "print( \"The Average Betweenness measure is \" + str(numpy.mean(btw_cen)))\n",
    "\n",
    "print( \"The Median Betweenness measure is \" + str(numpy.median(btw_cen)))"
   ]
  },
  {
   "cell_type": "markdown",
   "metadata": {},
   "source": [
    "### Diameter\n",
    "- Often we want to find the shortest distance between two nodes; the diameter is the longest of theses paths \n",
    "- Nodes that occur on many shortest paths between other nodes in the graph have a high betweenness centrality score  "
   ]
  },
  {
   "cell_type": "code",
   "execution_count": 21,
   "metadata": {
    "collapsed": false
   },
   "outputs": [
    {
     "name": "stdout",
     "output_type": "stream",
     "text": [
      "The Diameter of this graph is 3\n"
     ]
    }
   ],
   "source": [
    "diameter_size = networkx.diameter(maze)\n",
    "print( \"The Diameter of this graph is \" + str(diameter_size) )\n"
   ]
  },
  {
   "cell_type": "markdown",
   "metadata": {},
   "source": [
    "### Cliques\n",
    "\n",
    "- A clique is a subset of vertices of an undirected graph such that every two distinct vertices in the clique are adjacent.  "
   ]
  },
  {
   "cell_type": "code",
   "execution_count": 22,
   "metadata": {
    "collapsed": false
   },
   "outputs": [
    {
     "name": "stdout",
     "output_type": "stream",
     "text": [
      "The Cliques in the Maze graph are, [[0, 2], [0, 5], [0, 7], [1, 7], [2, 6], [4, 3, 5], [4, 6], [4, 7]]\n"
     ]
    }
   ],
   "source": [
    "maze_cliques =  list(networkx.find_cliques(maze))\n",
    "print( \"The Cliques in the Maze graph are, \" + str(maze_cliques) )"
   ]
  },
  {
   "cell_type": "markdown",
   "metadata": {},
   "source": [
    "##### The above list of cliques are a somewhat unintresting.\n",
    "Run the code cell below to see the clique list of another built-in graph, the lolipop graph\n",
    "\n",
    "You can see that the lollipop graph has a cluster of 10 nodes that make up the \"candy\" part of the lollipop while the \"stem\" of the lollipop is a line of nodes."
   ]
  },
  {
   "cell_type": "code",
   "execution_count": 23,
   "metadata": {
    "collapsed": false
   },
   "outputs": [
    {
     "name": "stdout",
     "output_type": "stream",
     "text": [
      "The Cliques in the Lollipop graph are, [[9, 0, 1, 2, 3, 8, 4, 5, 6, 7], [9, 10], [11, 10], [11, 12], [12, 13], [13, 14], [14, 15], [15, 16], [16, 17], [17, 18], [18, 19], [19, 20], [20, 21], [21, 22], [22, 23], [23, 24], [24, 25], [25, 26], [26, 27], [27, 28], [28, 29]]\n"
     ]
    },
    {
     "data": {
      "image/png": "[encoded data removed]",
      "text/plain": [
       "<matplotlib.figure.Figure at 0xca7f4e0>"
      ]
     },
     "metadata": {},
     "output_type": "display_data"
    }
   ],
   "source": [
    "# Create the Graph \n",
    "lolli_g = lollipop=networkx.lollipop_graph(10,20)\n",
    "\n",
    "# Get the cliques of the graph \n",
    "lolli_cliques = list(networkx.find_cliques(lolli_g))\n",
    "\n",
    "print( \"The Cliques in the Lollipop graph are, \" + str(lolli_cliques) )\n",
    "\n",
    "# Draw the Graph\n",
    "networkx.draw(lolli_g)"
   ]
  }
 ],
 "metadata": {
  "anaconda-cloud": {},
  "kernelspec": {
   "display_name": "Python [Root]",
   "language": "python",
   "name": "Python [Root]"
  },
  "language_info": {
   "codemirror_mode": {
    "name": "ipython",
    "version": 2
   },
   "file_extension": ".py",
   "mimetype": "text/x-python",
   "name": "python",
   "nbconvert_exporter": "python",
   "pygments_lexer": "ipython2",
   "version": "2.7.12"
  }
 },
 "nbformat": 4,
 "nbformat_minor": 0
}
