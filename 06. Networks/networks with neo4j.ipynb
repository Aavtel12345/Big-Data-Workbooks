{
 "cells": [
  {
   "cell_type": "code",
   "execution_count": null,
   "metadata": {
    "collapsed": true
   },
   "outputs": [],
   "source": [
    "# Imports \n",
    "import sys\n",
    "from py2neo import neo4j, Graph, Relationship\n",
    "import MySQLdb\n"
   ]
  },
  {
   "cell_type": "code",
   "execution_count": null,
   "metadata": {
    "collapsed": false
   },
   "outputs": [],
   "source": [
    "# Create MySQL connection\n",
    "user = \"\"\n",
    "password = \"\"\n",
    "database = \"starmetrics\"\n",
    "\n",
    "# invoke the connect() function, passing parameters in variables.\n",
    "db = MySQLdb.connect( user = user, passwd = password, db = database )\n",
    "\n",
    "# output basic database connection info.\n",
    "print( db )\n",
    "\n",
    "cursor = db.cursor( MySQLdb.cursors.DictCursor )\n",
    "# Print Curser\n",
    "print(cursor)"
   ]
  },
  {
   "cell_type": "code",
   "execution_count": null,
   "metadata": {
    "collapsed": false
   },
   "outputs": [],
   "source": [
    "# Test SQL \n",
    "\n",
    "\n",
    "# The Following is a Query of the starmetrics database\n",
    "# It collects the following variables for Purdue University between the \n",
    "#years 2008 - 2012:  \n",
    "#From the employee Table: id, employeeid, uniqueawardnumber, employeeoccupation\n",
    "#From the occupation Table: occupationalclassification \n",
    "\n",
    "sql_select = \"SElECT employee.employeeid, employee.uniqueawardnumber, employee.occupation_orig, \\\n",
    "occupation.occupationalclassification \\\n",
    "FROM starmetrics.employee \\\n",
    "INNER JOIN starmetrics.occupation ON \\\n",
    "starmetrics.employee.occupation_orig = occupation.occupation_orig \\\n",
    "WHERE starmetrics.employee.university = 'purdue' AND starmetrics.employee.year BETWEEN 2008 AND 2012;\"\n",
    "\n",
    "result_count = cursor.execute(sql_select);\n",
    "\n",
    "# Count the number of rows returned \n",
    "print(\"Found \" + str(result_count) + \" rows\")\n",
    "\n",
    "# Testing\n",
    "one = cursor.fetchone()\n",
    "print(one.keys())\n",
    "print(one)\n",
    "\n",
    "\n",
    "# Store the results of the Query in a list\n",
    "results = cursor.fetchall()\n"
   ]
  },
  {
   "cell_type": "code",
   "execution_count": null,
   "metadata": {
    "collapsed": false
   },
   "outputs": [],
   "source": [
    "# I want to test the code without a a ton of cases, so here is my example results list \n",
    "\n",
    "results = [\n",
    "    {'occupationalclassification': 'Undergraduate', 'occupation_orig': 'UNDERGRAD', 'employeeid': '90009387', 'uniqueawardnumber': \"'00.500 NONGrant\"},\n",
    "    {'occupationalclassification': 'Undergraduate', 'occupation_orig': 'UNDERGRAD', 'employeeid': '90009387', 'uniqueawardnumber': \"'00.500 NONGrant\"},\n",
    "    {'occupationalclassification': 'Graduate Student', 'occupation_orig': 'GRADUATE', 'employeeid': '90027173', 'uniqueawardnumber': '00.070 03-C-NE-PU'},\n",
    "    {'occupationalclassification': 'Faculty', 'occupation_orig': 'FACULTY', 'employeeid': '90014540', 'uniqueawardnumber': '00.070 03-C-NE-PU'},\n",
    "    {'occupationalclassification': 'Faculty', 'occupation_orig': 'FACULTY', 'employeeid': '90014540', 'uniqueawardnumber': '00.070 03-C-NE-PU'},\n",
    "\n",
    "]"
   ]
  },
  {
   "cell_type": "code",
   "execution_count": null,
   "metadata": {
    "collapsed": false
   },
   "outputs": [],
   "source": [
    "# Create connection to the Neo4jsdatabase using defaults\n",
    "# note, I imported Graph when I imported py2neo\n",
    "graph_db_test = Graph()\n",
    "print graph_db_test\n",
    "\n",
    "graph_db_test.create()\n",
    "\n",
    "# Force nodes to have unique employeeids and \n",
    "graph_db_test.schema.create_uniqueness_constraint(\"employeeid\", \"uniqueawardnumber\")\n"
   ]
  },
  {
   "cell_type": "code",
   "execution_count": null,
   "metadata": {
    "collapsed": true
   },
   "outputs": [],
   "source": [
    "# Use this line to clear all nodes and relationships from the graph\n",
    "#(good for debuging) \n",
    "graph_db_test.delete_all()"
   ]
  },
  {
   "cell_type": "code",
   "execution_count": null,
   "metadata": {
    "collapsed": false
   },
   "outputs": [],
   "source": [
    "# First Things First,\n",
    "# Below is an exaple of how to create a single node with the properties employeeid, uniqueidnumber, occupation_orig, \n",
    "#and occupation identification. \n",
    "# If we wanted to make a single node, this would be the syntax \n",
    "new_employee_node = neo4j.Node(\"employee\", employeeid = '90014540', occupation_orig = \"FACULTY\", occupationalclassification = \"Faculty\")\n",
    "\n",
    "\n",
    "graph_db_test.create( new_employee_node )\n",
    "# Python uses a slightly different syntax to query the Neo4js database\n",
    "#If we were using the Neo4js Turminal, this would be the Cypher Query we would type:\n",
    "## CREATE (Employee1:Employee { id_num: \"4\", employeeid:'90014540', uniqueawardnumber:'00.070 03-C-NE-PU',occupation_orig:\"FACULTY\", occupationalclassification:\"Faculty\" })\n",
    "\n"
   ]
  },
  {
   "cell_type": "code",
   "execution_count": null,
   "metadata": {
    "collapsed": true
   },
   "outputs": [],
   "source": [
    "# If you want to test Cypher query syntax, This is a good site to experiemtn with;\n",
    "#Cypher playground: http://console.neo4j.org/?_ga=1.113286210.459216022.1444237641\n",
    "# Warning, I would suggest refreshing this page often "
   ]
  },
  {
   "cell_type": "code",
   "execution_count": null,
   "metadata": {
    "collapsed": false
   },
   "outputs": [],
   "source": [
    "# Above I saved the results of the SQL Query into a list called results\n",
    "# Below I iterate over that list, create properties based on the varibles in the SQL database,\n",
    "# and finaly create an 'employee' node with those properties\n",
    "\n",
    "for employee in results:\n",
    "    id_num = employee['employeeid']\n",
    "    occ_orig = employee['occupation_orig']\n",
    "    occ_class = employee['occupationalclassification']\n",
    "    award_num = employee['uniqueawardnumber']\n",
    "\n",
    "    # Create a node with above infomation (This node is not in the Graph yet though)\n",
    "    new_employee_node = neo4j.Node(\"Employee\", employeeid = id_num, occcupation_orig = occ_orig, \\\n",
    "                      occupationalclassification = occ_class)\n",
    "    new_award_node = neo4j.Node(\"Award\", uniqueawardnumber = award_num)\n",
    "    \n",
    "    # Check to see that the employee is not already in the graph \n",
    "    if graph_db_test.find_one(\"Employee\", \"employeeid\", id_num) == None:\n",
    "        new_employee = True\n",
    "        graph_db_test.create( new_employee_node )\n",
    "    \n",
    "    # Check to see that the award is not already in the graph \n",
    "    if graph_db_test.find_one(\"Award\", \"uniqueawardnumber\", award_num) == None:\n",
    "        new_award = True\n",
    "        graph_db_test.create( new_award_node )\n",
    "   \n",
    "    # This needs to be updated because the logic is incomplete\n",
    "    # right now, if the employee and the award are new, create a relationship between them\n",
    "    # need to add the condition if the employee is working on a award that is already in the DB \n",
    "    if (new_employee & new_award):\n",
    "        print Relationship(new_employee_node, \"worked_on\", new_award_node)\n",
    "        new_relationship = Relationship(new_employee_node, \"worked_on\", new_award_node)\n",
    "        graph_db_test.create( new_relationship )\n",
    "    \n",
    "\n"
   ]
  },
  {
   "cell_type": "code",
   "execution_count": null,
   "metadata": {
    "collapsed": false
   },
   "outputs": [],
   "source": [
    "# this will print all the reationships in the graph \n",
    "# ONLY RUN THIS IF YOU ARE USING THE SHORT RESULTS \n",
    "graph_db_test.cypher.execute(\"MATCH (n)-[r:worked_on]->(m) RETURN r;\") "
   ]
  },
  {
   "cell_type": "code",
   "execution_count": null,
   "metadata": {
    "collapsed": false
   },
   "outputs": [],
   "source": [
    "# prints all the nodes \n",
    "# ONLY RUN THIS IF YOU ARE USING THE SHORT RESULTS \n",
    "graph_db_test.cypher.execute(\"MATCH (n) RETURN n;\") "
   ]
  },
  {
   "cell_type": "code",
   "execution_count": null,
   "metadata": {
    "collapsed": false
   },
   "outputs": [],
   "source": []
  },
  {
   "cell_type": "code",
   "execution_count": null,
   "metadata": {
    "collapsed": false
   },
   "outputs": [],
   "source": [
    "# Jsut to prove that these employees were moved into the NEO databse, \n",
    "#lets query the database and collect 10 nodes\n",
    "\n",
    "\n",
    "some_employees = graph_db_test.cypher.execute(\"MATCH (n:Employee) RETURN n\")\n",
    "\n",
    "print some_employees # Close Cursor\n"
   ]
  },
  {
   "cell_type": "code",
   "execution_count": null,
   "metadata": {
    "collapsed": true
   },
   "outputs": [],
   "source": [
    "cursor.close()\n",
    "\n",
    "# close connection\n",
    "db.close()"
   ]
  }
 ],
 "metadata": {
  "kernelspec": {
   "display_name": "Python 2",
   "language": "python",
   "name": "python2"
  },
  "language_info": {
   "codemirror_mode": {
    "name": "ipython",
    "version": 2
   },
   "file_extension": ".py",
   "mimetype": "text/x-python",
   "name": "python",
   "nbconvert_exporter": "python",
   "pygments_lexer": "ipython2",
   "version": "2.7.6"
  }
 },
 "nbformat": 4,
 "nbformat_minor": 0
}
