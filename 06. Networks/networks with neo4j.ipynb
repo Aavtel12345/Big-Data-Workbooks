{
 "cells": [
  {
   "cell_type": "code",
   "execution_count": null,
   "metadata": {
    "collapsed": true
   },
   "outputs": [],
   "source": [
    "# Imports \n",
    "import sys\n",
    "from py2neo import neo4j, Graph, Node \n",
    "import MySQLdb\n"
   ]
  },
  {
   "cell_type": "code",
   "execution_count": null,
   "metadata": {
    "collapsed": true
   },
   "outputs": [],
   "source": [
    "# Create MySQL connection\n",
    "user = \"lcdebaca\"\n",
    "password = \"DcMCyskH49CKFnvEjx5C\"\n",
    "database = \"starmetrics\"\n",
    "\n",
    "# invoke the connect() function, passing parameters in variables.\n",
    "db = MySQLdb.connect( user = user, passwd = password, db = database )\n",
    "\n",
    "# output basic database connection info.\n",
    "print( db )\n",
    "\n",
    "cursor = db.cursor( MySQLdb.cursors.DictCursor )\n",
    "# Print Curser\n",
    "print(cursor)"
   ]
  },
  {
   "cell_type": "code",
   "execution_count": null,
   "metadata": {
    "collapsed": true
   },
   "outputs": [],
   "source": [
    "# Test SQL \n",
    "\n",
    "\n",
    "# The Following is a Query of the starmetrics database\n",
    "# It collects the following variables for Purdue University between the \n",
    "#years 2008 - 2012:  \n",
    "#From the employee Table: id, employeeid, uniqueawardnumber, employeeoccupation\n",
    "#From the occupation Table: occupationalclassification \n",
    "\n",
    "sql_select = \"SElECT employee.employeeid, employee.uniqueawardnumber, employee.occupation_orig, \\\n",
    "occupation.occupationalclassification \\\n",
    "FROM starmetrics.employee \\\n",
    "INNER JOIN starmetrics.occupation ON \\\n",
    "starmetrics.employee.occupation_orig = occupation.occupation_orig \\\n",
    "WHERE starmetrics.employee.university = 'purdue' AND starmetrics.employee.year BETWEEN 2008 AND 2012;\"\n",
    "\n",
    "result_count = cursor.execute(sql_select);\n",
    "\n",
    "# Count the number of rows returned \n",
    "print(\"Found \" + str(result_count) + \" rows\")\n",
    "\n",
    "# Testing\n",
    "one = cursor.fetchone()\n",
    "print(one.keys())\n",
    "print(one)\n",
    "\n",
    "\n",
    "# Store the results of the Query in a list\n",
    "results = cursor.fetchall()\n"
   ]
  },
  {
   "cell_type": "code",
   "execution_count": null,
   "metadata": {
    "collapsed": true
   },
   "outputs": [],
   "source": [
    "# Create connection to the Neo4jsdatabase using defaults\n",
    "# note, I imported Graph when I imported py2neo\n",
    "graph_db_test = Graph()\n",
    "print graph_db_test\n",
    "\n"
   ]
  },
  {
   "cell_type": "code",
   "execution_count": null,
   "metadata": {
    "collapsed": true
   },
   "outputs": [],
   "source": [
    "# Use this line to clear all nodes and relationships from the graph\n",
    "#(good for debuging) \n",
    "#graph_db_test.delete_all()"
   ]
  },
  {
   "cell_type": "code",
   "execution_count": null,
   "metadata": {
    "collapsed": true
   },
   "outputs": [],
   "source": [
    "# First Things First,\n",
    "# Below is an exaple of how to create a single node with the properties employeeid, uniqueidnumber, occupation_orig, \n",
    "#and occupation identification. \n",
    "# If we wanted to make a single node, this would be the syntax \n",
    "new_node = neo4j.Node(\"employee\", employeeid = '90014540', occupation_orig = \"FACULTY\", occupationalclassification = \"Faculty\")\n",
    "\n",
    "# Python uses a slightly different syntax to query the Neo4js database\n",
    "#If we were using the Neo4js Turminal, this would be the Cypher Query we would type:\n",
    "## CREATE (Employee1:Employee { id_num: \"4\", employeeid:'90014540', uniqueawardnumber:'00.070 03-C-NE-PU',occupation_orig:\"FACULTY\", occupationalclassification:\"Faculty\" })\n",
    "\n"
   ]
  },
  {
   "cell_type": "code",
   "execution_count": null,
   "metadata": {
    "collapsed": true
   },
   "outputs": [],
   "source": [
    "# If you want to test Cypher query syntax, This is a good site to experiemtn with;\n",
    "#Cypher playground: http://console.neo4j.org/?_ga=1.113286210.459216022.1444237641\n",
    "# Warning, I would suggest refreshing this page often "
   ]
  },
  {
   "cell_type": "code",
   "execution_count": null,
   "metadata": {
    "collapsed": true
   },
   "outputs": [],
   "source": [
    "# Above I saved the results of the SQL Query into a list called results\n",
    "# Below I iterate over that list, create properties based on the varibles in the SQL database,\n",
    "# and finaly create an 'employee' node with those properties\n",
    "\n",
    "for employee in results:\n",
    "    id_num = employee['employeeid']\n",
    "    occ_orig = employee['occupation_orig']\n",
    "    occ_class = employee['occupationalclassification']\n",
    "    award_num = employee['uniqueawardnumber']\n",
    "    \n",
    "######################################################\n",
    "#THIS IS THE LABELING BUG\n",
    "######################################################\n",
    "    \n",
    "# THIS IS THE SYNTAX FOR CREATING A NODE IN PY2NEO. \n",
    "\n",
    "#\"Employee\" SHOULD BE THE NODE LABLE, BUT \n",
    "#IN THE CELL BELOW YOU CAN SEE THAT THE NODES HAVE NO LABEL\n",
    "    neo4j.Node(\"Employee\", employeeid = id_num, occcupation_orig = occ_orig, \\\n",
    "                      occupationalclassification = occ_class)\n",
    "\n",
    "\n",
    "# HERE IS ALTERNATIVE PEICE OF CODE THAT SHOULD WORK: THE ERROR I GET IS THIS:\n",
    "\n",
    "#UNDERGRAD not defined (line 1, column 60 (offset: 59))\n",
    "#\"CREATE (n:Employee {employeeid: 90010374, occupation_orig: UNDERGRAD, occupationalclassification: Undergraduate});\"\n",
    "\n",
    "    #graph_db_test.cypher.execute(\"CREATE (n:Employee {employeeid: \" + id_num + \", occupation_orig: \" + occ_orig + \", occupationalclassification: \" + occ_class + \"});\")\n",
    "    \n"
   ]
  },
  {
   "cell_type": "code",
   "execution_count": null,
   "metadata": {
    "collapsed": true
   },
   "outputs": [],
   "source": [
    "#node = neo4j.Node(\"Cat\", employeeid = 000000, occcupation_orig = \"Professional Feline\", \\\n",
    "#                      occupationalclassification = \"FALCALTY\")\n",
    "#graph_db_test.cypher.execute(\"MATCH (n) RETURN n;\") "
   ]
  },
  {
   "cell_type": "code",
   "execution_count": null,
   "metadata": {
    "collapsed": true
   },
   "outputs": [],
   "source": [
    "# Jsut to prove that these employees were moved into the NEO databse, \n",
    "#lets query the database and collect 10 nodes\n",
    "\n",
    "##############################################################\n",
    "# IF THE NODES HAD LABELS, THEY WOULD APPEAR IN THIS LIST, BUT THEY DONT\n",
    "################################################################\n",
    "\n",
    "some_employees = graph_db_test.cypher.execute(\"MATCH (n) RETURN n LIMIT 10\")\n",
    "\n",
    "print some_employees # Close Cursor\n"
   ]
  },
  {
   "cell_type": "code",
   "execution_count": null,
   "metadata": {
    "collapsed": true
   },
   "outputs": [],
   "source": [
    "cursor.close()\n",
    "\n",
    "# close connection\n",
    "db.close()"
   ]
  }
 ],
 "metadata": {
  "kernelspec": {
   "display_name": "Python 2",
   "language": "python",
   "name": "python2"
  },
  "language_info": {
   "codemirror_mode": {
    "name": "ipython",
    "version": 2
   },
   "file_extension": ".py",
   "mimetype": "text/x-python",
   "name": "python",
   "nbconvert_exporter": "python",
   "pygments_lexer": "ipython2",
   "version": "2.7.6"
  }
 },
 "nbformat": 4,
 "nbformat_minor": 0
}
