{
 "cells": [
  {
   "cell_type": "code",
   "execution_count": 85,
   "metadata": {
    "collapsed": false
   },
   "outputs": [],
   "source": [
    "# Imports \n",
    "import sys\n",
    "from py2neo import neo4j, Graph, Relationship\n",
    "from py2neo.cypher import CypherWriter\n",
    "import MySQLdb\n"
   ]
  },
  {
   "cell_type": "code",
   "execution_count": 86,
   "metadata": {
    "collapsed": false
   },
   "outputs": [
    {
     "name": "stdout",
     "output_type": "stream",
     "text": [
      "<_mysql.connection open to 'localhost' at 2f2b620>\n",
      "<MySQLdb.cursors.DictCursor object at 0x7f4ffba63fd0>\n"
     ]
    }
   ],
   "source": [
    "# Create MySQL connection\n",
    "user = \"lcdebaca\"\n",
    "password = \"qbRUy*uW7bUffBcBUBD7\"\n",
    "database = \"starmetrics\"\n",
    "\n",
    "# invoke the connect() function, passing parameters in variables.\n",
    "db = MySQLdb.connect( user = user, passwd = password, db = database )\n",
    "\n",
    "# output basic database connection info.\n",
    "print( db )\n",
    "\n",
    "cursor = db.cursor( MySQLdb.cursors.DictCursor )\n",
    "# Print Curser\n",
    "print(cursor)"
   ]
  },
  {
   "cell_type": "code",
   "execution_count": 87,
   "metadata": {
    "collapsed": false
   },
   "outputs": [
    {
     "name": "stdout",
     "output_type": "stream",
     "text": [
      "Found 200 rows\n",
      "['occupationalclassification', 'occupation_orig', 'employeeid', 'uniqueawardnumber']\n",
      "{'occupationalclassification': 'Undergraduate', 'occupation_orig': 'UNDERGRAD', 'employeeid': '90009387', 'uniqueawardnumber': \"'00.500 NONGrant\"}\n"
     ]
    }
   ],
   "source": [
    "# Test SQL \n",
    "\n",
    "\n",
    "# The Following is a Query of the starmetrics database\n",
    "# It collects the following variables for Purdue University between the \n",
    "#years 2008 - 2012:  \n",
    "#From the employee Table: id, employeeid, uniqueawardnumber, employeeoccupation\n",
    "#From the occupation Table: occupationalclassification \n",
    "\n",
    "# NOTE I LIMIT TO 200 BECAUSE THE REST OF THE NOTEBOOK WONT RUN OTHERWISE \n",
    "sql_select = \"SElECT employee.employeeid, employee.uniqueawardnumber, employee.occupation_orig, \\\n",
    "occupation.occupationalclassification \\\n",
    "FROM starmetrics.employee \\\n",
    "INNER JOIN starmetrics.occupation ON \\\n",
    "starmetrics.employee.occupation_orig = occupation.occupation_orig \\\n",
    "WHERE starmetrics.employee.university = 'purdue' AND starmetrics.employee.year BETWEEN 2008 AND 2012 LIMIT 200;\"\n",
    "\n",
    "result_count = cursor.execute(sql_select);\n",
    "\n",
    "# Count the number of rows returned \n",
    "print(\"Found \" + str(result_count) + \" rows\")\n",
    "\n",
    "# Testing\n",
    "one = cursor.fetchone()\n",
    "print(one.keys())\n",
    "print(one)\n",
    "\n",
    "\n",
    "# Store the results of the Query in a list\n",
    "results = cursor.fetchall()\n"
   ]
  },
  {
   "cell_type": "code",
   "execution_count": null,
   "metadata": {
    "collapsed": false
   },
   "outputs": [],
   "source": [
    "# I want to test the code without a a ton of cases, so here is my example results list \n",
    "\n",
    "results = [\n",
    "    {'occupationalclassification': 'Undergraduate', 'occupation_orig': 'UNDERGRAD', 'employeeid': '90009387', 'uniqueawardnumber': \"'00.500 NONGrant\"},\n",
    "    {'occupationalclassification': 'Undergraduate', 'occupation_orig': 'UNDERGRAD', 'employeeid': '90009387', 'uniqueawardnumber': \"'00.500 NONGrant\"},\n",
    "    {'occupationalclassification': 'Graduate Student', 'occupation_orig': 'GRADUATE', 'employeeid': '90027173', 'uniqueawardnumber': '00.070 03-C-NE-PU'},\n",
    "    {'occupationalclassification': 'Faculty', 'occupation_orig': 'FACULTY', 'employeeid': '90014540', 'uniqueawardnumber': '00.070 03-C-NE-PU'},\n",
    "    {'occupationalclassification': 'Faculty', 'occupation_orig': 'FACULTY', 'employeeid': '90014540', 'uniqueawardnumber': '00.070 03-C-NE-PU'},\n",
    "\n",
    "]"
   ]
  },
  {
   "cell_type": "code",
   "execution_count": 88,
   "metadata": {
    "collapsed": false
   },
   "outputs": [
    {
     "name": "stdout",
     "output_type": "stream",
     "text": [
      "<Graph uri=u'http://localhost:7474/db/data/'>\n"
     ]
    },
    {
     "ename": "ConstraintViolationException",
     "evalue": "Label 'employeeid' and property 'uniqueawardnumber' already have a unique constraint defined on them.",
     "output_type": "error",
     "traceback": [
      "\u001b[1;31m---------------------------------------------------------------------------\u001b[0m",
      "\u001b[1;31mConstraintViolationException\u001b[0m              Traceback (most recent call last)",
      "\u001b[1;32m<ipython-input-88-06c3f85926a1>\u001b[0m in \u001b[0;36m<module>\u001b[1;34m()\u001b[0m\n\u001b[0;32m      8\u001b[0m \u001b[1;33m\u001b[0m\u001b[0m\n\u001b[0;32m      9\u001b[0m \u001b[1;31m# Force nodes to have unique employeeids and uniqueawardnumbers\u001b[0m\u001b[1;33m\u001b[0m\u001b[1;33m\u001b[0m\u001b[0m\n\u001b[1;32m---> 10\u001b[1;33m \u001b[0mgraph_db_test\u001b[0m\u001b[1;33m.\u001b[0m\u001b[0mschema\u001b[0m\u001b[1;33m.\u001b[0m\u001b[0mcreate_uniqueness_constraint\u001b[0m\u001b[1;33m(\u001b[0m\u001b[1;34m\"employeeid\"\u001b[0m\u001b[1;33m,\u001b[0m \u001b[1;34m\"uniqueawardnumber\"\u001b[0m\u001b[1;33m)\u001b[0m\u001b[1;33m\u001b[0m\u001b[0m\n\u001b[0m",
      "\u001b[1;32m/usr/local/lib/python2.7/dist-packages/py2neo/schema.pyc\u001b[0m in \u001b[0;36mcreate_uniqueness_constraint\u001b[1;34m(self, label, property_key)\u001b[0m\n\u001b[0;32m     58\u001b[0m         \"\"\"\n\u001b[0;32m     59\u001b[0m         self._uniqueness_constraint_template.expand(label=label).post(\n\u001b[1;32m---> 60\u001b[1;33m             {\"property_keys\": [property_key]})\n\u001b[0m\u001b[0;32m     61\u001b[0m \u001b[1;33m\u001b[0m\u001b[0m\n\u001b[0;32m     62\u001b[0m     \u001b[1;32mdef\u001b[0m \u001b[0mdrop_index\u001b[0m\u001b[1;33m(\u001b[0m\u001b[0mself\u001b[0m\u001b[1;33m,\u001b[0m \u001b[0mlabel\u001b[0m\u001b[1;33m,\u001b[0m \u001b[0mproperty_key\u001b[0m\u001b[1;33m)\u001b[0m\u001b[1;33m:\u001b[0m\u001b[1;33m\u001b[0m\u001b[0m\n",
      "\u001b[1;32m/usr/local/lib/python2.7/dist-packages/py2neo/core.pyc\u001b[0m in \u001b[0;36mpost\u001b[1;34m(self, body, headers, **kwargs)\u001b[0m\n\u001b[0;32m    314\u001b[0m                 \u001b[0mcontent\u001b[0m \u001b[1;33m=\u001b[0m \u001b[1;33m{\u001b[0m\u001b[1;33m}\u001b[0m\u001b[1;33m\u001b[0m\u001b[0m\n\u001b[0;32m    315\u001b[0m             \u001b[0mmessage\u001b[0m \u001b[1;33m=\u001b[0m \u001b[0mcontent\u001b[0m\u001b[1;33m.\u001b[0m\u001b[0mpop\u001b[0m\u001b[1;33m(\u001b[0m\u001b[1;34m\"message\"\u001b[0m\u001b[1;33m,\u001b[0m \u001b[1;34m\"HTTP POST returned response %s\"\u001b[0m \u001b[1;33m%\u001b[0m \u001b[0merror\u001b[0m\u001b[1;33m.\u001b[0m\u001b[0mstatus_code\u001b[0m\u001b[1;33m)\u001b[0m\u001b[1;33m\u001b[0m\u001b[0m\n\u001b[1;32m--> 316\u001b[1;33m             \u001b[0mraise_from\u001b[0m\u001b[1;33m(\u001b[0m\u001b[0mself\u001b[0m\u001b[1;33m.\u001b[0m\u001b[0merror_class\u001b[0m\u001b[1;33m(\u001b[0m\u001b[0mmessage\u001b[0m\u001b[1;33m,\u001b[0m \u001b[1;33m**\u001b[0m\u001b[0mcontent\u001b[0m\u001b[1;33m)\u001b[0m\u001b[1;33m,\u001b[0m \u001b[0merror\u001b[0m\u001b[1;33m)\u001b[0m\u001b[1;33m\u001b[0m\u001b[0m\n\u001b[0m\u001b[0;32m    317\u001b[0m         \u001b[1;32melse\u001b[0m\u001b[1;33m:\u001b[0m\u001b[1;33m\u001b[0m\u001b[0m\n\u001b[0;32m    318\u001b[0m             \u001b[1;32mreturn\u001b[0m \u001b[0mresponse\u001b[0m\u001b[1;33m\u001b[0m\u001b[0m\n",
      "\u001b[1;32m/usr/local/lib/python2.7/dist-packages/py2neo/util.pyc\u001b[0m in \u001b[0;36mraise_from\u001b[1;34m(exception, cause)\u001b[0m\n\u001b[0;32m    233\u001b[0m \u001b[1;32mdef\u001b[0m \u001b[0mraise_from\u001b[0m\u001b[1;33m(\u001b[0m\u001b[0mexception\u001b[0m\u001b[1;33m,\u001b[0m \u001b[0mcause\u001b[0m\u001b[1;33m)\u001b[0m\u001b[1;33m:\u001b[0m\u001b[1;33m\u001b[0m\u001b[0m\n\u001b[0;32m    234\u001b[0m     \u001b[0mexception\u001b[0m\u001b[1;33m.\u001b[0m\u001b[0m__cause__\u001b[0m \u001b[1;33m=\u001b[0m \u001b[0mcause\u001b[0m\u001b[1;33m\u001b[0m\u001b[0m\n\u001b[1;32m--> 235\u001b[1;33m     \u001b[1;32mraise\u001b[0m \u001b[0mexception\u001b[0m\u001b[1;33m\u001b[0m\u001b[0m\n\u001b[0m\u001b[0;32m    236\u001b[0m \u001b[1;33m\u001b[0m\u001b[0m\n\u001b[0;32m    237\u001b[0m \u001b[1;33m\u001b[0m\u001b[0m\n",
      "\u001b[1;31mConstraintViolationException\u001b[0m: Label 'employeeid' and property 'uniqueawardnumber' already have a unique constraint defined on them."
     ]
    }
   ],
   "source": [
    "# Create connection to the Neo4jsdatabase using defaults\n",
    "# note, I imported Graph when I imported py2neo\n",
    "graph_db_test = Graph()\n",
    "print graph_db_test\n",
    "\n",
    "#Create the Neo4j Database \n",
    "graph_db_test.create()\n",
    "\n",
    "# Force nodes to have unique employeeids and uniqueawardnumbers\n",
    "graph_db_test.schema.create_uniqueness_constraint(\"employeeid\", \"uniqueawardnumber\")\n"
   ]
  },
  {
   "cell_type": "code",
   "execution_count": 5,
   "metadata": {
    "collapsed": true
   },
   "outputs": [],
   "source": [
    "# Use this line to clear all nodes and relationships from the graph\n",
    "#(good for debuging) \n",
    "graph_db_test.delete_all()"
   ]
  },
  {
   "cell_type": "code",
   "execution_count": null,
   "metadata": {
    "collapsed": false
   },
   "outputs": [],
   "source": [
    "# First Things First,\n",
    "# Below is an exaple of how to create a single node with the properties employeeid, uniqueidnumber, occupation_orig, \n",
    "#and occupation identification. \n",
    "# If we wanted to make a single node, this would be the syntax \n",
    "new_employee_node = neo4j.Node(\"employee\", employeeid = '90014540', occupation_orig = \"FACULTY\", occupationalclassification = \"Faculty\")\n",
    "\n",
    "\n",
    "graph_db_test.create( new_employee_node )\n",
    "# Python uses a slightly different syntax to query the Neo4js database\n",
    "#If we were using the Neo4js Turminal, this would be the Cypher Query we would type:\n",
    "## CREATE (Employee1:Employee { id_num: \"4\", employeeid:'90014540', uniqueawardnumber:'00.070 03-C-NE-PU',occupation_orig:\"FACULTY\", occupationalclassification:\"Faculty\" })\n",
    "\n"
   ]
  },
  {
   "cell_type": "markdown",
   "metadata": {
    "collapsed": true
   },
   "source": [
    "If you want to test Cypher query syntax, This is a good site to experiemtn with;\n",
    "\n",
    "Cypher playground: http://console.neo4j.org/?_ga=1.113286210.459216022.1444237641\n",
    "\n",
    "Warning, I would suggest refreshing this page often "
   ]
  },
  {
   "cell_type": "code",
   "execution_count": 89,
   "metadata": {
    "collapsed": false
   },
   "outputs": [],
   "source": [
    "# Above I saved the results of the SQL Query into a list called results\n",
    "# Below I iterate over that list, create properties based on the varibles in the SQL database,\n",
    "# and finaly create an 'employee' node with those properties\n",
    "\n",
    "for employee in results:\n",
    "    id_num = employee['employeeid']\n",
    "    occ_orig = employee['occupation_orig']\n",
    "    occ_class = employee['occupationalclassification']\n",
    "    award_num = employee['uniqueawardnumber']\n",
    "    # Wee tiny bit of data cleaning\n",
    "    if award_num[0] == \"'\":\n",
    "        award_num = award_num[1:len(award_num)]\n",
    "\n",
    "    # Create a node with above infomation (This node is not in the Graph yet though)\n",
    "    new_employee_node = neo4j.Node(\"Employee\", employeeid = id_num, occcupation_orig = occ_orig, \\\n",
    "                      occupationalclassification = occ_class)\n",
    "    new_award_node = neo4j.Node(\"Award\", uniqueawardnumber = award_num)\n",
    "    \n",
    "    new_employee = False\n",
    "    new_award    = False\n",
    "    # Check to see that the employee is not already in the graph \n",
    "    if graph_db_test.find_one(\"Employee\", \"employeeid\", id_num) == None:\n",
    "        new_employee = True\n",
    "        graph_db_test.create( new_employee_node )\n",
    "    \n",
    "        \n",
    "    \n",
    "    # Check to see that the award is not already in the graph \n",
    "    if graph_db_test.find_one(\"Award\", \"uniqueawardnumber\", award_num) == None:\n",
    "        new_award = True\n",
    "        graph_db_test.create( new_award_node )\n",
    "   \n",
    "    # Add relationships between the employees and the awards \n",
    "    # if noth bothe employee and the award are new, create a realtionship between them\n",
    "    if (new_employee & new_award):\n",
    "        new_relationship = Relationship(new_employee_node, \"worked_on\", new_award_node)\n",
    "        graph_db_test.create( new_relationship )\n",
    "    # if jus t he employee is new, then the award must already exisit \n",
    "    elif (new_employee):\n",
    "        # find the exsisting award node \n",
    "        exsitsting_award_node = graph_db_test.find_one(\"Award\", \"uniqueawardnumber\", award_num)\n",
    "        # Create realtionship between that node and the new employee\n",
    "        new_relationship = Relationship(new_employee_node, \"worked_on\", exsitsting_award_node)\n",
    "        graph_db_test.create( new_relationship )\n",
    "    \n",
    "\n"
   ]
  },
  {
   "cell_type": "markdown",
   "metadata": {},
   "source": [
    " At this point we have a graph database that has awards and connected to those nodes are employees. In ASCI art, it looks somthin like this: \n",
    "\n",
    "            A       A \n",
    "           / \\    / | \\ \n",
    "          E   E  E  E  E \n",
    "There is an obvious missing realtionship here, right? Employees that \"worked on\" a grant \"worked with\" the other employees that worked on that grant. What we want is a graph that looks like this:    \n",
    "\n",
    "            A       A \n",
    "           / \\    / | \\ \n",
    "          E-- E  E--E--E \n",
    "            \n",
    "Lets Create those realtionships between employees"
   ]
  },
  {
   "cell_type": "code",
   "execution_count": 90,
   "metadata": {
    "collapsed": false
   },
   "outputs": [],
   "source": [
    "# When looking at Employees and Awards, each Award has one to many Employees. So the quickest way to find a group of \n",
    "#employees that worked together is to find individual awards \n",
    "\n",
    "# for this we will use a straingt cypher command \n",
    "# Note, these cypher commands return RecordList Objects, Not Lists \n",
    "\n",
    "# Notice that we are asking Cypher to return n.uniqueawardnumber AS uniqueawardnumber\n",
    "# doingthis will allow us to access this attribute as:  print awards_record[1].uniqueawardnumber\n",
    "awards_record = graph_db_test.cypher.execute(\"MATCH (n:Award) RETURN n, n.uniqueawardnumber AS uniqueawardnumber;\")\n",
    "\n",
    "# Get length of Record \n",
    "awards_record_len = graph_db_test.cypher.execute(\"MATCH (n:Award) RETURN COUNT(*) AS count\")\n",
    "\n",
    "# Get the number of returned nodes as a number \n",
    "awards_record_len = awards_record_len[0].count\n",
    "\n",
    "# The Cypher returned a RecordList Object, but a list would be easiest to work with;\n",
    "\n",
    "\"\"\"\n",
    "The following loop wil add every award number to a list ( I don't need the whole object to find the\n",
    "employees who worked on that award )\n",
    "\n",
    "Note, I find while loops work better for this work than for loops \n",
    "\"\"\"\n",
    "count = 0\n",
    "awards = []\n",
    "while count < awards_record_len:\n",
    "    awards.append(str(awards_record[count].uniqueawardnumber))\n",
    "    count += 1 \n",
    "    \n"
   ]
  },
  {
   "cell_type": "code",
   "execution_count": 93,
   "metadata": {
    "collapsed": false
   },
   "outputs": [],
   "source": [
    "# Next we want to get a list of employees that worked on each of those awards \n",
    "\n",
    "# for every award in our award list; \n",
    "count = 0 \n",
    "while count < len(awards):\n",
    "    # Create a Cypher Query that collects the employees that have \"worked_on\" that award;\n",
    "    tx = graph_db_test.cypher.begin()\n",
    "    statment = \"MATCH (n)-[r:worked_on]->(m {uniqueawardnumber:{NUM}}) RETURN n.employeeid AS employeeid;\"\n",
    "    # This bit of code subsitutes NUM for the award number contained in out awards list \n",
    "    tx.append(statment, {\"NUM\": awards[count]})\n",
    "    relivent_employees_record = tx.commit()\n",
    "    \n",
    "    # Create a Query that collects the number employees that have \"worked_on\" that award;\n",
    "    tx = graph_db_test.cypher.begin()\n",
    "    statment = \"MATCH (n)-[r:worked_on]->(m {uniqueawardnumber:{NUM}}) RETURN Count(*) AS count;\"\n",
    "    tx.append(statment, {\"NUM\": awards[count]})\n",
    "    relivent_employees_record_len = tx.commit()\n",
    "    \n",
    "    # Get the number of returned nodes as a number (Cuz remember, the cypher Returns a RecordList)\n",
    "    relivent_employees_record_len = relivent_employees_record_len[0][0].count\n",
    "    \n",
    "    #print relivent_employees_record\n",
    "    #print relivent_employees_record[0][0].employeeid\n",
    "\n",
    "    \n",
    "    #I want emplyees in a list, not a Record Object, \n",
    "    i = 0\n",
    "    relivent_employees = []\n",
    "    while i < relivent_employees_record_len:\n",
    "        relivent_employees.append(str(relivent_employees_record[0][i].employeeid))\n",
    "        i += 1\n",
    "    \n",
    "    # Next create Relatioships between the employees'\n",
    "    \"\"\"\n",
    "    What I'm doing here is saying connect the first employee with each employee that follows it in the list,\n",
    "    then repete the process with the next employee until you reach the end of the list \n",
    "    \n",
    "    There is a bug in the logic here\n",
    "    \"\"\"\n",
    "    current_employee = 0 \n",
    "    while current_employee < len(relivent_employees):\n",
    "        next_employee = current_employee + 1 \n",
    "        while next_employee < len(relivent_employees):\n",
    "            tx = graph_db_test.cypher.begin()\n",
    "            statment = \"MATCH (n {employeeid: {NUM1}}), (m {employeeid: {NUM2}})\\\n",
    "            CREATE (n)-[r:worked_with]->(m) RETURN r;\"  \n",
    "            tx.append(statment, {\"NUM1\": relivent_employees[current_employee], \"NUM2\": relivent_employees[next_employee]})\n",
    "            tx.commit()\n",
    "            next_employee += 1 \n",
    "        current_employee += 1\n",
    "    \n",
    "\n",
    "    #DONT COMMENT THIS OUT REN\n",
    "    count += 1"
   ]
  },
  {
   "cell_type": "code",
   "execution_count": 9,
   "metadata": {
    "collapsed": false
   },
   "outputs": [
    {
     "data": {
      "text/plain": [
       "   | COUNT(*)\n",
       "---+----------\n",
       " 1 |        4"
      ]
     },
     "execution_count": 9,
     "metadata": {},
     "output_type": "execute_result"
    }
   ],
   "source": [
    "graph_db_test.cypher.execute(\"MATCH (n)-[r:worked_on]->(m {uniqueawardnumber:'00.070 03-C-NE-PU'}) RETURN COUNT(*);\") "
   ]
  },
  {
   "cell_type": "code",
   "execution_count": 51,
   "metadata": {
    "collapsed": false
   },
   "outputs": [
    {
     "name": "stdout",
     "output_type": "stream",
     "text": [
      "    | r                                                \n",
      "----+---------------------------------------------------\n",
      "  1 | (:`90003312`)-[r48701:worked_with]->(:`90022062`)\n",
      "  2 | (:`90003312`)-[r48702:worked_with]->(:`90014540`)\n",
      "  3 | (:`90003312`)-[r48703:worked_with]->(:`90027173`)\n",
      "  4 | (:`90022062`)-[r48704:worked_with]->(:`90014540`)\n",
      "  5 | (:`90022062`)-[r48705:worked_with]->(:`90027173`)\n",
      "  6 | (:`90014540`)-[r48706:worked_with]->(:`90027173`)\n",
      "  7 | (:`90017693`)-[r48707:worked_with]->(:`90026679`)\n",
      "  8 | (:`2623`)-[r48708:worked_with]->(:`15226`)       \n",
      "  9 | (:`2623`)-[r48709:worked_with]->(:`90013819`)    \n",
      " 10 | (:`15226`)-[r48710:worked_with]->(:`90013819`)   \n",
      "\n",
      "    | r                                                \n",
      "----+---------------------------------------------------\n",
      "  1 | (:`90003312`)-[r48701:worked_with]->(:`90022062`)\n",
      "  2 | (:`90003312`)-[r48702:worked_with]->(:`90014540`)\n",
      "  3 | (:`90003312`)-[r48703:worked_with]->(:`90027173`)\n",
      "  4 | (:`90022062`)-[r48704:worked_with]->(:`90014540`)\n",
      "  5 | (:`90022062`)-[r48705:worked_with]->(:`90027173`)\n",
      "  6 | (:`90014540`)-[r48706:worked_with]->(:`90027173`)\n",
      "  7 | (:`90017693`)-[r48707:worked_with]->(:`90026679`)\n",
      "  8 | (:`2623`)-[r48708:worked_with]->(:`15226`)       \n",
      "  9 | (:`2623`)-[r48709:worked_with]->(:`90013819`)    \n",
      " 10 | (:`15226`)-[r48710:worked_with]->(:`90013819`)   \n",
      "\n"
     ]
    }
   ],
   "source": [
    "# this will print all the reationships in the graph \n",
    "# ONLY RUN THIS IF YOU ARE USING THE SHORT RESULTS \n",
    "test = graph_db_test.cypher.execute(\"MATCH (n)-[r:worked_with]->(m) RETURN r LIMIT 10;\") \n",
    "print test\n",
    "test.to_subgraph()\n",
    "\n",
    "print test\n"
   ]
  },
  {
   "cell_type": "code",
   "execution_count": 94,
   "metadata": {
    "collapsed": false
   },
   "outputs": [],
   "source": [
    "def recordlist_to_list(recordlist, record_property, len_of_recordlist = 1):\n",
    "    \"\"\"\n",
    "    Used to convert the result of a cypher query into a python list. \n",
    "    The Cypher Query should return a single property of the node as an alias, ie \n",
    "    graph_db.cypher.execute(\"MATCH (n) RETURN n.record_property AS record_property  \n",
    "    \n",
    "    Parameters\n",
    "    --------------------------------\n",
    "    recordlist: A RecordList object returned by a Cypher.execute command \n",
    "    record_property: The property that was returned by the Cypher.execute command as an alias \n",
    "    len_of_recordlist: the number of nodes returned by the Cypher.execute command. Defaluted to 1\n",
    "    \"\"\"\n",
    "    \n",
    "    count = 0\n",
    "    final_list = []\n",
    "    while count < len_of_recordlist:\n",
    "        command = \"recordlist[\" + str(count) + \"][0]\" +\"['\" + record_property +\"']\"      \n",
    "        final_list.append( eval(command))\n",
    "        count += 1 \n",
    "    return final_list"
   ]
  },
  {
   "cell_type": "code",
   "execution_count": 97,
   "metadata": {
    "collapsed": false
   },
   "outputs": [
    {
     "name": "stdout",
     "output_type": "stream",
     "text": [
      "00.070 03-C-NE-PU\n",
      "90003312\n",
      "90022062\n",
      "90014540\n",
      "90027173\n"
     ]
    }
   ],
   "source": [
    "## Collect a collection of nodes to display\n",
    "# maybe i'll make this a subgraph later '\n",
    "\n",
    "# Get a award node (I picked a random Award number to seach for)\n",
    "# Notice that this Query return only the award number\n",
    "specific_award_node = graph_db.cypher.execute(\"MATCH (m {uniqueawardnumber:'00.070 03-C-NE-PU'}) RETURN m;\")\n",
    "\n",
    "# Collect all the employees that worked on that award\n",
    "# Notice that this Query return only the employee id number \n",
    "associated_employees = graph_db.cypher.execute(\"MATCH (n:Employee) -[r:worked_on]->(a {uniqueawardnumber:'00.070 03-C-NE-PU'}) RETURN n;\") \n",
    "\n",
    "# Count number of employees that worked on that Awars ( this will be used below )\n",
    "num_associtated_employees = graph_db.cypher.execute(\"MATCH (n:Employee) -[r:worked_on]->(a {uniqueawardnumber:'00.070 03-C-NE-PU'}) RETURN COUNT(n);\") \n",
    "\n",
    "# Remember, all the queries above return RecordList objects, which is a little awkward to deal with. So i'm going to use \n",
    "# the function I created, record_to_list(),to convert the infomation I want into a python list \n",
    "\n",
    "# First, I convert the award node ( Note, because the award numbers are unique, I know there are only one of these)\n",
    "specific_award_node = recordlist_to_list(specific_award_node, 'uniqueawardnumber')\n",
    "\n",
    "# Next , I  need the number of Employees who worked on that project \n",
    "num_associtated_employees = graph_db.cypher.execute(\"MATCH (n:Employee) -[r:worked_on]->\\\n",
    "(a {uniqueawardnumber:'00.070 03-C-NE-PU'}) RETURN n;\").to_subgraph().order\n",
    "\n",
    "\n",
    "# Finally, I use the number of employees who worked on that node \n",
    "associated_employees = recordlist_to_list(associated_employees, \"employeeid\", num_associtated_employees)\n",
    "\n",
    "\n",
    "#print award node\n",
    "for item in specific_award_node:\n",
    "    print item\n",
    "\n",
    "#print associated_employees\n",
    "for item in associated_employees:\n",
    "    print item"
   ]
  },
  {
   "cell_type": "code",
   "execution_count": 98,
   "metadata": {
    "collapsed": false
   },
   "outputs": [
    {
     "name": "stdout",
     "output_type": "stream",
     "text": [
      "[u'00.070 03-C-NE-PU', None, u'90022062', u'90003312', u'90027173', u'90014540']\n"
     ]
    },
    {
     "data": {
      "image/png": "[encoded data removed]",
      "text/plain": [
       "<matplotlib.figure.Figure at 0x7f503ceec710>"
      ]
     },
     "metadata": {},
     "output_type": "display_data"
    }
   ],
   "source": [
    "# Creating Networks Objects \n",
    "\n",
    "#Imports that should really be at the top of the notebook \n",
    "import networkx as nx\n",
    "# Allows plots to be showed inline \n",
    "%matplotlib inline\n",
    "# Matplotlib is the default package for\n",
    "# rendering the graphs\n",
    "import matplotlib.pyplot as plt\n",
    "\n",
    "# Create the Networkx Graph \n",
    "G=nx.Graph()\n",
    "\n",
    "# Distonarys to contain colors and labels\n",
    "# Not nessasary\n",
    "custom_node_color = {}\n",
    "custom_labels     = {}\n",
    "\n",
    "#Create the networkx award node \n",
    "award_node = G.add_node(specific_award_node[0])\n",
    "custom_node_color[specific_award_node[0]] = 'r'\n",
    "\n",
    "#Create networkx nodes for the employees that worked on that node \n",
    "for item in associated_employees:\n",
    "    G.add_node(item)\n",
    "    custom_node_color[item] = 'c'\n",
    "    custom_labels[item] = str(item)\n",
    "    # We know at each of these employees are connected to the award, so lets draw those relationshipd \n",
    "    # Note, in Networkx relationships are called edges \n",
    "    G.add_edge(item, award_node)\n",
    "    \n",
    "\n",
    "print G.nodes()\n",
    "nx.draw(G,labels=custom_labels, node_color=custom_node_color.values())\n",
    "plt.show()\n",
    "\n",
    "\n",
    "# Idk why we always get a bonus None node, i like to thnk of it as a gift "
   ]
  },
  {
   "cell_type": "code",
   "execution_count": null,
   "metadata": {
    "collapsed": false
   },
   "outputs": [],
   "source": [
    "import igraph;print igraph.__version__\n",
    "\n",
    "igraph.plot([(1, 2), (2, 3), (3, 4), (4, 1), (4, 5), (5, 2)])"
   ]
  },
  {
   "cell_type": "code",
   "execution_count": null,
   "metadata": {
    "collapsed": true
   },
   "outputs": [],
   "source": [
    "cursor.close()\n",
    "\n",
    "# close connection\n",
    "db.close()"
   ]
  }
 ],
 "metadata": {
  "kernelspec": {
   "display_name": "Python 2",
   "language": "python",
   "name": "python2"
  },
  "language_info": {
   "codemirror_mode": {
    "name": "ipython",
    "version": 2
   },
   "file_extension": ".py",
   "mimetype": "text/x-python",
   "name": "python",
   "nbconvert_exporter": "python",
   "pygments_lexer": "ipython2",
   "version": "2.7.6"
  }
 },
 "nbformat": 4,
 "nbformat_minor": 0
}
