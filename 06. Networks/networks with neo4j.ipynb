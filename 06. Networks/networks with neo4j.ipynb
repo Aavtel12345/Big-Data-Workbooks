{
 "cells": [
  {
   "cell_type": "code",
   "execution_count": null,
   "metadata": {
    "collapsed": false
   },
   "outputs": [],
   "source": [
    "# Imports \n",
    "import sys\n",
    "from py2neo import neo4j, Graph, Relationship\n",
    "from py2neo.cypher import CypherWriter\n",
    "import MySQLdb\n"
   ]
  },
  {
   "cell_type": "code",
   "execution_count": null,
   "metadata": {
    "collapsed": false
   },
   "outputs": [],
   "source": [
    "# Create MySQL connection\n",
    "user = \"\"\n",
    "password = \"\"\n",
    "database = \"starmetrics\"\n",
    "\n",
    "# invoke the connect() function, passing parameters in variables.\n",
    "db = MySQLdb.connect( user = user, passwd = password, db = database )\n",
    "\n",
    "# output basic database connection info.\n",
    "print( db )\n",
    "\n",
    "cursor = db.cursor( MySQLdb.cursors.DictCursor )\n",
    "# Print Curser\n",
    "print(cursor)"
   ]
  },
  {
   "cell_type": "code",
   "execution_count": null,
   "metadata": {
    "collapsed": false
   },
   "outputs": [],
   "source": [
    "# Test SQL \n",
    "\n",
    "\n",
    "# The Following is a Query of the starmetrics database\n",
    "# It collects the following variables for Purdue University between the \n",
    "#years 2008 - 2012:  \n",
    "#From the employee Table: id, employeeid, uniqueawardnumber, employeeoccupation\n",
    "#From the occupation Table: occupationalclassification \n",
    "\n",
    "# NOTE I LIMIT TO 200 BECAUSE THE REST OF THE NOTEBOOK WONT RUN OTHERWISE \n",
    "sql_select = \"SElECT employee.employeeid, employee.uniqueawardnumber, employee.occupation_orig, \\\n",
    "occupation.occupationalclassification \\\n",
    "FROM starmetrics.employee \\\n",
    "INNER JOIN starmetrics.occupation ON \\\n",
    "starmetrics.employee.occupation_orig = occupation.occupation_orig \\\n",
    "WHERE starmetrics.employee.university = 'purdue' AND starmetrics.employee.year BETWEEN 2008 AND 2012 LIMIT 200;\"\n",
    "\n",
    "result_count = cursor.execute(sql_select);\n",
    "\n",
    "# Count the number of rows returned \n",
    "print(\"Found \" + str(result_count) + \" rows\")\n",
    "\n",
    "# Testing\n",
    "one = cursor.fetchone()\n",
    "print(one.keys())\n",
    "print(one)\n",
    "\n",
    "\n",
    "# Store the results of the Query in a list\n",
    "results = cursor.fetchall()\n"
   ]
  },
  {
   "cell_type": "code",
   "execution_count": null,
   "metadata": {
    "collapsed": false,
    "scrolled": true
   },
   "outputs": [],
   "source": [
    "# Create connection to the Neo4jsdatabase using defaults\n",
    "# note, I imported Graph when I imported py2neo\n",
    "graph_db_test = Graph()\n",
    "print graph_db_test\n",
    "\n",
    "#Create the Neo4j Database \n",
    "graph_db_test.create()\n",
    "\n",
    "# Force nodes to have unique employeeids and uniqueawardnumbers\n",
    "graph_db_test.schema.create_uniqueness_constraint(\"employeeid\", \"uniqueawardnumber\")\n"
   ]
  },
  {
   "cell_type": "code",
   "execution_count": null,
   "metadata": {
    "collapsed": true
   },
   "outputs": [],
   "source": [
    "# Use this line to clear all nodes and relationships from the graph\n",
    "#(good for debuging) \n",
    "graph_db_test.delete_all()"
   ]
  },
  {
   "cell_type": "markdown",
   "metadata": {
    "collapsed": true
   },
   "source": [
    "If you want to test Cypher query syntax, This is a good site to experiemtn with;\n",
    "\n",
    "Cypher playground: http://console.neo4j.org/?_ga=1.113286210.459216022.1444237641\n",
    "\n",
    "Warning, I would suggest refreshing this page often "
   ]
  },
  {
   "cell_type": "code",
   "execution_count": null,
   "metadata": {
    "collapsed": false
   },
   "outputs": [],
   "source": [
    "# Above I saved the results of the SQL Query into a list called results\n",
    "# Below I iterate over that list, create properties based on the varibles in the SQL database,\n",
    "# and finaly create an 'employee' node with those properties\n",
    "\n",
    "for employee in results:\n",
    "    id_num = employee['employeeid']\n",
    "    occ_orig = employee['occupation_orig']\n",
    "    occ_class = employee['occupationalclassification']\n",
    "    award_num = employee['uniqueawardnumber']\n",
    "    # Wee tiny bit of data cleaning\n",
    "    if award_num[0] == \"'\":\n",
    "        award_num = award_num[1:len(award_num)]\n",
    "\n",
    "    # Create a node with above infomation (This node is not in the Graph yet though)\n",
    "    new_employee_node = neo4j.Node(\"Employee\", employeeid = id_num, occcupation_orig = occ_orig, \\\n",
    "                      occupationalclassification = occ_class)\n",
    "    new_award_node = neo4j.Node(\"Award\", uniqueawardnumber = award_num)\n",
    "    \n",
    "    new_employee = False\n",
    "    new_award    = False\n",
    "    # Check to see that the employee is not already in the graph \n",
    "    if graph_db_test.find_one(\"Employee\", \"employeeid\", id_num) == None:\n",
    "        new_employee = True\n",
    "        graph_db_test.create( new_employee_node )\n",
    "    \n",
    "        \n",
    "    \n",
    "    # Check to see that the award is not already in the graph \n",
    "    if graph_db_test.find_one(\"Award\", \"uniqueawardnumber\", award_num) == None:\n",
    "        new_award = True\n",
    "        graph_db_test.create( new_award_node )\n",
    "   \n",
    "    # Add relationships between the employees and the awards \n",
    "    # if noth bothe employee and the award are new, create a realtionship between them\n",
    "    if (new_employee & new_award):\n",
    "        new_relationship = Relationship(new_employee_node, \"worked_on\", new_award_node)\n",
    "        graph_db_test.create( new_relationship )\n",
    "    # if jus t he employee is new, then the award must already exisit \n",
    "    elif (new_employee):\n",
    "        # find the exsisting award node \n",
    "        exsitsting_award_node = graph_db_test.find_one(\"Award\", \"uniqueawardnumber\", award_num)\n",
    "        # Create realtionship between that node and the new employee\n",
    "        new_relationship = Relationship(new_employee_node, \"worked_on\", exsitsting_award_node)\n",
    "        graph_db_test.create( new_relationship )\n",
    "    \n",
    "\n"
   ]
  },
  {
   "cell_type": "markdown",
   "metadata": {},
   "source": [
    " At this point we have a graph database that has awards and connected to those nodes are employees. In ASCI art, it looks somthin like this: \n",
    "\n",
    "            A       A \n",
    "           / \\    / | \\ \n",
    "          E   E  E  E  E \n",
    "There is an obvious missing realtionship here, right? Employees that \"worked on\" a grant \"worked with\" the other employees that worked on that grant. What we want is a graph that looks like this:    \n",
    "\n",
    "            A       A \n",
    "           / \\    / | \\ \n",
    "          E-- E  E--E--E \n",
    "            \n",
    "Lets Create those realtionships between employees"
   ]
  },
  {
   "cell_type": "code",
   "execution_count": null,
   "metadata": {
    "collapsed": false
   },
   "outputs": [],
   "source": [
    "# When looking at Employees and Awards, each Award has one to many Employees. So the quickest way to find a group of \n",
    "#employees that worked together is to find individual awards \n",
    "\n",
    "# for this we will use a straingt cypher command \n",
    "# Note, these cypher commands return RecordList Objects, Not Lists \n",
    "\n",
    "# Notice that we are asking Cypher to return n.uniqueawardnumber AS uniqueawardnumber\n",
    "# doingthis will allow us to access this attribute as:  print awards_record[1].uniqueawardnumber\n",
    "awards_record = graph_db_test.cypher.execute(\"MATCH (n:Award) RETURN n, n.uniqueawardnumber AS uniqueawardnumber;\")\n",
    "\n",
    "# Get length of Record \n",
    "awards_record_len = graph_db_test.cypher.execute(\"MATCH (n:Award) RETURN COUNT(*) AS count\")\n",
    "\n",
    "# Get the number of returned nodes as a number \n",
    "awards_record_len = awards_record_len[0].count\n",
    "\n",
    "# The Cypher returned a RecordList Object, but a list would be easiest to work with;\n",
    "\n",
    "\"\"\"\n",
    "The following loop wil add every award number to a list ( I don't need the whole object to find the\n",
    "employees who worked on that award )\n",
    "\n",
    "Note, I find while loops work better for this work than for loops \n",
    "\"\"\"\n",
    "count = 0\n",
    "awards = []\n",
    "while count < awards_record_len:\n",
    "    awards.append(str(awards_record[count].uniqueawardnumber))\n",
    "    count += 1 \n",
    "    \n"
   ]
  },
  {
   "cell_type": "code",
   "execution_count": null,
   "metadata": {
    "collapsed": false
   },
   "outputs": [],
   "source": [
    "# Next we want to get a list of employees that worked on each of those awards \n",
    "\n",
    "# for every award in our award list; \n",
    "count = 0 \n",
    "while count < len(awards):\n",
    "    # Create a Cypher Query that collects the employees that have \"worked_on\" that award;\n",
    "    tx = graph_db_test.cypher.begin()\n",
    "    statment = \"MATCH (n)-[r:worked_on]->(m {uniqueawardnumber:{NUM}}) RETURN n.employeeid AS employeeid;\"\n",
    "    # This bit of code subsitutes NUM for the award number contained in out awards list \n",
    "    tx.append(statment, {\"NUM\": awards[count]})\n",
    "    relivent_employees_record = tx.commit()\n",
    "    \n",
    "    # Create a Query that collects the number employees that have \"worked_on\" that award;\n",
    "    tx = graph_db_test.cypher.begin()\n",
    "    statment = \"MATCH (n)-[r:worked_on]->(m {uniqueawardnumber:{NUM}}) RETURN Count(*) AS count;\"\n",
    "    tx.append(statment, {\"NUM\": awards[count]})\n",
    "    relivent_employees_record_len = tx.commit()\n",
    "    \n",
    "    # Get the number of returned nodes as a number (Cuz remember, the cypher Returns a RecordList)\n",
    "    relivent_employees_record_len = relivent_employees_record_len[0][0].count\n",
    "    \n",
    "    #print relivent_employees_record\n",
    "    #print relivent_employees_record[0][0].employeeid\n",
    "\n",
    "    \n",
    "    #I want emplyees in a list, not a Record Object, \n",
    "    i = 0\n",
    "    relivent_employees = []\n",
    "    while i < relivent_employees_record_len:\n",
    "        relivent_employees.append(str(relivent_employees_record[0][i].employeeid))\n",
    "        i += 1\n",
    "    \n",
    "    # Next create Relatioships between the employees'\n",
    "    \"\"\"\n",
    "    What I'm doing here is saying connect the first employee with each employee that follows it in the list,\n",
    "    then repete the process with the next employee until you reach the end of the list \n",
    "    \n",
    "    There is a bug in the logic here\n",
    "    \"\"\"\n",
    "    current_employee = 0 \n",
    "    while current_employee < len(relivent_employees):\n",
    "        next_employee = current_employee + 1 \n",
    "        while next_employee < len(relivent_employees):\n",
    "            tx = graph_db_test.cypher.begin()\n",
    "            statment = \"MATCH (n {employeeid: {NUM1}}), (m {employeeid: {NUM2}})\\\n",
    "            CREATE (n)-[r:worked_with]->(m) RETURN r;\"  \n",
    "            tx.append(statment, {\"NUM1\": relivent_employees[current_employee], \"NUM2\": relivent_employees[next_employee]})\n",
    "            tx.commit()\n",
    "            next_employee += 1 \n",
    "        current_employee += 1\n",
    "    \n",
    "\n",
    "    #DONT COMMENT THIS OUT REN\n",
    "    count += 1"
   ]
  },
  {
   "cell_type": "code",
   "execution_count": null,
   "metadata": {
    "collapsed": false
   },
   "outputs": [],
   "source": [
    "graph_db_test.cypher.execute(\"MATCH (n)-[r:worked_on]->(m {uniqueawardnumber:'00.070 03-C-NE-PU'}) RETURN COUNT(*);\") "
   ]
  },
  {
   "cell_type": "code",
   "execution_count": null,
   "metadata": {
    "collapsed": false
   },
   "outputs": [],
   "source": [
    "# this will print all the reationships in the graph \n",
    "# ONLY RUN THIS IF YOU ARE USING THE SHORT RESULTS \n",
    "test = graph_db_test.cypher.execute(\"MATCH (n)-[r:worked_with]->(m) RETURN r LIMIT 10;\") \n",
    "print test\n",
    "test.to_subgraph()\n",
    "\n",
    "print test\n"
   ]
  },
  {
   "cell_type": "code",
   "execution_count": null,
   "metadata": {
    "collapsed": false
   },
   "outputs": [],
   "source": [
    "def recordlist_to_list(recordlist, record_property, len_of_recordlist = 1):\n",
    "    \"\"\"\n",
    "    Used to convert the result of a cypher query into a python list. \n",
    "    The Cypher Query should return a single property of the node as an alias, ie \n",
    "    graph_db.cypher.execute(\"MATCH (n) RETURN n.record_property AS record_property  \n",
    "    \n",
    "    Parameters\n",
    "    --------------------------------\n",
    "    recordlist: A RecordList object returned by a Cypher.execute command \n",
    "    record_property: The property that was returned by the Cypher.execute command as an alias \n",
    "    len_of_recordlist: the number of nodes returned by the Cypher.execute command. Defaluted to 1\n",
    "    \"\"\"\n",
    "    \n",
    "    count = 0\n",
    "    final_list = []\n",
    "    while count < len_of_recordlist:\n",
    "        command = \"recordlist[\" + str(count) + \"][0]\" +\"['\" + record_property +\"']\"      \n",
    "        final_list.append( eval(command))\n",
    "        count += 1 \n",
    "    return final_list"
   ]
  },
  {
   "cell_type": "code",
   "execution_count": null,
   "metadata": {
    "collapsed": false
   },
   "outputs": [],
   "source": [
    "## Collect a collection of nodes to display\n",
    "# maybe i'll make this a subgraph later '\n",
    "\n",
    "# Get a award node (I picked a random Award number to seach for)\n",
    "# Notice that this Query return only the award number\n",
    "specific_award_node = graph_db_test.cypher.execute(\"MATCH (m {uniqueawardnumber:'00.070 03-C-NE-PU'}) RETURN m;\")\n",
    "\n",
    "# Collect all the employees that worked on that award\n",
    "# Notice that this Query return only the employee id number \n",
    "associated_employees = graph_db_test.cypher.execute(\"MATCH (n:Employee) -[r:worked_on]->(a {uniqueawardnumber:'00.070 03-C-NE-PU'}) RETURN n;\") \n",
    "\n",
    "# Count number of employees that worked on that Awars ( this will be used below )\n",
    "num_associtated_employees = graph_db_test.cypher.execute(\"MATCH (n:Employee) -[r:worked_on]->(a {uniqueawardnumber:'00.070 03-C-NE-PU'}) RETURN COUNT(n);\") \n",
    "\n",
    "# Remember, all the queries above return RecordList objects, which is a little awkward to deal with. So i'm going to use \n",
    "# the function I created, record_to_list(),to convert the infomation I want into a python list \n",
    "\n",
    "# First, I convert the award node ( Note, because the award numbers are unique, I know there are only one of these)\n",
    "specific_award_node = recordlist_to_list(specific_award_node, 'uniqueawardnumber')\n",
    "\n",
    "# Next , I  need the number of Employees who worked on that project \n",
    "num_associtated_employees = graph_db_test.cypher.execute(\"MATCH (n:Employee) -[r:worked_on]->\\\n",
    "(a {uniqueawardnumber:'00.070 03-C-NE-PU'}) RETURN n;\").to_subgraph().order\n",
    "\n",
    "\n",
    "# Finally, I use the number of employees who worked on that node \n",
    "associated_employees = recordlist_to_list(associated_employees, \"employeeid\", num_associtated_employees)\n",
    "\n",
    "\n",
    "#print award node\n",
    "for item in specific_award_node:\n",
    "    print item\n",
    "\n",
    "#print associated_employees\n",
    "for item in associated_employees:\n",
    "    print item"
   ]
  },
  {
   "cell_type": "code",
   "execution_count": null,
   "metadata": {
    "collapsed": false
   },
   "outputs": [],
   "source": [
    "# Creating Networks Objects \n",
    "\n",
    "#Imports that should really be at the top of the notebook \n",
    "import networkx as nx\n",
    "# Allows plots to be showed inline \n",
    "%matplotlib inline\n",
    "# Matplotlib is the default package for\n",
    "# rendering the graphs\n",
    "import matplotlib.pyplot as plt\n",
    "\n",
    "# Create the Networkx Graph \n",
    "G=nx.Graph()\n",
    "\n",
    "# Distonarys to contain colors and labels\n",
    "# Not nessasary\n",
    "custom_node_color = {}\n",
    "custom_labels     = {}\n",
    "\n",
    "#Create the networkx award node \n",
    "award_node = G.add_node(specific_award_node[0])\n",
    "custom_node_color[specific_award_node[0]] = 'r'\n",
    "\n",
    "#Create networkx nodes for the employees that worked on that node \n",
    "for item in associated_employees:\n",
    "    G.add_node(item)\n",
    "    custom_node_color[item] = 'c'\n",
    "    custom_labels[item] = str(item)\n",
    "    # We know at each of these employees are connected to the award, so lets draw those relationshipd \n",
    "    # Note, in Networkx relationships are called edges \n",
    "    G.add_edge(item, award_node)\n",
    "    \n",
    "\n",
    "print G.nodes()\n",
    "nx.draw(G,labels=custom_labels, node_color=custom_node_color.values())\n",
    "plt.show()\n",
    "\n",
    "\n",
    "# Idk why we always get a bonus None node, i like to thnk of it as a gift "
   ]
  },
  {
   "cell_type": "code",
   "execution_count": null,
   "metadata": {
    "collapsed": false
   },
   "outputs": [],
   "source": [
    "def neo4j_to_networks():\n",
    "    \n",
    "    nodes = {}\n",
    "    #Collect all the nodes \n",
    "    \n",
    "    all_employee_nodes = graph_db_test.cypher.execute(\"MATCH (n:Employee) RETURN n;\")\n",
    "    num_all_employee_nodes = graph_db_test.cypher.execute(\"MATCH (n:Employee) RETURN n;\").to_subgraph().order\n",
    "    \n",
    "    count = 0\n",
    "    while count < num_all_employee_nodes:\n",
    "        current_node =  all_employee_nodes[count][0]\n",
    "        node_type = \"employee\"\n",
    "        id_num = current_node['employeeid']\n",
    "        occ_orig = current_node['occcupation_orig']\n",
    "        occ_class = current_node['occupationalclassification']\n",
    "        nodes[id_num] = {'node_type': node_type, 'occcupation_orig': occ_orig, 'occupationalclassification': occ_class}\n",
    "        count += 1 \n",
    "    \n",
    "    # Now for the award nodes     \n",
    "    all_award_nodes = graph_db_test.cypher.execute(\"MATCH (n:Award) RETURN n;\")\n",
    "    num_all_award_nodes = graph_db_test.cypher.execute(\"MATCH (n:Award) RETURN n;\").to_subgraph().order\n",
    "    \n",
    "    count = 0\n",
    "    while count < num_all_award_nodes:\n",
    "        current_node =  all_award_nodes[count][0]\n",
    "        award_num = current_node['uniqueawardnumber']\n",
    "        node_type = \"award\"\n",
    "        nodes[award_num] = {'node_type': node_type}\n",
    "        count += 1 \n",
    "      \n",
    "#    for node in nodes:\n",
    "#        print node, nodes[node]     \n",
    "    \n",
    "    # Relationships \n",
    "    employee_award_relationships = graph_db_test.cypher.execute(\"MATCH (a:Employee)-[r]-(b:Award) RETURN a.employeeid, type(r), b.uniqueawardnumber;\")\n",
    "    #print employee_award_relationships\n",
    "    \n",
    "    employee_employee_relationships = graph_db_test.cypher.execute(\"MATCH (a:Employee)-[r]->(b:Employee) RETURN a.employeeid, type(r), b.employeeid;\")\n",
    "    #print employee_employee_relationships\n",
    "    \n",
    "    \n",
    "    # Create Networks graph \n",
    "    NG =nx.Graph()\n",
    "    \n",
    "    # Distonarys to contain colors and labels\n",
    "    # Not nessasary\n",
    "    custom_node_color = {}\n",
    "    custom_labels     = {}\n",
    "    \n",
    "    #Create the networkxs nodes \n",
    "    for node in nodes:   \n",
    "        # This next line create a node with the ideification number as the node name and \n",
    "        # populates the node's atributes with the dictonary represtend by nodes[node]\n",
    "        NG.add_node(node, nodes[node])\n",
    "        if nodes[node]['node_type'] == 'award':\n",
    "            custom_node_color[node] = 'r'     \n",
    "        else: \n",
    "            custom_node_color[node] = 'g'\n",
    "\n",
    "    \n",
    "    #print NG.node['90030442']['node_type']\n",
    "    \n",
    "    \n",
    "    # Next, lets create relationships between the nodes based on our dictoarys list above \n",
    "    \n",
    "    for record in employee_award_relationships:\n",
    "        NG.add_edge(record[0], record[2], {'edge_type': record[1]})\n",
    "    \n",
    "    for record in employee_employee_relationships:\n",
    "        NG.add_edge(record[0], record[2], {'edge_type': record[1]})\n",
    "\n",
    "    # Draw the Graph \n",
    "    nx.draw(NG,labels=custom_labels, node_color=custom_node_color.values())\n",
    "    plt.show()\n",
    "    return NG \n",
    "    \n",
    "ma_graph = neo4j_to_networks()"
   ]
  },
  {
   "cell_type": "code",
   "execution_count": null,
   "metadata": {
    "collapsed": false
   },
   "outputs": [],
   "source": []
  },
  {
   "cell_type": "code",
   "execution_count": null,
   "metadata": {
    "collapsed": false,
    "scrolled": false
   },
   "outputs": [],
   "source": []
  },
  {
   "cell_type": "code",
   "execution_count": null,
   "metadata": {
    "collapsed": true
   },
   "outputs": [],
   "source": [
    "cursor.close()\n",
    "\n",
    "# close connection\n",
    "db.close()"
   ]
  }
 ],
 "metadata": {
  "kernelspec": {
   "display_name": "Python 2",
   "language": "python",
   "name": "python2"
  },
  "language_info": {
   "codemirror_mode": {
    "name": "ipython",
    "version": 2
   },
   "file_extension": ".py",
   "mimetype": "text/x-python",
   "name": "python",
   "nbconvert_exporter": "python",
   "pygments_lexer": "ipython2",
   "version": "2.7.6"
  }
 },
 "nbformat": 4,
 "nbformat_minor": 0
}
