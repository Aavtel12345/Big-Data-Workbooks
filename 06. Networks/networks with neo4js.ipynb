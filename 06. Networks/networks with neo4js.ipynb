{
 "cells": [
  {
   "cell_type": "code",
   "execution_count": 59,
   "metadata": {
    "collapsed": false
   },
   "outputs": [],
   "source": [
    "import sys\n",
    "from py2neo import neo4j, Graph #, node, rel\n",
    "import MySQLdb\n"
   ]
  },
  {
   "cell_type": "code",
   "execution_count": 60,
   "metadata": {
    "collapsed": false
   },
   "outputs": [
    {
     "name": "stdout",
     "output_type": "stream",
     "text": [
      "<_mysql.connection open to 'localhost' at 15dee460>\n",
      "<MySQLdb.cursors.DictCursor object at 0x7f991b1455d0>\n"
     ]
    }
   ],
   "source": [
    "# Create MySQL connection\n",
    "user = \"lcdebaca\"\n",
    "password = \"DcMCyskH49CKFnvEjx5C\"\n",
    "database = \"starmetrics\"\n",
    "\n",
    "# invoke the connect() function, passing parameters in variables.\n",
    "db = MySQLdb.connect( user = user, passwd = password, db = database )\n",
    "\n",
    "# output basic database connection info.\n",
    "print( db )\n",
    "\n",
    "cursor = db.cursor( MySQLdb.cursors.DictCursor )\n",
    "# Print Curser\n",
    "print(cursor)"
   ]
  },
  {
   "cell_type": "code",
   "execution_count": 70,
   "metadata": {
    "collapsed": false
   },
   "outputs": [
    {
     "name": "stdout",
     "output_type": "stream",
     "text": [
      "Found 1027382 rows\n",
      "['occupationalclassification', 'occupation_orig', 'employeeid', 'uniqueawardnumber']\n",
      "{'occupationalclassification': 'Faculty', 'occupation_orig': 'FACULTY', 'employeeid': '90014540', 'uniqueawardnumber': '00.070 03-C-NE-PU'}\n"
     ]
    }
   ],
   "source": [
    "# Test SQL with Python\n",
    "\n",
    "# declare variables\n",
    "sql_select = \"\"\n",
    "#result_count = 0 \n",
    "query_results = None\n",
    "#current_row = None \n",
    "\n",
    "# The Following is a Query of the starmetrics database\n",
    "# It collects the following variables for Purdue University between the \n",
    "#years 2008 - 2012:  \n",
    "#From the employee Table: id, employeeid, uniqueawardnumber, employeeoccupation\n",
    "#From the occupation Table: occupationalclassification \n",
    "\n",
    "sql_select = \"SElECT employee.employeeid, employee.uniqueawardnumber, employee.occupation_orig, \\\n",
    "occupation.occupationalclassification \\\n",
    "FROM starmetrics.employee \\\n",
    "INNER JOIN starmetrics.occupation ON \\\n",
    "starmetrics.employee.occupation_orig = occupation.occupation_orig \\\n",
    "WHERE starmetrics.employee.university = 'purdue' AND starmetrics.employee.year BETWEEN 2008 AND 2012;\"\n",
    "\n",
    "result_count = cursor.execute(sql_select);\n",
    "\n",
    "# Count the number of rows returned \n",
    "print(\"Found \" + str(result_count) + \" rows\")\n",
    "\n",
    "\n",
    "\n",
    "# Get a List of Rows returned, so we can loop over them\n",
    "#query_results = cursor.fetchall() \n",
    "\n",
    "# Loop over the results \n",
    "#for current_row in query_results:\n",
    "#    print(current_row)\n",
    "#    print(\"\\n\")\n",
    "\n",
    "# Testing\n",
    "one = cursor.fetchone()\n",
    "print(one.keys())\n",
    "print(one)\n",
    "\n",
    "\n",
    "results = cursor.fetchall()"
   ]
  },
  {
   "cell_type": "markdown",
   "metadata": {},
   "source": [
    "I'm really not sure what is happening on the server when i run this stuff, so i'm going to try and be a bit conservative "
   ]
  },
  {
   "cell_type": "code",
   "execution_count": 64,
   "metadata": {
    "collapsed": false,
    "scrolled": true
   },
   "outputs": [],
   "source": [
    "# Create connection to database using defaults\n",
    "# note, we imported Graph when we imported py2neo\n",
    "graph_db_test = Graph()\n",
    "\n"
   ]
  },
  {
   "cell_type": "code",
   "execution_count": 67,
   "metadata": {
    "collapsed": false
   },
   "outputs": [],
   "source": [
    "# First Things First,\n",
    "# I'm going to Create Some Labels to discrbe my Data in Neo\n",
    "# Actrally lets just make nodes \n",
    "\n",
    "# If we wanted to make a single node, this would be the syntax \n",
    "new_node = neo4j.Node(\"employee\", employeeid = '90014540', uniqueawardnumber = '00.070 03-C-NE-PU', \\\n",
    "            occupation_orig = \"FACULTY\", occupationalclassification = \"Faculty\")\n",
    "\n",
    "# Real Cypher:\n",
    "## CREATE (Employee1:Employee { id_num: \"4\", employeeid:'90014540', uniqueawardnumber:'00.070 03-C-NE-PU',occupation_orig:\"FACULTY\", occupationalclassification:\"Faculty\" })\n",
    "\n",
    "#Cypher playground "
   ]
  },
  {
   "cell_type": "code",
   "execution_count": 72,
   "metadata": {
    "collapsed": false
   },
   "outputs": [],
   "source": [
    "for employee in results:\n",
    "    id_num = employee['employeeid']\n",
    "    occ_orig = employee['occupation_orig']\n",
    "    occ_class = employee['occupationalclassification']\n",
    "    award_num = employee['uniqueawardnumber']\n",
    "    \n",
    "    node = neo4j.Node(\"employee\", employeeid = id_num, uniqueawardnumber = award_num, \\\n",
    "            occupation_orig = occ_orig, occupationalclassification = occ_class)\n",
    "    \n"
   ]
  },
  {
   "cell_type": "code",
   "execution_count": null,
   "metadata": {
    "collapsed": true
   },
   "outputs": [],
   "source": []
  },
  {
   "cell_type": "code",
   "execution_count": 13,
   "metadata": {
    "collapsed": true
   },
   "outputs": [],
   "source": [
    "# Close Cursor\n",
    "cursor.close()\n",
    "\n",
    "# close connection\n",
    "db.close()"
   ]
  }
 ],
 "metadata": {
  "kernelspec": {
   "display_name": "Python 2",
   "language": "python",
   "name": "python2"
  },
  "language_info": {
   "codemirror_mode": {
    "name": "ipython",
    "version": 2
   },
   "file_extension": ".py",
   "mimetype": "text/x-python",
   "name": "python",
   "nbconvert_exporter": "python",
   "pygments_lexer": "ipython2",
   "version": "2.7.6"
  }
 },
 "nbformat": 4,
 "nbformat_minor": 0
}
