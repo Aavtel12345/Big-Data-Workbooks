{
 "metadata": {
  "name": "",
  "signature": "sha256:c0f3e37527e787de1b3e790d7abc6b6cf79e0ce076a42d88f609526ccfe27dd4"
 },
 "nbformat": 3,
 "nbformat_minor": 0,
 "worksheets": [
  {
   "cells": [
    {
     "cell_type": "markdown",
     "metadata": {},
     "source": [
      "# Graph Analysis 101\n",
      "\n",
      "This exercise will involve analyzing collaboration networks.\n",
      "We have access to two types of collaboration data:\n",
      "- awards\n",
      "- patents\n",
      "\n",
      "The first part will involve understanding the data in the database, generating graphs from that data, and then analyzing the graphs.\n",
      "Next step would be to see how those collaboration networks change over time and how they get affected by each other."
     ]
    },
    {
     "cell_type": "markdown",
     "metadata": {},
     "source": [
      "## Raw Data\n",
      "\n",
      "The raw data is in two places:\n",
      "- BigData.researcher_SM_Employee table : This table has the list of employees in Purdue and Caltech that were paid by the same grant. We can use all the researchers or select researchers of a specific type by joining the table to SM_Employee_CIT/Purdue\n",
      "\n",
      "- PatentsView.patent_inventor table: This table has patents and a list of inventors. "
     ]
    },
    {
     "cell_type": "markdown",
     "metadata": {},
     "source": [
      "## Create graph files\n",
      "\n",
      "We first need to create two files from the data in mysql\n",
      "1. node file\n",
      "2. edges file\n",
      "\n",
      "Let's start with the award data\n",
      "\n",
      "select a1.deidentifiedemployeeid, a2.deidentifiedemployeeid from BigData.researcher_SM_Employee a1\n",
      "join BigData.researcher_SM_Employee a2 using (uniqueawardnumber) where a1.deidentifiedemployeeid <> a2.deidentifiedemployeeid;\n",
      "\n",
      "select distinct deidentifiedemployeeid from BigData.researcher_SM_Employee;"
     ]
    },
    {
     "cell_type": "code",
     "collapsed": false,
     "input": [
      "\n",
      "import snap\n",
      "G1 = snap.TUNGraph.New()\n",
      " \n",
      "# we can also use LoadEdgeList   \n",
      "# snap.LoadEdgeList(snap.PUNGraph, \"award_edges_clean.csv\", 0, 1, ',')\n",
      "#load node file and create nodes\n",
      "with open('award_nodes_clean.csv') as f:\n",
      "    for line in f:\n",
      "        #print line.rstrip('\\n')\n",
      "        id = int(line.rstrip('\\n'))\n",
      "        G1.AddNode(id)\n",
      "\n",
      "# load edges file and create edges\n",
      "with open('award_edges_clean.csv') as f:\n",
      "    for line in f:\n",
      "        newline = line.rstrip('\\n')\n",
      "        pair = newline.split(\",\")\n",
      "        n1 = int(pair[0])\n",
      "        n2 = int(pair[1])     \n",
      "        G1.AddEdge(n1,n2)\n",
      "\n",
      "        \n"
     ],
     "language": "python",
     "metadata": {},
     "outputs": []
    },
    {
     "cell_type": "markdown",
     "metadata": {},
     "source": [
      "Now we have the graph created in SNAP and we can analyze it"
     ]
    },
    {
     "cell_type": "code",
     "collapsed": false,
     "input": [
      "G1.GetNodes()"
     ],
     "language": "python",
     "metadata": {},
     "outputs": []
    },
    {
     "cell_type": "code",
     "collapsed": false,
     "input": [
      "G1.GetEdges()"
     ],
     "language": "python",
     "metadata": {},
     "outputs": []
    },
    {
     "cell_type": "code",
     "collapsed": false,
     "input": [
      "Count = snap.CntNonZNodes(G1)\n",
      "print \"Undirected Graph: Count of nodes with degree greater than 0 is %d\" % Count"
     ],
     "language": "python",
     "metadata": {},
     "outputs": []
    },
    {
     "cell_type": "code",
     "collapsed": false,
     "input": [
      "DegToCntV = snap.TIntPrV()\n",
      "snap.GetDegCnt(G1, DegToCntV)\n",
      "for item in DegToCntV:\n",
      "    print \"%d nodes with degree %d\" % (item.GetVal2(), item.GetVal1())\n"
     ],
     "language": "python",
     "metadata": {},
     "outputs": []
    },
    {
     "cell_type": "code",
     "collapsed": false,
     "input": [
      "diam = snap.GetBfsFullDiam(G1, 100)\n",
      "print diam"
     ],
     "language": "python",
     "metadata": {},
     "outputs": []
    },
    {
     "cell_type": "code",
     "collapsed": false,
     "input": [
      "        \n",
      "Count = snap.CntDegNodes(G1, 20)\n",
      "print \"Undirected Graph: Count of nodes with degree 20 is %d\" % Count\n",
      "#snap.DrawGViz(G1, snap.gvlNeato, \"graph_undirected.png\", \"graph 2\", True)\n",
      "\n",
      "snap.PlotOutDegDistr(G1, \"example\", \"Undirected graph - out-degree Distribution\")\n",
      "\n",
      "from IPython.core.display import Image \n",
      "Image(filename='outDeg.example.png') "
     ],
     "language": "python",
     "metadata": {},
     "outputs": []
    },
    {
     "cell_type": "code",
     "collapsed": false,
     "input": [
      "snap.PlotSccDistr(G1, \"example\", \"Undirected graph - scc distribution\")\n",
      "Image(filename='scc.example.png') "
     ],
     "language": "python",
     "metadata": {},
     "outputs": []
    },
    {
     "cell_type": "code",
     "collapsed": false,
     "input": [
      "snap.PlotWccDistr(G1, \"example\", \"Undirected graph - wcc distribution\")\n",
      "Image(filename='wcc.example.png') "
     ],
     "language": "python",
     "metadata": {},
     "outputs": []
    },
    {
     "cell_type": "code",
     "collapsed": false,
     "input": [
      "snap.PlotClustCf(G1, \"example\", \"Directed graph - clustering coefficient\")"
     ],
     "language": "python",
     "metadata": {},
     "outputs": []
    },
    {
     "cell_type": "code",
     "collapsed": false,
     "input": [
      "Image(filename='ccf.example.png')"
     ],
     "language": "python",
     "metadata": {},
     "outputs": []
    },
    {
     "cell_type": "code",
     "collapsed": false,
     "input": [
      "Components = snap.TCnComV()\n",
      "snap.GetSccs(G1, Components)\n",
      "for CnCom in Components:\n",
      "    print \"Size of component: %d\" % CnCom.Len()\n"
     ],
     "language": "python",
     "metadata": {},
     "outputs": []
    },
    {
     "cell_type": "code",
     "collapsed": false,
     "input": [
      "ComponentDist = snap.TIntPrV()\n",
      "snap.GetSccSzCnt(G1, ComponentDist)\n",
      "for comp in ComponentDist:\n",
      "    print \"Size: %d - Number of Components: %d\" % (comp.GetVal1(), comp.GetVal2())\n"
     ],
     "language": "python",
     "metadata": {},
     "outputs": []
    },
    {
     "cell_type": "code",
     "collapsed": false,
     "input": [
      "print snap.IsConnected(G1)"
     ],
     "language": "python",
     "metadata": {},
     "outputs": []
    },
    {
     "cell_type": "code",
     "collapsed": false,
     "input": [
      "CmtyV = snap.TCnComV()\n",
      "modularity = snap.CommunityCNM(G1, CmtyV)\n",
      "#for Cmty in CmtyV:\n",
      "#    print \"Community: \"\n",
      "#    for NI in Cmty:\n",
      "#        print NI\n",
      "print \"The modularity of the network is %f\" % modularity"
     ],
     "language": "python",
     "metadata": {},
     "outputs": []
    },
    {
     "cell_type": "code",
     "collapsed": false,
     "input": [
      "GraphClustCoeff = snap.GetClustCf (G1, 100)\n",
      "print \"Clustering coefficient: %f\" % GraphClustCoeff\n"
     ],
     "language": "python",
     "metadata": {},
     "outputs": []
    },
    {
     "cell_type": "markdown",
     "metadata": {},
     "source": [
      "## Let's look at the Patent data now"
     ]
    },
    {
     "cell_type": "code",
     "collapsed": false,
     "input": [
      "import snap\n",
      "PatentGraph = snap.TUNGraph.New()\n"
     ],
     "language": "python",
     "metadata": {},
     "outputs": []
    }
   ],
   "metadata": {}
  }
 ]
}