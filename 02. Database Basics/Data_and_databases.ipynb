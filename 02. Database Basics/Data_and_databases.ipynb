{
 "cells": [
  {
   "cell_type": "markdown",
   "metadata": {},
   "source": [
    "# Data, Databases, SQL, and interacting with databases using Python"
   ]
  },
  {
   "cell_type": "markdown",
   "metadata": {},
   "source": [
    "## Databases and Python"
   ]
  },
  {
   "cell_type": "markdown",
   "metadata": {},
   "source": [
    "For this exercise, we will be using data contained in the \"homework\" database on the Big Data for Social Science Class Server. This notebook will walk you through accessing the class data using IPython Notebook and while familiarizing you with the available class data."
   ]
  },
  {
   "cell_type": "markdown",
   "metadata": {},
   "source": [
    "### Making and using a database connection"
   ]
  },
  {
   "cell_type": "markdown",
   "metadata": {},
   "source": [
    "Python lets you interact with databases using SQL just like you would in any SQL gui or terminal. Python code can do SELECTs, CREATEs, INSERTs, UPDATEs, and DELETEs, and any other SQL, and the results are returned in a format that lets you interact with them after the SQL statements finish.\n",
    "\n",
    "To interact with a database using python, first you have to connect to the database. "
   ]
  },
  {
   "cell_type": "markdown",
   "metadata": {},
   "source": [
    "To create a database connection, you first must import that database's DB-API implementation, then you call the connect() function, passing it information on where to find the database to which you are trying to connect."
   ]
  },
  {
   "cell_type": "code",
   "execution_count": null,
   "metadata": {
    "collapsed": false
   },
   "outputs": [],
   "source": [
    "# imports\n",
    "import MySQLdb\n",
    "\n",
    "# declare variables\n",
    "user = \"username\"\n",
    "passwd = \"password\"\n",
    "\n",
    "db = MySQLdb.connect(user=user, passwd=passwd, db=\"homework\")"
   ]
  },
  {
   "cell_type": "markdown",
   "metadata": {},
   "source": [
    "Next, you use the connection to create a cursor. A cursor takes SQL written in python, delivers it to the database. It then uses the results and converts them to a format that can be interacted with using python, and returns that transformed, usable response back to you.\n",
    "\n",
    "To make a cursor, call the cursor() method on the connection object instance returned by the call to connect."
   ]
  },
  {
   "cell_type": "code",
   "execution_count": null,
   "metadata": {
    "collapsed": true
   },
   "outputs": [],
   "source": [
    "cur = db.cursor(MySQLdb.cursors.DictCursor)"
   ]
  },
  {
   "cell_type": "markdown",
   "metadata": {},
   "source": [
    "To execute SQL, just pass the SQL statement to the cursor's execute() method and store the result in a variable. \n",
    "\n",
    "To return only the list of variables that are contained in the table - use cur.fetchone()\n",
    "\n",
    "For example: "
   ]
  },
  {
   "cell_type": "code",
   "execution_count": null,
   "metadata": {
    "collapsed": false
   },
   "outputs": [],
   "source": [
    "cur.execute(\"SELECT * FROM OSU_vendor\")\n",
    "\n",
    "list(cur.fetchone())"
   ]
  },
  {
   "cell_type": "markdown",
   "metadata": {},
   "source": [
    "To return a set number of rows that are contained in the table - use cur.fetchmany(size=#)"
   ]
  },
  {
   "cell_type": "code",
   "execution_count": null,
   "metadata": {
    "collapsed": false
   },
   "outputs": [],
   "source": [
    "cur.execute(\"SELECT * FROM OSU_vendor\")\n",
    "\n",
    "list(cur.fetchmany(size=1))"
   ]
  },
  {
   "cell_type": "markdown",
   "metadata": {},
   "source": [
    "To return the full table - use cur.fetchall()\n",
    "\n",
    "Be careful, this can take awhile depending on how big the table is! Before we fetchall for table homework.OSU_vendor, we will count how many rows are in the table."
   ]
  },
  {
   "cell_type": "code",
   "execution_count": null,
   "metadata": {
    "collapsed": false
   },
   "outputs": [],
   "source": [
    "cur.execute(\"SELECT count(*) FROM OSU_vendor\")\n",
    "\n",
    "list(cur.fetchall())"
   ]
  },
  {
   "cell_type": "code",
   "execution_count": null,
   "metadata": {
    "collapsed": false
   },
   "outputs": [],
   "source": [
    "cur.execute(\"SELECT * FROM OSU_vendor\")\n",
    "\n",
    "list(cur.fetchall())"
   ]
  },
  {
   "cell_type": "markdown",
   "metadata": {},
   "source": [
    "And lastly, to close the database connection, we do the following: "
   ]
  },
  {
   "cell_type": "code",
   "execution_count": null,
   "metadata": {
    "collapsed": true
   },
   "outputs": [],
   "source": [
    "# close cursor\n",
    "cur.close()\n",
    "    \n",
    "# close connection\n",
    "db.close()"
   ]
  },
  {
   "cell_type": "markdown",
   "metadata": {},
   "source": [
    "## SQL"
   ]
  },
  {
   "cell_type": "markdown",
   "metadata": {},
   "source": [
    "Now that we know how to make a connection to a database using Ipython, we can begin to master some SQL basics to help you get started with understanding the data and databases available. \n",
    "\n",
    "SQL is a quirky language. It is different from procedural languages like Python and is designed for a very specific purpose: to interact with relational data. It isn't structured like other languages, and while it can make data access easy, it also can make tasks that would be easy in other languages (though perhaps not exceptionally performant) confoundingly complex.  Let's dive in so you can see it for yourself!"
   ]
  },
  {
   "cell_type": "markdown",
   "metadata": {},
   "source": [
    "### Tables we'll look at"
   ]
  },
  {
   "cell_type": "markdown",
   "metadata": {},
   "source": [
    "For these exercises we will use tables in the homework database. These tables were created using data from the starmetrics, umetricsgrants and usptopatents databases. Each of these databases contain different types of information and are available for your use during this class. Also available to you, is your own database. These databases have the same name as your username. \n",
    "\n",
    "Quick description of the data available: "
   ]
  },
  {
   "cell_type": "markdown",
   "metadata": {},
   "source": [
    "### StarMetrics Database"
   ]
  },
  {
   "cell_type": "markdown",
   "metadata": {},
   "source": [
    "The starmetrics database contains transactional data from universities that describe expenditures on federal research grants. The data includes four different types of expenditures: \n",
    "\n",
    "1) employee expenditures - this describes the people by occupation who charged time to federal grants; <br>\n",
    "2) vendor expenditures - this descirbes the businesses that goods were bought from federal grants; <br>\n",
    "3) subaward expenditures - this describes the universities and other institutions that are paid to collaborate from federal grants<br>\n",
    "4) award expenditures - this describes the overhead that is associated with each federal grant<br>"
   ]
  },
  {
   "cell_type": "markdown",
   "metadata": {},
   "source": [
    "### UMETRICS Grants Database "
   ]
  },
  {
   "cell_type": "markdown",
   "metadata": {},
   "source": [
    "The umetricsgrants database contains public data that describes NIH, NSF, USDA & NASA federal awards. This database was created by combining several small databases together to capture all the grant data in one database. The structure of the database tables are different depending on the source of the data."
   ]
  },
  {
   "cell_type": "markdown",
   "metadata": {},
   "source": [
    "### USPTO Patents"
   ]
  },
  {
   "cell_type": "markdown",
   "metadata": {},
   "source": [
    "The USPTOPatents database contains public patent and inventor data. These data include all patents, inventors, assignees and their associated metadata on location, patent classes, etc. "
   ]
  },
  {
   "cell_type": "markdown",
   "metadata": {},
   "source": [
    "### Querying the database"
   ]
  },
  {
   "cell_type": "markdown",
   "metadata": {},
   "source": [
    "The basic method of querying the database is to use a select statement:\n",
    "\n",
    "    SELECT *\n",
    "    FROM OSU_vendor; \n",
    "\n",
    "Where:\n",
    "\n",
    "- Columns or variables that would like returned are put in the SELECT clause (after the word \"SELECT\" but before the word \"FROM\").  An asterisk ( \"\\*\" ) is a wildcard - it will return all columns for a given table.\n",
    "- The name of the table (or names of the tables - more on this in a bit) you want to query is put after the word \"FROM\", in the FROM clause.\n",
    "- It is considered good style to capitalize words in an SQL query that are SQL words, not variables, table names, or values you are filtering on or searching for, ie. SELECT, FROM, WHERE, etc.\n",
    "- Although it isn't always necessary in MySQL, you should end SQL statements with a semi-colon.  It isn't required everywhere, but it is required in some contexts, so better to be aware and get into the habit.\n",
    "\n",
    "Instead of specifying “all” columns ( \"\\*\" ), you can specify which columns you want by name, in a comma-delimited list after \"SELECT\":\n",
    "\n",
    "    SELECT uniqueawardnumber, fipscode, paymentamount\n",
    "    FROM OSU_vendor;\n",
    "\n",
    "You can specify calculations in the list of columns also:\n",
    "\n",
    "    SELECT uniqueawardnumber, ( periodenddate - periodstartdate + 1 )\n",
    "    FROM OSU_vendor;\n",
    "\n",
    "And you can give those new columns names:\n",
    "\n",
    "    SELECT uniqueawardnumber, ( periodenddate - periodstartdate + 1 ) AS num_days\n",
    "    FROM OSU_vendor;\n",
    "    \n",
    "You can also use special keywords and functions in the SELECT clause.  For example, the keyword \"DISTINCT\", which only returns any given value in a given column once:\n",
    "\n",
    "    SELECT DISTINCT uniqueawardnumber\n",
    "    FROM OSU_vendor;\n",
    "    \n",
    "And \"COUNT()\", which returns a count of matching rows rather than a list:\n",
    "    \n",
    "    SELECT COUNT( DISTINCT uniqueawardnumber )\n",
    "    FROM OSU_vendor;"
   ]
  },
  {
   "cell_type": "markdown",
   "metadata": {},
   "source": [
    "### Exercise 1"
   ]
  },
  {
   "cell_type": "code",
   "execution_count": null,
   "metadata": {
    "collapsed": true,
    "nbgrader": {
     "grade": false,
     "grade_id": "D-1",
     "locked": false,
     "solution": true
    }
   },
   "outputs": [],
   "source": [
    "#Create connection to the \"homework\" database \"OSU_vendor\" and \"OSU_grant\" table to answer the following questions: \n",
    "\n",
    "#Create Connection Here: \n",
    "user =\n",
    "passwrd = \n",
    "db =\n",
    "cur =\n",
    "\n",
    "#1) How many distinct vendors are in the OSU vendor data? \n",
    "\n",
    "cur.execute()\n",
    "list(cur.fetchall()) \n",
    "\n",
    "#2) How many distinct topics are in the OSU grant data? \n",
    "\n",
    "cur.execute()\n",
    "list(cur.fetchall())\n",
    "\n",
    "#Close Connection Here: \n"
   ]
  },
  {
   "cell_type": "markdown",
   "metadata": {},
   "source": [
    "### WHERE clauses: Limiting the results"
   ]
  },
  {
   "cell_type": "markdown",
   "metadata": {},
   "source": [
    "In a SELECT query, you can add a WHERE clause to limit the results:\n",
    "\n",
    "    SELECT *\n",
    "    FROM OSU_vendor\n",
    "    WHERE periodstartdate = '2014-06-30';\n",
    "\n",
    "Where:\n",
    "\n",
    "- you are making conditional tests, just like in a Python \"if\" statement.\n",
    "- EXCEPT here, instead of \"==\" being the equality operator, it is just \"=\".\n",
    "- Comparison operators:\n",
    "\n",
    "    - \"**_`=`_**\" - equal to\n",
    "    - \"**_`!=`_**\" or \"**_`<>`_**\" - not equal to\n",
    "    - \"**_`<`_**\" - less than\n",
    "    - \"**_`<=`_**\" - less-than-or-equal-to\n",
    "    - \"**_`>`_**\" - greater than\n",
    "    - \"**_`>=`_**\" - greater-than-or-equal-to\n",
    "    - \"**_`LIKE`_**\" and \"**_`NOT LIKE`_**\" - wild-card matching operator, where percent matches 0 or more characters ( \"%\" ) and an underscore matches any 1 character ( \"_\" ).\n",
    "    - \"**_`IN( value_list )`_**\" and \"**_`NOT IN( value_list )`_**\" - checks whether the value to the left of the \"IN\", usually a column's value in a given row, is either IN or NOT IN the list on the right of the IN.\n",
    "    \n",
    "An example of using LIKE:\n",
    "\n",
    "    SELECT *\n",
    "    FROM OSU_vendor\n",
    "    WHERE uniqueawardnumber LIKE '%EY022601%'\n",
    "\n",
    "You can specify multiple conditions for matching in your WHERE clauses, as well, to more precisely filter the results of your query:\n",
    "\n",
    "    SELECT *\n",
    "    FROM OSU_vendor\n",
    "    WHERE periodstartdate = '2014-06-30' and agency_abbrev = 'NSF'\n",
    "    \n",
    "Note:\n",
    "\n",
    "- when you are matching a column whose type is numeric, you just put the value in the query, with no quotation marks (just like in Python).\n",
    "- when you are filtering a string column, you have to include the value you are looking for (the value on the right-hand side of the equal sign) in single-quotes. They must be single-quotes, too.  Unlike in Python, double-quotes have an entirely different meaning that single quotes in SQL, and can cause your query to fail.\n",
    "\n",
    "Like \"None\" in Python, the signifier of an unset value in a column for a row is special - NULL.  To check for NULL, you use \"IS NULL\" or \"IS NOT NULL\", rather than the \"=\" or \"!=\".\n",
    "\n",
    "    /* find missing values */\n",
    "    SELECT *\n",
    "    FROM OSU_vendor\n",
    "    WHERE institutionid IS NULL;\n",
    "\n",
    "You can also explicitly cut off the number of results your query returns using the LIMIT keyword.  Just LIMITing to 10 only returns the first 10 results for the query:\n",
    "\n",
    "    SELECT *\n",
    "    FROM OSU_vendor\n",
    "    WHERE periodstartdate = '2014-06-30' and agency_abbrev = 'NSF'\n",
    "    LIMIT 10;\n",
    "    \n",
    "You can also use LIMIT to skip to the middle of the results by giving it two numbers, separated by a comma.  The first number is the number of records you want to skip, the second number is how many records you want to include after you skip:\n",
    "\n",
    "    /* skip 10, the output 15 */\n",
    "    SELECT *\n",
    "    FROM OSU_vendor\n",
    "    WHERE periodstartdate = '2014-06-30' and agency_abbrev = 'NSF'\n",
    "    LIMIT 10, 15;"
   ]
  },
  {
   "cell_type": "markdown",
   "metadata": {},
   "source": [
    "### Exercise 2 "
   ]
  },
  {
   "cell_type": "code",
   "execution_count": null,
   "metadata": {
    "collapsed": true,
    "nbgrader": {
     "grade": false,
     "grade_id": "D-2",
     "locked": false,
     "solution": true
    }
   },
   "outputs": [],
   "source": [
    "#Create connection to the \"homework\" database \"OSU_vendor\" and \"OSU_grant\" table to answer the following questions: \n",
    "\n",
    "#Create Connection Here: \n",
    "user =\n",
    "passwrd = \n",
    "db =\n",
    "cur =\n",
    "\n",
    "#1) What is the text that describes Topic 45? \n",
    "\n",
    "cur.execute()\n",
    "list(cur.fetchall()) \n",
    "\n",
    "#2) How well does topic ID 45 fit (percentage) to award number \"1115005\"? \n",
    "\n",
    "cur.execute()\n",
    "list(cur.fetchall())\n",
    "\n",
    "#Close Connection Here: "
   ]
  },
  {
   "cell_type": "markdown",
   "metadata": {},
   "source": [
    "### JOIN: Connecting multiple tables"
   ]
  },
  {
   "cell_type": "markdown",
   "metadata": {},
   "source": [
    "We can specify multiple tables in the FROM clause of a select query. This is called a “join”. However, when we do, we need to remember to specify how to match up rows across the two tables. Usually, there is a column that is the same in both tables that can be used to match them up. For much of the starmetrics database, that would be a column like uniqueawardnumber or award_id. \n",
    "\n",
    "Also, we frequently give tables temporary short names to make it easy to refer to them.\n",
    "\n",
    "    /* Lists the topics associated with each federal award */\n",
    "    SELECT DISTINCT v.uniqueawardnumber, g.topic_text\n",
    "    FROM OSU_vendor v, OSU_grant g\n",
    "    WHERE v.uniqueawardnumber = g.uniqueawardnumber;\n",
    "\n",
    "We can still use regular WHERE clauses in these queries, too, to further filter:\n",
    "\n",
    "    /* Lists the topics for each federal NSF award in 2012 */\n",
    "    SELECT DISTINCT v.uniqueawardnumber, g.topic_text\n",
    "    FROM OSU_vendor v, OSU_grant g\n",
    "    WHERE v.uniqueawardnumber = g.uniqueawardnumber\n",
    "        AND agency_abbrev = \"NSF\"\n",
    "        AND year(periodstartdate) = 2012;\n",
    "\n",
    "Table joins are the most important feature of SQL databases; they are very powerful and allow us to create all kinds of complex queries. You can also join more than two tables if you like."
   ]
  },
  {
   "cell_type": "markdown",
   "metadata": {},
   "source": [
    "### GROUP BY and Aggregate functions"
   ]
  },
  {
   "cell_type": "markdown",
   "metadata": {},
   "source": [
    "Often, one thing that you want to do is to aggregate over multiple rows. For example, \"What is the total expenditures for each award in 2012? To do this, use a GROUP BY clause:\n",
    "\n",
    "    /* sum vendor expenditures by award and filter by 2012 */\n",
    "    SELECT uniqueawardnumber, SUM(paymentamount)\n",
    "    FROM OSU_vendor\n",
    "    WHERE year(periodstartdate) = 2012\n",
    "    GROUP BY uniqueawardnumber;\n",
    "\n",
    "There are a number of useful aggregate functions:\n",
    "\n",
    "- **_SUM(column)_** : Calculate the sum of column for all the rows in each group\n",
    "- **_AVG(column)_** : Calculate the numeric average for all of the rows in each group\n",
    "- **_COUNT(column)_** : Count the number of rows in each group\n",
    "- **_MIN(column) and MAX(column)_** : Find the minimum or maximum value of column in all the rows in each group\n",
    "\n",
    "Often, it can be very powerful to combine GROUP BY and table joins. To figure out these queries, I recommend first getting the join to return the individual rows correctly, and then adding in the GROUP BY and aggregates."
   ]
  },
  {
   "cell_type": "markdown",
   "metadata": {},
   "source": [
    "### Exercise 3 "
   ]
  },
  {
   "cell_type": "code",
   "execution_count": null,
   "metadata": {
    "collapsed": true,
    "nbgrader": {
     "grade": false,
     "grade_id": "D-3",
     "locked": false,
     "solution": true
    }
   },
   "outputs": [],
   "source": [
    "#Create connection to the \"homework\" database \"OSU_vendor\" and \"OSU_grant\" table to answer the following questions: \n",
    "\n",
    "#Create Connection Here: \n",
    "user =\n",
    "passwrd = \n",
    "db =\n",
    "cur =\n",
    "\n",
    "#1) What are the total expenditures in 2012? \n",
    "\n",
    "cur.execute()\n",
    "list(cur.fetchall()) \n",
    "\n",
    "#2) What are the total expenditures in 2012 on NSF grants?  \n",
    "\n",
    "cur.execute()\n",
    "list(cur.fetchall())\n",
    "\n",
    "#) What are the total expenditures in 2012 on NSF grants with topic ID 45?\n",
    "\n",
    "cur.execute()\n",
    "list(cur.fetchall())\n",
    "\n",
    "#Close Connection Here: \n"
   ]
  },
  {
   "cell_type": "markdown",
   "metadata": {},
   "source": [
    "### ORDER BY"
   ]
  },
  {
   "cell_type": "markdown",
   "metadata": {},
   "source": [
    "Normally, the results are returned in the order they appear in the database. However, it can be very useful to re-order the results using ORDER BY\n",
    "\n",
    "    SELECT uniqueawardnumber, paymentamount\n",
    "    FROM OSU_vendor v, OSU_grant g\n",
    "    WHERE v.uniqueawardnumber = g.uniqueawardnumber\n",
    "        AND v.university = g.university\n",
    "    ORDER BY g.award_id\n",
    "\n",
    "(After you specify which column to order by, you can optionally specify either ASC for ascending order, or DESC for descending order.)\n",
    "\n",
    "Using ORDER BY with custom column names can be really useful when combined with GROUP BY:\n",
    "\n",
    "    SELECT uniqueawardnumber, SUM(paymentamount)\n",
    "    FROM OSU_vendor\n",
    "    WHERE year(periodstartdate) = 2012\n",
    "    GROUP BY uniqueawardnumber\n",
    "    ORDER BY sum(paymentamount) DESC"
   ]
  },
  {
   "cell_type": "markdown",
   "metadata": {},
   "source": [
    "### Modifying the database"
   ]
  },
  {
   "cell_type": "markdown",
   "metadata": {},
   "source": [
    "In addition to retrieving information from an existing database, you can also insert data into a database, update existing rows, and delete records using SQL.  Permissions on the homework, starmetrics, umetricsgrants and usptopatents databases will not allow you to modify the databases. For these exercises, we open an additional connection to your individual user database. \n",
    "\n",
    "Here are some example queries:\n",
    "\n",
    "- **CREATE**: Adding a table to a database\n",
    "\n",
    "        CREATE TABLE cjones.data (\n",
    "        ID int(11) auto_increment primary key, \n",
    "        name_first varchar(20)\n",
    "        name_last varchar(30))\n",
    "\n",
    "- **INSERT**: Adding a row to a table\n",
    "\n",
    "        INSERT INTO cjones.data\n",
    "        (name_first, name_last)\n",
    "        VALUES ('Christina', 'Jones')\n",
    "\n",
    "- **UPDATE**: Changing data that is already in a table\n",
    "\n",
    "        UPDATE cjones.data\n",
    "        SET name_last = 'Johnson'\n",
    "        WHERE name_first = 'Christina'\n",
    "        \n",
    "- **ALTER TABLE**: Changing the structure of an existing table\n",
    "\n",
    "        ALTER TABLE cjones.data\n",
    "            ADD COLUMN gender VARCHAR(1) DEFAULT 'F'\n",
    "\n",
    "- **DELETE**: Removing one or more rows from a table\n",
    "\n",
    "        DELETE FROM cjones.data\n",
    "        WHERE name_last = 'johnson'\n",
    "\n",
    "- **DELETE**: removing table from database\n",
    "\n",
    "        DELETE cjones.data\n",
    "\n",
    "\n",
    "Lastly, you can also CREATE a table using an existing table. \n",
    "\n",
    "- **CREATE**: Adding a table to a database\n",
    "\n",
    "        CREATE TABLE cjones.osu_vendor (\n",
    "        SELECT * FROM homework.OSU_vendor\n",
    "        WHERE year(periodstartdate) = 2012\n",
    "        and agency_abbrev = 'NSF');"
   ]
  },
  {
   "cell_type": "markdown",
   "metadata": {},
   "source": [
    "### Exercise 4 "
   ]
  },
  {
   "cell_type": "code",
   "execution_count": null,
   "metadata": {
    "collapsed": true,
    "nbgrader": {
     "grade": false,
     "grade_id": "D-4",
     "locked": false,
     "solution": true
    }
   },
   "outputs": [],
   "source": [
    "#Create connection to the \"homework\" database \"OSU_vendor\" and \"OSU_grant\" tables and to your own database create and modify your own tables.\n",
    "\n",
    "\n",
    "#Create Connection Here: \n",
    "user =\n",
    "passwrd = \n",
    "db =\n",
    "cur =\n",
    "\n",
    "#1) Create a table in your home database with the following parameters - all vendor expenditures on 6-30-2014 with topic ID 45. Use name \"OSU_exp_on_t45\"\n",
    "\n",
    "cur.execute()\n",
    "list(cur.fetchall()) \n",
    "\n",
    "#Close Connection Here: \n"
   ]
  },
  {
   "cell_type": "markdown",
   "metadata": {},
   "source": [
    "## References "
   ]
  },
  {
   "cell_type": "markdown",
   "metadata": {},
   "source": [
    "The tables for this homework were created directly from the starmetrics and umetricsgrants databases. The following SQL code was used to generate the tables: "
   ]
  },
  {
   "cell_type": "code",
   "execution_count": null,
   "metadata": {
    "collapsed": true
   },
   "outputs": [],
   "source": [
    "CREATE TABLE homework.osu_vendor (\n",
    "select periodstartdate, periodenddate, v.uniqueawardnumber, recipientaccountnumber, institutionid, paymentamount, v.university, v.cfda, \n",
    "v.zipcode, fipscode, statecode, countycode, c.agency, agency_abbrev, agency_text, sub_agency_text, program_title\n",
    "FROM starmetrics.vendor v\n",
    "LEFT JOIN starmetrics.zip_to_fip z on z.zipcode = v.zipcode\n",
    "LEFT JOIN starmetrics.cfda c on c.cfda = v.cfda\n",
    "WHERE v.university = \"OSU\"\n",
    "AND periodstartdate >= \"2011-01-01\" AND v.zipcode != \"\" )"
   ]
  },
  {
   "cell_type": "code",
   "execution_count": null,
   "metadata": {
    "collapsed": true
   },
   "outputs": [],
   "source": [
    "CREATE TABLE homework.OSU_grant (\n",
    "SELECT award_id, topic_id, model, application_id, proportion, seq, agency, topic_text, uniqueawardnumber, university \n",
    "FROM umetricsgrants.topiclda t\n",
    "LEFT JOIN umetricsgrants.topiclda_text text using(topic_id, model)\n",
    "LEFT JOIN starmetrics.crosswalk c using(award_id) \n",
    "WHERE t.model = \"NSF\"\n",
    "AND seq = 1\n",
    "AND university = \"OSU\")"
   ]
  }
 ],
 "metadata": {
  "celltoolbar": "Create Assignment",
  "kernelspec": {
   "display_name": "Python 2",
   "language": "python",
   "name": "python2"
  },
  "language_info": {
   "codemirror_mode": {
    "name": "ipython",
    "version": 2
   },
   "file_extension": ".py",
   "mimetype": "text/x-python",
   "name": "python",
   "nbconvert_exporter": "python",
   "pygments_lexer": "ipython2",
   "version": "2.7.6"
  }
 },
 "nbformat": 4,
 "nbformat_minor": 0
}
