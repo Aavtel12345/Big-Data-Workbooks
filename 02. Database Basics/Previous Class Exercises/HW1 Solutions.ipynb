{
 "metadata": {
  "name": "",
  "signature": "sha256:d187898a6164e78383c9b28a640c28e802867f463ce2af1f444ef24a29d18842"
 },
 "nbformat": 3,
 "nbformat_minor": 0,
 "worksheets": [
  {
   "cells": [
    {
     "cell_type": "markdown",
     "metadata": {},
     "source": [
      "# 1. How many payments were made to Caltech graduate students?"
     ]
    },
    {
     "cell_type": "code",
     "collapsed": false,
     "input": [
      "# Create a connection to the database and obtain a database cursor.\n",
      "# By passing the `db` parameter to the `connect` function, queries will\n",
      "# be run relative to the StarMetrics database.\n",
      "\n",
      "import MySQLdb\n",
      "\n",
      "user = \"username\"\n",
      "passwd = \"password\"\n",
      "\n",
      "db = MySQLdb.connect(user=user, passwd=passwd, \n",
      "                     db=\"StarMetrics\")\n",
      "\n",
      "cur = db.cursor(MySQLdb.cursors.DictCursor)"
     ],
     "language": "python",
     "metadata": {},
     "outputs": []
    },
    {
     "cell_type": "code",
     "collapsed": false,
     "input": [
      "# Which ID corresponds to Caltech again?\n",
      "\n",
      "cur.execute(\"select * from Source\")\n",
      "\n",
      "list(cur.fetchall())"
     ],
     "language": "python",
     "metadata": {},
     "outputs": []
    },
    {
     "cell_type": "code",
     "collapsed": false,
     "input": [
      "# Let's get all employee transactions for Caltech and aggregate them by\n",
      "# occupation. We'll figure which occupation corresponds to graduate\n",
      "# students in a moment.\n",
      "\n",
      "cur.execute(\"select * from Employee where sourceid = 1\")\n",
      "\n",
      "from collections import defaultdict\n",
      "occupationcounts = defaultdict(int)\n",
      "\n",
      "for row in cur.fetchall():\n",
      "    occupationcounts[row['occupationalclassification']] += 1\n",
      "    \n",
      "occupationcounts.items()\n",
      "\n",
      "# Looks like we can read our answer from the output"
     ],
     "language": "python",
     "metadata": {},
     "outputs": []
    },
    {
     "cell_type": "markdown",
     "metadata": {},
     "source": [
      "# 2. How many distinct grants were charged by Purdue employees?"
     ]
    },
    {
     "cell_type": "code",
     "collapsed": false,
     "input": [
      "# Use a python set object to count distinct award numbers\n",
      "\n",
      "# From above, we know that the sourceid for Purdue is 3\n",
      "\n",
      "cur.execute(\"select * from Employee where sourceid = 3\")\n",
      "\n",
      "awards = set()\n",
      "\n",
      "for row in cur.fetchall():\n",
      "    awards.add(row['uniqueawardnumber'])\n",
      "    \n",
      "len(awards)"
     ],
     "language": "python",
     "metadata": {},
     "outputs": []
    },
    {
     "cell_type": "markdown",
     "metadata": {},
     "source": [
      "# 3. What are the top 5 vendors (received the most money) for each university?"
     ]
    },
    {
     "cell_type": "code",
     "collapsed": false,
     "input": [
      "# To start with, we'll create a dictionary of the form\n",
      "#   (university, institution_id) => total_amount\n",
      "# Then we'll use python to filter and sort the data to answer the question\n",
      "\n",
      "# This takes a minute to run ...\n",
      "\n",
      "cur.execute(\"select * from Vendor\")\n",
      "\n",
      "amounts = defaultdict(float)\n",
      "\n",
      "for row in cur.fetchall():\n",
      "    key = (row['sourceid'], row['institution_id'])\n",
      "    amounts[key] += row['amount']"
     ],
     "language": "python",
     "metadata": {},
     "outputs": []
    },
    {
     "cell_type": "code",
     "collapsed": false,
     "input": [
      "# Recall that the `items` function for a dictionary returns a list of\n",
      "# key-value pairs:\n",
      "\n",
      "amounts.items()[:5]\n",
      "\n",
      "# We see:\n",
      "# [((sourceid, institution_id), total_amount),\n",
      "#  ((sourceid, institution_id), total_amount), ...]"
     ],
     "language": "python",
     "metadata": {},
     "outputs": []
    },
    {
     "cell_type": "code",
     "collapsed": false,
     "input": [
      "# Let's get the top 5 for Purdue, the other schools are similar.\n",
      "\n",
      "# In the list comprehension:\n",
      "#   k = (sourceid, institution_id)\n",
      "#   v = total_amount\n",
      "\n",
      "purdue_amounts = [(k[1], v) for k, v in amounts.items() if k[0] == 3]\n",
      "\n",
      "# purdue_amounts now contains (institution id, total_amount) pairs, \n",
      "# here is a sample of the data:\n",
      "\n",
      "purdue_amounts[:5]"
     ],
     "language": "python",
     "metadata": {},
     "outputs": []
    },
    {
     "cell_type": "code",
     "collapsed": false,
     "input": [
      "# Now we can sort and take the top 5\n",
      "\n",
      "top_5_purdue = sorted(purdue_amounts, key=lambda x: x[1], reverse=True)[:5]\n",
      "\n",
      "top_5_purdue"
     ],
     "language": "python",
     "metadata": {},
     "outputs": []
    },
    {
     "cell_type": "code",
     "collapsed": false,
     "input": [
      "# But this isn't very informative, let's link in institution names\n",
      "\n",
      "# I want to pass the list of institution IDs to a SQL query.\n",
      "# First extract the instiution_ids from the list and convert them to strings.\n",
      "\n",
      "ids = [str(k) for k, v in top_5_purdue]\n",
      "\n",
      "ids"
     ],
     "language": "python",
     "metadata": {},
     "outputs": []
    },
    {
     "cell_type": "code",
     "collapsed": false,
     "input": [
      "# We will use the `join` function to concatenate the IDs\n",
      "\n",
      "\",\".join(ids)"
     ],
     "language": "python",
     "metadata": {},
     "outputs": []
    },
    {
     "cell_type": "code",
     "collapsed": false,
     "input": [
      "# Now build the query\n",
      "\n",
      "q = \"\"\"select * from BigData.institution\n",
      "       where sourceid = 3\n",
      "       and sourceinstitutionid in ({})\"\"\".format(\",\".join(ids))\n",
      "\n",
      "print(q)"
     ],
     "language": "python",
     "metadata": {},
     "outputs": []
    },
    {
     "cell_type": "code",
     "collapsed": false,
     "input": [
      "cur.execute(q)\n",
      "[row['name'] for row in cur.fetchall()]\n",
      "\n",
      "# ID 0 doesn't correspond to anything in the database :("
     ],
     "language": "python",
     "metadata": {},
     "outputs": []
    },
    {
     "cell_type": "markdown",
     "metadata": {},
     "source": [
      "# 4. Further explore the distribution of occupations for DoE and DoD grants.\n",
      "\n",
      "For my exploration, I create graphics that show how the distribution of occupations changed by year for each institution. I like to use R for statistical graphics. I'll use python to create a CSV file that I can import in R."
     ]
    },
    {
     "cell_type": "code",
     "collapsed": false,
     "input": [
      "# To speed things along, I'm using SQL to create a data set of occupation counts aggregated\n",
      "# by department, occupation, and year.\n",
      "\n",
      "cur.execute(\"\"\"select cfda.federal_agency, sme.occupationalclassification, year(periodstartdate) as year,\n",
      "                      count(distinct sme.researcher_id, sme.uniqueawardnumber) as count\n",
      "               from StarMetrics.Employee sme\n",
      "               inner join BigData.institution_SM_award_cfda icfda using (uniqueawardnumber)\n",
      "               inner join BigData.cfda using (cfda_id)\n",
      "               where cfda.agency_id in (12, 84)\n",
      "               group by cfda.federal_agency, sme.occupationalclassification, year(periodstartdate)\"\"\")\n",
      "\n",
      "# Next we'll save this to a file\n",
      "\n",
      "import csv\n",
      "\n",
      "with open('occupations.csv', 'w') as f:\n",
      "    # The column names correspond with the names in the result set    \n",
      "    columns = ['federal_agency', 'occupationalclassification', 'year', 'count']\n",
      "    \n",
      "    wr = csv.DictWriter(f, columns)\n",
      "    wr.writeheader()\n",
      "    wr.writerows(list(cur.fetchall()))\n",
      "    \n",
      "# Now let's switch over to R ..."
     ],
     "language": "python",
     "metadata": {},
     "outputs": []
    },
    {
     "cell_type": "markdown",
     "metadata": {},
     "source": [
      "# 5. How many patents can be associated with NSF grants?\n",
      "\n",
      "I'm going to take a very loose definition of \"associated\", and simply look for employees that are linked to the patent database and who have worked on an NSF grant at least once."
     ]
    },
    {
     "cell_type": "code",
     "collapsed": false,
     "input": [
      "# For the sake of this exercise, I will assume that any researcher that appears\n",
      "# in the BigData.researcher_patentID link table is \"associated\" with a patent\n",
      "\n",
      "# Collect researcher IDs from BigData.researcher_patentID\n",
      "\n",
      "researcher_inventor = set()\n",
      "cur.execute(\"select * from BigData.researcher_patentDB\")\n",
      "\n",
      "#\n",
      "\n",
      "for row in cur.fetchall():\n",
      "    researcher_inventor.add(row['researcher_id'])\n",
      "    \n",
      "len(researcher_inventor)"
     ],
     "language": "python",
     "metadata": {},
     "outputs": []
    },
    {
     "cell_type": "code",
     "collapsed": false,
     "input": [
      "# Next get the list of awards issued by NSF\n",
      "\n",
      "nsf_awards = set()\n",
      "\n",
      "nsf_agency_id = 47\n",
      "cur.execute(\"\"\"select * \n",
      "               from BigData.institution_SM_award_cfda inst\n",
      "               join BigData.cfda using (cfda_id)\n",
      "               where agency_id = %s\"\"\", \n",
      "            [nsf_agency_id])\n",
      "\n",
      "for row in cur.fetchall():\n",
      "    nsf_awards.add(row['uniqueawardnumber'])\n",
      "    \n",
      "len(nsf_awards)"
     ],
     "language": "python",
     "metadata": {},
     "outputs": []
    },
    {
     "cell_type": "code",
     "collapsed": false,
     "input": [
      "# Now create a set of all researchers that worked on NSF awards\n",
      "# and compute the size of the intersection with the set of inventors\n",
      "\n",
      "researcher_nsf = set()\n",
      "cur.execute(\"select * from Employee\")\n",
      "\n",
      "for row in cur.fetchall():\n",
      "    if row['uniqueawardnumber'] in nsf_awards:\n",
      "        researcher_nsf.add(row['researcher_id'])\n",
      "        \n",
      "len(researcher_nsf & researcher_inventor)"
     ],
     "language": "python",
     "metadata": {},
     "outputs": []
    }
   ],
   "metadata": {}
  }
 ]
}