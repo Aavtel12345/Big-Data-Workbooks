{
 "cells": [
  {
   "cell_type": "markdown",
   "metadata": {},
   "source": [
    "# Intro to managing assignments"
   ]
  },
  {
   "cell_type": "markdown",
   "metadata": {},
   "source": [
    "All of the work managing assignments is completed in the nbgrader `<course_directory>`, while logged in as the user \"instructor\".  For the 2015-fall-big_data class, the `<course_directory>` is `/home/instructor/nbgrader/courses/2015-fall-big_data`.  This IPython notebook, `manage_assignments.ipynb`, should be run from the `<course_directory>`.  Do not try to run it in any other directory.\n",
    "\n",
    "This notebook contains:\n",
    "\n",
    "- instructions on initializing the course's gradebook database.\n",
    "- an overview of the process of making, releasing, collecting, and grading assignments.\n",
    "- tips for troubleshooting problems with assignments."
   ]
  },
  {
   "cell_type": "markdown",
   "metadata": {},
   "source": [
    "# Initialize gradebook database"
   ]
  },
  {
   "cell_type": "markdown",
   "metadata": {},
   "source": [
    "A given course's students, assignments, and grades are stored in that course's gradebook database.  This database file is stored at `<course_directory>/gradebook.db`.  Before you do any work with assignments, you need to initialize the gradebook database by adding students and assignments to it."
   ]
  },
  {
   "cell_type": "markdown",
   "metadata": {},
   "source": [
    "## Add students to the gradebook"
   ]
  },
  {
   "cell_type": "markdown",
   "metadata": {},
   "source": [
    "Before you do anything else, you'll need to add all your students to the gradebook.\n",
    "\n",
    "Assumptions:\n",
    "\n",
    "- as long as the \"source\" directory is in the same directory as this page, everything should be fine.\n",
    "- you'll need to make one line per student.  If you forget a student and then try to grade, there will be errors, so enter all your students right from the start."
   ]
  },
  {
   "cell_type": "code",
   "execution_count": 2,
   "metadata": {
    "collapsed": false
   },
   "outputs": [
    {
     "data": {
      "text/plain": [
       "Student<jmorgan>"
      ]
     },
     "execution_count": 2,
     "metadata": {},
     "output_type": "execute_result"
    }
   ],
   "source": [
    "# create a connection to the db using the nbgrader API\n",
    "from nbgrader.api import Gradebook\n",
    "\n",
    "# connect to the database.\n",
    "gb = Gradebook(\"sqlite:///gradebook.db\")\n",
    "\n",
    "# add some students to the database\n",
    "# template:\n",
    "# gb.add_student( \"<unix_username>\", first_name = \"<first_name>\", last_name = \"<last_name>\" )\n",
    "gb.add_student( \"jmorgan\", first_name = \"Jonathan\", last_name = \"Morgan\" )"
   ]
  },
  {
   "cell_type": "markdown",
   "metadata": {},
   "source": [
    "## Add an assignment to the gradebook"
   ]
  },
  {
   "cell_type": "markdown",
   "metadata": {},
   "source": [
    "Use the code below to add an assignment to the gradebook.  You should just need to set the assignment_name and assignment_due_date fields.  More notes on other options TK.\n",
    "\n",
    "Assumptions:\n",
    "\n",
    "- as long as the \"source\" directory is in the same directory as this page, everything should be fine.\n",
    "- should not need to list out the ipython notebooks in the assignment - you are just telling it the name of the assignment (which is also the name of the folder in \"source\" in which the assignment's notebooks live)."
   ]
  },
  {
   "cell_type": "code",
   "execution_count": 1,
   "metadata": {
    "collapsed": false
   },
   "outputs": [
    {
     "data": {
      "text/plain": [
       "Assignment<06. Networks>"
      ]
     },
     "execution_count": 1,
     "metadata": {},
     "output_type": "execute_result"
    }
   ],
   "source": [
    "import os\n",
    "\n",
    "# remove an existing database\n",
    "#if os.path.exists(\"gradebook.db\"):\n",
    "#    os.remove(\"gradebook.db\")\n",
    "\n",
    "# create a connection to the db using the nbgrader API\n",
    "from nbgrader.api import Gradebook\n",
    "gb = Gradebook(\"sqlite:///gradebook.db\")\n",
    "\n",
    "#==================================\n",
    "# set up assignment call variables\n",
    "#==================================\n",
    "\n",
    "# assignment_name - the name of the folder inside the \"source\" folder that contains\n",
    "#    the ipython notebooks for a given assignment.\n",
    "# example: assignment_name = \"08. Machine Learning\"\n",
    "assignment_name = \"06. Networks\"\n",
    "\n",
    "# assignment_due_date - the date the assignment is due, in format \"YYYY-MM-DD HH:MM:SS:MMMMMM TZ\"\n",
    "# example: assignment_due_date = \"2015-02-01 15:00:00.000000 PST\"\n",
    "assignment_due_date = \"2015-10-01 15:00:00.000000 EST\"\n",
    "\n",
    "# add the assignment to the database and specify a due date\n",
    "gb.add_assignment( assignment_name, duedate = assignment_due_date )"
   ]
  },
  {
   "cell_type": "markdown",
   "metadata": {},
   "source": [
    "<hr />"
   ]
  },
  {
   "cell_type": "markdown",
   "metadata": {},
   "source": [
    "# Assignment workflow after adding to gradebook"
   ]
  },
  {
   "cell_type": "markdown",
   "metadata": {
    "collapsed": true
   },
   "source": [
    "Once you've run the code above to add an assignment to the gradebook, you'll use the `nbgrader` command to:\n",
    "\n",
    "- make a student version of the assignment\n",
    "- release it to the students\n",
    "- check for submissions\n",
    "- gather submissions for grading\n",
    "- autograde all assignments (even those with no auto-grade questions, just so you can use the form grade app).\n",
    "- start the formgrade app to grade assignments that can not be auto-graded.\n",
    "\n",
    "Details on each step of this process, using an example assignment named \"06. Networks\":"
   ]
  },
  {
   "cell_type": "markdown",
   "metadata": {},
   "source": [
    "## 1) render student version - `nbgrader assign \"<assignment>\"`"
   ]
  },
  {
   "cell_type": "markdown",
   "metadata": {},
   "source": [
    "Use the `nbgrader assign \"<assignment>\"` command to render the student version of the notebook:\n",
    "\n",
    "    nbgrader assign \"06. Networks\"\n",
    "    \n",
    "- Example output:\n",
    "    \n",
    "        $ nbgrader assign \"06. Networks\"\n",
    "        Networks\" --IncludeHeaderFooter.header=source/Style\\ Guide.ipynb\n",
    "        [AssignApp | INFO] Converting notebook source/./06. Networks/networks_exercise.ipynb to notebook\n",
    "        [AssignApp | INFO] Writing 11791 bytes to release/./06. Networks/networks_exercise.ipynb\n",
    "        [AssignApp | INFO] Setting destination file permissions to 644  \n",
    "        \n",
    "After the first time you do this, to re-render, then overwrite the existing student version of the assignment:\n",
    "    \n",
    "    nbgrader assign \"06. Networks\" --force\n",
    "        \n",
    "- Example output:\n",
    "    \n",
    "        $ nbgrader assign \"06. Networks\" --force\n",
    "        [AssignApp | WARNING] Removing existing assignment: release/06. Networks\n",
    "        [AssignApp | INFO] Converting notebook source/./06. Networks/networks_exercise.ipynb to notebook\n",
    "        [AssignApp | INFO] Writing 11791 bytes to release/./06. Networks/networks_exercise.ipynb\n",
    "        [AssignApp | INFO] Setting destination file permissions to 644  \n",
    "        \n",
    "- Example output if you forget the `--force`:\n",
    "\n",
    "        $ nbgrader assign \"06. Networks\"\n",
    "        [AssignApp | INFO] Skipping existing assignment: release/06. Networks\n",
    "\n",
    "If you have a header (we don't at the moment):\n",
    "    \n",
    "    nbgrader assign \"06. Networks\" --IncludeHeaderFooter.header=source/Style\\ Guide.ipynb\n",
    "    \n",
    "Running `nbgrader assign \"<assignment>\"` on an assignment renders student versions of the assignment's notebooks, then  places the student versions in a directory named the same as the assignment in the `<course_folder>/release` folder."
   ]
  },
  {
   "cell_type": "markdown",
   "metadata": {},
   "source": [
    "## 2) release student version - `nbgrader release \"<assignment>\"`"
   ]
  },
  {
   "cell_type": "markdown",
   "metadata": {},
   "source": [
    "Use the `nbgrader release \"<assignment>\"` command to place the assignment in the `exchange` folder:\n",
    "\n",
    "    nbgrader release \"08. Machine Learning\"\n",
    "    \n",
    "- Example output:\n",
    "\n",
    "        $ nbgrader release \"06. Networks\"\n",
    "        [ReleaseApp | INFO] Source: /home/instructor/nbgrader/courses/2015-fall-big_data/release/06. Networks\n",
    "        [ReleaseApp | INFO] Destination: /srv/nbgrader/exchange/2015-fall-big_data/outbound/06. Networks\n",
    "        [ReleaseApp | INFO] Released as: 2015-fall-big_data 06. Networks\n",
    "        \n",
    "After the first time you do this, to overwrite the existing copy of the assignment in the exchange:\n",
    "    \n",
    "    nbgrader release \"06. Networks\" --force\n",
    "    \n",
    "- Example output:\n",
    "\n",
    "        $ nbgrader release \"06. Networks\" --force\n",
    "        [ReleaseApp | INFO] Overwriting files: 2015-fall-big_data 06. Networks\n",
    "        [ReleaseApp | INFO] Source: /home/instructor/nbgrader/courses/2015-fall-big_data/release/06. Networks\n",
    "        [ReleaseApp | INFO] Destination: /srv/nbgrader/exchange/2015-fall-big_data/outbound/06. Networks\n",
    "        [ReleaseApp | INFO] Released as: 2015-fall-big_data 06. Networks\n",
    "\n",
    "- Example output if you forget the `--force`:\n",
    "\n",
    "        $ nbgrader release \"06. Networks\"\n",
    "        [ReleaseApp | ERROR] Destination already exists, add --force to overwrite: 2015-fall-big_data 06. Networks\n",
    "        \n",
    "Releasing an assignment places all of that assignment's notebooks in `<exchange_folder>/<class>/outbound/<assignment>/`.  So, for the default exchange directory path (\"/srv/nbgrader/exchange\"), class \"2015-fall-big_data\" and assignment \"06. Networks\", the assignment's notebooks would be placed in:\n",
    "\n",
    "    /srv/nbgrader/exchange/2015-fall-big_data/outbound/06. Networks/"
   ]
  },
  {
   "cell_type": "markdown",
   "metadata": {},
   "source": [
    "## 3) STUDENT - Find assignments - `nbgrader list`"
   ]
  },
  {
   "cell_type": "markdown",
   "metadata": {},
   "source": [
    "Once the assignment has been released, the student can see an assignment has been released by either:\n",
    "\n",
    "- looking in the \"Released assignments\" section of the \"Assignments\" tab.\n",
    "    \n",
    "- OR checking the output of the nbgrader `nbgrader list` command:\n",
    "\n",
    "        nbgrader list\n",
    "        \n",
    "    - Example output:\n",
    "    \n",
    "            $ nbgrader list\n",
    "            [ListApp | INFO] Released assignments:\n",
    "            [ListApp | INFO] 2015-fall-big_data 06. Networks\n"
   ]
  },
  {
   "cell_type": "markdown",
   "metadata": {},
   "source": [
    "## 4) STUDENT - Fetch assignment - `nbgrader fetch \"<assignment>\"`"
   ]
  },
  {
   "cell_type": "markdown",
   "metadata": {},
   "source": [
    "Students can download a released assignment to work on it by either:\n",
    "\n",
    "- clicking on the \"Fetch\" button next to the asignment in the **\"Released assignments\"** section of the **\"Assignments\"** tab.\n",
    "\n",
    "- OR running the `nbgrader fetch \"<assignment>\"` command:\n",
    "    \n",
    "        nbgrader fetch \"08. Machine Learning\"\n",
    "     \n",
    "    - Example output:\n",
    "    \n",
    "            $ nbgrader fetch \"06. Networks\"\n",
    "            [FetchApp | INFO] Source: /srv/nbgrader/exchange/2015-fall-big_data/outbound/06. Networks\n",
    "            [FetchApp | INFO] Destination: /home/jmorgan/Downloads/06. Networks\n",
    "            [FetchApp | INFO] Fetched as: 2015-fall-big_data 06. Networks\n",
    "            \n",
    "If you use the `nbgrader fetch` command, your assignments will be downloaded into the folder in which you run the command.  The \"Fetch\" button will always download your assignments into your home folder.  If you don't want the assignments downloaded directly into your home folder, you must use the command line command rather than the Assignments tab, as the Assignments tab doesn't know to look anywhere other than your home folder for assignments.\n",
    "            \n"
   ]
  },
  {
   "cell_type": "markdown",
   "metadata": {},
   "source": [
    "## 5) STUDENT - Submit assignment - `nbgrader submit \"<assignment>\"`"
   ]
  },
  {
   "cell_type": "markdown",
   "metadata": {},
   "source": [
    "Once the student has completed the notebook(s) that make up the assignment, they can turn the assignment in by either:\n",
    "\n",
    "- clicking on the \"Submit\" button next to the assignment in the \"Downloaded assignments\" section of the \"Assignments\" tab.\n",
    "- OR running the `nbgrader submit \"<assignment>\"` command:\n",
    "    \n",
    "        nbgrader submit \"06. Networks\"\n",
    "            \n",
    "If you used the `nbgrader fetch \"<assignment>\"` command to fetch an assignment to a folder other than your home folder, you will have to use the `nbgrader submit \"<assignment>\"` command in the folder where you downloaded the assignment to submit it, again because the Assignments tab doesn't know to look anywhere other than your home folder for assignments.\n",
    "\n",
    "After a student submits their assignment, the updated notebook(s) are stored in `<exchange_folder>/inbound`, in a folder named `<student_user>+<assignment>+<timestamp>` (example: `jmorgan+06. Networks+2015-08-29 23:33:29 UTC`).  Inside, each notebook submitted by the student for the assignment is stored, as well as a file named `timestamp.txt` that contains the same time stamp as is appended to the folder name."
   ]
  },
  {
   "cell_type": "markdown",
   "metadata": {},
   "source": [
    "## 6) List assignments with submissions - `nbgrader list --inbound`"
   ]
  },
  {
   "cell_type": "markdown",
   "metadata": {},
   "source": [
    "To see which assignments have submissions which can be graded, in the courses directory, the instructor can use the `nbgrader list` command:\n",
    "\n",
    "    nbgrader list --inbound\n",
    "        \n",
    "- Example output (course, then username, then assignment, then submission date):\n",
    "\n",
    "        $ nbgrader list --inbound\n",
    "        [ListApp | INFO] Submitted assignments:\n",
    "        [ListApp | INFO] 2015-fall-big_data jmorgan 06. Networks 2015-08-29 23:33:29 UTC\n"
   ]
  },
  {
   "cell_type": "markdown",
   "metadata": {},
   "source": [
    "## 7) Collect assignments - `nbgrader collect \"<assignment>\"`"
   ]
  },
  {
   "cell_type": "markdown",
   "metadata": {},
   "source": [
    "To collect submitted assignments for grading, after you see submissions in `nbgrader list --inbound`, use the `nbgrader collect \"<assignment>\"` command to collect assignments back into the instructor's grading area from the exchange folder:\n",
    "\n",
    "     nbgrader collect \"06. Networks\"\n",
    "        \n",
    "- Example output:\n",
    "\n",
    "        $ nbgrader collect \"06. Networks\"\n",
    "        [CollectApp | INFO] Collecting submission: jmorgan 06. Networks\n",
    "        \n",
    "After running `nbgrader collect \"<assignment>\"`, the collected assignments are stored in the `<course_directory>/submitted` folder.  Inside, each student has a directory that matches their unix username.\n",
    "\n",
    "Each student's directory contains a folder for each assignment.  Inside each assignment folder are the notebooks that were collected and a timestamp file that holds the date and time the assignment was submitted."
   ]
  },
  {
   "cell_type": "markdown",
   "metadata": {},
   "source": [
    "## 8) Auto-grade assignments - `nbgrader autograde \"<assignment>\"`"
   ]
  },
  {
   "cell_type": "markdown",
   "metadata": {},
   "source": [
    "After you have collected some assignments, you will autograde them using the `nbgrader autograde \"<assignment>\"` command:\n",
    "\n",
    "    nbgrader autograde \"06. Networks\"\n",
    "    \n",
    "- Example output:\n",
    "\n",
    "        [AutogradeApp | INFO] Copying submitted/jmorgan/06. Networks/timestamp.txt -> autograded/jmorgan/06. Networks/timestamp.txt\n",
    "        [AutogradeApp | INFO] SubmittedAssignment<06. Networks for jmorgan> submitted at 2015-08-29 23:33:29\n",
    "        [AutogradeApp | INFO] Overwriting files with master versions from the source directory\n",
    "        [AutogradeApp | INFO] Sanitizing submitted/jmorgan/06. Networks/networks_exercise.ipynb\n",
    "        [AutogradeApp | INFO] Converting notebook submitted/jmorgan/06. Networks/networks_exercise.ipynb to notebook\n",
    "        [AutogradeApp | INFO] Writing 8008 bytes to autograded/jmorgan/06. Networks/networks_exercise.ipynb\n",
    "        [AutogradeApp | INFO] Autograding autograded/jmorgan/06. Networks/networks_exercise.ipynb\n",
    "        [AutogradeApp | INFO] Converting notebook autograded/jmorgan/06. Networks/networks_exercise.ipynb to notebook\n",
    "        [AutogradeApp | INFO] Executing notebook with kernel: python2\n",
    "        [AutogradeApp | INFO] Writing 10097 bytes to autograded/jmorgan/06. Networks/networks_exercise.ipynb\n",
    "        [AutogradeApp | INFO] Setting destination file permissions to 444\n",
    "\n",
    "You must auto-grade all assignments, even those without auto-graded questions, since the form grade app also depends on the output of this command.\n",
    "\n",
    "Once assignments are auto-graded, they are stored in the `<course_directory>/autograded` folder.  Inside, each student has a directory that matches their unix username.\n",
    "\n",
    "Each student's directory contains a folder for each assignment.  Inside each assignment folder are the notebooks that were collected and a timestamp file that holds the date and time the assignment was auto-graded."
   ]
  },
  {
   "cell_type": "markdown",
   "metadata": {},
   "source": [
    "## 9) Start the Formgrade App - `nbgrader formgrade`"
   ]
  },
  {
   "cell_type": "markdown",
   "metadata": {},
   "source": [
    "Before you start the formgrade app, you need to have its properties configured in the nbgrader_config.py file that is in the same folder as this file.  For more details, see [http://nbgrader.readthedocs.org/en/stable/user_guide/11_jupyterhub_config.html#configuring-nbgrader-formgrade](http://nbgrader.readthedocs.org/en/stable/user_guide/11_jupyterhub_config.html#configuring-nbgrader-formgrade).\n",
    "\n",
    "To start the formgrade app while logged in as the instructor user:\n",
    "\n",
    "- open a screen session in which you'll let the app run:\n",
    "\n",
    "        screen\n",
    "        \n",
    "- make sure you are in the <course_directory>.\n",
    "\n",
    "        pwd\n",
    "\n",
    "- export the same `CONFIGPROXY_AUTH_TOKEN` environment variable value as is used to start the jupyterhub itself:\n",
    "\n",
    "        export CONFIGPROXY_AUTH_TOKEN='MwwK6zLQTJBLmpULFxrbAYsAYX4qQ+JpDeeU'\n",
    "    \n",
    "- run `nbgrader formgrade`:\n",
    "\n",
    "        nbgrader formgrade\n",
    "        \n",
    "    - example output:\n",
    "    \n",
    "            "
   ]
  },
  {
   "cell_type": "markdown",
   "metadata": {},
   "source": [
    "<hr/>"
   ]
  },
  {
   "cell_type": "markdown",
   "metadata": {
    "collapsed": true
   },
   "source": [
    "# Troubeshooting notebook errors"
   ]
  },
  {
   "cell_type": "markdown",
   "metadata": {},
   "source": [
    "## nbgrader solution can not be in a normal cell"
   ]
  },
  {
   "cell_type": "markdown",
   "metadata": {},
   "source": [
    "If, when you run `nbgrader assign`, you get the error:\n",
    "\n",
    "    RuntimeError: Solution region detected in a non-solution cell; please make sure all solution regions are within solution cells\n",
    "        \n",
    "It could be because you created your notebook with cells that contain nbgrader (for example, `### BEGIN SOLUTION ###` and `### END SOLUTION ###`), but aren't specified as nbgrader cells using the \"Create Assignment\" cell toolbar.  Make sure that all cells that have solutions are specified correctly as Assignment cells using the toolbar."
   ]
  },
  {
   "cell_type": "markdown",
   "metadata": {},
   "source": [
    "## grade cell point value can not be 0"
   ]
  },
  {
   "cell_type": "markdown",
   "metadata": {},
   "source": [
    "If, when you run `nbgrader assign`, you get the error:\n",
    "\n",
    "    RuntimeError: Point value for grade cell correct_sum_of_squares is invalid:\n",
    "        \n",
    "Make sure that each of your graded Assignment cells has a point value that is greater than or equal to 1 (0 is invalid)."
   ]
  },
  {
   "cell_type": "markdown",
   "metadata": {
    "collapsed": true
   },
   "source": [
    "## make sure you run code cells that just contain a function definition before calling the function"
   ]
  },
  {
   "cell_type": "markdown",
   "metadata": {},
   "source": [
    "If you don't, and then you try to run the function, you'll get a really confusing and amazing explosion of exception messages and stack trace.  Be advised, on the watch for students that do this."
   ]
  },
  {
   "cell_type": "code",
   "execution_count": null,
   "metadata": {
    "collapsed": true
   },
   "outputs": [],
   "source": []
  }
 ],
 "metadata": {
  "kernelspec": {
   "display_name": "Python 3",
   "language": "python",
   "name": "python3"
  },
  "language_info": {
   "codemirror_mode": {
    "name": "ipython",
    "version": 3
   },
   "file_extension": ".py",
   "mimetype": "text/x-python",
   "name": "python",
   "nbconvert_exporter": "python",
   "pygments_lexer": "ipython3",
   "version": "3.4.0"
  }
 },
 "nbformat": 4,
 "nbformat_minor": 0
}
