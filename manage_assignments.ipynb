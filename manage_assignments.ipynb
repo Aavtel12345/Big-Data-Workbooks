{
 "cells": [
  {
   "cell_type": "markdown",
   "metadata": {},
   "source": [
    "# Adding an assignment to the gradebook"
   ]
  },
  {
   "cell_type": "markdown",
   "metadata": {},
   "source": [
    "Use the code below to add an assignment to the gradebook.  You should just need to set the assignment_name and assignment_due_date fields.  More notes on other options TK.\n",
    "\n",
    "Assumptions:\n",
    "\n",
    "- as long as the \"source\" directory is in the same directory as this page, everything should be fine.\n",
    "- should not need to list out the ipython notebooks in the assignment - just telling it where the assignment lives."
   ]
  },
  {
   "cell_type": "code",
   "execution_count": 1,
   "metadata": {
    "collapsed": false
   },
   "outputs": [
    {
     "data": {
      "text/plain": [
       "Assignment<08. Machine Learning>"
      ]
     },
     "execution_count": 1,
     "metadata": {},
     "output_type": "execute_result"
    }
   ],
   "source": [
    "import os\n",
    "\n",
    "# remove an existing database\n",
    "#if os.path.exists(\"gradebook.db\"):\n",
    "#    os.remove(\"gradebook.db\")\n",
    "\n",
    "# create a connection to the db using the nbgrader API\n",
    "from nbgrader.api import Gradebook\n",
    "gb = Gradebook(\"sqlite:///gradebook.db\")\n",
    "\n",
    "#==============================\n",
    "# set up assignment properties\n",
    "#==============================\n",
    "\n",
    "# assignment_name - the name of the folder inside the \"source\" folder that contains\n",
    "#    the ipython notebooks for a given assignment.\n",
    "# example: assignment_name = \"08. Machine Learning\"\n",
    "assignment_name = \"08. Machine Learning\"\n",
    "\n",
    "# assignment_due_date - the date the assignment is due, in format \"YYYY-MM-DD HH:MM:SS:MMMMMM TZ\"\n",
    "# example: assignment_due_date = \"2015-02-01 15:00:00.000000 PST\"\n",
    "assignment_due_date = \"2015-10-01 15:00:00.000000 EST\"\n",
    "\n",
    "# add the assignment to the database and specify a due date\n",
    "gb.add_assignment( assignment_name, duedate = assignment_due_date )"
   ]
  },
  {
   "cell_type": "markdown",
   "metadata": {
    "collapsed": true
   },
   "source": [
    "Once you've run the code above to add an assignment to the gradebook, you'll use the `nbgrader assign` command to make it ready for students to interact with it, and then the `nbgrader release` command to release it to the exchange folder so students can retrieve, complete, and submit it.\n",
    "\n",
    "For the example assignment named \"08. Machine Learning\":\n",
    "\n",
    "        nbgrader assign \"08. Machine Learning\" --IncludeHeaderFooter.header=source/Style\\ Guide.ipynb\n",
    "        \n",
    "        nbgrader release \"08. Machine Learning\""
   ]
  },
  {
   "cell_type": "code",
   "execution_count": null,
   "metadata": {
    "collapsed": true
   },
   "outputs": [],
   "source": []
  }
 ],
 "metadata": {
  "kernelspec": {
   "display_name": "Python 3",
   "language": "python",
   "name": "python3"
  },
  "language_info": {
   "codemirror_mode": {
    "name": "ipython",
    "version": 3
   },
   "file_extension": ".py",
   "mimetype": "text/x-python",
   "name": "python",
   "nbconvert_exporter": "python",
   "pygments_lexer": "ipython3",
   "version": "3.4.0"
  }
 },
 "nbformat": 4,
 "nbformat_minor": 0
}
