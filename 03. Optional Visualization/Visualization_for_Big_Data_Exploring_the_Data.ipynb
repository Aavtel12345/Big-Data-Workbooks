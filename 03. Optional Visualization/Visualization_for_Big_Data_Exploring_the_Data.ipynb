{
 "cells": [
  {
   "cell_type": "markdown",
   "metadata": {},
   "source": [
    "# Visualization for Big Data - Exploring the Data"
   ]
  },
  {
   "cell_type": "markdown",
   "metadata": {
    "collapsed": true
   },
   "source": [
    "For this exercise, we will be using data contained in the \"starmetrics\" database on the Big Data for Social Science Class Server. This notebook will walk you through accessing the starmetrics data using IPython Notebook and help you familiarize you with the available class data.\n",
    "\n",
    "## Table of Contents\n",
    "\n",
    "- [Database Tables](#Database-Tables)\n",
    "\n",
    "- [Creating Your Own Table Using Existing Data Tables](#Creating-Your-Own-Table-Using-Existing-Data-Tables)\n",
    "\n",
    "   - [Exercise 1: Create Table](#Exercise-1:-Create-Table)\n",
    "   - [Continued Practice with Tableau](#Continued-Practice-with-Tableau)\n",
    "\n",
    "- [Resources for Tableau](#Resources-for-Tableau)\n",
    "- [Resources for Keshif](#Resources-for-Keshif)\n"
   ]
  },
  {
   "cell_type": "markdown",
   "metadata": {},
   "source": [
    "## Database Tables\n",
    "\n",
    "- Back to the [Table of Contents](#Table-of-Contents)\n",
    "\n",
    "For these exercises we will begin to branch out into the starmetrics and umetricsgrants databases to help you explore the available class data. Each of these databases contain different types of information and are available for your use during this class. \n",
    "\n",
    "You also have a personal database where you can create and modify tables as you wish, to support your work. Your databases have the same name as your username. \n",
    "\n",
    "For a refresher on the description of the starmetrics, umetricsgrants and usptopatents databases, see (insert link here).\n",
    "\n",
    "For a refresher on how to make a database connection between Tableau and the class server, see (insert link here)."
   ]
  },
  {
   "cell_type": "markdown",
   "metadata": {},
   "source": [
    "## Creating Your Own Table Using Existing Data Tables\n",
    "\n",
    "- Back to the [Table of Contents](#Table-of-Contents)\n",
    "\n",
    "For this class, it is not only important to understand how to query an existing database, but it is also important to be able to create your own tables. The Tableau software, although has amazing visualization capabilites, can be significantly slow the more large and complex your data becomes. Because of this, especially for this class, we suggest that you use SQL or IPython to filter your data before syncing to Tableau. \n",
    "\n",
    "Creating your own table on the class server is very simple. The SQL syntax for creating your own table is below for reference. \n",
    "\n",
    "  CREATE TABLE \"username\".\"new_table\" ( <br>\n",
    "  SELECT * FROM \"database\".\"existing_table\" <br>\n",
    "  );\n",
    "  \n",
    "### Exercise 1: Create Table\n",
    "\n",
    "- Back to the [Table of Contents](#Table-of-Contents)\n",
    "\n",
    "Look up the universities that are available to you in the starmetrics.vendor table and display which universities are available. Then, modify the SQL query that created the homework.OSU_vendor table to include two universities of your choice."
   ]
  },
  {
   "cell_type": "code",
   "execution_count": null,
   "metadata": {
    "collapsed": true
   },
   "outputs": [],
   "source": [
    "# imports\n",
    "import MySQLdb\n",
    "\n",
    "# declare variables - \n",
    "user = \"<username>\"\n",
    "password = \"<password>\"\n",
    "database = \"starmetrics\"\n",
    "\n",
    "# invoke the connect() function, passing parameters in variables.\n",
    "db = MySQLdb.connect( user = user, passwd = password, db = database )\n",
    "\n",
    "# create mysql cursor that maps column names to values in the query result.\n",
    "cursor = db.cursor( MySQLdb.cursors.DictCursor )\n",
    "\n",
    "# declare variables\n",
    "select_string = \"\"\n",
    "column_value = -1 \n",
    "\n",
    "# Query template\n",
    "select_string = \"SELECT DISTINCT university FROM vendor;\"\n",
    "cursor.execute( select_string )\n",
    "row = cursor.fetchall()\n",
    "column_value = row[ \"university\" ]\n",
    "print(column_value)"
   ]
  },
  {
   "cell_type": "markdown",
   "metadata": {},
   "source": [
    "Now using the output to modify the SQL CREATE TABLE query to create a new table in your user database."
   ]
  },
  {
   "cell_type": "code",
   "execution_count": null,
   "metadata": {
    "collapsed": true
   },
   "outputs": [],
   "source": [
    "# use cells at top to connect or re-connect to database and make cursor if needed\n",
    "\n",
    "# declare variables\n",
    "select_string = \"\"\n",
    "column_value = -1\n",
    "\n",
    "    # Query template\n",
    "select_string = \"CREATE TABLE \"<username>.<table_name> (\"\n",
    "select_string += \" SELECT periodstartdate, periodenddate, v.uniqueawardnumber, recipientaccountnumber, institutionid, paymentamount, v.university, v.cfda,\"\n",
    "select_string += \" v.zipcode, fipscode, statecode, countycode, c.agency, agency_abbrev, agency_text, sub_agency_text, program_title\"\n",
    "select_string += \" starmetrics.vendor v\"\n",
    "select_string += \" LEFT JOIN starmetrics.zip_to_fip z on z.zipcode = v.zipcode\"\n",
    "select_string += \" LEFT JOIN starmetrics.cfda c on c.cfda = v.cfda\"\n",
    "select_string += \" WHERE v.university = 'OSU'\"\n",
    "select_string += \" AND periodstartdate >= '2011-01-01' AND v.zipcode != \"\" );\"\n",
    "#cursor.execute( select_string )\n",
    "#row = cursor.fetchone()\n",
    "#column_value = row[ \"payment_sum\" ]"
   ]
  },
  {
   "cell_type": "markdown",
   "metadata": {},
   "source": [
    "## Continued Practice with Tableau\n",
    "\n",
    "- Back to the [Table of Contents](#Table-of-Contents)\n",
    "\n",
    "Using the newly created table(s), design your own dashboard of visualizations to compare/contrast/describe the data using Tableau. "
   ]
  },
  {
   "cell_type": "markdown",
   "metadata": {
    "collapsed": true
   },
   "source": [
    "### Resources for Tableau\n",
    "\n",
    "- Back to the [Table of Contents](#Table-of-Contents)\n",
    "\n",
    "Below you will find a 5-minute video that describes how to create visualizations with Tableau using a very simple, but affective, approach. In addition, the handout follows the progression of the vidoes, but is heavily annotated. \n",
    "\n",
    "Video https://www.youtube.com/watch?v=-4uNv6wuGQ8 <br>\n",
    "Handout https://docs.google.com/presentation/d/1bPn44W15Jq3csc87vld0FWXZpu4cnoqe1Qqob57KvTQ/edit#slide=id.p\n",
    "\n",
    "### Resources for Keshif\n",
    "\n",
    "- Back to the [Table of Contents](#Table-of-Contents)\n",
    "\n",
    "Below you will find similar resources for a dashboard visualization program called Keshif.\n",
    "\n",
    "Video :: https://www.youtube.com/watch?v=3Hmvms-1grU <br>\n",
    "Handout :: https://docs.google.com/presentation/d/1beCw3KiFjWLdVfgp8EICFPNPiuu2UzX8PFbcirJFQVw/edit#slide=id.gc5246df19_0_81\n"
   ]
  }
 ],
 "metadata": {
  "kernelspec": {
   "display_name": "Python 2",
   "language": "python",
   "name": "python2"
  },
  "language_info": {
   "codemirror_mode": {
    "name": "ipython",
    "version": 2
   },
   "file_extension": ".py",
   "mimetype": "text/x-python",
   "name": "python",
   "nbconvert_exporter": "python",
   "pygments_lexer": "ipython2",
   "version": "2.7.6"
  }
 },
 "nbformat": 4,
 "nbformat_minor": 0
}
