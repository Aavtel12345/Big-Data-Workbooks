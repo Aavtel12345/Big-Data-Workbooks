{
 "metadata": {
  "name": "",
  "signature": "sha256:58cc36d9cb2513bcf0fce6dc457dcc89d06e35845fe0d0acb07a5cc9adea6647"
 },
 "nbformat": 3,
 "nbformat_minor": 0,
 "worksheets": [
  {
   "cells": [
    {
     "cell_type": "markdown",
     "metadata": {},
     "source": [
      "# Building a Naive Bayes spam classifier with NLTK\n",
      "\n",
      "We'll follow the same logic as the program from chapter 3 of *Machine Learning for Hackers*, but we'll do so with a workflow more suited to NLTK's functions. So instead of creating a term-document matrix, and building our own Naive Bayes classifier, we'll build a `features` $\\rightarrow$ `label` association for each training e-mail, and feed a list of these to NLTK's `NaiveBayesClassifier` function.\n",
      "\n",
      "Some good references for this are:\n",
      "\n",
      "Bird, Steven and et. al., *Natural Language Processing with Python*\n",
      "\n",
      "Perkins, Jacob, *Python Text Processing with NLTK 2.0 Cookbook*\n",
      "\n",
      "\n"
     ]
    },
    {
     "cell_type": "code",
     "collapsed": false,
     "input": [
      "from pandas import *\n",
      "import numpy as np\n",
      "import os\n",
      "import re\n",
      "from nltk import NaiveBayesClassifier\n",
      "import nltk.classify\n",
      "from nltk.tokenize import wordpunct_tokenize\n",
      "from nltk.corpus import stopwords\n",
      "from collections import defaultdict\n",
      "import random"
     ],
     "language": "python",
     "metadata": {},
     "outputs": [],
     "prompt_number": 14
    },
    {
     "cell_type": "markdown",
     "metadata": {},
     "source": [
      "## Loading the e-mail messages into lists\n",
      "\n",
      "E-mails of each type --spam, \"easy\" ham, and \"hard\" ham-- are split across two directories per type. We'll use the first directories of spam and \"easy\" ham to train the classifier. Then we'll test the classifier on the e-mails in the second directories."
     ]
    },
    {
     "cell_type": "code",
     "collapsed": false,
     "input": [
      "data_path = os.path.abspath(os.path.join('.', '../sectorflat/'))\n",
      "class1_path = os.path.join(data_path, 'basicmaterialssector')\n",
      "class2_path = os.path.join(data_path, 'financialsector')\n",
      "class3_path = os.path.join(data_path, 'technologysector')\n",
      "\n"
     ],
     "language": "python",
     "metadata": {},
     "outputs": [],
     "prompt_number": 5
    },
    {
     "cell_type": "markdown",
     "metadata": {},
     "source": [
      "The following function loads all the files in a directory, extracts their text and returns them in a list."
     ]
    },
    {
     "cell_type": "code",
     "collapsed": false,
     "input": [
      "def get_msgdir(path):\n",
      "    '''\n",
      "    Read all documents from files in a directory into\n",
      "    a list where each item is the text of the document. \n",
      "    \n",
      "    Simply gets a list of files in a directory,\n",
      "    and iterates get_msg() over them.\n",
      "\n",
      "    Returns a list of strings.\n",
      "    '''\n",
      "    filelist = os.listdir(path)\n",
      "    filelist = filter(lambda x: x != 'cmds', filelist)\n",
      "    all_msgs =[get_msg(os.path.join(path, f)) for f in filelist]\n",
      "    return all_msgs\n",
      "\n",
      "def get_msg(path):\n",
      "    '''\n",
      "    Returns a string.\n",
      "    '''\n",
      "    with open(path, 'rU') as con:\n",
      "        msg = con.readlines()\n",
      "        #first_blank_index = msg.index('\\n')\n",
      "        #msg = msg[(first_blank_index + 1): ]\n",
      "        return ''.join(msg) "
     ],
     "language": "python",
     "metadata": {},
     "outputs": [],
     "prompt_number": 4
    },
    {
     "cell_type": "markdown",
     "metadata": {},
     "source": [
      "We'll use the functions to make training and testing message lists for each type of e-mail."
     ]
    },
    {
     "cell_type": "code",
     "collapsed": false,
     "input": [
      "class1_docs = get_msgdir(class1_path)\n",
      "random.shuffle(class1_docs)\n",
      "print len(class1_docs)\n",
      "\n",
      "class2_docs = get_msgdir(class2_path)\n",
      "random.shuffle(class2_docs)\n",
      "print len(class2_docs)\n",
      "\n",
      "class3_docs = get_msgdir(class3_path)\n",
      "random.shuffle(class3_docs)\n",
      "print len(class3_docs)\n"
     ],
     "language": "python",
     "metadata": {},
     "outputs": [
      {
       "output_type": "stream",
       "stream": "stdout",
       "text": [
        "949\n",
        "290\n",
        "500\n"
       ]
      }
     ],
     "prompt_number": 16
    },
    {
     "cell_type": "code",
     "collapsed": false,
     "input": [
      "train_class1 = class1_docs[:500]\n",
      "test_class1 = class1_docs[500:]\n",
      "\n",
      "train_class2 = class2_docs[:150]\n",
      "test_class2 = class2_docs[150:]\n",
      "\n",
      "train_class3 = class3_docs[:250]\n",
      "test_class3 = class3_docs[250:]\n"
     ],
     "language": "python",
     "metadata": {},
     "outputs": [],
     "prompt_number": 17
    },
    {
     "cell_type": "markdown",
     "metadata": {},
     "source": [
      "## Extracting word features "
     ]
    },
    {
     "cell_type": "markdown",
     "metadata": {},
     "source": [
      "### Parsing and tokenizing the documents\n",
      "\n",
      "We're going to use NLTK's `wordpunct_tokenize` function to break the message into tokens. This splits tokens at white space and (most) punctuation marks, and returns the punctuation along with the tokens on each side. So `\"I don't know. Do you?\"` becomes `[\"I\", \"don\", \"'\", \"t\", \"know\", \".\", \"Do\", \"you\", \"?\"]`.\n",
      "\n",
      "If you look through some of the training e-mails in `train_spam_messages` and `train_ham_messages`, you'll notice a few features that make extracting words tricky.\n",
      "\n",
      "First, there are a couple of odd text artefacts. The string '3D' shows up in strange places in HTML attributes and other places, and we'll remove these. Furthermore there seem to be some mid-word line wraps flagged with an '=' where the word is broken across lines. For example, the work 'apple' might be split across lines like 'app=\\nle'.  We want to strip these out so we can recover 'apple'. We'll want to deal with all these first, before we apply the tokenizer.\n",
      "\n",
      "Second, there's a lot of HTML in the documents. We'll have to decide first whether we want to keep HTML info in our set of words. If we do, we'll apply `wordpunct_tokenize` to some HTML, for example:\n",
      "\n",
      "`\"<HEAD></HEAD><BODY><!-- Comment -->\"`\n",
      "\n",
      "and it will tokenize to:\n",
      "\n",
      "`[\"<\", \"HEAD\", \"></\", \"HEAD\", \"><\", \"BODY\", \"><!--\", \"Comment\", \"-->\"]`\n",
      "\n",
      "So if we drop the punctuation tokens, and get the unique set of what remains, we'd have `{\"HEAD\", \"BODY\", \"Comment\"}`, which seems like what we'd want. For example, it's nice that this method doesn't make, `<HEAD>` and `</HEAD>` separate words in our set, but just captures the existence of this tag with the term `\"HEAD\"`. It might be a problem that we won't distinguish between the HTML tag `<HEAD>` and \"head\" used as an English word in the message. But for the moment I'm willing to bet that sort of conflation won't have a big affect on the classifier.\n",
      "\n",
      "If we don't want to count HTML information in our set of words, we can set the `strip_html` to `True`, and we'll take all the HTML tags out before tokenizing.\n",
      "\n",
      "Lastly we'll strip out any \"stopwords\" from the set. Stopwords are highly common, therefore low information words, like \"a\", \"the\", \"he\", etc. Below I'll use `stopwords`, downloaded from NLTK's corpus library, with a minor modifications to deal with this. (In other programs I've used the stopwords exported from R's `tm` package.)\n",
      "\n",
      "Note that because our tokenizer splits contractions (\"she'll\" $\\rightarrow$ \"she\", \"ll\"), we'd like to drop the ends (\"ll\"). Some of these may be picked up in NLTK's `stopwords` list, others we'll manually add. It's an imperfect, but easy solution. There are more sophisticated ways of dealing with this which are overkill for our purposes.\n",
      "\n",
      "Tokenizing, as perhaps you can tell, is a non-trivial operation. NLTK has a host of other tokenizing functions of varying sophistication, and even lets you define your own tokenizing rule using regex."
     ]
    },
    {
     "cell_type": "code",
     "collapsed": false,
     "input": [
      "def get_msg_words(msg, stopwords = [], strip_html = True):\n",
      "    '''\n",
      "    Returns the set of unique words contained in an e-mail message. Excludes \n",
      "    any that are in an optionally-provided list. \n",
      "\n",
      "    NLTK's 'wordpunct' tokenizer is used, and this will break contractions.\n",
      "    For example, don't -> (don, ', t). Therefore, it's advisable to supply\n",
      "    a stopwords list that includes contraction parts, like 'don' and 't'.\n",
      "    '''\n",
      "    \n",
      "    # Strip out weird '3D' artefacts.\n",
      "    msg = re.sub('3D', '', msg)\n",
      "    \n",
      "    # Strip out html tags and attributes and html character codes,\n",
      "    # like &nbsp; and &lt;.\n",
      "    if strip_html:\n",
      "        msg = re.sub('<(.|\\n)*?>', ' ', msg)\n",
      "        msg = re.sub('&\\w+;', ' ', msg)\n",
      "    \n",
      "    # wordpunct_tokenize doesn't split on underscores. We don't\n",
      "    # want to strip them, since the token first_name may be informative\n",
      "    # moreso than 'first' and 'name' apart. But there are tokens with long\n",
      "    # underscore strings (e.g. 'name_________'). We'll just replace the\n",
      "    # multiple underscores with a single one, since 'name_____' is probably\n",
      "    # not distinct from 'name___' or 'name_' in identifying spam.\n",
      "    msg = re.sub('_+', '_', msg)\n",
      "\n",
      "    # Note, remove '=' symbols before tokenizing, since these are\n",
      "    # sometimes occur within words to indicate, e.g., line-wrapping.\n",
      "    msg_words = set(wordpunct_tokenize(msg.replace('=\\n', '').lower()))\n",
      "     \n",
      "    # Get rid of stopwords\n",
      "    msg_words = msg_words.difference(stopwords)\n",
      "    \n",
      "    # Get rid of punctuation tokens, numbers, and single letters.\n",
      "    msg_words = [w for w in msg_words if re.search('[a-zA-Z]', w) and len(w) > 1]\n",
      "    \n",
      "    return msg_words"
     ],
     "language": "python",
     "metadata": {},
     "outputs": [],
     "prompt_number": 18
    },
    {
     "cell_type": "markdown",
     "metadata": {},
     "source": [
      "The stopwords list. While it contains some terms to account for contractions, we'll add a couple more."
     ]
    },
    {
     "cell_type": "code",
     "collapsed": false,
     "input": [
      "sw = stopwords.words('english')\n",
      "sw.extend(['ll', 've'])"
     ],
     "language": "python",
     "metadata": {},
     "outputs": [],
     "prompt_number": 19
    },
    {
     "cell_type": "markdown",
     "metadata": {},
     "source": [
      "### Making a `(features, label)` list\n",
      "\n",
      "The `NaiveBayesClassifier` function trains on data that's of the form `[(features1, label1), features2, label2), ..., (featuresN, labelN)]` where `featuresi` is a dictionary of features for e-mail `i` and `labeli` is the label for e-mail `i' (\"spam\" or \"ham\"). \n",
      "\n",
      "The function `features_from_messages` iterates through the messages creating this list, but calls an outside function to create the `features` for each e-mail. This makes the function modular in case we decide to try out some other method of extracting features from the e-mails besides the set of word. It then combines the features to the e-mail's label in a tuple and adds the tuple to the list.\n",
      "\n",
      "The `word_indicator` function calls `get_msg_words()` to get an e-mail's words as a set, then creates a dictionary with entries `{word: True}` for each word in the set. This is a little counter-intuitive (since we don't have `{word: False}` entries for words not in the set) but `NaiveBayesClassifier` knows how to handle it."
     ]
    },
    {
     "cell_type": "code",
     "collapsed": false,
     "input": [
      "def features_from_messages(messages, label, feature_extractor, **kwargs):\n",
      "    '''\n",
      "    Make a (features, label) tuple for each message in a list of a certain,\n",
      "    label of e-mails ('spam', 'ham') and return a list of these tuples.\n",
      "\n",
      "    Note every e-mail in 'messages' should have the same label.\n",
      "    '''\n",
      "    features_labels = []\n",
      "    for msg in messages:\n",
      "        features = feature_extractor(msg, **kwargs)\n",
      "        features_labels.append((features, label))\n",
      "    return features_labels\n",
      "\n",
      "def word_indicator(msg, **kwargs):\n",
      "    '''\n",
      "    Create a dictionary of entries {word: True} for every unique\n",
      "    word in a message.\n",
      "\n",
      "    Note **kwargs are options to the word-set creator,\n",
      "    get_msg_words().\n",
      "    '''\n",
      "    features = defaultdict(list)\n",
      "    msg_words = get_msg_words(msg, **kwargs)\n",
      "    for  w in msg_words:\n",
      "            features[w] = True\n",
      "    return features"
     ],
     "language": "python",
     "metadata": {},
     "outputs": [],
     "prompt_number": 20
    },
    {
     "cell_type": "markdown",
     "metadata": {},
     "source": [
      "## Training and evaluating the classifier"
     ]
    },
    {
     "cell_type": "markdown",
     "metadata": {},
     "source": [
      "The following is just a helper function to make training and testing data from the messages. Notice we combine the training spam and training ham into a single set, since we need to train our classifier on data with both spam and ham in it."
     ]
    },
    {
     "cell_type": "code",
     "collapsed": false,
     "input": [
      "def make_train_test_sets(feature_extractor, **kwargs):\n",
      "    '''\n",
      "    Make (feature, label) lists for each of the training \n",
      "    and testing lists.\n",
      "    '''\n",
      "    train_class1_data = features_from_messages(train_class1, 'class1', \n",
      "                                        feature_extractor, **kwargs)\n",
      "    train_class2_data = features_from_messages(train-class2, 'class2', \n",
      "                                       feature_extractor, **kwargs)\n",
      "    \n",
      "    train_class3_data = features_from_messages(train-class2, 'class3', \n",
      "                                       feature_extractor, **kwargs)\n",
      "    \n",
      "    train_set = train_class1_data + train_class2_data\n",
      "\n",
      "    test_class1_data = features_from_messages(test_class1, 'class1',\n",
      "                                       feature_extractor, **kwargs)\n",
      "\n",
      "    test_class2_data = features_from_messages(test_class2, 'class2',\n",
      "                                      feature_extractor, **kwargs)\n",
      "\n",
      "    test_class3_data = features_from_messages(test_hardham_messages, 'class3',\n",
      "                                          feature_extractor, **kwargs)\n",
      "    \n",
      "    test_set = test_class1_data + test_class2_data\n",
      "    return train_set, test_set, test_class1_data, text_class2_data"
     ],
     "language": "python",
     "metadata": {},
     "outputs": [],
     "prompt_number": 22
    },
    {
     "cell_type": "markdown",
     "metadata": {},
     "source": [
      "Finally we make a function to run the classifier and check its accuracy on test data. After training the classifier, we check how accurately it classifies data in new spam, \"easy\" ham, and \"hard\" ham datasets. \n",
      "\n",
      "The function then prints out the results of `NaiveBayesClassifiers`'s handy `show_most_informative_features` method. This shows which features are most unique to one label or another. For example, if \"viagra\" shows up in 500 of the spam e-mails, but only 2 of the \"ham\" e-mails in the training set, then the method will show that \"viagra\" is one of the most informative features with a `spam:ham` ratio of 250:1."
     ]
    },
    {
     "cell_type": "code",
     "collapsed": false,
     "input": [
      "def check_classifier(feature_extractor, **kwargs):\n",
      "    '''\n",
      "    Train the classifier on the training spam and ham, then check its accuracy\n",
      "    on the test data, and show the classifier's most informative features.\n",
      "    '''\n",
      "    \n",
      "    # Make training and testing sets of (features, label) data\n",
      "    train_set, test_set, test_class1_data, text_class2_data  = \\\n",
      "        make_train_test_sets(feature_extractor, **kwargs)\n",
      "    \n",
      "    # Train the classifier on the training set\n",
      "    classifier = NaiveBayesClassifier.train(train_set)\n",
      "    \n",
      "    # How accurate is the classifier on the test sets?\n",
      "    print ('Test Spam accuracy: {0:.2f}%'\n",
      "       .format(100 * nltk.classify.accuracy(classifier, test_class1_data)))\n",
      "    print ('Test Ham accuracy: {0:.2f}%'\n",
      "       .format(100 * nltk.classify.accuracy(classifier, test_class2_data)))\n",
      "  \n",
      "    # Show the top 20 informative features\n",
      "    print classifier.show_most_informative_features(20)"
     ],
     "language": "python",
     "metadata": {},
     "outputs": [],
     "prompt_number": 23
    },
    {
     "cell_type": "markdown",
     "metadata": {},
     "source": [
      "First, we run the classifier keeping all the HTML information in the feature set. The accuracy at identifying spam and ham is very high. Unsurprisingly, we do a lousy job at identifying hard ham. \n",
      "\n",
      "This may be because our training set is relying too much on HTML tags to identify spam. As we can see, HTML info comprises all the `most_informative_features`."
     ]
    },
    {
     "cell_type": "code",
     "collapsed": false,
     "input": [
      "check_classifier(word_indicator, stopwords = [])"
     ],
     "language": "python",
     "metadata": {},
     "outputs": [
      {
       "ename": "NameError",
       "evalue": "global name 'train' is not defined",
       "output_type": "pyerr",
       "traceback": [
        "\u001b[0;31m---------------------------------------------------------------------------\u001b[0m\n\u001b[0;31mNameError\u001b[0m                                 Traceback (most recent call last)",
        "\u001b[0;32m<ipython-input-24-9855725577fb>\u001b[0m in \u001b[0;36m<module>\u001b[0;34m()\u001b[0m\n\u001b[0;32m----> 1\u001b[0;31m \u001b[0mcheck_classifier\u001b[0m\u001b[0;34m(\u001b[0m\u001b[0mword_indicator\u001b[0m\u001b[0;34m,\u001b[0m \u001b[0mstopwords\u001b[0m \u001b[0;34m=\u001b[0m \u001b[0;34m[\u001b[0m\u001b[0;34m]\u001b[0m\u001b[0;34m)\u001b[0m\u001b[0;34m\u001b[0m\u001b[0m\n\u001b[0m",
        "\u001b[0;32m<ipython-input-23-a98d4e217d5c>\u001b[0m in \u001b[0;36mcheck_classifier\u001b[0;34m(feature_extractor, **kwargs)\u001b[0m\n\u001b[1;32m      6\u001b[0m \u001b[0;34m\u001b[0m\u001b[0m\n\u001b[1;32m      7\u001b[0m     \u001b[0;31m# Make training and testing sets of (features, label) data\u001b[0m\u001b[0;34m\u001b[0m\u001b[0;34m\u001b[0m\u001b[0m\n\u001b[0;32m----> 8\u001b[0;31m     \u001b[0mtrain_set\u001b[0m\u001b[0;34m,\u001b[0m \u001b[0mtest_set\u001b[0m\u001b[0;34m,\u001b[0m \u001b[0mtest_class1_data\u001b[0m\u001b[0;34m,\u001b[0m \u001b[0mtext_class2_data\u001b[0m  \u001b[0;34m=\u001b[0m         \u001b[0mmake_train_test_sets\u001b[0m\u001b[0;34m(\u001b[0m\u001b[0mfeature_extractor\u001b[0m\u001b[0;34m,\u001b[0m \u001b[0;34m**\u001b[0m\u001b[0mkwargs\u001b[0m\u001b[0;34m)\u001b[0m\u001b[0;34m\u001b[0m\u001b[0m\n\u001b[0m\u001b[1;32m      9\u001b[0m \u001b[0;34m\u001b[0m\u001b[0m\n\u001b[1;32m     10\u001b[0m     \u001b[0;31m# Train the classifier on the training set\u001b[0m\u001b[0;34m\u001b[0m\u001b[0;34m\u001b[0m\u001b[0m\n",
        "\u001b[0;32m<ipython-input-22-165b65f35592>\u001b[0m in \u001b[0;36mmake_train_test_sets\u001b[0;34m(feature_extractor, **kwargs)\u001b[0m\n\u001b[1;32m      6\u001b[0m     train_class1_data = features_from_messages(train_class1, 'class1', \n\u001b[1;32m      7\u001b[0m                                         feature_extractor, **kwargs)\n\u001b[0;32m----> 8\u001b[0;31m     train_class2_data = features_from_messages(train-class2, 'class2', \n\u001b[0m\u001b[1;32m      9\u001b[0m                                        feature_extractor, **kwargs)\n\u001b[1;32m     10\u001b[0m \u001b[0;34m\u001b[0m\u001b[0m\n",
        "\u001b[0;31mNameError\u001b[0m: global name 'train' is not defined"
       ]
      }
     ],
     "prompt_number": 24
    },
    {
     "cell_type": "markdown",
     "metadata": {},
     "source": [
      "If we try just using the text of the messages, without the HTML tags and information, we lose a tiny bit of accuracy in identifying spam but do much better with the hard ham."
     ]
    },
    {
     "cell_type": "code",
     "collapsed": false,
     "input": [
      "check_classifier(word_indicator, stopwords = [], strip_html = True)"
     ],
     "language": "python",
     "metadata": {},
     "outputs": [
      {
       "output_type": "stream",
       "stream": "stdout",
       "text": [
        "Test Spam accuracy: 36.35%\n",
        "Test Ham accuracy: 97.78%"
       ]
      },
      {
       "output_type": "stream",
       "stream": "stdout",
       "text": [
        "\n",
        "Test Hard Ham accuracy: 91.00%"
       ]
      },
      {
       "output_type": "stream",
       "stream": "stdout",
       "text": [
        "\n",
        "Most Informative Features\n",
        "                     dec = None             spam : ham    =     24.6 : 1.0"
       ]
      },
      {
       "output_type": "stream",
       "stream": "stdout",
       "text": [
        "\n",
        "                     job = True              ham : spam   =     17.7 : 1.0\n",
        "                     nov = None              ham : spam   =     17.0 : 1.0\n",
        "               portfolio = True              ham : spam   =     16.3 : 1.0\n",
        "              california = True              ham : spam   =     15.0 : 1.0\n",
        "                  donald = True             spam : ham    =     15.0 : 1.0\n",
        "                    loan = True              ham : spam   =     15.0 : 1.0\n",
        "                     san = True              ham : spam   =     13.7 : 1.0\n",
        "                      ar = True             spam : ham    =     13.7 : 1.0\n",
        "            capabilities = True             spam : ham    =     13.4 : 1.0\n",
        "              throughout = True              ham : spam   =     13.0 : 1.0\n",
        "               investors = True              ham : spam   =     12.6 : 1.0\n",
        "                    want = True              ham : spam   =     12.3 : 1.0\n",
        "                  client = True              ham : spam   =     11.8 : 1.0\n",
        "                     dec = True              ham : spam   =     11.7 : 1.0\n",
        "                virginia = True              ham : spam   =     11.7 : 1.0\n",
        "                  pounds = True             spam : ham    =     11.7 : 1.0\n",
        "                 atlanta = True              ham : spam   =     11.7 : 1.0\n",
        "                commerce = True              ham : spam   =     11.0 : 1.0\n",
        "                   alert = True              ham : spam   =     10.3 : 1.0\n",
        "None\n"
       ]
      }
     ],
     "prompt_number": 17
    },
    {
     "cell_type": "code",
     "collapsed": false,
     "input": [],
     "language": "python",
     "metadata": {},
     "outputs": []
    }
   ],
   "metadata": {}
  }
 ]
}