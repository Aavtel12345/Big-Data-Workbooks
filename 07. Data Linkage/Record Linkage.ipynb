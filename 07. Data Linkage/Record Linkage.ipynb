{
 "cells": [
  {
   "cell_type": "markdown",
   "metadata": {},
   "source": [
    "# Parsing"
   ]
  },
  {
   "cell_type": "code",
   "execution_count": null,
   "metadata": {
    "collapsed": false
   },
   "outputs": [],
   "source": [
    "# Load the dissertations into into python. I'm using a pandas data frame object for convenience.\n",
    "\n",
    "import csv\n",
    "import pandas as pd\n",
    "\n",
    "dissertations = pd.read_csv(\"dissertations.csv\")\n",
    "dissertations.head()"
   ]
  },
  {
   "cell_type": "code",
   "execution_count": null,
   "metadata": {
    "collapsed": false
   },
   "outputs": [],
   "source": [
    "# The authors are given in \"last name, first name\" format.\n",
    "\n",
    "dissertations[\"author\"].head()"
   ]
  },
  {
   "cell_type": "code",
   "execution_count": null,
   "metadata": {
    "collapsed": false
   },
   "outputs": [],
   "source": [
    "# Try to create a variable that contains the last name of every author. I'll get you started.\n",
    "# This function will extract everything in a string up until the first space:\n",
    "\n",
    "def getlastname(s):\n",
    "    words = s.split()\n",
    "    return words[0]\n",
    "\n",
    "# We can then apply it to every string in the \"author\" column of our data frame\n",
    "\n",
    "dissertations[\"author\"].map(getlastname)\n",
    "\n"
   ]
  },
  {
   "cell_type": "code",
   "execution_count": null,
   "metadata": {
    "collapsed": false
   },
   "outputs": [],
   "source": [
    "# The resulting last names have trailing commas. Can you do better?\n",
    "# Hint: The string function \"find\" returns the index of the first occurrence of its argument:\n",
    "\n",
    "print(\"Apple\".find(\"ppl\"))\n",
    "print(\"Banana\".find(\"nan\"))\n",
    "print(\"Carrot\".find(\"xy\"))\n",
    "\n",
    "# Hint 2: Use the python \"slice\" syntax to extract substrings from a string.\n",
    "\n",
    "s = \"apophenia\"\n",
    "s[1:4]"
   ]
  },
  {
   "cell_type": "code",
   "execution_count": null,
   "metadata": {
    "collapsed": false
   },
   "outputs": [],
   "source": [
    "# Can you write a function to extract the first name from the \"author\" field?\n",
    "# Be careful: names in the author field can contain a middle initial, which follows the first name.\n",
    "\n",
    "def getfirstname(s):\n",
    "    # edit this function to return the first name\n",
    "    return s\n",
    "\n",
    "dissertations[\"author\"].map(getfirstname)"
   ]
  },
  {
   "cell_type": "markdown",
   "metadata": {},
   "source": [
    "# Regular Expressions"
   ]
  },
  {
   "cell_type": "markdown",
   "metadata": {},
   "source": [
    "Sometimes we want to define more complex text searchers. Regular expressions are a mini-language for searching text. Regular expressions are *powerful*, but they quickly become *complex*. \n",
    "\n",
    "> Some people, when confronted with a problem, think \"I know, I'll use regular expressions.\" Now they have two problems. \n",
    "\n",
    "> &mdash; Jamie Zawinski\n",
    "\n",
    "Recall that we are trying to extract the first and last names from the \"author\" field:"
   ]
  },
  {
   "cell_type": "code",
   "execution_count": null,
   "metadata": {
    "collapsed": false
   },
   "outputs": [],
   "source": [
    "dissertations[\"author\"].head()"
   ]
  },
  {
   "cell_type": "markdown",
   "metadata": {},
   "source": [
    "Above, you used basic python functions to try to split the names into first and last name components. In this section we'll use regular expressions to accomplish this task."
   ]
  },
  {
   "cell_type": "code",
   "execution_count": null,
   "metadata": {
    "collapsed": false
   },
   "outputs": [],
   "source": [
    "import re"
   ]
  },
  {
   "cell_type": "markdown",
   "metadata": {},
   "source": [
    "In words, this is how I would explain where to find the last name component in the author field: \"starting from the beginning of the line, take all the characters until you see a comma.\" We can build a regular expression that captures this idea from the following components:\n",
    "* `^` Matches beginning of the line\n",
    "* `.` Matches any character\n",
    "* `+` A modifier that means \"match one or more of the preceding expression\"\n",
    "The comma is not a special character in regular expressions, so it will match itself."
   ]
  },
  {
   "cell_type": "code",
   "execution_count": null,
   "metadata": {
    "collapsed": false
   },
   "outputs": [],
   "source": [
    "m = re.search(r\"^.+,\", \"Su, Yu-Wen\")\n",
    "m"
   ]
  },
  {
   "cell_type": "markdown",
   "metadata": {},
   "source": [
    "Two things:\n",
    "* We used \"raw\" string syntax `r\"\"` to prevent python from escaping any special characters that might appear in our regular expression.\n",
    "* If the regular expression matches something in the searched string, then `m` holds a python match-data object. Otherwise, it will be `None`.\n",
    "\n",
    "To see the matched substring, use the `group` function."
   ]
  },
  {
   "cell_type": "code",
   "execution_count": null,
   "metadata": {
    "collapsed": false
   },
   "outputs": [],
   "source": [
    "m.group()"
   ]
  },
  {
   "cell_type": "markdown",
   "metadata": {},
   "source": [
    "This is almost what we want, but it would be nice if we weren't also capturing the comma. The problem is that we need the comma in our regular expression in order to know where the last name ends. The solution is to use regular expression groups by putting parentheses around parts of the regular expression that we want to refer to later.\n",
    "* `(...)` Creates a group that can be referred to later."
   ]
  },
  {
   "cell_type": "code",
   "execution_count": null,
   "metadata": {
    "collapsed": false
   },
   "outputs": [],
   "source": [
    "m = re.search(r\"^(.*),\", \"Su, Yu-Wen\")\n",
    "\n",
    "print(m.group())\n",
    "print(m.group(1))"
   ]
  },
  {
   "cell_type": "markdown",
   "metadata": {},
   "source": [
    "In a match-data object `m`, `m.group(1)` will show you what was matched by the expression between the first set of parentheses,  `m.group(2)` will show you what was matched by the expression between the second set of parentheses, and so on. `m.group()` is a synonym for `m.group(0)` and it always refers to what was matched by the entire regular expression.\n",
    "\n",
    "Now try to write a regular expression that will match the first name of the author (or to keep it simple, write a regular expression to match the first word after the comma). In addition to the bits of regular expressions we saw above, you might want to use one of the following:\n",
    "* `\\w` Matches a single alphanumeric character\n",
    "* `\\W` Matches anything that is not an alphanumeric character\n",
    "* `\\s` Matches a single whitespace character\n",
    "* `\\S` Matches anything that is not a whitespace character."
   ]
  },
  {
   "cell_type": "code",
   "execution_count": null,
   "metadata": {
    "collapsed": false
   },
   "outputs": [],
   "source": [
    "regex = r\"\" # fill in your regular expression here\n",
    "m = re.search(regex, \"Su, Yu-Wen\")"
   ]
  },
  {
   "cell_type": "markdown",
   "metadata": {},
   "source": [
    "Does your regular expression work for all author names? The following code snipped will show you names that aren't matched by your regular expression."
   ]
  },
  {
   "cell_type": "code",
   "execution_count": null,
   "metadata": {
    "collapsed": false
   },
   "outputs": [],
   "source": [
    "[name for name in dissertations[\"author\"] if not re.search(regex, name)]"
   ]
  },
  {
   "cell_type": "markdown",
   "metadata": {},
   "source": [
    "Regular expressions are a powerful tool and we're barely scratching the surface. \n",
    "\n",
    "## References\n",
    "* Python documentation: https://docs.python.org/2/library/re.html#regular-expression-syntax\n",
    "* Online regular expression tester (good for learning): http://regex101.com/"
   ]
  },
  {
   "cell_type": "markdown",
   "metadata": {},
   "source": [
    "# String Comparators"
   ]
  },
  {
   "cell_type": "markdown",
   "metadata": {},
   "source": [
    "Here is one possible solution to find the first word after the comma "
   ]
  },
  {
   "cell_type": "code",
   "execution_count": null,
   "metadata": {
    "collapsed": false
   },
   "outputs": [],
   "source": [
    "# fwac stands for \"first word after comma\".\n",
    "# In this example I compile my regular expression so that subsequent invocations are faster.\n",
    "fwac = re.compile(r\"^.*,\\s?(\\w+)\")\n",
    "fwac.search(\"Su, Yu-Wen\").group(1)\n",
    "\n",
    "# I will wrap my regular expression in a function that returns a blank string when no match is found.\n",
    "# This allows me to handle malformed data. I also convert the names to lowercase so that I don't have\n",
    "# to worry about letter case later on.\n",
    "\n",
    "def getfirstname(s):\n",
    "    m = fwac.search(s)\n",
    "    if m:\n",
    "        return m.group(1).lower()\n",
    "    else:\n",
    "        return ''\n",
    "    \n",
    "# Now add a \"firstname\" field to the dissertations data rame\n",
    "\n",
    "dissertations[\"firstname\"] = dissertations[\"author\"].map(getfirstname)\n",
    "dissertations[\"firstname\"].head()"
   ]
  },
  {
   "cell_type": "code",
   "execution_count": null,
   "metadata": {
    "collapsed": false
   },
   "outputs": [],
   "source": [
    "# Let's add a \"lastname\" column while we're at it.\n",
    "\n",
    "bc = re.compile(r\"^([^,]*),\")\n",
    "\n",
    "def getlastname(s):\n",
    "    m = bc.search(s)\n",
    "    if m:\n",
    "        return m.group(1).lower()\n",
    "    else:\n",
    "        return ''\n",
    "    \n",
    "dissertations[\"lastname\"] = dissertations[\"author\"].map(getlastname)\n",
    "dissertations[\"lastname\"].head()"
   ]
  },
  {
   "cell_type": "markdown",
   "metadata": {},
   "source": [
    "In this section you can play around with some different string comparator algorithms which are provided by the [jellyfish](https://github.com/sunlightlabs/jellyfish) package."
   ]
  },
  {
   "cell_type": "code",
   "execution_count": null,
   "metadata": {
    "collapsed": false
   },
   "outputs": [],
   "source": [
    "import jellyfish as jl"
   ]
  },
  {
   "cell_type": "code",
   "execution_count": null,
   "metadata": {
    "collapsed": false
   },
   "outputs": [],
   "source": [
    "# Create a set of all distinct first names. \n",
    "\n",
    "fns = set([s.lower() for s in dissertations[\"firstname\"]])"
   ]
  },
  {
   "cell_type": "markdown",
   "metadata": {},
   "source": [
    "Let's find which names in the data are most similar to yours using the Levenshtein distance (aka edit distance). First, type your name using all lowercase letters here:"
   ]
  },
  {
   "cell_type": "code",
   "execution_count": null,
   "metadata": {
    "collapsed": false
   },
   "outputs": [],
   "source": [
    "my_name = \"joshua\""
   ]
  },
  {
   "cell_type": "markdown",
   "metadata": {},
   "source": [
    "In the next step, we will define a higher-order function. This is a function that takes a function as a parameter and returns a new function as a result. This will be a little mind-bending if you haven't seen it before. I want you to define a function that:\n",
    "* takes a string comparator function as an argument\n",
    "* returns a function that takes a string as an argument, compares it to your name, and returns the result"
   ]
  },
  {
   "cell_type": "code",
   "execution_count": null,
   "metadata": {
    "collapsed": false
   },
   "outputs": [],
   "source": [
    "def my_name_comparator(string_comparator):\n",
    "    def func(s):\n",
    "        # compare s to my_name using string_comparator and return the result\n",
    "        return\n",
    "    \n",
    "    return func"
   ]
  },
  {
   "cell_type": "code",
   "execution_count": null,
   "metadata": {
    "collapsed": false
   },
   "outputs": [],
   "source": [
    "# We can now define a function that will compare an arbitrary string to your name using edit distance and return the result.\n",
    "# levenshtein_distance is the name of a function in the jellyfish package, which we aliased to jl\n",
    "\n",
    "my_name_levenshtein_comparator = my_name_comparator(jl.levenshtein_distance)"
   ]
  },
  {
   "cell_type": "code",
   "execution_count": null,
   "metadata": {
    "collapsed": false
   },
   "outputs": [],
   "source": [
    "# Try it!\n",
    "print(my_name_levenshtein_comparator(\"joshau\"))\n",
    "print(my_name_levenshtein_comparator(\"joseph\"))\n",
    "print(my_name_levenshtein_comparator(\"guiseppe\"))"
   ]
  },
  {
   "cell_type": "markdown",
   "metadata": {},
   "source": [
    "We now have all the pieces we need to:\n",
    "* Take the set of unique first names we created above\n",
    "* Create a list of (name, distance) tuples by comparing first names to your name using the my_name_levenshtein_comparator function\n",
    "* Sort the list be increasing distance\n",
    "* Print the top 20 result"
   ]
  },
  {
   "cell_type": "code",
   "execution_count": null,
   "metadata": {
    "collapsed": false
   },
   "outputs": [],
   "source": [
    "# What are the top 20 names closest to your name using Levenshtein distance?"
   ]
  },
  {
   "cell_type": "markdown",
   "metadata": {},
   "source": [
    "Because we defined the `my_name_comparator` function above, we can easily repeat this exercise using any of the other string comparator functions in the jellyfish package. See how the top 20 names change if you use one of these distances instead:\n",
    "* `jl.jaro_distance`\n",
    "* `jl.jaro_winkler`\n",
    "* `jl.damerau_levenshtein_distance`\n",
    "* `jl.hamming_distance`"
   ]
  },
  {
   "cell_type": "markdown",
   "metadata": {},
   "source": [
    "# Fellegi-Sunter Record Linkage"
   ]
  },
  {
   "cell_type": "markdown",
   "metadata": {},
   "source": [
    "In this section we will \"manually\" perform the steps in Fellegi-Sunter record linkage. This is a demonstration and not a set of exercises (I don't leave pieces for you to fill in). My intention is to illustrate the Fellegi-Sunter algorithm by breaking it into bitesize pieces. \n",
    "\n",
    "In our example we will compare first names and last names using Levenshtein distance. In the Fellegi-Sunter algorithm, the result of a field comparison is assumed to follow a multinomial distribution. That means it can only take on finitely many values. Therefore we will define a function that compares to strings and returns the value 2, 1, or 0 to indicate an exact match, a nearly exact match, or anything else."
   ]
  },
  {
   "cell_type": "code",
   "execution_count": null,
   "metadata": {
    "collapsed": false
   },
   "outputs": [],
   "source": [
    "def fuzzy_string_comparator(s1, s2):\n",
    "    n = jl.levenshtein_distance(s1, s2)\n",
    "    if n == 0:\n",
    "        return 2\n",
    "    if n <= 2:\n",
    "        return 1\n",
    "    else:\n",
    "        return 0\n",
    "    \n",
    "print(fuzzy_string_comparator(\"joshua\", \"joshua\"))\n",
    "print(fuzzy_string_comparator(\"joshua\", \"joshau\"))\n",
    "print(fuzzy_string_comparator(\"joshua\", \"todd\"))"
   ]
  },
  {
   "cell_type": "markdown",
   "metadata": {},
   "source": [
    "The above function compares *fields* in a record. Next, we define a function that compares *records*. My record comparison function assumes that records will have the form of a tuple: (identifier, first name, last name). It returns a length 2 tuple that gives the result of applying our fuzzy string comparator to the first name and to the last name."
   ]
  },
  {
   "cell_type": "code",
   "execution_count": null,
   "metadata": {
    "collapsed": false
   },
   "outputs": [],
   "source": [
    "def comparison_vector(rec1, rec2):\n",
    "    \"\"\"rec1 and rec2 have the form (id, first name, last name)\"\"\"\n",
    "    m = fuzzy_string_comparator(rec1[1], rec2[1])\n",
    "    n = fuzzy_string_comparator(rec1[2], rec2[2])\n",
    "    return (m, n)\n",
    "\n",
    "print(comparison_vector((1, \"joshua\", \"tokle\"), (2, \"joshua\", \"smith\")))\n",
    "print(comparison_vector((3, \"joshua\", \"tokle\"), (4, \"josue\", \"tolke\")))"
   ]
  },
  {
   "cell_type": "markdown",
   "metadata": {},
   "source": [
    "Next, we need to define m-weights and u-weights. An m-weight is the probability of seeing a particular field comparison outcome given that we are comparing two records that represent the same individual. A u-weight is the probability of seeing a particular field outcome given that we are comparing two records that do *not* represent the same individual. For example, if two records represent the same person, the first and last names should match with high probability (the m-weights for the comparison value 2 should be large). On the other hand, suppose we had month of birth in our data set. The probability that two random individuals will agree on month of birth is about 1/12, so we would assign a u-weight of about 1/12 to this outcome.\n",
    "\n",
    "I'm going to make up some m-weights and u-weights here. In practice you might try to fit these to data or tweak them after seeing preliminary output. I don't claim that these are particularly good."
   ]
  },
  {
   "cell_type": "code",
   "execution_count": null,
   "metadata": {
    "collapsed": false
   },
   "outputs": [],
   "source": [
    "# The outer list is length 2, corresponding to the number of fields we're comparing.\n",
    "# Each inner list has length 3, because fuzzy string comparator returns 3 possible values.\n",
    "\n",
    "m_weights = [[0.01, 0.14, 0.85], # m-weights corresponding to first name\n",
    "             [0.01, 0.09, 0.90]] # m-weights corresponding to last name\n",
    "\n",
    "u_weights = [[0.88, 0.10, 0.02], # u-weights corresponding to first name\n",
    "             [0.91, 0.08, 0.01]] # u-weights corresponding to last name"
   ]
  },
  {
   "cell_type": "markdown",
   "metadata": {},
   "source": [
    "Now we define a function that compares two records and returns the match score."
   ]
  },
  {
   "cell_type": "code",
   "execution_count": null,
   "metadata": {
    "collapsed": false
   },
   "outputs": [],
   "source": [
    "import math\n",
    "\n",
    "def match_score(rec1, rec2):\n",
    "    m, n = comparison_vector(rec1, rec2)\n",
    "    \n",
    "    # what's the log-probability of seeing this comparison vector if the records are a match?\n",
    "    log_pr_given_match = math.log(m_weights[0][m]) + math.log(m_weights[1][n])\n",
    "    \n",
    "    # what's the log-probability of seeing this comparison vector if the records are a nonmatch?\n",
    "    log_pr_given_nonmatch = math.log(u_weights[0][m]) + math.log(u_weights[1][n])\n",
    "    \n",
    "    # return the log-likelihood-ratio\n",
    "    return log_pr_given_match - log_pr_given_nonmatch\n",
    "\n",
    "print(match_score((1, \"joshua\", \"tokle\"), (2, \"joshua\", \"smith\")))\n",
    "print(match_score((1, \"joshua\", \"tokle\"), (4, \"joshu\", \"tolke\")))\n",
    "print(match_score((1, \"joshua\", \"tokle\"), (7, \"christina\", \"jones\")))"
   ]
  },
  {
   "cell_type": "markdown",
   "metadata": {},
   "source": [
    "Now let's try to link dissertation authors to source data. We will apply **blocking** to reduce the number of comparisons we perform. In particular, I am only going to compare graduate students from Purdue University whose last name begins with H. I then sort them by match score and print out those with a match score greater than 0. These are *potentially* matches."
   ]
  },
  {
   "cell_type": "code",
   "execution_count": null,
   "metadata": {
    "collapsed": false
   },
   "outputs": [],
   "source": [
    "import MySQLdb\n",
    "\n",
    "# Change this to match your credentials.\n",
    "\n",
    "mydbuser = \"\"\n",
    "mydbpass = \"\"\n",
    "\n",
    "db = MySQLdb.connect(\"localhost\", user=mydbuser, passwd=mydbpass)\n",
    "cur = db.cursor()\n",
    "\n",
    "cur.execute(\"\"\"select researcher_id, lower(name_first), lower(name_last)\n",
    "               from BigData.researcher\n",
    "               where sourceid = 3\n",
    "               and left(lower(name_last), 1) = 'h'\"\"\")\n",
    "\n",
    "researchers = cur.fetchall()\n",
    "researchers[:10]"
   ]
  },
  {
   "cell_type": "code",
   "execution_count": null,
   "metadata": {
    "collapsed": false
   },
   "outputs": [],
   "source": [
    "# This cell takes a minute to execute\n",
    "\n",
    "potential_matches = []\n",
    "\n",
    "for ix, row in dissertations.iterrows():\n",
    "    if row[\"university\"] == \"Purdue\" and row[\"lastname\"][0] == \"h\":\n",
    "        rec1 = (row[\"publication_number\"], row[\"firstname\"], row[\"lastname\"])\n",
    "        for rec2 in researchers:\n",
    "            score = match_score(rec1, rec2)\n",
    "            if score >= 0:\n",
    "                potential_matches.append((score, rec1, rec2))\n",
    "            \n",
    "# Sort the output so the best matches appear at the top\n",
    "potential_matches = sorted(potential_matches, key=lambda x: x[0], reverse=True)\n",
    "potential_matches\n",
    "\n",
    "# How did we do?"
   ]
  }
 ],
 "metadata": {
  "kernelspec": {
   "display_name": "Python 3",
   "language": "python",
   "name": "python3"
  },
  "language_info": {
   "codemirror_mode": {
    "name": "ipython",
    "version": 3
   },
   "file_extension": ".py",
   "mimetype": "text/x-python",
   "name": "python",
   "nbconvert_exporter": "python",
   "pygments_lexer": "ipython3",
   "version": "3.4.3"
  }
 },
 "nbformat": 4,
 "nbformat_minor": 0
}
