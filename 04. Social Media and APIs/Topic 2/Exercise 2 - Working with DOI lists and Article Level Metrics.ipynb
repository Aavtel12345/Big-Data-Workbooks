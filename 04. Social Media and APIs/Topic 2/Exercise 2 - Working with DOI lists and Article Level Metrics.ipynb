{
 "cells": [
  {
   "cell_type": "code",
   "execution_count": 1,
   "metadata": {
    "collapsed": false
   },
   "outputs": [],
   "source": [
    "%load_ext autoreload\n",
    "%autoreload 2\n",
    "import sys\n",
    "sys.path.append(\"../modules/orcid-python\")\n",
    "sys.path.append(\"../modules/pyalm\")\n",
    "import requests\n",
    "import time\n",
    "import orcid\n",
    "import pyalm.pyalm as pyalm\n",
    "import pyalm.utilities.plossearch as search"
   ]
  },
  {
   "cell_type": "markdown",
   "metadata": {},
   "source": [
    "##Part A Collecting DOIs (X points)##\n",
    "\n",
    "The first part this exercise will show collecting DOIs from a different source, a publisher API. Here we are using the PLOS Search API as an example because the PLOS Lagotto instance has the most information on article level metrics as discussed in the class.\n",
    "\n",
    "We will first show an example of using the provided API wrapper and then you will use this to gather Article Level Metrics information on some authors from Caltech."
   ]
  },
  {
   "cell_type": "code",
   "execution_count": 2,
   "metadata": {
    "collapsed": false
   },
   "outputs": [
    {
     "data": {
      "text/plain": [
       "{u'response': {u'docs': [{u'doi': [u'10.1371/journal.pbio.1001153']},\n",
       "   {u'doi': [u'10.1371/journal.pone.0026543']},\n",
       "   {u'doi': [u'10.1371/journal.pone.0029172']},\n",
       "   {u'doi': [u'10.1371/journal.pone.0046473']},\n",
       "   {u'doi': [u'10.1371/journal.pbio.1000444']},\n",
       "   {u'doi': [u'10.1371/journal.ppat.1001225']},\n",
       "   {u'doi': [u'10.1371/journal.pone.0012353']},\n",
       "   {u'doi': [u'10.1371/journal.pone.0007757']},\n",
       "   {u'doi': [u'10.1371/journal.pone.0022201']},\n",
       "   {u'doi': [u'10.1371/journal.pone.0008793']},\n",
       "   {u'doi': [u'10.1371/journal.pgen.0020117']},\n",
       "   {u'doi': [u'10.1371/journal.pone.0035934']},\n",
       "   {u'doi': [u'10.1371/journal.pcbi.1000349']},\n",
       "   {u'doi': [u'10.1371/journal.pone.0000787']},\n",
       "   {u'doi': [u'10.1371/journal.pone.0000749']},\n",
       "   {u'doi': [u'10.1371/journal.pone.0133682']},\n",
       "   {u'doi': [u'10.1371/journal.pbio.0040112']},\n",
       "   {u'doi': [u'10.1371/journal.pone.0021074']},\n",
       "   {u'doi': [u'10.1371/journal.pone.0015429']},\n",
       "   {u'doi': [u'10.1371/journal.pone.0045301']},\n",
       "   {u'doi': [u'10.1371/journal.pone.0128944']},\n",
       "   {u'doi': [u'10.1371/journal.pbio.1000202']},\n",
       "   {u'doi': [u'10.1371/journal.pbio.0020424']},\n",
       "   {u'doi': [u'10.1371/journal.pone.0074513']},\n",
       "   {u'doi': [u'10.1371/journal.ppat.1003961']},\n",
       "   {u'doi': [u'10.1371/journal.ppat.1000908']},\n",
       "   {u'doi': [u'10.1371/journal.pone.0130582']},\n",
       "   {u'doi': [u'10.1371/journal.pbio.0040233']},\n",
       "   {u'doi': [u'10.1371/journal.pgen.0030069']},\n",
       "   {u'doi': [u'10.1371/journal.pcbi.1002811']},\n",
       "   {u'doi': [u'10.1371/journal.pcbi.1000675']},\n",
       "   {u'doi': [u'10.1371/journal.pcbi.1000354']},\n",
       "   {u'doi': [u'10.1371/journal.pbio.1001272']},\n",
       "   {u'doi': [u'10.1371/journal.pone.0043302']},\n",
       "   {u'doi': [u'10.1371/journal.pbio.1002137']},\n",
       "   {u'doi': [u'10.1371/journal.pone.0029822']},\n",
       "   {u'doi': [u'10.1371/journal.pcbi.1002713']},\n",
       "   {u'doi': [u'10.1371/journal.pone.0105626']},\n",
       "   {u'doi': [u'10.1371/journal.pone.0016791']},\n",
       "   {u'doi': [u'10.1371/journal.pbio.0020309']},\n",
       "   {u'doi': [u'10.1371/journal.pone.0004883']},\n",
       "   {u'doi': [u'10.1371/journal.pone.0033077']},\n",
       "   {u'doi': [u'10.1371/journal.pone.0041794']},\n",
       "   {u'doi': [u'10.1371/journal.pcbi.1003106']},\n",
       "   {u'doi': [u'10.1371/journal.pone.0003190']},\n",
       "   {u'doi': [u'10.1371/journal.pone.0020230']},\n",
       "   {u'doi': [u'10.1371/journal.pone.0019316']},\n",
       "   {u'doi': [u'10.1371/journal.pone.0018377']},\n",
       "   {u'doi': [u'10.1371/journal.pcbi.1000363']},\n",
       "   {u'doi': [u'10.1371/journal.pone.0026127']},\n",
       "   {u'doi': [u'10.1371/journal.pone.0028080']},\n",
       "   {u'doi': [u'10.1371/journal.pcbi.0020169']},\n",
       "   {u'doi': [u'10.1371/journal.pbio.1000246']},\n",
       "   {u'doi': [u'10.1371/journal.pcbi.1002431']},\n",
       "   {u'doi': [u'10.1371/journal.pone.0005621']},\n",
       "   {u'doi': [u'10.1371/journal.pone.0023106']},\n",
       "   {u'doi': [u'10.1371/journal.pone.0133489']},\n",
       "   {u'doi': [u'10.1371/journal.pcbi.0030081']},\n",
       "   {u'doi': [u'10.1371/journal.pcbi.1002069']},\n",
       "   {u'doi': [u'10.1371/journal.pbio.0020002']},\n",
       "   {u'doi': [u'10.1371/journal.pbio.0030257']},\n",
       "   {u'doi': [u'10.1371/journal.pcbi.1003844']},\n",
       "   {u'doi': [u'10.1371/journal.pone.0087122']},\n",
       "   {u'doi': [u'10.1371/journal.pone.0103369']},\n",
       "   {u'doi': [u'10.1371/journal.pcbi.1002891']},\n",
       "   {u'doi': [u'10.1371/journal.pone.0052463']},\n",
       "   {u'doi': [u'10.1371/journal.pone.0084455']},\n",
       "   {u'doi': [u'10.1371/journal.pone.0017833']},\n",
       "   {u'doi': [u'10.1371/journal.pone.0016838']},\n",
       "   {u'doi': [u'10.1371/journal.pone.0050438']},\n",
       "   {u'doi': [u'10.1371/journal.pone.0013890']},\n",
       "   {u'doi': [u'10.1371/journal.pgen.1003142']},\n",
       "   {u'doi': [u'10.1371/journal.pone.0041161']},\n",
       "   {u'doi': [u'10.1371/journal.pbio.0040267']},\n",
       "   {u'doi': [u'10.1371/journal.pone.0119938']},\n",
       "   {u'doi': [u'10.1371/journal.pcbi.1002895']},\n",
       "   {u'doi': [u'10.1371/journal.pcbi.1001048']},\n",
       "   {u'doi': [u'10.1371/journal.pone.0084713']},\n",
       "   {u'doi': [u'10.1371/journal.pone.0067952']},\n",
       "   {u'doi': [u'10.1371/journal.pbio.0000051']},\n",
       "   {u'doi': [u'10.1371/journal.pone.0076224']},\n",
       "   {u'doi': [u'10.1371/journal.pone.0026204']},\n",
       "   {u'doi': [u'10.1371/journal.pbio.1000367']},\n",
       "   {u'doi': [u'10.1371/journal.pcbi.1001100']},\n",
       "   {u'doi': [u'10.1371/journal.pone.0114347']},\n",
       "   {u'doi': [u'10.1371/journal.pone.0075799']},\n",
       "   {u'doi': [u'10.1371/journal.pcbi.1004264']},\n",
       "   {u'doi': [u'10.1371/journal.pone.0012288']},\n",
       "   {u'doi': [u'10.1371/journal.pone.0043351']},\n",
       "   {u'doi': [u'10.1371/journal.pbio.0060173']},\n",
       "   {u'doi': [u'10.1371/journal.pone.0005768']},\n",
       "   {u'doi': [u'10.1371/journal.pone.0123331']},\n",
       "   {u'doi': [u'10.1371/journal.pone.0012009']},\n",
       "   {u'doi': [u'10.1371/journal.pbio.0020429']},\n",
       "   {u'doi': [u'10.1371/journal.pone.0012903']},\n",
       "   {u'doi': [u'10.1371/journal.pone.0032888']},\n",
       "   {u'doi': [u'10.1371/journal.pbio.1001213']},\n",
       "   {u'doi': [u'10.1371/journal.pone.0037992']},\n",
       "   {u'doi': [u'10.1371/journal.pcbi.1004104']},\n",
       "   {u'doi': [u'10.1371/journal.pcbi.1004090']},\n",
       "   {u'doi': [u'10.1371/journal.pcbi.1003055']},\n",
       "   {u'doi': [u'10.1371/journal.pone.0085492']},\n",
       "   {u'doi': [u'10.1371/journal.pone.0001497']},\n",
       "   {u'doi': [u'10.1371/journal.pone.0018086']},\n",
       "   {u'doi': [u'10.1371/journal.pone.0034464']},\n",
       "   {u'doi': [u'10.1371/journal.pone.0072751']},\n",
       "   {u'doi': [u'10.1371/journal.pone.0011663']},\n",
       "   {u'doi': [u'10.1371/journal.ppat.1003899']},\n",
       "   {u'doi': [u'10.1371/journal.pone.0025102']},\n",
       "   {u'doi': [u'10.1371/journal.pone.0089712']},\n",
       "   {u'doi': [u'10.1371/journal.pone.0122869']},\n",
       "   {u'doi': [u'10.1371/journal.pbio.0040148']},\n",
       "   {u'doi': [u'10.1371/journal.pcbi.1004039']},\n",
       "   {u'doi': [u'10.1371/journal.pone.0020725']},\n",
       "   {u'doi': [u'10.1371/journal.pcbi.1002607']},\n",
       "   {u'doi': [u'10.1371/journal.pcbi.1002918']},\n",
       "   {u'doi': [u'10.1371/journal.pgen.1003195']},\n",
       "   {u'doi': [u'10.1371/journal.pbio.1001306']},\n",
       "   {u'doi': [u'10.1371/journal.pbio.0040120']},\n",
       "   {u'doi': [u'10.1371/journal.pone.0010640']},\n",
       "   {u'doi': [u'10.1371/journal.pone.0060841']},\n",
       "   {u'doi': [u'10.1371/journal.pone.0126754']},\n",
       "   {u'doi': [u'10.1371/journal.pone.0078726']},\n",
       "   {u'doi': [u'10.1371/journal.pone.0050644']},\n",
       "   {u'doi': [u'10.1371/journal.pbio.1002042']},\n",
       "   {u'doi': [u'10.1371/journal.pbio.1000516']},\n",
       "   {u'doi': [u'10.1371/journal.pone.0000090']},\n",
       "   {u'doi': [u'10.1371/journal.pone.0005782']},\n",
       "   {u'doi': [u'10.1371/journal.pone.0123329']},\n",
       "   {u'doi': [u'10.1371/journal.pone.0123839']},\n",
       "   {u'doi': [u'10.1371/journal.pcbi.1001128']},\n",
       "   {u'doi': [u'10.1371/journal.pone.0005496']},\n",
       "   {u'doi': [u'10.1371/journal.pone.0054971']},\n",
       "   {u'doi': [u'10.1371/journal.pone.0005344']},\n",
       "   {u'doi': [u'10.1371/journal.pgen.1000460']},\n",
       "   {u'doi': [u'10.1371/journal.pone.0122957']},\n",
       "   {u'doi': [u'10.1371/journal.pone.0122905']},\n",
       "   {u'doi': [u'10.1371/journal.pone.0047952']},\n",
       "   {u'doi': [u'10.1371/journal.pone.0012674']},\n",
       "   {u'doi': [u'10.1371/journal.pbio.1001252']},\n",
       "   {u'doi': [u'10.1371/journal.ppat.1004212']},\n",
       "   {u'doi': [u'10.1371/journal.pgen.0010061']},\n",
       "   {u'doi': [u'10.1371/journal.pone.0003610']},\n",
       "   {u'doi': [u'10.1371/journal.pone.0003478']},\n",
       "   {u'doi': [u'10.1371/journal.pcbi.1004196']},\n",
       "   {u'doi': [u'10.1371/journal.pcbi.1003111']},\n",
       "   {u'doi': [u'10.1371/journal.pone.0085872']},\n",
       "   {u'doi': [u'10.1371/journal.pone.0102694']},\n",
       "   {u'doi': [u'10.1371/journal.pcbi.1002774']},\n",
       "   {u'doi': [u'10.1371/journal.pone.0001676']},\n",
       "   {u'doi': [u'10.1371/journal.pone.0001437']},\n",
       "   {u'doi': [u'10.1371/journal.pcbi.1000545']},\n",
       "   {u'doi': [u'10.1371/journal.pcbi.1000291']},\n",
       "   {u'doi': [u'10.1371/journal.pone.0041040']},\n",
       "   {u'doi': [u'10.1371/journal.pone.0000943']},\n",
       "   {u'doi': [u'10.1371/journal.pone.0008015']},\n",
       "   {u'doi': [u'10.1371/journal.pone.0017013']},\n",
       "   {u'doi': [u'10.1371/journal.pcbi.0030020']},\n",
       "   {u'doi': [u'10.1371/journal.pgen.1002528']},\n",
       "   {u'doi': [u'10.1371/journal.pone.0028922']},\n",
       "   {u'doi': [u'10.1371/journal.pone.0127227']},\n",
       "   {u'doi': [u'10.1371/journal.pone.0009954']},\n",
       "   {u'doi': [u'10.1371/journal.pcbi.0020153']},\n",
       "   {u'doi': [u'10.1371/journal.pbio.1000167']},\n",
       "   {u'doi': [u'10.1371/journal.pone.0057597']},\n",
       "   {u'doi': [u'10.1371/journal.pone.0057516']},\n",
       "   {u'doi': [u'10.1371/journal.pgen.1003079']},\n",
       "   {u'doi': [u'10.1371/journal.pone.0016676']},\n",
       "   {u'doi': [u'10.1371/journal.pcbi.1000268']},\n",
       "   {u'doi': [u'10.1371/journal.pone.0011506']},\n",
       "   {u'doi': [u'10.1371/journal.pbio.0020015']},\n",
       "   {u'doi': [u'10.1371/journal.pone.0095990']},\n",
       "   {u'doi': [u'10.1371/journal.pone.0008228']},\n",
       "   {u'doi': [u'10.1371/journal.pone.0124159']},\n",
       "   {u'doi': [u'10.1371/journal.pone.0004901']},\n",
       "   {u'doi': [u'10.1371/journal.pgen.1002443']},\n",
       "   {u'doi': [u'10.1371/journal.pone.0066012']},\n",
       "   {u'doi': [u'10.1371/journal.pbio.1001237']},\n",
       "   {u'doi': [u'10.1371/journal.pone.0008573']},\n",
       "   {u'doi': [u'10.1371/journal.pone.0004503']},\n",
       "   {u'doi': [u'10.1371/journal.pone.0004559']},\n",
       "   {u'doi': [u'10.1371/journal.pone.0103024']},\n",
       "   {u'doi': [u'10.1371/journal.pone.0137367']},\n",
       "   {u'doi': [u'10.1371/journal.pone.0004338']},\n",
       "   {u'doi': [u'10.1371/journal.pcbi.1003475']},\n",
       "   {u'doi': [u'10.1371/journal.pcbi.1002841']},\n",
       "   {u'doi': [u'10.1371/journal.pcbi.1001066']},\n",
       "   {u'doi': [u'10.1371/journal.pone.0001923']},\n",
       "   {u'doi': [u'10.1371/journal.pone.0018224']},\n",
       "   {u'doi': [u'10.1371/journal.pone.0001295']},\n",
       "   {u'doi': [u'10.1371/journal.pone.0117854']},\n",
       "   {u'doi': [u'10.1371/journal.pone.0001253']},\n",
       "   {u'doi': [u'10.1371/journal.pone.0067702']},\n",
       "   {u'doi': [u'10.1371/journal.pone.0017804']},\n",
       "   {u'doi': [u'10.1371/journal.pone.0014360']},\n",
       "   {u'doi': [u'10.1371/journal.pntd.0000246']},\n",
       "   {u'doi': [u'10.1371/journal.pbio.0050301']},\n",
       "   {u'doi': [u'10.1371/journal.ppat.1003106']},\n",
       "   {u'doi': [u'10.1371/journal.pone.0007173']},\n",
       "   {u'doi': [u'10.1371/journal.pone.0017441']},\n",
       "   {u'doi': [u'10.1371/journal.pmed.0020355']},\n",
       "   {u'doi': [u'10.1371/journal.pone.0024925']},\n",
       "   {u'doi': [u'10.1371/journal.ppat.1002527']},\n",
       "   {u'doi': [u'10.1371/journal.pone.0048909']},\n",
       "   {u'doi': [u'10.1371/journal.pone.0112762']},\n",
       "   {u'doi': [u'10.1371/journal.pntd.0000684']},\n",
       "   {u'doi': [u'10.1371/journal.ppat.1004495']},\n",
       "   {u'doi': [u'10.1371/journal.pcbi.1003542']},\n",
       "   {u'doi': [u'10.1371/journal.pone.0002150']},\n",
       "   {u'doi': [u'10.1371/journal.pcbi.0020059']},\n",
       "   {u'doi': [u'10.1371/journal.pone.0069618']},\n",
       "   {u'doi': [u'10.1371/journal.pone.0068300']},\n",
       "   {u'doi': [u'10.1371/journal.pcbi.1002202']},\n",
       "   {u'doi': [u'10.1371/journal.pcbi.1002236']},\n",
       "   {u'doi': [u'10.1371/journal.pone.0026727']},\n",
       "   {u'doi': [u'10.1371/journal.pone.0111333']},\n",
       "   {u'doi': [u'10.1371/journal.pone.0000928']},\n",
       "   {u'doi': [u'10.1371/journal.pcbi.1000334']},\n",
       "   {u'doi': [u'10.1371/journal.pcbi.1001122']},\n",
       "   {u'doi': [u'10.1371/journal.pgen.1004261']}],\n",
       "  u'numFound': 220,\n",
       "  u'start': 0}}"
      ]
     },
     "execution_count": 2,
     "metadata": {},
     "output_type": "execute_result"
    }
   ],
   "source": [
    "# Initiate and populate a query object\n",
    "query = search.Request('author_affiliate:\"California Institute of Technology\"')\n",
    "\n",
    "# Initiate the actual API call and get some results\n",
    "response = query.get()\n",
    "response"
   ]
  },
  {
   "cell_type": "markdown",
   "metadata": {},
   "source": [
    "This gives 220 DOI's found at PLOS which match the affiliation term \"California Institute of Technology\". You might want to change the search term to see if there are other articles, perhaps listed under Caltech or other variations of the name.\n",
    "\n",
    "This search matches the terms that you will find in the Advanced Search functionality on the PLOS website: http://www.plosone.org/search/advanced?noSearchFlag so you can use that search form to construct a more advanced search and then use it with the function above. For instance a more complex search for Caltech might look like this:"
   ]
  },
  {
   "cell_type": "code",
   "execution_count": 14,
   "metadata": {
    "collapsed": false
   },
   "outputs": [
    {
     "data": {
      "text/plain": [
       "224"
      ]
     },
     "execution_count": 14,
     "metadata": {},
     "output_type": "execute_result"
    }
   ],
   "source": [
    "# Initiate and populate a query object\n",
    "query = search.Request(\"\"\"\n",
    "    author_affiliate:\"California Institute of Technology\"\n",
    "    OR\n",
    "    author_affiliate:\"Caltech\"\n",
    "                       \"\"\")\n",
    "\n",
    "# Initiate the actual API call and get some results\n",
    "caltech = query.get()\n",
    "len(caltech['response']['docs'])"
   ]
  },
  {
   "cell_type": "markdown",
   "metadata": {
    "collapsed": true
   },
   "source": [
    "<div class=\"alert alert-success\">\n",
    "Construct a search that looks for papers from Martin Karplus, Robert Grubbs or Eric Betzig. You should retrieve two articles.\n",
    "</div>"
   ]
  },
  {
   "cell_type": "code",
   "execution_count": 4,
   "metadata": {
    "collapsed": false
   },
   "outputs": [
    {
     "data": {
      "text/plain": [
       "2"
      ]
     },
     "execution_count": 4,
     "metadata": {},
     "output_type": "execute_result"
    }
   ],
   "source": [
    "# Initiate and populate a query object\n",
    "query = search.Request(\"\"\"\n",
    "    author:\"Eric Betzig\"\n",
    "    OR\n",
    "    author:\"Robert Grubbs\"\n",
    "    OR\n",
    "    author:\"Martin Karplus\"\n",
    "                       \"\"\")\n",
    "\n",
    "# Initiate the actual API call and get some results\n",
    "response = query.get()\n",
    "len(response['response']['docs'])"
   ]
  },
  {
   "cell_type": "code",
   "execution_count": 9,
   "metadata": {
    "collapsed": true
   },
   "outputs": [],
   "source": [
    "assert len(response['response']['docs']) == 2"
   ]
  },
  {
   "cell_type": "markdown",
   "metadata": {},
   "source": [
    "##Part D - Collecting and analysin ALM Data ("
   ]
  },
  {
   "cell_type": "markdown",
   "metadata": {},
   "source": [
    "<div class=\"alert alert-success\">\n",
    "Based on the example notebooks obtain Article Level Metrics data on these two articles from the PLOS ALM API. Note that the ALM API wrapper can also accept a list of DOIs as well as a single DOI. You will need to construct a list of the two DOIs to pass to the function. Obtain the number of EuropePubmedCentral citations for all the articles.\n",
    "</div>"
   ]
  },
  {
   "cell_type": "code",
   "execution_count": 10,
   "metadata": {
    "collapsed": true
   },
   "outputs": [],
   "source": [
    "# Need to configure the API URL as per the notebook example\n",
    "pyalm.config.APIS = { 'plos' : {'url': 'http://alm.plos.org/api/v5/articles'},\n",
    "                      'det'  : {'url' : 'http://det.labs.crossref.org/api/v5/articles'}\n",
    "                    }"
   ]
  },
  {
   "cell_type": "code",
   "execution_count": 11,
   "metadata": {
    "collapsed": false
   },
   "outputs": [],
   "source": [
    "# Create a list of DOIs from the response above. You could either create a new list or use a list comprehension\n",
    "dois = [doc.get('doi')[0] for doc in response.get('response').get('docs')]\n",
    "plos_alm = pyalm.get_alm(dois, info='detail', instance='plos')"
   ]
  },
  {
   "cell_type": "code",
   "execution_count": 8,
   "metadata": {
    "collapsed": false
   },
   "outputs": [
    {
     "name": "stdout",
     "output_type": "stream",
     "text": [
      "[(u'Self-Organization of the <i>Escherichia coli</i> Chemotaxis Network Imaged with Super-Resolution Light Microscopy', 108), (u'A Src-Like Inactive Conformation in the Abl Tyrosine Kinase Domain', 90)]\n"
     ]
    }
   ],
   "source": [
    "# Get the title and number of EuPMC citations for each article. Create a list of tuples called cites as follows\n",
    "# [('title1', citations), ('title2', citations)]\n",
    "cites = []\n",
    "for article in plos_alm['articles']:\n",
    "    cites.append((article.title, article.sources['pmceurope'].metrics.total))\n",
    "    \n",
    "print cites"
   ]
  },
  {
   "cell_type": "code",
   "execution_count": 12,
   "metadata": {
    "collapsed": true
   },
   "outputs": [],
   "source": [
    "assert cites[0] == (u'Self-Organization of the <i>Escherichia coli</i> Chemotaxis Network Imaged with Super-Resolution Light Microscopy', 108)\n",
    "assert cites[1] == (u'A Src-Like Inactive Conformation in the Abl Tyrosine Kinase Domain', 90)"
   ]
  },
  {
   "cell_type": "markdown",
   "metadata": {},
   "source": [
    "<div class=\"alert alert-success\">\n",
    "For the papers returned from a search for the first 50 articles affiliated with California Institute of Technology above output the number of EuropePMC citations, Facebook posts and Tweets. It may take some time for the API to return results for 50 articles.\n",
    "</div>"
   ]
  },
  {
   "cell_type": "code",
   "execution_count": 15,
   "metadata": {
    "collapsed": false
   },
   "outputs": [],
   "source": [
    "# Create a list of the first 50 DOIs and get the ALMs from PLOS API\n",
    "caldois = [doc['doi'][0] for doc in caltech['response']['docs']][0:50]\n",
    "cal_alm = pyalm.get_alm(caldois, info='detail', instance='plos')"
   ]
  },
  {
   "cell_type": "code",
   "execution_count": 20,
   "metadata": {
    "collapsed": false
   },
   "outputs": [
    {
     "data": {
      "text/plain": [
       "[(u'Exploring the Structure of Human Defensive Responses from Judgments of Threat Scenarios',\n",
       "  0,\n",
       "  0,\n",
       "  3),\n",
       " (u'Spatio-Temporal Differences in Dystrophin Dynamics at mRNA and Protein Levels Revealed by a Novel FlipTrap Line',\n",
       "  0,\n",
       "  3,\n",
       "  2),\n",
       " (u'Computational Design of the \\u03b2-Sheet Surface of a Red Fluorescent Protein Allows Control of Protein Oligomerization',\n",
       "  0,\n",
       "  0,\n",
       "  2),\n",
       " (u'Neural Computations Mediating One-Shot Learning in the Human Brain',\n",
       "  0,\n",
       "  28,\n",
       "  12),\n",
       " (u'How Food Controls Aggression in <i>Drosophila</i>', 0, 0, 7),\n",
       " (u'The Herpes Virus Fc Receptor gE-gI Mediates Antibody Bipolar Bridging to Clear Viral Antigens from the Cell Surface',\n",
       "  3,\n",
       "  0,\n",
       "  3),\n",
       " (u'Genome-Wide Analysis Reveals Coating of the Mitochondrial Genome by TFAM',\n",
       "  3,\n",
       "  0,\n",
       "  7),\n",
       " (u'Cooperative Binding', 1, 0, 19),\n",
       " (u'Tuning Promoter Strength through RNA Polymerase Binding Site Design in <i>Escherichia coli</i>',\n",
       "  15,\n",
       "  0,\n",
       "  11),\n",
       " (u'Enhancement in Motor Learning through Genetic Manipulation of the Lynx1 Gene',\n",
       "  4,\n",
       "  0,\n",
       "  3),\n",
       " (u'Decreased Reactive Oxygen Species Production in Cells with Mitochondrial Haplogroups Associated with Longevity',\n",
       "  4,\n",
       "  0,\n",
       "  4),\n",
       " (u'Random Field Model Reveals Structure of the Protein Recombinational Landscape',\n",
       "  2,\n",
       "  0,\n",
       "  0),\n",
       " (u'Perspective Distortion from Interpersonal Distance Is an Implicit Visual Cue for Social Judgments of Faces',\n",
       "  0,\n",
       "  0,\n",
       "  23),\n",
       " (u'Elevated IKK\\u03b1 Accelerates the Differentiation of Human Neuronal Progenitor Cells and Induces MeCP2-Dependent BDNF Expression',\n",
       "  4,\n",
       "  0,\n",
       "  0),\n",
       " (u'Barcoded DNA-Tag Reporters for Multiplex <i>Cis</i>-Regulatory Analysis',\n",
       "  5,\n",
       "  0,\n",
       "  0),\n",
       " (u'Single-Cell Census of Mechanosensitive Channels in Living Bacteria',\n",
       "  9,\n",
       "  0,\n",
       "  1),\n",
       " (u'Anything You Can Do, You Can Do Better: Neural Substrates of Incentive-Based Performance Enhancement',\n",
       "  3,\n",
       "  0,\n",
       "  1),\n",
       " (u'An Optically Stabilized Fast-Switching Light Emitting Diode as a Light Source for Functional Neuroimaging',\n",
       "  0,\n",
       "  0,\n",
       "  0),\n",
       " (u'Lateral Gene Expression in <i>Drosophila</i> Early Embryos Is Supported by Grainyhead-Mediated Activation and Tiers of Dorsally-Localized Repression',\n",
       "  7,\n",
       "  0,\n",
       "  0),\n",
       " (u'Expression of Sympathetic Nervous System Genes in Lamprey Suggests Their Recruitment for Specification of a New Vertebrate Feature',\n",
       "  6,\n",
       "  0,\n",
       "  0),\n",
       " (u'Lennart Philipson (1929\\u20132011): A Warrior Has Passed', 0, 0, 0),\n",
       " (u'A Computational-Experimental Approach Identifies Mutations That Enhance Surface Expression of an Oseltamivir-Resistant Influenza Neuraminidase',\n",
       "  17,\n",
       "  0,\n",
       "  0),\n",
       " (u'Dynamic Construction of Stimulus Values in the Ventromedial Prefrontal Cortex',\n",
       "  12,\n",
       "  0,\n",
       "  0),\n",
       " (u'Intercellular Bridges in Vertebrate Gastrulation', 12, 0, 0),\n",
       " (u'Anaerobic Carbon Monoxide Dehydrogenase Diversity in the Homoacetogenic Hindgut Microbial Communities of Lower Termites and the Wood Roach',\n",
       "  4,\n",
       "  0,\n",
       "  0),\n",
       " (u'Single Gene Deletions of Orexin, Leptin, Neuropeptide Y, and Ghrelin Do Not Appreciably Alter Food Anticipatory Activity in Mice',\n",
       "  12,\n",
       "  0,\n",
       "  0),\n",
       " (u'Self-Organization, Layered Structure, and Aggregation Enhance Persistence of a Synthetic Biofilm Consortium',\n",
       "  17,\n",
       "  0,\n",
       "  0),\n",
       " (u'Dimeric 2G12 as a Potent Protection against HIV-1', 14, 0, 0),\n",
       " (u'Daily Timed Sexual Interaction Induces Moderate Anticipatory Activity in Mice',\n",
       "  6,\n",
       "  0,\n",
       "  0),\n",
       " (u'Colorimetric Measurement of Triglycerides Cannot Provide an Accurate Measure of Stored Fat Content in <i>Drosophila</i>',\n",
       "  10,\n",
       "  0,\n",
       "  0),\n",
       " (u'Motor Preparatory Activity in Posterior Parietal Cortex is Modulated by Subjective Absolute Value',\n",
       "  5,\n",
       "  0,\n",
       "  0),\n",
       " (u'Few and Far Between: How HIV May Be Evading Antibody Avidity', 50, 0, 0),\n",
       " (u'A Dynamic Model of Interactions of Ca<sup>2+</sup>, Calmodulin, and Catalytic Subunits of Ca<sup>2+</sup>/Calmodulin-Dependent Protein Kinase II',\n",
       "  13,\n",
       "  0,\n",
       "  0),\n",
       " (u'A New Chamber for Studying the Behavior of <i>Drosophila</i>', 20, 0, 1),\n",
       " (u'Ablation of Arginylation in the Mouse N-End Rule Pathway: Loss of Fat, Higher Metabolic Rate, Damaged Spermatogenesis, and Neurological Perturbations',\n",
       "  18,\n",
       "  0,\n",
       "  0),\n",
       " (u'Dynamic Interpretation of Hedgehog Signaling in the <i>Drosophila</i> Wing Disc',\n",
       "  20,\n",
       "  0,\n",
       "  0),\n",
       " (u'Inferring Stabilizing Mutations from Protein Phylogenies: Application\\n                    to Influenza Hemagglutinin',\n",
       "  19,\n",
       "  0,\n",
       "  1),\n",
       " (u'Design Principles for Riboswitch Function', 31, 0, 0),\n",
       " (u'Predicting Phenotypic Diversity and the Underlying Quantitative\\n                    Molecular Transitions',\n",
       "  6,\n",
       "  0,\n",
       "  0),\n",
       " (u'The Generation of Forces and Moments during Visual-Evoked Steering Maneuvers in Flying <i>Drosophila</i>',\n",
       "  5,\n",
       "  0,\n",
       "  0),\n",
       " (u'Practice Makes Imperfect: Restorative Effects of Sleep on Motor Learning',\n",
       "  8,\n",
       "  0,\n",
       "  0),\n",
       " (u'Insights from Amphioxus into the Evolution of Vertebrate Cartilage',\n",
       "  47,\n",
       "  0,\n",
       "  0),\n",
       " (u'3-D Ultrastructure of <i>O. tauri</i>: Electron Cryotomography of an Entire Eukaryotic Cell',\n",
       "  49,\n",
       "  0,\n",
       "  0),\n",
       " (u'The <i>tailless</i> Ortholog <i>nhr-67</i> Regulates Patterning of Gene Expression and Morphogenesis in the <i>C. elegans</i> Vulva',\n",
       "  13,\n",
       "  0,\n",
       "  0),\n",
       " (u'Genome-Wide Analysis of Gene Expression during Early <i>Arabidopsis</i> Flower Development',\n",
       "  57,\n",
       "  0,\n",
       "  0),\n",
       " (u'Is Avoiding an Aversive Outcome Rewarding? Neural Substrates of Avoidance Learning in the Human Brain',\n",
       "  117,\n",
       "  0,\n",
       "  1),\n",
       " (u'Structure-Guided Recombination Creates an Artificial Family of Cytochromes P450',\n",
       "  43,\n",
       "  0,\n",
       "  0),\n",
       " (u'Algorithmic Self-Assembly of DNA Sierpinski Triangles', 66, 0, 2),\n",
       " (u'Textpresso: An Ontology-Based Information Retrieval and Extraction System for Biological Literature',\n",
       "  179,\n",
       "  0,\n",
       "  0),\n",
       " (u'Mechanism for Multiple Ligand Recognition by the Human Transferrin Receptor',\n",
       "  21,\n",
       "  0,\n",
       "  0)]"
      ]
     },
     "execution_count": 20,
     "metadata": {},
     "output_type": "execute_result"
    }
   ],
   "source": [
    "# Construct a list of tuples called `results` as above with each of the elements required plus the title\n",
    "results = []\n",
    "for article in cal_alm['articles']:\n",
    "    results.append((article.title, \n",
    "                   article.sources['pmceurope'].metrics.total,\n",
    "                   article.sources['facebook'].metrics.total,\n",
    "                   article.sources['twitter'].metrics.total))\n",
    "    \n",
    "results"
   ]
  },
  {
   "cell_type": "code",
   "execution_count": 21,
   "metadata": {
    "collapsed": true
   },
   "outputs": [],
   "source": [
    "assert len(results) == 50"
   ]
  },
  {
   "cell_type": "markdown",
   "metadata": {},
   "source": [
    "<div class=\"alert alert-success\">\n",
    "Find articles with at least some tweets and obtain account names of the tweets. Identify whether there are accounts tweeting more than one article. Note that some accounts might tweet about the same article twice. We are only interested in cases where the same account is tweeting about more than one article. Make a list called `common_tweeters` that contains the account handles for anyone who tweeted more than one article.\n",
    "</div>"
   ]
  },
  {
   "cell_type": "code",
   "execution_count": 25,
   "metadata": {
    "collapsed": false
   },
   "outputs": [
    {
     "data": {
      "text/plain": [
       "18"
      ]
     },
     "execution_count": 25,
     "metadata": {},
     "output_type": "execute_result"
    }
   ],
   "source": [
    "# Probably easier to iterate through the article objects than to have to cross reference from the list we just\n",
    "# but either will work\n",
    "tweeted = []\n",
    "for article in cal_alm['articles']:\n",
    "    if article.sources['twitter'].metrics.total != 0:\n",
    "        tweeted.append(article)\n",
    "    \n",
    "len(tweeted)"
   ]
  },
  {
   "cell_type": "code",
   "execution_count": 26,
   "metadata": {
    "collapsed": true
   },
   "outputs": [],
   "source": [
    "assert len(tweeted) > 10"
   ]
  },
  {
   "cell_type": "code",
   "execution_count": 31,
   "metadata": {
    "collapsed": false
   },
   "outputs": [
    {
     "data": {
      "text/plain": [
       "87"
      ]
     },
     "execution_count": 31,
     "metadata": {},
     "output_type": "execute_result"
    }
   ],
   "source": [
    "# Now obtain all the account names. Look at the example notebook for how to get this information.\n",
    "unique_accounts = set()\n",
    "for article in tweeted:\n",
    "    for tweet in article.sources['twitter'].events:\n",
    "        unique_accounts.add(tweet['event']['user'])\n",
    "        \n",
    "len(unique_accounts)\n"
   ]
  },
  {
   "cell_type": "code",
   "execution_count": 33,
   "metadata": {
    "collapsed": false
   },
   "outputs": [
    {
     "data": {
      "text/plain": [
       "2"
      ]
     },
     "execution_count": 33,
     "metadata": {},
     "output_type": "execute_result"
    }
   ],
   "source": [
    "# Now check whether an account occurs tweeting more than one article. This requires a little care and attention. \n",
    "common_tweeters = []\n",
    "\n",
    "for account in unique_accounts:\n",
    "    count = 0\n",
    "    for article in tweeted:\n",
    "        tweeters = [tweet['event']['user'] for tweet in article.sources['twitter'].events]\n",
    "        if account in tweeters:\n",
    "            count+=1\n",
    "            \n",
    "    if count > 1:\n",
    "        common_tweeters.append(account)\n",
    "\n",
    "len(common_tweeters)"
   ]
  },
  {
   "cell_type": "code",
   "execution_count": 34,
   "metadata": {
    "collapsed": false
   },
   "outputs": [
    {
     "data": {
      "text/plain": [
       "[u'uranus_2', u'thebaybot']"
      ]
     },
     "execution_count": 34,
     "metadata": {},
     "output_type": "execute_result"
    }
   ],
   "source": [
    "common_tweeters"
   ]
  },
  {
   "cell_type": "code",
   "execution_count": 35,
   "metadata": {
    "collapsed": true
   },
   "outputs": [],
   "source": [
    "assert common_tweeters != []"
   ]
  },
  {
   "cell_type": "code",
   "execution_count": null,
   "metadata": {
    "collapsed": true
   },
   "outputs": [],
   "source": []
  }
 ],
 "metadata": {
  "kernelspec": {
   "display_name": "Python 2",
   "language": "python",
   "name": "python2"
  },
  "language_info": {
   "codemirror_mode": {
    "name": "ipython",
    "version": 2
   },
   "file_extension": ".py",
   "mimetype": "text/x-python",
   "name": "python",
   "nbconvert_exporter": "python",
   "pygments_lexer": "ipython2",
   "version": "2.7.6"
  }
 },
 "nbformat": 4,
 "nbformat_minor": 0
}
