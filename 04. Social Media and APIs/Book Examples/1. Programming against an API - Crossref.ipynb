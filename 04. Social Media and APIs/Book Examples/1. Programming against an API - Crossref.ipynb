{
 "cells": [
  {
   "cell_type": "markdown",
   "metadata": {},
   "source": [
    "### Setup - Initialize packages"
   ]
  },
  {
   "cell_type": "code",
   "execution_count": null,
   "metadata": {
    "collapsed": true
   },
   "outputs": [],
   "source": [
    "import requests"
   ]
  },
  {
   "cell_type": "markdown",
   "metadata": {},
   "source": [
    "## Programming Against an API using Crossref as an Example\n",
    "\n",
    "Programming against an API involves constructing HTTP requests and parsing the data that is returned. In this simple example we will use the Crossref API. Crossref is the provider of Digital Object Identifiers (DOIs) used by many publishers to uniquely and persistably identify scholarly works. Crossref is not the only organisation to provide DOIs. In the scholarly communication space DataCite is another important provider. The Crossref API also provides metadata for DOIs provided by DataCite so is a useful source of data on many scholarly works. The documentation is available at http://api.crossref.org.\n",
    "\n",
    "The `requests` python library provides a series of convenience functions that make it easier to make HTTP calls and to process returned JSON. Requests is included within the standard IPython package and is easy to install if not available. Our first step is to import the module and set a base URL variable."
   ]
  },
  {
   "cell_type": "code",
   "execution_count": null,
   "metadata": {
    "collapsed": true
   },
   "outputs": [],
   "source": [
    "BASE_URL = \"http://api.crossref.org/\""
   ]
  },
  {
   "cell_type": "markdown",
   "metadata": {},
   "source": [
    "A simple example is to obtain metadata for an article associated with a specific DOI. This is a straightforward call to the Crossref API, similar to what we saw earlier."
   ]
  },
  {
   "cell_type": "code",
   "execution_count": null,
   "metadata": {
    "collapsed": false
   },
   "outputs": [],
   "source": [
    "doi = \"10.1093/nar/gni170\"\n",
    "query = \"works/\"\n",
    "\n",
    "url = BASE_URL + query + doi\n",
    "\n",
    "response = requests.get(url)\n",
    "url"
   ]
  },
  {
   "cell_type": "code",
   "execution_count": null,
   "metadata": {
    "collapsed": false
   },
   "outputs": [],
   "source": [
    "response.status_code"
   ]
  },
  {
   "cell_type": "markdown",
   "metadata": {},
   "source": [
    "The response object that the requests library has created has a range of useful information including the URL called and the response code from the web server (in this case 200 which means everything is ok). We need the JSON body from the response object converted to a python dictionary."
   ]
  },
  {
   "cell_type": "code",
   "execution_count": null,
   "metadata": {
    "collapsed": false
   },
   "outputs": [],
   "source": [
    "response_dict = response.json()\n",
    "response_dict"
   ]
  },
  {
   "cell_type": "markdown",
   "metadata": {},
   "source": [
    "This data object can now be processed however the user wishes using standard manipulation techniques. "
   ]
  },
  {
   "cell_type": "markdown",
   "metadata": {},
   "source": [
    "The Crossref API can do much more than simply look up article metadata of course. It is also valuable as a search resource and for cross referencing information by journal, funder, publisher and other criteria. More details can be found at the documentation link above. "
   ]
  },
  {
   "cell_type": "code",
   "execution_count": null,
   "metadata": {
    "collapsed": true
   },
   "outputs": [],
   "source": []
  }
 ],
 "metadata": {
  "kernelspec": {
   "display_name": "Python 2",
   "language": "python",
   "name": "python2"
  },
  "language_info": {
   "codemirror_mode": {
    "name": "ipython",
    "version": 2
   },
   "file_extension": ".py",
   "mimetype": "text/x-python",
   "name": "python",
   "nbconvert_exporter": "python",
   "pygments_lexer": "ipython2",
   "version": "2.7.6"
  }
 },
 "nbformat": 4,
 "nbformat_minor": 0
}
