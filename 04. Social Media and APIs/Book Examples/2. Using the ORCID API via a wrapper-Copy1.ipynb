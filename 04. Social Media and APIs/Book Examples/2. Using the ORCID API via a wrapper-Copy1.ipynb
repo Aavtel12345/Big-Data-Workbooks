{
 "cells": [
  {
   "cell_type": "markdown",
   "metadata": {},
   "source": [
    "# Using the ORCID API via Wrapper\n",
    "\n",
    "## Table of contents\n",
    "- [Using the ORCID API via a Wrapper](#Using-the-ORCID-API-via-a-Wrapper)"
   ]
  },
  {
   "cell_type": "markdown",
   "metadata": {},
   "source": [
    "## Using the ORCID API via a Wrapper\n",
    "\n",
    "ORCID is a service that provides unique identifiers for researchers. Researchers can claim an ORCID profile and populate it with references to their research works, funding and affiliations. ORCID provides an API for interacting with this information. For many APIs there is a convenient Python wrapper that can be used. The `orcid-python` wrapper works with the ORCID v1.2 API to make various API calls straightforward. This only works with the public ORCID API and can therefore only access publicly available data.\n",
    "\n",
    "Using the API and wrapper together provide a convenient means of getting this information. For instance, given an ORCID, it is straightforward to get profile information."
   ]
  },
  {
   "cell_type": "code",
   "execution_count": 1,
   "metadata": {
    "collapsed": false
   },
   "outputs": [],
   "source": [
    "%load_ext autoreload\n",
    "%autoreload 2\n",
    "import sys\n",
    "sys.path.append(\"../modules/orcid-python\")\n",
    "import orcid"
   ]
  },
  {
   "cell_type": "code",
   "execution_count": 2,
   "metadata": {
    "collapsed": false
   },
   "outputs": [
    {
     "data": {
      "text/plain": [
       "<Author Cameron Neylon, ORCID 0000-0002-0068-716X>"
      ]
     },
     "execution_count": 2,
     "metadata": {},
     "output_type": "execute_result"
    }
   ],
   "source": [
    "cn = orcid.get(\"0000-0002-0068-716X\")\n",
    "cn"
   ]
  },
  {
   "cell_type": "code",
   "execution_count": 4,
   "metadata": {
    "collapsed": false
   },
   "outputs": [
    {
     "data": {
      "text/plain": [
       "<Publication \"Principles for Open Scholarly Infrastructures-v1\">"
      ]
     },
     "execution_count": 4,
     "metadata": {},
     "output_type": "execute_result"
    }
   ],
   "source": [
    "cn.publications[0]"
   ]
  },
  {
   "cell_type": "markdown",
   "metadata": {},
   "source": [
    "The wrapper has created Python objects that make it easier to work with and manipulate the data. It is common to take the return from an API and create objects that behave as would be expected in Python. For instance, the `publications` object is a list, populated with publications. Each publication in the list has its own attributes which can then be examined individually. In this case the external IDs attribute is a list of further objects that in this case include a DOI and the ISSN of the journal this article was published in."
   ]
  },
  {
   "cell_type": "code",
   "execution_count": 7,
   "metadata": {
    "collapsed": false
   },
   "outputs": [
    {
     "data": {
      "text/plain": [
       "70"
      ]
     },
     "execution_count": 7,
     "metadata": {},
     "output_type": "execute_result"
    }
   ],
   "source": [
    "len(cn.publications)"
   ]
  },
  {
   "cell_type": "code",
   "execution_count": 8,
   "metadata": {
    "collapsed": false
   },
   "outputs": [
    {
     "name": "stdout",
     "output_type": "stream",
     "text": [
      "[<ExternalID DOI:10.1371/journal.pbio.1001677>, <ExternalID ISSN:1545-7885>]\n"
     ]
    }
   ],
   "source": [
    "cn.publications[12].external_ids"
   ]
  },
  {
   "cell_type": "markdown",
   "metadata": {},
   "source": [
    "As a simple example of data processing we can iterate over the list of publications to identify those for which a DOI has been provided and then list the DOIs. In this case we can see that of the 70 publications listed in this ORCID profile (at the time of testing) 66 have DOIs."
   ]
  },
  {
   "cell_type": "code",
   "execution_count": 50,
   "metadata": {
    "collapsed": false
   },
   "outputs": [
    {
     "data": {
      "text/plain": [
       "66"
      ]
     },
     "execution_count": 50,
     "metadata": {},
     "output_type": "execute_result"
    }
   ],
   "source": [
    "exids = []\n",
    "for pub in cn.publications:\n",
    "    if pub.external_ids:\n",
    "        exids = exids + pub.external_ids\n",
    "\n",
    "DOIs = [exid.id for exid in exids if exid.type == \"DOI\"]\n",
    "        \n",
    "len(DOIs)    "
   ]
  },
  {
   "cell_type": "markdown",
   "metadata": {},
   "source": [
    "Wrappers generally make operating with an API simpler and cleaner by abstracting away the details of making HTTP requests. Achieving the same by directing interacting with the ORCID API would require constructing the appropriate URLs and parsing the returned data into a useable form. Where a wrapper is available it is generally much easier to use. However wrappers may not be actively developed and may lag the development of the API. Where possible use a wrapper that is directly supported or recommended by the API provider"
   ]
  },
  {
   "cell_type": "markdown",
   "metadata": {},
   "source": [
    "##Exercises##\n",
    "\n",
    "The ORCID API also provides the ability to search for specific elements. It also provides information on other websites that relate to a researcher. The search function can be used as follows. Note that the results include any ORCID profile that includes the name (or elements of it) and as of writing only provides the first page of ten results:"
   ]
  },
  {
   "cell_type": "code",
   "execution_count": 48,
   "metadata": {
    "collapsed": false
   },
   "outputs": [
    {
     "name": "stdout",
     "output_type": "stream",
     "text": [
      "<Author Orla Neylon, ORCID 0000-0001-9655-0944>\n",
      "<Author Cameron Neylon, ORCID 0000-0002-0068-716X>\n",
      "<Author Karen Neylon, ORCID 0000-0002-5673-0948>\n",
      "<Author Cameron Keating, ORCID 0000-0003-1468-8371>\n",
      "<Author Cameron Norman, ORCID 0000-0001-6702-5470>\n",
      "<Author Bruce Caron, ORCID 0000-0003-0790-0872>\n",
      "<Author Cameron MacPherson, ORCID 0000-0002-8945-9736>\n",
      "<Author James Cameron, ORCID 0000-0003-0080-2786>\n",
      "<Author Andrew Cameron, ORCID 0000-0002-8863-7828>\n",
      "<Author Cameron Mura, ORCID 0000-0001-7985-2561>\n"
     ]
    }
   ],
   "source": [
    "cn_search = orcid.search(\"Cameron+Neylon\")\n",
    "for result in cn_search:\n",
    "    print result"
   ]
  },
  {
   "cell_type": "code",
   "execution_count": 12,
   "metadata": {
    "collapsed": false
   },
   "outputs": [
    {
     "name": "stdout",
     "output_type": "stream",
     "text": [
      "<Author Jenna Lang, ORCID 0000-0002-4871-4497>\n",
      "<Author Andrew Eisen, ORCID 0000-0002-1447-2725>\n",
      "<Author Rebecca Eisen, ORCID 0000-0001-5942-528X>\n",
      "<Author Kobi Eisen, ORCID 0000-0001-6011-4761>\n",
      "<Author José Aguilar-Rodríguez, ORCID 0000-0001-7622-5482>\n",
      "<Author Jonathan A. Eisen, ORCID 0000-0002-0159-2197>\n",
      "<Author Nikos Kyrpides, ORCID 0000-0002-6131-0462>\n",
      "<Author Thomas Sharpton, ORCID 0000-0002-5996-7764>\n",
      "<Author Jonathan Singh, ORCID 0000-0003-1722-066X>\n",
      "<Author Susan Eisen, ORCID 0000-0002-3725-0041>\n"
     ]
    }
   ],
   "source": [
    "twitter_search = orcid.search(\"Jonathan Eisen\") # this is my twitter handle, which is registered with my ORCID profile\n",
    "\n",
    "for result in twitter_search:\n",
    "    print unicode(result)"
   ]
  },
  {
   "cell_type": "code",
   "execution_count": null,
   "metadata": {
    "collapsed": true
   },
   "outputs": [],
   "source": []
  }
 ],
 "metadata": {
  "kernelspec": {
   "display_name": "Python 2",
   "language": "python",
   "name": "python2"
  },
  "language_info": {
   "codemirror_mode": {
    "name": "ipython",
    "version": 2
   },
   "file_extension": ".py",
   "mimetype": "text/x-python",
   "name": "python",
   "nbconvert_exporter": "python",
   "pygments_lexer": "ipython2",
   "version": "2.7.10"
  }
 },
 "nbformat": 4,
 "nbformat_minor": 0
}
