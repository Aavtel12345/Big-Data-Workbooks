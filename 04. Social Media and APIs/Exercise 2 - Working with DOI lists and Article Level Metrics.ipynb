{
 "cells": [
  {
   "cell_type": "markdown",
   "metadata": {},
   "source": [
    "# Exercise 2 - Working with DOI lists and Article Level Metrics"
   ]
  },
  {
   "cell_type": "markdown",
   "metadata": {},
   "source": [
    "In this exercise, we will cover how to collect DOIs and Article Level Metrics(ALM) through API as well as some related analysis."
   ]
  },
  {
   "cell_type": "markdown",
   "metadata": {},
   "source": [
    "## Table of Contents\n",
    "\n",
    "- [Part A: Collecting DOIs](#Part-A:-Collecting-DOIs)\n",
    "- [Part B: Collecting and analysing ALM Data](#Part-B:-Collecting-and-analysing-ALM-Data)"
   ]
  },
  {
   "cell_type": "markdown",
   "metadata": {},
   "source": [
    "Load the required packages before the start of the exercise."
   ]
  },
  {
   "cell_type": "code",
   "execution_count": null,
   "metadata": {
    "collapsed": false
   },
   "outputs": [],
   "source": [
    "%load_ext autoreload\n",
    "%autoreload 2\n",
    "\n",
    "import os\n",
    "#os.environ['PLOS_API_KEY'] = 'user api key'\n",
    "\n",
    "import sys\n",
    "sys.path.append(\"../modules/orcid-python\")\n",
    "sys.path.append(\"../modules/pyalm\")\n",
    "\n",
    "\n",
    "import requests\n",
    "import time\n",
    "import orcid\n",
    "import pyalm.pyalm as pyalm\n",
    "sys.path.append(\"./modules/pyalm/pyalm\")\n",
    "import utilities.plossearch as search\n"
   ]
  },
  {
   "cell_type": "markdown",
   "metadata": {},
   "source": [
    "## Part A: Collecting DOIs\n",
    "\n",
    "Back to [Table of Contents](#Table-of-Contents).\n",
    "\n",
    "The first part this exercise will show collecting DOIs from a different source, a publisher API. Here we are using the PLOS Search API as an example because the PLOS Lagotto instance has the most information on article level metrics as discussed in the class.\n",
    "\n",
    "We will first show an example of using the provided API wrapper and then you will use this to gather Article Level Metrics information on some authors from Caltech."
   ]
  },
  {
   "cell_type": "code",
   "execution_count": null,
   "metadata": {
    "collapsed": false
   },
   "outputs": [],
   "source": [
    "# Initiate and populate a query object\n",
    "query = search.Request('author_affiliate:\"California Institute of Technology\"')\n",
    "\n",
    "# Initiate the actual API call and get some results\n",
    "response = query.get()\n",
    "response"
   ]
  },
  {
   "cell_type": "markdown",
   "metadata": {},
   "source": [
    "This gives 220 DOI's found at PLOS which match the affiliation term \"California Institute of Technology\". You might want to change the search term to see if there are other articles, perhaps listed under Caltech or other variations of the name.\n",
    "\n",
    "This search matches the terms that you will find in the Advanced Search functionality on the PLOS website: http://www.plosone.org/search/advanced?noSearchFlag so you can use that search form to construct a more advanced search and then use it with the function above. For instance a more complex search for Caltech might look like this:"
   ]
  },
  {
   "cell_type": "code",
   "execution_count": null,
   "metadata": {
    "collapsed": false
   },
   "outputs": [],
   "source": [
    "# Initiate and populate a query object\n",
    "query = search.Request(\"\"\"\n",
    "    author_affiliate:\"California Institute of Technology\"\n",
    "    OR\n",
    "    author_affiliate:\"Caltech\"\n",
    "                       \"\"\")\n",
    "\n",
    "# Initiate the actual API call and get some results\n",
    "caltech = query.get()\n",
    "len(caltech['response']['docs'])"
   ]
  },
  {
   "cell_type": "markdown",
   "metadata": {
    "collapsed": true
   },
   "source": [
    "<div class=\"alert alert-success\">\n",
    "Construct a search that looks for papers from Martin Karplus, Robert Grubbs or Eric Betzig. You should retrieve two articles.\n",
    "</div>"
   ]
  },
  {
   "cell_type": "code",
   "execution_count": null,
   "metadata": {
    "collapsed": false
   },
   "outputs": [],
   "source": [
    "# Initiate and populate a query object\n",
    "query = search.Request(\"\"\"\n",
    "    author:\"Eric Betzig\"\n",
    "    OR\n",
    "    author:\"Robert Grubbs\"\n",
    "    OR\n",
    "    author:\"Martin Karplus\"\n",
    "                       \"\"\")\n",
    "\n",
    "# Initiate the actual API call and get some results\n",
    "response = query.get()\n",
    "len(response['response']['docs'])"
   ]
  },
  {
   "cell_type": "code",
   "execution_count": null,
   "metadata": {
    "collapsed": false
   },
   "outputs": [],
   "source": [
    "assert len(response['response']['docs']) == 2"
   ]
  },
  {
   "cell_type": "markdown",
   "metadata": {},
   "source": [
    "## Part B: Collecting and analysing ALM Data\n",
    "\n",
    "Back to [Table of Contents](#Table-of-Contents)."
   ]
  },
  {
   "cell_type": "markdown",
   "metadata": {},
   "source": [
    "<div class=\"alert alert-success\">\n",
    "Based on the example notebooks obtain Article Level Metrics data on these two articles from the PLOS ALM API. Note that the ALM API wrapper can also accept a list of DOIs as well as a single DOI. You will need to construct a list of the two DOIs to pass to the function. Obtain the number of EuropePubmedCentral citations for all the articles.\n",
    "</div>"
   ]
  },
  {
   "cell_type": "code",
   "execution_count": null,
   "metadata": {
    "collapsed": false
   },
   "outputs": [],
   "source": [
    "# Need to configure the API URL as per the notebook example\n",
    "pyalm.config.APIS = { 'plos' : {'url': 'http://alm.plos.org/api/v5/articles'},\n",
    "                      'det'  : {'url' : 'http://det.labs.crossref.org/api/v5/articles'}\n",
    "                    }"
   ]
  },
  {
   "cell_type": "code",
   "execution_count": null,
   "metadata": {
    "collapsed": false
   },
   "outputs": [],
   "source": [
    "response.get('response').get('docs')\n",
    "\n",
    "dois = [doc.get('doi')[0] for doc in response.get('response').get('docs')]\n",
    "\n",
    "print dois\n",
    "\n",
    "#pyalm.get_alm(dois, info='detail', instance='plos')"
   ]
  },
  {
   "cell_type": "code",
   "execution_count": null,
   "metadata": {
    "collapsed": false
   },
   "outputs": [],
   "source": [
    "# Create a list of DOIs from the response above. You could either create a new list or use a list comprehension\n",
    "dois = [doc.get('doi')[0] for doc in response.get('response').get('docs')]\n",
    "plos_alm = pyalm.get_alm(dois, info='detail', instance='plos')\n",
    "\n",
    "type(plos_alm) # should be dict"
   ]
  },
  {
   "cell_type": "code",
   "execution_count": null,
   "metadata": {
    "collapsed": false
   },
   "outputs": [],
   "source": [
    "# Get the title and number of EuPMC citations for each article. Create a list of tuples called cites as follows\n",
    "# [('title1', citations), ('title2', citations)]\n",
    "cites = []\n",
    "for article in plos_alm['articles']:\n",
    "    cites.append((article.title, article.sources['pmceurope'].metrics.total))\n",
    "    \n",
    "print cites\n",
    "\n"
   ]
  },
  {
   "cell_type": "code",
   "execution_count": null,
   "metadata": {
    "collapsed": false
   },
   "outputs": [],
   "source": [
    "assert cites[0] == (u'Self-Organization of the <i>Escherichia coli</i> Chemotaxis Network Imaged with Super-Resolution Light Microscopy', 108)\n",
    "assert cites[1] == (u'A Src-Like Inactive Conformation in the Abl Tyrosine Kinase Domain', 91)"
   ]
  },
  {
   "cell_type": "markdown",
   "metadata": {},
   "source": [
    "<div class=\"alert alert-success\">\n",
    "For the papers returned from a search for the first 50 articles affiliated with California Institute of Technology above output the number of EuropePMC citations, Facebook posts and Tweets. It may take some time for the API to return results for 50 articles.\n",
    "</div>"
   ]
  },
  {
   "cell_type": "code",
   "execution_count": null,
   "metadata": {
    "collapsed": false
   },
   "outputs": [],
   "source": [
    "# Create a list of the first 50 DOIs and get the ALMs from PLOS API\n",
    "caldois = [doc['doi'][0] for doc in caltech['response']['docs']][0:50]\n",
    "cal_alm = pyalm.get_alm(caldois, info='detail', instance='plos')"
   ]
  },
  {
   "cell_type": "code",
   "execution_count": null,
   "metadata": {
    "collapsed": false
   },
   "outputs": [],
   "source": [
    "# Construct a list of tuples called `results` as above with each of the elements required plus the title\n",
    "results = []\n",
    "for article in cal_alm['articles']:\n",
    "    results.append((article.title, \n",
    "                   article.sources['pmceurope'].metrics.total,\n",
    "                   article.sources['facebook'].metrics.total,\n",
    "                   article.sources['twitter'].metrics.total))\n",
    "    \n",
    "results"
   ]
  },
  {
   "cell_type": "code",
   "execution_count": null,
   "metadata": {
    "collapsed": false
   },
   "outputs": [],
   "source": [
    "assert len(results) == 50"
   ]
  },
  {
   "cell_type": "markdown",
   "metadata": {},
   "source": [
    "<div class=\"alert alert-success\">\n",
    "Find articles with at least some tweets and obtain account names of the tweets. Identify whether there are accounts tweeting more than one article. Note that some accounts might tweet about the same article twice. We are only interested in cases where the same account is tweeting about more than one article. Make a list called `common_tweeters` that contains the account handles for anyone who tweeted more than one article.\n",
    "</div>"
   ]
  },
  {
   "cell_type": "code",
   "execution_count": null,
   "metadata": {
    "collapsed": false
   },
   "outputs": [],
   "source": [
    "# Probably easier to iterate through the article objects than to have to cross reference from the list we just\n",
    "# but either will work\n",
    "tweeted = []\n",
    "for article in cal_alm['articles']:\n",
    "    if article.sources['twitter'].metrics.total != 0:\n",
    "        tweeted.append(article)\n",
    "    \n",
    "len(tweeted)"
   ]
  },
  {
   "cell_type": "code",
   "execution_count": null,
   "metadata": {
    "collapsed": false
   },
   "outputs": [],
   "source": [
    "assert len(tweeted) > 10"
   ]
  },
  {
   "cell_type": "code",
   "execution_count": null,
   "metadata": {
    "collapsed": false
   },
   "outputs": [],
   "source": [
    "# Now obtain all the account names. Look at the example notebook for how to get this information.\n",
    "unique_accounts = set()\n",
    "for article in tweeted:\n",
    "    for tweet in article.sources['twitter'].events:\n",
    "        unique_accounts.add(tweet['event']['user'])\n",
    "        \n",
    "len(unique_accounts)\n"
   ]
  },
  {
   "cell_type": "code",
   "execution_count": null,
   "metadata": {
    "collapsed": false
   },
   "outputs": [],
   "source": [
    "# Now check whether an account occurs tweeting more than one article. This requires a little care and attention. \n",
    "common_tweeters = []\n",
    "\n",
    "for account in unique_accounts:\n",
    "    count = 0\n",
    "    for article in tweeted:\n",
    "        tweeters = [tweet['event']['user'] for tweet in article.sources['twitter'].events]\n",
    "        if account in tweeters:\n",
    "            count+=1\n",
    "            \n",
    "    if count > 1:\n",
    "        common_tweeters.append(account)\n",
    "\n",
    "len(common_tweeters)"
   ]
  },
  {
   "cell_type": "code",
   "execution_count": null,
   "metadata": {
    "collapsed": false
   },
   "outputs": [],
   "source": [
    "common_tweeters"
   ]
  },
  {
   "cell_type": "code",
   "execution_count": null,
   "metadata": {
    "collapsed": false
   },
   "outputs": [],
   "source": [
    "assert common_tweeters != []"
   ]
  }
 ],
 "metadata": {
  "kernelspec": {
   "display_name": "Python 2",
   "language": "python",
   "name": "python2"
  },
  "language_info": {
   "codemirror_mode": {
    "name": "ipython",
    "version": 2
   },
   "file_extension": ".py",
   "mimetype": "text/x-python",
   "name": "python",
   "nbconvert_exporter": "python",
   "pygments_lexer": "ipython2",
   "version": "2.7.10"
  }
 },
 "nbformat": 4,
 "nbformat_minor": 0
}
