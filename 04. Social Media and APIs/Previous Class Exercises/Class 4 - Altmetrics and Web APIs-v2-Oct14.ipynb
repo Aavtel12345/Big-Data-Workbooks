{
 "metadata": {
  "name": ""
 },
 "nbformat": 3,
 "nbformat_minor": 0,
 "worksheets": [
  {
   "cells": [
    {
     "cell_type": "markdown",
     "metadata": {},
     "source": [
      "Use and manipulation of Web APIs to track research impact\n",
      "=========================================================\n",
      "\n",
      "Many online data sources provide a web-based application programming interface (API) that allows interested parties to pull data. Much of the conversation about 'mash-ups' revolves around combining and visualising data from such APIs. In the context of research outputs there are APIs that provide access to information about published papers, including bibliographic inforamtion and usage statistics. In this session we will use two APIs provided by PLOS and one from the social media provider Twitter to examine the conversations occuring online about papers published from CalTech.\n",
      "\n",
      "Using an API\n",
      "------------\n",
      "\n",
      "APIs come in many forms. A common form of modern API is a so-called 'RESTful API' which is generally used to mean those that are accessed through simple web protocols. A client queries a specific URL and receives data in return. A URL might look like:\n",
      "\n",
      "  http://oag.cottagelabs.com/lookup/10.1371/journal.pone.0043623.json\n",
      "    \n",
      "This URL contains two parts, a root URL (http://oag.cottagelabs.com/lookup/) and a data 'query' in this case made up of a DOI and a data type specifier. Click on the link above to see the data that is returned. This particular API provides information on the licenses associated with the paper that is found by following a DOI, in this case the paper at http://dx.doi.org/10.1371/journal.pone.0043623. The '.json' part specifies that the result should be provided in JSON.\n",
      "\n",
      "Testing an API using Hurl.it\n",
      "----------------------------\n",
      "\n",
      "A useful service called http://hurl.it can be used to test and play with web APIs. Follow the link and then paste in the URL above to see the result. You can also change the query to be a POST request or remove the .json and add an `Accept` header of `application/json`. Hurl.it can be very useful for trouble shooting an API or just to understand how it works and what it returns.\n",
      "\n",
      "API keys\n",
      "--------\n",
      "\n",
      "Many production APIs require you to obtain an API 'key' that identifies you as a registered user to the API administrator. This can be used to control access to data (although it's not very secure) but is more often used to regulate access to a reasonable number of requests and to monitor the usage so any issues can be raised with clients. Generally registration is an automated process. In this class we will use two PLOS APIs that require an API key.\n",
      "\n",
      "You can register for a PLOS account at http://register.plos.org. Once you have created an account you can then obtain your API key by navigating to http://alm.plos.org, logging in, and then navigating to 'your account' from the menu at the top right. Your API key should be near the top of the page.\n",
      "\n",
      "Testing the PLOS API\n",
      "--------------------\n",
      "\n",
      "With your API key, return http://hurl.it and run a query to the following URL substituting your API key where shown:\n",
      "\n",
      "[http://api.plos.org/search?q=\"California+Institute+of+Technology\"&api_key=YOUR_API_KEY&wt=json](http://api.plos.org/search?q=\"California%20Institute%20of%20Technology\"&api_key=YOUR_API_KEY&wt=json)\n",
      "\n",
      "This is a generic search query for \"California Institute of Technology\" which should return a result saying that there are 349 articles that match this query. '+' is a way of encoding a space in a URL. More complex queries are of course possible. A good way of constructing the queries for the PLOS API is to use the [Advanced Search](http://www.plosone.org/search/advanced) functionality to construct and explore the search space and then use this via the API. This [more focussed](http://www.plosone.org/search/advanced?pageSize=15&sort=&queryField=author_affiliate&queryTerm=&unformattedQuery=author_affiliate%3A%22California+Institute+of+Technology%22&journalOpt=all&subjectCatOpt=all&filterArticleTypesOpt=all) search reduces the results to 185 positive hits when we focus on author affiliations rather than free text search.\n",
      "\n",
      "Work with the search, focussing on your chosen PI, to identify whether they have published with PLOS. Consult with colleagues to see which of the set of PIs you are working with have chosen to publish with PLOS."
     ]
    },
    {
     "cell_type": "markdown",
     "metadata": {},
     "source": [
      "Part II - Working with APIs via code\n",
      "====================================\n",
      "\n",
      "The second part of the class will invove working with more than one API to obtain information on sets of publications. We will obtain some basic data on social media activity around specific papers and do some visualisations and compare the results with those from a set of comparison data. We will also explore some basics of graphing and data manipulation in Python.\n",
      "\n",
      "When working with APIs in Python it is common practice to use wrappers that expose the API in 'Python-like' ways. Generally these wrappers provide simple methods to 'hit' the API and obtain information in easily workable Python-style objects. In this case we are importing three wrappers, one for searching PLOS articles, one for obtaining usage information on PLOS articles and one for interacting with the twitter API."
     ]
    },
    {
     "cell_type": "code",
     "collapsed": false,
     "input": [
      "import twitter\n",
      "import pyalm.pyalm as pyalm\n",
      "import pyalm.config as config\n",
      "import pyalm.utilities.plossearch as search\n",
      "import pprint\n",
      "\n",
      "#Set your API Key\n",
      "config.APIS['plos']['key'] = 'your_key_here'\n"
     ],
     "language": "python",
     "metadata": {
      "slideshow": {
       "slide_type": "slide"
      }
     },
     "outputs": [],
     "prompt_number": 1
    },
    {
     "cell_type": "markdown",
     "metadata": {
      "slideshow": {
       "slide_type": "slide"
      }
     },
     "source": [
      "Gathering Relevant DOIs\n",
      "------------------------\n",
      "\n",
      "Firstly we want to obtain some DOIs to work with from the PLOS Search API. I am using a wrapper for the PLOS search API that interacts with the Solr index exposed at http://api.plos.org/search. The API wrapper returns a JSON object containing responses. Lets take a look at the first one of those. In this case we're only getting a DOI back. This is the default return information, but we can also ask for much more information if we want to. We can also run quite sophisticated searches."
     ]
    },
    {
     "cell_type": "code",
     "collapsed": false,
     "input": [
      "# Initiate and populate a query object\n",
      "query = search.Request('author_affiliate:\"California Institute of Technology\"')\n",
      "\n",
      "# Initiate the actual API call and get some results\n",
      "response = query.get()\n",
      "response"
     ],
     "language": "python",
     "metadata": {
      "slideshow": {
       "slide_type": "subslide"
      }
     },
     "outputs": [
      {
       "metadata": {},
       "output_type": "pyout",
       "prompt_number": 2,
       "text": [
        "{u'response': {u'docs': [{u'doi': [u'10.1371/journal.pone.0022201']},\n",
        "   {u'doi': [u'10.1371/journal.pcbi.1000349']},\n",
        "   {u'doi': [u'10.1371/journal.pone.0026543']},\n",
        "   {u'doi': [u'10.1371/journal.pone.0035934']},\n",
        "   {u'doi': [u'10.1371/journal.pone.0008793']},\n",
        "   {u'doi': [u'10.1371/journal.pbio.1001153']},\n",
        "   {u'doi': [u'10.1371/journal.pone.0046473']},\n",
        "   {u'doi': [u'10.1371/journal.pone.0000787']},\n",
        "   {u'doi': [u'10.1371/journal.pone.0000749']},\n",
        "   {u'doi': [u'10.1371/journal.pone.0012353']},\n",
        "   {u'doi': [u'10.1371/journal.pone.0007757']},\n",
        "   {u'doi': [u'10.1371/journal.pbio.1000444']},\n",
        "   {u'doi': [u'10.1371/journal.ppat.1001225']},\n",
        "   {u'doi': [u'10.1371/journal.pgen.0020117']},\n",
        "   {u'doi': [u'10.1371/journal.pone.0029172']},\n",
        "   {u'doi': [u'10.1371/journal.pone.0021074']},\n",
        "   {u'doi': [u'10.1371/journal.pbio.0040112']},\n",
        "   {u'doi': [u'10.1371/journal.pcbi.1000354']},\n",
        "   {u'doi': [u'10.1371/journal.pone.0045301']},\n",
        "   {u'doi': [u'10.1371/journal.pbio.0020424']},\n",
        "   {u'doi': [u'10.1371/journal.pcbi.1000675']},\n",
        "   {u'doi': [u'10.1371/journal.ppat.1003961']},\n",
        "   {u'doi': [u'10.1371/journal.pgen.0030069']},\n",
        "   {u'doi': [u'10.1371/journal.pbio.1000202']},\n",
        "   {u'doi': [u'10.1371/journal.ppat.1000908']},\n",
        "   {u'doi': [u'10.1371/journal.pbio.0040233']},\n",
        "   {u'doi': [u'10.1371/journal.pone.0015429']},\n",
        "   {u'doi': [u'10.1371/journal.pcbi.1002811']},\n",
        "   {u'doi': [u'10.1371/journal.pone.0074513']},\n",
        "   {u'doi': [u'10.1371/journal.pone.0105626']},\n",
        "   {u'doi': [u'10.1371/journal.pone.0004883']},\n",
        "   {u'doi': [u'10.1371/journal.pcbi.1000363']},\n",
        "   {u'doi': [u'10.1371/journal.pone.0018377']},\n",
        "   {u'doi': [u'10.1371/journal.pbio.1001272']},\n",
        "   {u'doi': [u'10.1371/journal.pone.0033077']},\n",
        "   {u'doi': [u'10.1371/journal.pone.0019316']},\n",
        "   {u'doi': [u'10.1371/journal.pbio.0020309']},\n",
        "   {u'doi': [u'10.1371/journal.pone.0041794']},\n",
        "   {u'doi': [u'10.1371/journal.pone.0003190']},\n",
        "   {u'doi': [u'10.1371/journal.pone.0016791']},\n",
        "   {u'doi': [u'10.1371/journal.pone.0029822']},\n",
        "   {u'doi': [u'10.1371/journal.pone.0043302']},\n",
        "   {u'doi': [u'10.1371/journal.pone.0020230']},\n",
        "   {u'doi': [u'10.1371/journal.pcbi.1003106']},\n",
        "   {u'doi': [u'10.1371/journal.pcbi.1002713']},\n",
        "   {u'doi': [u'10.1371/journal.pone.0005621']},\n",
        "   {u'doi': [u'10.1371/journal.pone.0017833']},\n",
        "   {u'doi': [u'10.1371/journal.pcbi.0030081']},\n",
        "   {u'doi': [u'10.1371/journal.pcbi.0020169']},\n",
        "   {u'doi': [u'10.1371/journal.pone.0023106']},\n",
        "   {u'doi': [u'10.1371/journal.pone.0103369']},\n",
        "   {u'doi': [u'10.1371/journal.pcbi.1002069']},\n",
        "   {u'doi': [u'10.1371/journal.pbio.0030257']},\n",
        "   {u'doi': [u'10.1371/journal.pbio.0020002']},\n",
        "   {u'doi': [u'10.1371/journal.pone.0028080']},\n",
        "   {u'doi': [u'10.1371/journal.pcbi.1002431']},\n",
        "   {u'doi': [u'10.1371/journal.pone.0087122']},\n",
        "   {u'doi': [u'10.1371/journal.pone.0026127']},\n",
        "   {u'doi': [u'10.1371/journal.pone.0052463']},\n",
        "   {u'doi': [u'10.1371/journal.pbio.1000246']},\n",
        "   {u'doi': [u'10.1371/journal.pcbi.1003844']},\n",
        "   {u'doi': [u'10.1371/journal.pone.0084455']},\n",
        "   {u'doi': [u'10.1371/journal.pcbi.1002891']},\n",
        "   {u'doi': [u'10.1371/journal.pcbi.1001048']},\n",
        "   {u'doi': [u'10.1371/journal.pone.0050438']},\n",
        "   {u'doi': [u'10.1371/journal.pone.0013890']},\n",
        "   {u'doi': [u'10.1371/journal.pone.0067952']},\n",
        "   {u'doi': [u'10.1371/journal.pone.0041161']},\n",
        "   {u'doi': [u'10.1371/journal.pone.0084713']},\n",
        "   {u'doi': [u'10.1371/journal.pone.0016838']},\n",
        "   {u'doi': [u'10.1371/journal.pbio.0040267']},\n",
        "   {u'doi': [u'10.1371/journal.pgen.1003142']},\n",
        "   {u'doi': [u'10.1371/journal.pcbi.1002895']},\n",
        "   {u'doi': [u'10.1371/journal.pcbi.1001100']},\n",
        "   {u'doi': [u'10.1371/journal.pone.0076224']},\n",
        "   {u'doi': [u'10.1371/journal.pone.0026204']},\n",
        "   {u'doi': [u'10.1371/journal.pbio.0000051']},\n",
        "   {u'doi': [u'10.1371/journal.pone.0075799']},\n",
        "   {u'doi': [u'10.1371/journal.pbio.1000367']},\n",
        "   {u'doi': [u'10.1371/journal.pone.0085492']},\n",
        "   {u'doi': [u'10.1371/journal.pone.0012903']},\n",
        "   {u'doi': [u'10.1371/journal.pone.0018086']},\n",
        "   {u'doi': [u'10.1371/journal.pbio.1001213']},\n",
        "   {u'doi': [u'10.1371/journal.pbio.0020429']},\n",
        "   {u'doi': [u'10.1371/journal.pone.0005768']},\n",
        "   {u'doi': [u'10.1371/journal.pone.0032888']},\n",
        "   {u'doi': [u'10.1371/journal.pone.0012288']},\n",
        "   {u'doi': [u'10.1371/journal.pbio.0060173']},\n",
        "   {u'doi': [u'10.1371/journal.pone.0034464']},\n",
        "   {u'doi': [u'10.1371/journal.pone.0012009']},\n",
        "   {u'doi': [u'10.1371/journal.pone.0043351']},\n",
        "   {u'doi': [u'10.1371/journal.pcbi.1003055']},\n",
        "   {u'doi': [u'10.1371/journal.pone.0001497']},\n",
        "   {u'doi': [u'10.1371/journal.pone.0037992']},\n",
        "   {u'doi': [u'10.1371/journal.pone.0072751']},\n",
        "   {u'doi': [u'10.1371/journal.pone.0089712']},\n",
        "   {u'doi': [u'10.1371/journal.ppat.1003899']},\n",
        "   {u'doi': [u'10.1371/journal.pcbi.1002607']},\n",
        "   {u'doi': [u'10.1371/journal.pone.0020725']},\n",
        "   {u'doi': [u'10.1371/journal.pone.0011663']},\n",
        "   {u'doi': [u'10.1371/journal.pone.0025102']},\n",
        "   {u'doi': [u'10.1371/journal.pbio.0040148']},\n",
        "   {u'doi': [u'10.1371/journal.pcbi.1002918']},\n",
        "   {u'doi': [u'10.1371/journal.pcbi.1001128']},\n",
        "   {u'doi': [u'10.1371/journal.pone.0085872']},\n",
        "   {u'doi': [u'10.1371/journal.pcbi.1000291']},\n",
        "   {u'doi': [u'10.1371/journal.pone.0054971']},\n",
        "   {u'doi': [u'10.1371/journal.pone.0003610']},\n",
        "   {u'doi': [u'10.1371/journal.pone.0003478']},\n",
        "   {u'doi': [u'10.1371/journal.pone.0012674']},\n",
        "   {u'doi': [u'10.1371/journal.pone.0000090']},\n",
        "   {u'doi': [u'10.1371/journal.pgen.1000460']},\n",
        "   {u'doi': [u'10.1371/journal.pbio.1001306']},\n",
        "   {u'doi': [u'10.1371/journal.pbio.1001252']},\n",
        "   {u'doi': [u'10.1371/journal.ppat.1004212']},\n",
        "   {u'doi': [u'10.1371/journal.pone.0005782']},\n",
        "   {u'doi': [u'10.1371/journal.pone.0005496']},\n",
        "   {u'doi': [u'10.1371/journal.pone.0050644']},\n",
        "   {u'doi': [u'10.1371/journal.pcbi.1000545']},\n",
        "   {u'doi': [u'10.1371/journal.pone.0005344']},\n",
        "   {u'doi': [u'10.1371/journal.pone.0102694']},\n",
        "   {u'doi': [u'10.1371/journal.pgen.0010061']},\n",
        "   {u'doi': [u'10.1371/journal.pbio.1000516']},\n",
        "   {u'doi': [u'10.1371/journal.pone.0047952']},\n",
        "   {u'doi': [u'10.1371/journal.pgen.1003195']},\n",
        "   {u'doi': [u'10.1371/journal.pbio.0040120']},\n",
        "   {u'doi': [u'10.1371/journal.pcbi.1003111']},\n",
        "   {u'doi': [u'10.1371/journal.pone.0001676']},\n",
        "   {u'doi': [u'10.1371/journal.pcbi.1002774']},\n",
        "   {u'doi': [u'10.1371/journal.pone.0060841']},\n",
        "   {u'doi': [u'10.1371/journal.pone.0010640']},\n",
        "   {u'doi': [u'10.1371/journal.pone.0001437']},\n",
        "   {u'doi': [u'10.1371/journal.pone.0078726']},\n",
        "   {u'doi': [u'10.1371/journal.pone.0041040']},\n",
        "   {u'doi': [u'10.1371/journal.pone.0000943']},\n",
        "   {u'doi': [u'10.1371/journal.pgen.1002528']},\n",
        "   {u'doi': [u'10.1371/journal.pcbi.1001066']},\n",
        "   {u'doi': [u'10.1371/journal.pone.0067702']},\n",
        "   {u'doi': [u'10.1371/journal.pone.0008573']},\n",
        "   {u'doi': [u'10.1371/journal.pcbi.0020153']},\n",
        "   {u'doi': [u'10.1371/journal.pcbi.1000268']},\n",
        "   {u'doi': [u'10.1371/journal.pone.0004901']},\n",
        "   {u'doi': [u'10.1371/journal.pone.0008015']},\n",
        "   {u'doi': [u'10.1371/journal.pone.0004503']},\n",
        "   {u'doi': [u'10.1371/journal.pone.0004559']},\n",
        "   {u'doi': [u'10.1371/journal.pone.0017804']},\n",
        "   {u'doi': [u'10.1371/journal.pone.0008228']},\n",
        "   {u'doi': [u'10.1371/journal.pone.0018224']},\n",
        "   {u'doi': [u'10.1371/journal.pone.0004338']},\n",
        "   {u'doi': [u'10.1371/journal.pcbi.0030020']},\n",
        "   {u'doi': [u'10.1371/journal.pbio.1001237']},\n",
        "   {u'doi': [u'10.1371/journal.pone.0009954']},\n",
        "   {u'doi': [u'10.1371/journal.pgen.1002443']},\n",
        "   {u'doi': [u'10.1371/journal.pone.0095990']},\n",
        "   {u'doi': [u'10.1371/journal.pbio.0020015']},\n",
        "   {u'doi': [u'10.1371/journal.pone.0017013']},\n",
        "   {u'doi': [u'10.1371/journal.pone.0103024']},\n",
        "   {u'doi': [u'10.1371/journal.pone.0057597']},\n",
        "   {u'doi': [u'10.1371/journal.pone.0057516']},\n",
        "   {u'doi': [u'10.1371/journal.pcbi.1003475']},\n",
        "   {u'doi': [u'10.1371/journal.pone.0066012']},\n",
        "   {u'doi': [u'10.1371/journal.pone.0011506']},\n",
        "   {u'doi': [u'10.1371/journal.pone.0016676']},\n",
        "   {u'doi': [u'10.1371/journal.pbio.1000167']},\n",
        "   {u'doi': [u'10.1371/journal.pone.0001923']},\n",
        "   {u'doi': [u'10.1371/journal.pgen.1003079']},\n",
        "   {u'doi': [u'10.1371/journal.pone.0001295']},\n",
        "   {u'doi': [u'10.1371/journal.pcbi.1002841']},\n",
        "   {u'doi': [u'10.1371/journal.pone.0001253']},\n",
        "   {u'doi': [u'10.1371/journal.pone.0028922']},\n",
        "   {u'doi': [u'10.1371/journal.pmed.0020355']},\n",
        "   {u'doi': [u'10.1371/journal.ppat.1002527']},\n",
        "   {u'doi': [u'10.1371/journal.pone.0017441']},\n",
        "   {u'doi': [u'10.1371/journal.ppat.1003106']},\n",
        "   {u'doi': [u'10.1371/journal.pone.0048909']},\n",
        "   {u'doi': [u'10.1371/journal.pone.0014360']},\n",
        "   {u'doi': [u'10.1371/journal.pbio.0050301']},\n",
        "   {u'doi': [u'10.1371/journal.pcbi.1003542']},\n",
        "   {u'doi': [u'10.1371/journal.pone.0002150']},\n",
        "   {u'doi': [u'10.1371/journal.pone.0007173']},\n",
        "   {u'doi': [u'10.1371/journal.pntd.0000684']},\n",
        "   {u'doi': [u'10.1371/journal.pone.0024925']},\n",
        "   {u'doi': [u'10.1371/journal.pntd.0000246']},\n",
        "   {u'doi': [u'10.1371/journal.pcbi.0020059']},\n",
        "   {u'doi': [u'10.1371/journal.pone.0068300']},\n",
        "   {u'doi': [u'10.1371/journal.pcbi.1002236']},\n",
        "   {u'doi': [u'10.1371/journal.pcbi.1002202']},\n",
        "   {u'doi': [u'10.1371/journal.pone.0069618']},\n",
        "   {u'doi': [u'10.1371/journal.pone.0026727']},\n",
        "   {u'doi': [u'10.1371/journal.pone.0000928']},\n",
        "   {u'doi': [u'10.1371/journal.pcbi.1000334']},\n",
        "   {u'doi': [u'10.1371/journal.pcbi.1001122']},\n",
        "   {u'doi': [u'10.1371/journal.pgen.1004261']}],\n",
        "  u'numFound': 193,\n",
        "  u'start': 0}}"
       ]
      }
     ],
     "prompt_number": 2
    },
    {
     "cell_type": "markdown",
     "metadata": {
      "slideshow": {
       "slide_type": "subslide"
      }
     },
     "source": [
      "For now we just want to get the relevant list of DOIs out of the returned object. This can be done by looping over the set of records as shown below."
     ]
    },
    {
     "cell_type": "code",
     "collapsed": false,
     "input": [
      "dois = []\n",
      "for record in response['response']['docs']:\n",
      "    dois.append(record['doi'][0])\n",
      "    \n",
      "len(dois)"
     ],
     "language": "python",
     "metadata": {
      "slideshow": {
       "slide_type": "subslide"
      }
     },
     "outputs": [
      {
       "metadata": {},
       "output_type": "pyout",
       "prompt_number": 3,
       "text": [
        "193"
       ]
      }
     ],
     "prompt_number": 3
    },
    {
     "cell_type": "markdown",
     "metadata": {},
     "source": [
      "A better, neater way to achieve the same thing is to use a list comprehension. For efficient code a list comprehension almost always beats a for loop. There will be several cases further down this introduction where it is useful to create lists from more complex data objects so I've illustrated this below. There are still more efficient ways to generate an iterator object that would behave similarly but they don't create a list with a `len` function which is quite useful for us here. "
     ]
    },
    {
     "cell_type": "code",
     "collapsed": false,
     "input": [
      "[record['doi'][0] for record in response['response']['docs']]\n",
      "len(dois)"
     ],
     "language": "python",
     "metadata": {},
     "outputs": [
      {
       "metadata": {},
       "output_type": "pyout",
       "prompt_number": 4,
       "text": [
        "193"
       ]
      }
     ],
     "prompt_number": 4
    },
    {
     "cell_type": "code",
     "collapsed": false,
     "input": [
      "dois"
     ],
     "language": "python",
     "metadata": {},
     "outputs": [
      {
       "metadata": {},
       "output_type": "pyout",
       "prompt_number": 5,
       "text": [
        "[u'10.1371/journal.pone.0022201',\n",
        " u'10.1371/journal.pcbi.1000349',\n",
        " u'10.1371/journal.pone.0026543',\n",
        " u'10.1371/journal.pone.0035934',\n",
        " u'10.1371/journal.pone.0008793',\n",
        " u'10.1371/journal.pbio.1001153',\n",
        " u'10.1371/journal.pone.0046473',\n",
        " u'10.1371/journal.pone.0000787',\n",
        " u'10.1371/journal.pone.0000749',\n",
        " u'10.1371/journal.pone.0012353',\n",
        " u'10.1371/journal.pone.0007757',\n",
        " u'10.1371/journal.pbio.1000444',\n",
        " u'10.1371/journal.ppat.1001225',\n",
        " u'10.1371/journal.pgen.0020117',\n",
        " u'10.1371/journal.pone.0029172',\n",
        " u'10.1371/journal.pone.0021074',\n",
        " u'10.1371/journal.pbio.0040112',\n",
        " u'10.1371/journal.pcbi.1000354',\n",
        " u'10.1371/journal.pone.0045301',\n",
        " u'10.1371/journal.pbio.0020424',\n",
        " u'10.1371/journal.pcbi.1000675',\n",
        " u'10.1371/journal.ppat.1003961',\n",
        " u'10.1371/journal.pgen.0030069',\n",
        " u'10.1371/journal.pbio.1000202',\n",
        " u'10.1371/journal.ppat.1000908',\n",
        " u'10.1371/journal.pbio.0040233',\n",
        " u'10.1371/journal.pone.0015429',\n",
        " u'10.1371/journal.pcbi.1002811',\n",
        " u'10.1371/journal.pone.0074513',\n",
        " u'10.1371/journal.pone.0105626',\n",
        " u'10.1371/journal.pone.0004883',\n",
        " u'10.1371/journal.pcbi.1000363',\n",
        " u'10.1371/journal.pone.0018377',\n",
        " u'10.1371/journal.pbio.1001272',\n",
        " u'10.1371/journal.pone.0033077',\n",
        " u'10.1371/journal.pone.0019316',\n",
        " u'10.1371/journal.pbio.0020309',\n",
        " u'10.1371/journal.pone.0041794',\n",
        " u'10.1371/journal.pone.0003190',\n",
        " u'10.1371/journal.pone.0016791',\n",
        " u'10.1371/journal.pone.0029822',\n",
        " u'10.1371/journal.pone.0043302',\n",
        " u'10.1371/journal.pone.0020230',\n",
        " u'10.1371/journal.pcbi.1003106',\n",
        " u'10.1371/journal.pcbi.1002713',\n",
        " u'10.1371/journal.pone.0005621',\n",
        " u'10.1371/journal.pone.0017833',\n",
        " u'10.1371/journal.pcbi.0030081',\n",
        " u'10.1371/journal.pcbi.0020169',\n",
        " u'10.1371/journal.pone.0023106',\n",
        " u'10.1371/journal.pone.0103369',\n",
        " u'10.1371/journal.pcbi.1002069',\n",
        " u'10.1371/journal.pbio.0030257',\n",
        " u'10.1371/journal.pbio.0020002',\n",
        " u'10.1371/journal.pone.0028080',\n",
        " u'10.1371/journal.pcbi.1002431',\n",
        " u'10.1371/journal.pone.0087122',\n",
        " u'10.1371/journal.pone.0026127',\n",
        " u'10.1371/journal.pone.0052463',\n",
        " u'10.1371/journal.pbio.1000246',\n",
        " u'10.1371/journal.pcbi.1003844',\n",
        " u'10.1371/journal.pone.0084455',\n",
        " u'10.1371/journal.pcbi.1002891',\n",
        " u'10.1371/journal.pcbi.1001048',\n",
        " u'10.1371/journal.pone.0050438',\n",
        " u'10.1371/journal.pone.0013890',\n",
        " u'10.1371/journal.pone.0067952',\n",
        " u'10.1371/journal.pone.0041161',\n",
        " u'10.1371/journal.pone.0084713',\n",
        " u'10.1371/journal.pone.0016838',\n",
        " u'10.1371/journal.pbio.0040267',\n",
        " u'10.1371/journal.pgen.1003142',\n",
        " u'10.1371/journal.pcbi.1002895',\n",
        " u'10.1371/journal.pcbi.1001100',\n",
        " u'10.1371/journal.pone.0076224',\n",
        " u'10.1371/journal.pone.0026204',\n",
        " u'10.1371/journal.pbio.0000051',\n",
        " u'10.1371/journal.pone.0075799',\n",
        " u'10.1371/journal.pbio.1000367',\n",
        " u'10.1371/journal.pone.0085492',\n",
        " u'10.1371/journal.pone.0012903',\n",
        " u'10.1371/journal.pone.0018086',\n",
        " u'10.1371/journal.pbio.1001213',\n",
        " u'10.1371/journal.pbio.0020429',\n",
        " u'10.1371/journal.pone.0005768',\n",
        " u'10.1371/journal.pone.0032888',\n",
        " u'10.1371/journal.pone.0012288',\n",
        " u'10.1371/journal.pbio.0060173',\n",
        " u'10.1371/journal.pone.0034464',\n",
        " u'10.1371/journal.pone.0012009',\n",
        " u'10.1371/journal.pone.0043351',\n",
        " u'10.1371/journal.pcbi.1003055',\n",
        " u'10.1371/journal.pone.0001497',\n",
        " u'10.1371/journal.pone.0037992',\n",
        " u'10.1371/journal.pone.0072751',\n",
        " u'10.1371/journal.pone.0089712',\n",
        " u'10.1371/journal.ppat.1003899',\n",
        " u'10.1371/journal.pcbi.1002607',\n",
        " u'10.1371/journal.pone.0020725',\n",
        " u'10.1371/journal.pone.0011663',\n",
        " u'10.1371/journal.pone.0025102',\n",
        " u'10.1371/journal.pbio.0040148',\n",
        " u'10.1371/journal.pcbi.1002918',\n",
        " u'10.1371/journal.pcbi.1001128',\n",
        " u'10.1371/journal.pone.0085872',\n",
        " u'10.1371/journal.pcbi.1000291',\n",
        " u'10.1371/journal.pone.0054971',\n",
        " u'10.1371/journal.pone.0003610',\n",
        " u'10.1371/journal.pone.0003478',\n",
        " u'10.1371/journal.pone.0012674',\n",
        " u'10.1371/journal.pone.0000090',\n",
        " u'10.1371/journal.pgen.1000460',\n",
        " u'10.1371/journal.pbio.1001306',\n",
        " u'10.1371/journal.pbio.1001252',\n",
        " u'10.1371/journal.ppat.1004212',\n",
        " u'10.1371/journal.pone.0005782',\n",
        " u'10.1371/journal.pone.0005496',\n",
        " u'10.1371/journal.pone.0050644',\n",
        " u'10.1371/journal.pcbi.1000545',\n",
        " u'10.1371/journal.pone.0005344',\n",
        " u'10.1371/journal.pone.0102694',\n",
        " u'10.1371/journal.pgen.0010061',\n",
        " u'10.1371/journal.pbio.1000516',\n",
        " u'10.1371/journal.pone.0047952',\n",
        " u'10.1371/journal.pgen.1003195',\n",
        " u'10.1371/journal.pbio.0040120',\n",
        " u'10.1371/journal.pcbi.1003111',\n",
        " u'10.1371/journal.pone.0001676',\n",
        " u'10.1371/journal.pcbi.1002774',\n",
        " u'10.1371/journal.pone.0060841',\n",
        " u'10.1371/journal.pone.0010640',\n",
        " u'10.1371/journal.pone.0001437',\n",
        " u'10.1371/journal.pone.0078726',\n",
        " u'10.1371/journal.pone.0041040',\n",
        " u'10.1371/journal.pone.0000943',\n",
        " u'10.1371/journal.pgen.1002528',\n",
        " u'10.1371/journal.pcbi.1001066',\n",
        " u'10.1371/journal.pone.0067702',\n",
        " u'10.1371/journal.pone.0008573',\n",
        " u'10.1371/journal.pcbi.0020153',\n",
        " u'10.1371/journal.pcbi.1000268',\n",
        " u'10.1371/journal.pone.0004901',\n",
        " u'10.1371/journal.pone.0008015',\n",
        " u'10.1371/journal.pone.0004503',\n",
        " u'10.1371/journal.pone.0004559',\n",
        " u'10.1371/journal.pone.0017804',\n",
        " u'10.1371/journal.pone.0008228',\n",
        " u'10.1371/journal.pone.0018224',\n",
        " u'10.1371/journal.pone.0004338',\n",
        " u'10.1371/journal.pcbi.0030020',\n",
        " u'10.1371/journal.pbio.1001237',\n",
        " u'10.1371/journal.pone.0009954',\n",
        " u'10.1371/journal.pgen.1002443',\n",
        " u'10.1371/journal.pone.0095990',\n",
        " u'10.1371/journal.pbio.0020015',\n",
        " u'10.1371/journal.pone.0017013',\n",
        " u'10.1371/journal.pone.0103024',\n",
        " u'10.1371/journal.pone.0057597',\n",
        " u'10.1371/journal.pone.0057516',\n",
        " u'10.1371/journal.pcbi.1003475',\n",
        " u'10.1371/journal.pone.0066012',\n",
        " u'10.1371/journal.pone.0011506',\n",
        " u'10.1371/journal.pone.0016676',\n",
        " u'10.1371/journal.pbio.1000167',\n",
        " u'10.1371/journal.pone.0001923',\n",
        " u'10.1371/journal.pgen.1003079',\n",
        " u'10.1371/journal.pone.0001295',\n",
        " u'10.1371/journal.pcbi.1002841',\n",
        " u'10.1371/journal.pone.0001253',\n",
        " u'10.1371/journal.pone.0028922',\n",
        " u'10.1371/journal.pmed.0020355',\n",
        " u'10.1371/journal.ppat.1002527',\n",
        " u'10.1371/journal.pone.0017441',\n",
        " u'10.1371/journal.ppat.1003106',\n",
        " u'10.1371/journal.pone.0048909',\n",
        " u'10.1371/journal.pone.0014360',\n",
        " u'10.1371/journal.pbio.0050301',\n",
        " u'10.1371/journal.pcbi.1003542',\n",
        " u'10.1371/journal.pone.0002150',\n",
        " u'10.1371/journal.pone.0007173',\n",
        " u'10.1371/journal.pntd.0000684',\n",
        " u'10.1371/journal.pone.0024925',\n",
        " u'10.1371/journal.pntd.0000246',\n",
        " u'10.1371/journal.pcbi.0020059',\n",
        " u'10.1371/journal.pone.0068300',\n",
        " u'10.1371/journal.pcbi.1002236',\n",
        " u'10.1371/journal.pcbi.1002202',\n",
        " u'10.1371/journal.pone.0069618',\n",
        " u'10.1371/journal.pone.0026727',\n",
        " u'10.1371/journal.pone.0000928',\n",
        " u'10.1371/journal.pcbi.1000334',\n",
        " u'10.1371/journal.pcbi.1001122',\n",
        " u'10.1371/journal.pgen.1004261']"
       ]
      }
     ],
     "prompt_number": 5
    },
    {
     "cell_type": "markdown",
     "metadata": {
      "slideshow": {
       "slide_type": "slide"
      }
     },
     "source": [
      "Using the DOIs to get Article Level Metrics Data\n",
      "------------------------------------------------\n",
      "\n",
      "We now have a list of DOIs in a form we can use to query the PLOS Article Level Metrics API. Again we're going to use a wrapper to do this. The wrapper has a similar pattern of use. The API docs say to fetch only up to 50 sets of ALMs at a time so we will pull them in batches. When doing this it is always best to be polite. This is only a small set, but if there were thousands of articles we were interested in we would need to consider putting some delays in here."
     ]
    },
    {
     "cell_type": "code",
     "collapsed": false,
     "input": [
      "alms = []\n",
      "for start, stop in [[0,50],[50,100],[100,150],[150,193]]:\n",
      "    response = pyalm.get_alm(dois[start:stop])\n",
      "    alms.extend(response)\n",
      "alms[0:5]"
     ],
     "language": "python",
     "metadata": {},
     "outputs": [
      {
       "output_type": "stream",
       "stream": "stdout",
       "text": [
        "http://alm.plos.org/api/v3/articles?api_key=yeh6hZUpwuJ23df9zLp1&ids=10.1371%2Fjournal.pone.0022201%2C10.1371%2Fjournal.pcbi.1000349%2C10.1371%2Fjournal.pone.0026543%2C10.1371%2Fjournal.pone.0035934%2C10.1371%2Fjournal.pone.0008793%2C10.1371%2Fjournal.pbio.1001153%2C10.1371%2Fjournal.pone.0046473%2C10.1371%2Fjournal.pone.0000787%2C10.1371%2Fjournal.pone.0000749%2C10.1371%2Fjournal.pone.0012353%2C10.1371%2Fjournal.pone.0007757%2C10.1371%2Fjournal.pbio.1000444%2C10.1371%2Fjournal.ppat.1001225%2C10.1371%2Fjournal.pgen.0020117%2C10.1371%2Fjournal.pone.0029172%2C10.1371%2Fjournal.pone.0021074%2C10.1371%2Fjournal.pbio.0040112%2C10.1371%2Fjournal.pcbi.1000354%2C10.1371%2Fjournal.pone.0045301%2C10.1371%2Fjournal.pbio.0020424%2C10.1371%2Fjournal.pcbi.1000675%2C10.1371%2Fjournal.ppat.1003961%2C10.1371%2Fjournal.pgen.0030069%2C10.1371%2Fjournal.pbio.1000202%2C10.1371%2Fjournal.ppat.1000908%2C10.1371%2Fjournal.pbio.0040233%2C10.1371%2Fjournal.pone.0015429%2C10.1371%2Fjournal.pcbi.1002811%2C10.1371%2Fjournal.pone.0074513%2C10.1371%2Fjournal.pone.0105626%2C10.1371%2Fjournal.pone.0004883%2C10.1371%2Fjournal.pcbi.1000363%2C10.1371%2Fjournal.pone.0018377%2C10.1371%2Fjournal.pbio.1001272%2C10.1371%2Fjournal.pone.0033077%2C10.1371%2Fjournal.pone.0019316%2C10.1371%2Fjournal.pbio.0020309%2C10.1371%2Fjournal.pone.0041794%2C10.1371%2Fjournal.pone.0003190%2C10.1371%2Fjournal.pone.0016791%2C10.1371%2Fjournal.pone.0029822%2C10.1371%2Fjournal.pone.0043302%2C10.1371%2Fjournal.pone.0020230%2C10.1371%2Fjournal.pcbi.1003106%2C10.1371%2Fjournal.pcbi.1002713%2C10.1371%2Fjournal.pone.0005621%2C10.1371%2Fjournal.pone.0017833%2C10.1371%2Fjournal.pcbi.0030081%2C10.1371%2Fjournal.pcbi.0020169%2C10.1371%2Fjournal.pone.0023106\n",
        "http://alm.plos.org/api/v3/articles?api_key=yeh6hZUpwuJ23df9zLp1&ids=10.1371%2Fjournal.pone.0103369%2C10.1371%2Fjournal.pcbi.1002069%2C10.1371%2Fjournal.pbio.0030257%2C10.1371%2Fjournal.pbio.0020002%2C10.1371%2Fjournal.pone.0028080%2C10.1371%2Fjournal.pcbi.1002431%2C10.1371%2Fjournal.pone.0087122%2C10.1371%2Fjournal.pone.0026127%2C10.1371%2Fjournal.pone.0052463%2C10.1371%2Fjournal.pbio.1000246%2C10.1371%2Fjournal.pcbi.1003844%2C10.1371%2Fjournal.pone.0084455%2C10.1371%2Fjournal.pcbi.1002891%2C10.1371%2Fjournal.pcbi.1001048%2C10.1371%2Fjournal.pone.0050438%2C10.1371%2Fjournal.pone.0013890%2C10.1371%2Fjournal.pone.0067952%2C10.1371%2Fjournal.pone.0041161%2C10.1371%2Fjournal.pone.0084713%2C10.1371%2Fjournal.pone.0016838%2C10.1371%2Fjournal.pbio.0040267%2C10.1371%2Fjournal.pgen.1003142%2C10.1371%2Fjournal.pcbi.1002895%2C10.1371%2Fjournal.pcbi.1001100%2C10.1371%2Fjournal.pone.0076224%2C10.1371%2Fjournal.pone.0026204%2C10.1371%2Fjournal.pbio.0000051%2C10.1371%2Fjournal.pone.0075799%2C10.1371%2Fjournal.pbio.1000367%2C10.1371%2Fjournal.pone.0085492%2C10.1371%2Fjournal.pone.0012903%2C10.1371%2Fjournal.pone.0018086%2C10.1371%2Fjournal.pbio.1001213%2C10.1371%2Fjournal.pbio.0020429%2C10.1371%2Fjournal.pone.0005768%2C10.1371%2Fjournal.pone.0032888%2C10.1371%2Fjournal.pone.0012288%2C10.1371%2Fjournal.pbio.0060173%2C10.1371%2Fjournal.pone.0034464%2C10.1371%2Fjournal.pone.0012009%2C10.1371%2Fjournal.pone.0043351%2C10.1371%2Fjournal.pcbi.1003055%2C10.1371%2Fjournal.pone.0001497%2C10.1371%2Fjournal.pone.0037992%2C10.1371%2Fjournal.pone.0072751%2C10.1371%2Fjournal.pone.0089712%2C10.1371%2Fjournal.ppat.1003899%2C10.1371%2Fjournal.pcbi.1002607%2C10.1371%2Fjournal.pone.0020725%2C10.1371%2Fjournal.pone.0011663"
       ]
      },
      {
       "output_type": "stream",
       "stream": "stdout",
       "text": [
        "\n",
        "http://alm.plos.org/api/v3/articles?api_key=yeh6hZUpwuJ23df9zLp1&ids=10.1371%2Fjournal.pone.0025102%2C10.1371%2Fjournal.pbio.0040148%2C10.1371%2Fjournal.pcbi.1002918%2C10.1371%2Fjournal.pcbi.1001128%2C10.1371%2Fjournal.pone.0085872%2C10.1371%2Fjournal.pcbi.1000291%2C10.1371%2Fjournal.pone.0054971%2C10.1371%2Fjournal.pone.0003610%2C10.1371%2Fjournal.pone.0003478%2C10.1371%2Fjournal.pone.0012674%2C10.1371%2Fjournal.pone.0000090%2C10.1371%2Fjournal.pgen.1000460%2C10.1371%2Fjournal.pbio.1001306%2C10.1371%2Fjournal.pbio.1001252%2C10.1371%2Fjournal.ppat.1004212%2C10.1371%2Fjournal.pone.0005782%2C10.1371%2Fjournal.pone.0005496%2C10.1371%2Fjournal.pone.0050644%2C10.1371%2Fjournal.pcbi.1000545%2C10.1371%2Fjournal.pone.0005344%2C10.1371%2Fjournal.pone.0102694%2C10.1371%2Fjournal.pgen.0010061%2C10.1371%2Fjournal.pbio.1000516%2C10.1371%2Fjournal.pone.0047952%2C10.1371%2Fjournal.pgen.1003195%2C10.1371%2Fjournal.pbio.0040120%2C10.1371%2Fjournal.pcbi.1003111%2C10.1371%2Fjournal.pone.0001676%2C10.1371%2Fjournal.pcbi.1002774%2C10.1371%2Fjournal.pone.0060841%2C10.1371%2Fjournal.pone.0010640%2C10.1371%2Fjournal.pone.0001437%2C10.1371%2Fjournal.pone.0078726%2C10.1371%2Fjournal.pone.0041040%2C10.1371%2Fjournal.pone.0000943%2C10.1371%2Fjournal.pgen.1002528%2C10.1371%2Fjournal.pcbi.1001066%2C10.1371%2Fjournal.pone.0067702%2C10.1371%2Fjournal.pone.0008573%2C10.1371%2Fjournal.pcbi.0020153%2C10.1371%2Fjournal.pcbi.1000268%2C10.1371%2Fjournal.pone.0004901%2C10.1371%2Fjournal.pone.0008015%2C10.1371%2Fjournal.pone.0004503%2C10.1371%2Fjournal.pone.0004559%2C10.1371%2Fjournal.pone.0017804%2C10.1371%2Fjournal.pone.0008228%2C10.1371%2Fjournal.pone.0018224%2C10.1371%2Fjournal.pone.0004338%2C10.1371%2Fjournal.pcbi.0030020"
       ]
      },
      {
       "output_type": "stream",
       "stream": "stdout",
       "text": [
        "\n",
        "http://alm.plos.org/api/v3/articles?api_key=yeh6hZUpwuJ23df9zLp1&ids=10.1371%2Fjournal.pbio.1001237%2C10.1371%2Fjournal.pone.0009954%2C10.1371%2Fjournal.pgen.1002443%2C10.1371%2Fjournal.pone.0095990%2C10.1371%2Fjournal.pbio.0020015%2C10.1371%2Fjournal.pone.0017013%2C10.1371%2Fjournal.pone.0103024%2C10.1371%2Fjournal.pone.0057597%2C10.1371%2Fjournal.pone.0057516%2C10.1371%2Fjournal.pcbi.1003475%2C10.1371%2Fjournal.pone.0066012%2C10.1371%2Fjournal.pone.0011506%2C10.1371%2Fjournal.pone.0016676%2C10.1371%2Fjournal.pbio.1000167%2C10.1371%2Fjournal.pone.0001923%2C10.1371%2Fjournal.pgen.1003079%2C10.1371%2Fjournal.pone.0001295%2C10.1371%2Fjournal.pcbi.1002841%2C10.1371%2Fjournal.pone.0001253%2C10.1371%2Fjournal.pone.0028922%2C10.1371%2Fjournal.pmed.0020355%2C10.1371%2Fjournal.ppat.1002527%2C10.1371%2Fjournal.pone.0017441%2C10.1371%2Fjournal.ppat.1003106%2C10.1371%2Fjournal.pone.0048909%2C10.1371%2Fjournal.pone.0014360%2C10.1371%2Fjournal.pbio.0050301%2C10.1371%2Fjournal.pcbi.1003542%2C10.1371%2Fjournal.pone.0002150%2C10.1371%2Fjournal.pone.0007173%2C10.1371%2Fjournal.pntd.0000684%2C10.1371%2Fjournal.pone.0024925%2C10.1371%2Fjournal.pntd.0000246%2C10.1371%2Fjournal.pcbi.0020059%2C10.1371%2Fjournal.pone.0068300%2C10.1371%2Fjournal.pcbi.1002236%2C10.1371%2Fjournal.pcbi.1002202%2C10.1371%2Fjournal.pone.0069618%2C10.1371%2Fjournal.pone.0026727%2C10.1371%2Fjournal.pone.0000928%2C10.1371%2Fjournal.pcbi.1000334%2C10.1371%2Fjournal.pcbi.1001122%2C10.1371%2Fjournal.pgen.1004261"
       ]
      },
      {
       "ename": "UnicodeEncodeError",
       "evalue": "'ascii' codec can't encode character u'\\u2013' in position 35: ordinal not in range(128)",
       "output_type": "pyerr",
       "traceback": [
        "\u001b[0;31m---------------------------------------------------------------------------\u001b[0m\n\u001b[0;31mUnicodeEncodeError\u001b[0m                        Traceback (most recent call last)",
        "\u001b[0;32m<ipython-input-6-bf45a8bc8481>\u001b[0m in \u001b[0;36m<module>\u001b[0;34m()\u001b[0m\n\u001b[1;32m      3\u001b[0m     \u001b[0mresponse\u001b[0m \u001b[0;34m=\u001b[0m \u001b[0mpyalm\u001b[0m\u001b[0;34m.\u001b[0m\u001b[0mget_alm\u001b[0m\u001b[0;34m(\u001b[0m\u001b[0mdois\u001b[0m\u001b[0;34m[\u001b[0m\u001b[0mstart\u001b[0m\u001b[0;34m:\u001b[0m\u001b[0mstop\u001b[0m\u001b[0;34m]\u001b[0m\u001b[0;34m)\u001b[0m\u001b[0;34m\u001b[0m\u001b[0m\n\u001b[1;32m      4\u001b[0m     \u001b[0malms\u001b[0m\u001b[0;34m.\u001b[0m\u001b[0mextend\u001b[0m\u001b[0;34m(\u001b[0m\u001b[0mresponse\u001b[0m\u001b[0;34m)\u001b[0m\u001b[0;34m\u001b[0m\u001b[0m\n\u001b[0;32m----> 5\u001b[0;31m \u001b[0malms\u001b[0m\u001b[0;34m[\u001b[0m\u001b[0;36m0\u001b[0m\u001b[0;34m:\u001b[0m\u001b[0;36m5\u001b[0m\u001b[0;34m]\u001b[0m\u001b[0;34m\u001b[0m\u001b[0m\n\u001b[0m",
        "\u001b[0;32m/Users/cneylon/Library/Enthought/Canopy_64bit/User/lib/python2.7/site-packages/IPython/core/displayhook.pyc\u001b[0m in \u001b[0;36m__call__\u001b[0;34m(self, result)\u001b[0m\n\u001b[1;32m    245\u001b[0m             \u001b[0mself\u001b[0m\u001b[0;34m.\u001b[0m\u001b[0mstart_displayhook\u001b[0m\u001b[0;34m(\u001b[0m\u001b[0;34m)\u001b[0m\u001b[0;34m\u001b[0m\u001b[0m\n\u001b[1;32m    246\u001b[0m             \u001b[0mself\u001b[0m\u001b[0;34m.\u001b[0m\u001b[0mwrite_output_prompt\u001b[0m\u001b[0;34m(\u001b[0m\u001b[0;34m)\u001b[0m\u001b[0;34m\u001b[0m\u001b[0m\n\u001b[0;32m--> 247\u001b[0;31m             \u001b[0mformat_dict\u001b[0m\u001b[0;34m,\u001b[0m \u001b[0mmd_dict\u001b[0m \u001b[0;34m=\u001b[0m \u001b[0mself\u001b[0m\u001b[0;34m.\u001b[0m\u001b[0mcompute_format_data\u001b[0m\u001b[0;34m(\u001b[0m\u001b[0mresult\u001b[0m\u001b[0;34m)\u001b[0m\u001b[0;34m\u001b[0m\u001b[0m\n\u001b[0m\u001b[1;32m    248\u001b[0m             \u001b[0mself\u001b[0m\u001b[0;34m.\u001b[0m\u001b[0mwrite_format_data\u001b[0m\u001b[0;34m(\u001b[0m\u001b[0mformat_dict\u001b[0m\u001b[0;34m,\u001b[0m \u001b[0mmd_dict\u001b[0m\u001b[0;34m)\u001b[0m\u001b[0;34m\u001b[0m\u001b[0m\n\u001b[1;32m    249\u001b[0m             \u001b[0mself\u001b[0m\u001b[0;34m.\u001b[0m\u001b[0mupdate_user_ns\u001b[0m\u001b[0;34m(\u001b[0m\u001b[0mresult\u001b[0m\u001b[0;34m)\u001b[0m\u001b[0;34m\u001b[0m\u001b[0m\n",
        "\u001b[0;32m/Users/cneylon/Library/Enthought/Canopy_64bit/User/lib/python2.7/site-packages/IPython/core/displayhook.pyc\u001b[0m in \u001b[0;36mcompute_format_data\u001b[0;34m(self, result)\u001b[0m\n\u001b[1;32m    155\u001b[0m \u001b[0;34m\u001b[0m\u001b[0m\n\u001b[1;32m    156\u001b[0m         \"\"\"\n\u001b[0;32m--> 157\u001b[0;31m         \u001b[0;32mreturn\u001b[0m \u001b[0mself\u001b[0m\u001b[0;34m.\u001b[0m\u001b[0mshell\u001b[0m\u001b[0;34m.\u001b[0m\u001b[0mdisplay_formatter\u001b[0m\u001b[0;34m.\u001b[0m\u001b[0mformat\u001b[0m\u001b[0;34m(\u001b[0m\u001b[0mresult\u001b[0m\u001b[0;34m)\u001b[0m\u001b[0;34m\u001b[0m\u001b[0m\n\u001b[0m\u001b[1;32m    158\u001b[0m \u001b[0;34m\u001b[0m\u001b[0m\n\u001b[1;32m    159\u001b[0m     \u001b[0;32mdef\u001b[0m \u001b[0mwrite_format_data\u001b[0m\u001b[0;34m(\u001b[0m\u001b[0mself\u001b[0m\u001b[0;34m,\u001b[0m \u001b[0mformat_dict\u001b[0m\u001b[0;34m,\u001b[0m \u001b[0mmd_dict\u001b[0m\u001b[0;34m=\u001b[0m\u001b[0mNone\u001b[0m\u001b[0;34m)\u001b[0m\u001b[0;34m:\u001b[0m\u001b[0;34m\u001b[0m\u001b[0m\n",
        "\u001b[0;32m/Users/cneylon/Library/Enthought/Canopy_64bit/User/lib/python2.7/site-packages/IPython/core/formatters.pyc\u001b[0m in \u001b[0;36mformat\u001b[0;34m(self, obj, include, exclude)\u001b[0m\n\u001b[1;32m    150\u001b[0m             \u001b[0mmd\u001b[0m \u001b[0;34m=\u001b[0m \u001b[0mNone\u001b[0m\u001b[0;34m\u001b[0m\u001b[0m\n\u001b[1;32m    151\u001b[0m             \u001b[0;32mtry\u001b[0m\u001b[0;34m:\u001b[0m\u001b[0;34m\u001b[0m\u001b[0m\n\u001b[0;32m--> 152\u001b[0;31m                 \u001b[0mdata\u001b[0m \u001b[0;34m=\u001b[0m \u001b[0mformatter\u001b[0m\u001b[0;34m(\u001b[0m\u001b[0mobj\u001b[0m\u001b[0;34m)\u001b[0m\u001b[0;34m\u001b[0m\u001b[0m\n\u001b[0m\u001b[1;32m    153\u001b[0m             \u001b[0;32mexcept\u001b[0m\u001b[0;34m:\u001b[0m\u001b[0;34m\u001b[0m\u001b[0m\n\u001b[1;32m    154\u001b[0m                 \u001b[0;31m# FIXME: log the exception\u001b[0m\u001b[0;34m\u001b[0m\u001b[0;34m\u001b[0m\u001b[0m\n",
        "\u001b[0;32m/Users/cneylon/Library/Enthought/Canopy_64bit/User/lib/python2.7/site-packages/IPython/core/formatters.pyc\u001b[0m in \u001b[0;36m__call__\u001b[0;34m(self, obj)\u001b[0m\n\u001b[1;32m    479\u001b[0m                 \u001b[0mtype_pprinters\u001b[0m\u001b[0;34m=\u001b[0m\u001b[0mself\u001b[0m\u001b[0;34m.\u001b[0m\u001b[0mtype_printers\u001b[0m\u001b[0;34m,\u001b[0m\u001b[0;34m\u001b[0m\u001b[0m\n\u001b[1;32m    480\u001b[0m                 deferred_pprinters=self.deferred_printers)\n\u001b[0;32m--> 481\u001b[0;31m             \u001b[0mprinter\u001b[0m\u001b[0;34m.\u001b[0m\u001b[0mpretty\u001b[0m\u001b[0;34m(\u001b[0m\u001b[0mobj\u001b[0m\u001b[0;34m)\u001b[0m\u001b[0;34m\u001b[0m\u001b[0m\n\u001b[0m\u001b[1;32m    482\u001b[0m             \u001b[0mprinter\u001b[0m\u001b[0;34m.\u001b[0m\u001b[0mflush\u001b[0m\u001b[0;34m(\u001b[0m\u001b[0;34m)\u001b[0m\u001b[0;34m\u001b[0m\u001b[0m\n\u001b[1;32m    483\u001b[0m             \u001b[0;32mreturn\u001b[0m \u001b[0mstream\u001b[0m\u001b[0;34m.\u001b[0m\u001b[0mgetvalue\u001b[0m\u001b[0;34m(\u001b[0m\u001b[0;34m)\u001b[0m\u001b[0;34m\u001b[0m\u001b[0m\n",
        "\u001b[0;32m/Users/cneylon/Library/Enthought/Canopy_64bit/User/lib/python2.7/site-packages/IPython/lib/pretty.pyc\u001b[0m in \u001b[0;36mpretty\u001b[0;34m(self, obj)\u001b[0m\n\u001b[1;32m    345\u001b[0m                 \u001b[0;32mif\u001b[0m \u001b[0mcls\u001b[0m \u001b[0;32min\u001b[0m \u001b[0mself\u001b[0m\u001b[0;34m.\u001b[0m\u001b[0mtype_pprinters\u001b[0m\u001b[0;34m:\u001b[0m\u001b[0;34m\u001b[0m\u001b[0m\n\u001b[1;32m    346\u001b[0m                     \u001b[0;31m# printer registered in self.type_pprinters\u001b[0m\u001b[0;34m\u001b[0m\u001b[0;34m\u001b[0m\u001b[0m\n\u001b[0;32m--> 347\u001b[0;31m                     \u001b[0;32mreturn\u001b[0m \u001b[0mself\u001b[0m\u001b[0;34m.\u001b[0m\u001b[0mtype_pprinters\u001b[0m\u001b[0;34m[\u001b[0m\u001b[0mcls\u001b[0m\u001b[0;34m]\u001b[0m\u001b[0;34m(\u001b[0m\u001b[0mobj\u001b[0m\u001b[0;34m,\u001b[0m \u001b[0mself\u001b[0m\u001b[0;34m,\u001b[0m \u001b[0mcycle\u001b[0m\u001b[0;34m)\u001b[0m\u001b[0;34m\u001b[0m\u001b[0m\n\u001b[0m\u001b[1;32m    348\u001b[0m                 \u001b[0;32melse\u001b[0m\u001b[0;34m:\u001b[0m\u001b[0;34m\u001b[0m\u001b[0m\n\u001b[1;32m    349\u001b[0m                     \u001b[0;31m# deferred printer\u001b[0m\u001b[0;34m\u001b[0m\u001b[0;34m\u001b[0m\u001b[0m\n",
        "\u001b[0;32m/Users/cneylon/Library/Enthought/Canopy_64bit/User/lib/python2.7/site-packages/IPython/lib/pretty.pyc\u001b[0m in \u001b[0;36minner\u001b[0;34m(obj, p, cycle)\u001b[0m\n\u001b[1;32m    529\u001b[0m                 \u001b[0mp\u001b[0m\u001b[0;34m.\u001b[0m\u001b[0mtext\u001b[0m\u001b[0;34m(\u001b[0m\u001b[0;34m','\u001b[0m\u001b[0;34m)\u001b[0m\u001b[0;34m\u001b[0m\u001b[0m\n\u001b[1;32m    530\u001b[0m                 \u001b[0mp\u001b[0m\u001b[0;34m.\u001b[0m\u001b[0mbreakable\u001b[0m\u001b[0;34m(\u001b[0m\u001b[0;34m)\u001b[0m\u001b[0;34m\u001b[0m\u001b[0m\n\u001b[0;32m--> 531\u001b[0;31m             \u001b[0mp\u001b[0m\u001b[0;34m.\u001b[0m\u001b[0mpretty\u001b[0m\u001b[0;34m(\u001b[0m\u001b[0mx\u001b[0m\u001b[0;34m)\u001b[0m\u001b[0;34m\u001b[0m\u001b[0m\n\u001b[0m\u001b[1;32m    532\u001b[0m         \u001b[0;32mif\u001b[0m \u001b[0mlen\u001b[0m\u001b[0;34m(\u001b[0m\u001b[0mobj\u001b[0m\u001b[0;34m)\u001b[0m \u001b[0;34m==\u001b[0m \u001b[0;36m1\u001b[0m \u001b[0;32mand\u001b[0m \u001b[0mtype\u001b[0m\u001b[0;34m(\u001b[0m\u001b[0mobj\u001b[0m\u001b[0;34m)\u001b[0m \u001b[0;32mis\u001b[0m \u001b[0mtuple\u001b[0m\u001b[0;34m:\u001b[0m\u001b[0;34m\u001b[0m\u001b[0m\n\u001b[1;32m    533\u001b[0m             \u001b[0;31m# Special case for 1-item tuples.\u001b[0m\u001b[0;34m\u001b[0m\u001b[0;34m\u001b[0m\u001b[0m\n",
        "\u001b[0;32m/Users/cneylon/Library/Enthought/Canopy_64bit/User/lib/python2.7/site-packages/IPython/lib/pretty.pyc\u001b[0m in \u001b[0;36mpretty\u001b[0;34m(self, obj)\u001b[0m\n\u001b[1;32m    360\u001b[0m                             \u001b[0;32mif\u001b[0m \u001b[0mcallable\u001b[0m\u001b[0;34m(\u001b[0m\u001b[0mmeth\u001b[0m\u001b[0;34m)\u001b[0m\u001b[0;34m:\u001b[0m\u001b[0;34m\u001b[0m\u001b[0m\n\u001b[1;32m    361\u001b[0m                                 \u001b[0;32mreturn\u001b[0m \u001b[0mmeth\u001b[0m\u001b[0;34m(\u001b[0m\u001b[0mobj\u001b[0m\u001b[0;34m,\u001b[0m \u001b[0mself\u001b[0m\u001b[0;34m,\u001b[0m \u001b[0mcycle\u001b[0m\u001b[0;34m)\u001b[0m\u001b[0;34m\u001b[0m\u001b[0m\n\u001b[0;32m--> 362\u001b[0;31m             \u001b[0;32mreturn\u001b[0m \u001b[0m_default_pprint\u001b[0m\u001b[0;34m(\u001b[0m\u001b[0mobj\u001b[0m\u001b[0;34m,\u001b[0m \u001b[0mself\u001b[0m\u001b[0;34m,\u001b[0m \u001b[0mcycle\u001b[0m\u001b[0;34m)\u001b[0m\u001b[0;34m\u001b[0m\u001b[0m\n\u001b[0m\u001b[1;32m    363\u001b[0m         \u001b[0;32mfinally\u001b[0m\u001b[0;34m:\u001b[0m\u001b[0;34m\u001b[0m\u001b[0m\n\u001b[1;32m    364\u001b[0m             \u001b[0mself\u001b[0m\u001b[0;34m.\u001b[0m\u001b[0mend_group\u001b[0m\u001b[0;34m(\u001b[0m\u001b[0;34m)\u001b[0m\u001b[0;34m\u001b[0m\u001b[0m\n",
        "\u001b[0;32m/Users/cneylon/Library/Enthought/Canopy_64bit/User/lib/python2.7/site-packages/IPython/lib/pretty.pyc\u001b[0m in \u001b[0;36m_default_pprint\u001b[0;34m(obj, p, cycle)\u001b[0m\n\u001b[1;32m    480\u001b[0m     \u001b[0;32mif\u001b[0m \u001b[0mgetattr\u001b[0m\u001b[0;34m(\u001b[0m\u001b[0mklass\u001b[0m\u001b[0;34m,\u001b[0m \u001b[0;34m'__repr__'\u001b[0m\u001b[0;34m,\u001b[0m \u001b[0mNone\u001b[0m\u001b[0;34m)\u001b[0m \u001b[0;32mnot\u001b[0m \u001b[0;32min\u001b[0m \u001b[0m_baseclass_reprs\u001b[0m\u001b[0;34m:\u001b[0m\u001b[0;34m\u001b[0m\u001b[0m\n\u001b[1;32m    481\u001b[0m         \u001b[0;31m# A user-provided repr.\u001b[0m\u001b[0;34m\u001b[0m\u001b[0;34m\u001b[0m\u001b[0m\n\u001b[0;32m--> 482\u001b[0;31m         \u001b[0mp\u001b[0m\u001b[0;34m.\u001b[0m\u001b[0mtext\u001b[0m\u001b[0;34m(\u001b[0m\u001b[0mrepr\u001b[0m\u001b[0;34m(\u001b[0m\u001b[0mobj\u001b[0m\u001b[0;34m)\u001b[0m\u001b[0;34m)\u001b[0m\u001b[0;34m\u001b[0m\u001b[0m\n\u001b[0m\u001b[1;32m    483\u001b[0m         \u001b[0;32mreturn\u001b[0m\u001b[0;34m\u001b[0m\u001b[0m\n\u001b[1;32m    484\u001b[0m     \u001b[0mp\u001b[0m\u001b[0;34m.\u001b[0m\u001b[0mbegin_group\u001b[0m\u001b[0;34m(\u001b[0m\u001b[0;36m1\u001b[0m\u001b[0;34m,\u001b[0m \u001b[0;34m'<'\u001b[0m\u001b[0;34m)\u001b[0m\u001b[0;34m\u001b[0m\u001b[0m\n",
        "\u001b[0;31mUnicodeEncodeError\u001b[0m: 'ascii' codec can't encode character u'\\u2013' in position 35: ordinal not in range(128)"
       ]
      },
      {
       "output_type": "stream",
       "stream": "stdout",
       "text": [
        "\n"
       ]
      }
     ],
     "prompt_number": 6
    },
    {
     "cell_type": "markdown",
     "metadata": {},
     "source": [
      "Each ArticleALM object has a range of internal objects that contain information on each of the metrics that PLOS collects. These are derived from various data providers and are called 'sources'. Each can be accessed by name from a dictionary called 'sources'. The iterkeys() function provides an interator that lets us loop over the set of keys in a dictionary.\n"
     ]
    },
    {
     "cell_type": "code",
     "collapsed": false,
     "input": [
      "article = alms[0]\n",
      "for source in article.sources.iterkeys():\n",
      "    print source"
     ],
     "language": "python",
     "metadata": {},
     "outputs": [
      {
       "output_type": "stream",
       "stream": "stdout",
       "text": [
        "datacite\n",
        "twitter\n",
        "pmc\n",
        "articlecoveragecurated\n",
        "pmceurope\n",
        "pmceuropedata\n",
        "researchblogging\n",
        "scienceseeker\n",
        "copernicus\n",
        "f1000\n",
        "wikipedia\n",
        "wos\n",
        "citeulike\n",
        "wordpress\n",
        "openedition\n",
        "reddit\n",
        "nature\n",
        "relativemetric\n",
        "figshare\n",
        "facebook\n",
        "mendeley\n",
        "crossref\n",
        "plos_comments\n",
        "articlecoverage\n",
        "counter\n",
        "scopus\n",
        "pubmed\n"
       ]
      }
     ],
     "prompt_number": 7
    },
    {
     "cell_type": "markdown",
     "metadata": {},
     "source": [
      "Analysis of Social Media Activity Around Articles\n",
      "-------------------------------------------------\n",
      "\n",
      "We're looking at social media and twitter data in particular, so how many tweets or Facebooks posts reference this specific article?"
     ]
    },
    {
     "cell_type": "code",
     "collapsed": false,
     "input": [
      "print article.sources['twitter'].metrics.total, 'total tweets to this article'\n",
      "print article.sources['facebook'].metrics.total, 'total facebook references to this article'"
     ],
     "language": "python",
     "metadata": {},
     "outputs": [
      {
       "output_type": "stream",
       "stream": "stdout",
       "text": [
        "1 total tweets to this article\n",
        "10 total facebook references to this article\n"
       ]
      }
     ],
     "prompt_number": 8
    },
    {
     "cell_type": "markdown",
     "metadata": {},
     "source": [
      "This is quite a lot of activity as the majority of articles get small amounts of social media activity. What we will do is sort the list of articles by number of tweets so that we can easily pull off the most interesting ones. To use the sort function we will want to define a custom comparison funtion. Check the [python documentation for the 'list' type](https://docs.python.org/2.7/library/stdtypes.html#mutable-sequence-types) for details of list.sort(). It's always good to check that your sort put things in the right order."
     ]
    },
    {
     "cell_type": "code",
     "collapsed": false,
     "input": [
      "def numtweets(article1, article2):\n",
      "    comp = article2.sources['twitter'].metrics.total - article1.sources['twitter'].metrics.total\n",
      "    return comp\n",
      "\n",
      "alms.sort(numtweets)\n",
      "alms[0].sources['twitter'].metrics.total"
     ],
     "language": "python",
     "metadata": {},
     "outputs": [
      {
       "metadata": {},
       "output_type": "pyout",
       "prompt_number": 9,
       "text": [
        "350"
       ]
      }
     ],
     "prompt_number": 9
    },
    {
     "cell_type": "markdown",
     "metadata": {},
     "source": [
      "So what is the article with the most tweets then? Or even the top five?"
     ]
    },
    {
     "cell_type": "code",
     "collapsed": false,
     "input": [
      "for article in alms[0:6]:\n",
      "    print article.title, '--Tweets:', article.sources['twitter'].metrics.total"
     ],
     "language": "python",
     "metadata": {},
     "outputs": [
      {
       "output_type": "stream",
       "stream": "stdout",
       "text": [
        "Ten Simple Rules for the Care and Feeding of Scientific Data --Tweets: 350\n",
        "Electron Tomography of HIV-1 Infection in Gut-Associated Lymphoid Tissue --Tweets: 59\n",
        "Multi-state Modeling of Biomolecules --Tweets: 24\n",
        "Perspective Distortion from Interpersonal Distance Is an Implicit Visual Cue for Social Judgments of Faces --Tweets: 23\n",
        "Cooperative Binding --Tweets: 19\n",
        "Ten Simple Rules for Getting Help from Online Scientific Communities --Tweets: 18\n"
       ]
      }
     ],
     "prompt_number": 10
    },
    {
     "cell_type": "markdown",
     "metadata": {},
     "source": [
      "Obviously just counting the number of tweets isn't in itself terribly interesting. On a large scale these numbers might be informative but for such a relatively small set we will have a lot of conflicting issues contributing to the numbers. Lets take a quick look at the tweets referencing article number three. First we will need to get the actual `event` data for those tweets. Thus far we've just got summary data."
     ]
    },
    {
     "cell_type": "code",
     "collapsed": false,
     "input": [
      "doi = alms[2].doi\n",
      "detail = pyalm.get_alm([doi], info='event')\n",
      "# even tho there is only one article here, it still returns a list with just one element in it\n",
      "pprint.pprint(detail[0].sources['twitter'].events[0])"
     ],
     "language": "python",
     "metadata": {},
     "outputs": [
      {
       "output_type": "stream",
       "stream": "stdout",
       "text": [
        "http://alm.plos.org/api/v3/articles?info=event&api_key=yeh6hZUpwuJ23df9zLp1&ids=10.1371%2Fjournal.pcbi.1003844\n",
        "{u'event': {u'created_at': u'2014-09-25T18:14:21Z',\n",
        "            u'id': u'515202662099206144',\n",
        "            u'text': u'This is interesting. @PLOSCompBiol article with wikilinks. http://t.co/Yu5QeVFpvT (Also scary, as a former wikipedia admin!)',\n",
        "            u'user': u'kastacholamine',\n",
        "            u'user_name': u'Kate Stafford',\n",
        "            u'user_profile_image': u'http://pbs.twimg.com/profile_images/448570519218974720/Di0Txzuq_normal.png'},\n",
        " u'event_csl': {u'author': [{u'family': u'Stafford', u'given': u'Kate'}],\n",
        "                u'container-title': u'Twitter',\n",
        "                u'issued': {u'date-parts': [[2014, 9, 25]]},\n",
        "                u'title': u'This is interesting. @PLOSCompBiol article with wikilinks. http://t.co/Yu5QeVFpvT (Also scary, as a former wikipedia admin!)',\n",
        "                u'type': u'personal_communication',\n",
        "                u'url': u'http://twitter.com/kastacholamine/status/515202662099206144'},\n",
        " u'event_time': u'2014-09-25T18:14:21Z',\n",
        " u'event_url': u'http://twitter.com/kastacholamine/status/515202662099206144'}\n"
       ]
      }
     ],
     "prompt_number": 11
    },
    {
     "cell_type": "markdown",
     "metadata": {},
     "source": [
      "The pyalm wrapper has some convenient functions for cleaning up the event data but for this simple case we can just iterate through and compare the text and user names."
     ]
    },
    {
     "cell_type": "code",
     "collapsed": false,
     "input": [
      "tweets = detail[0].sources['twitter'].events\n",
      "for tweet in tweets:\n",
      "    print \"%s: %s\\n\" % (tweet.get('event').get('user'), tweet.get('event').get('text'))"
     ],
     "language": "python",
     "metadata": {},
     "outputs": [
      {
       "output_type": "stream",
       "stream": "stdout",
       "text": [
        "kastacholamine: This is interesting. @PLOSCompBiol article with wikilinks. http://t.co/Yu5QeVFpvT (Also scary, as a former wikipedia admin!)\n",
        "\n",
        "naivelocus: Multi-state Modeling of Biomolecules http://t.co/x0V2Zk2sKu\n",
        "\n",
        "MelanieIStefan: #PLOSCompBio: Multi-state Modeling of Biomolecules http://t.co/ddVsn8T7vn\n",
        "\n",
        "dagmarwaltemath: RT @MelanieIStefan: #PLOSCompBio: Multi-state Modeling of Biomolecules http://t.co/ddVsn8T7vn\n",
        "\n",
        "gepasi: RT @MelanieIStefan: #PLOSCompBio: Multi-state Modeling of Biomolecules http://t.co/ddVsn8T7vn\n",
        "\n",
        "nickjplant: Nice paper \"@MelanieIStefan: #PLOSCompBio: Multi-state Modeling of Biomolecules http://t.co/74rQJvTcyL\" #stsyemsbiology\n",
        "\n",
        "lenovere: RT @MelanieIStefan: #PLOSCompBio: Multi-state Modeling of Biomolecules http://t.co/ddVsn8T7vn\n",
        "\n",
        "RNajmanovich: Multi-state Modelling of Biomolecules - coupling with 3D representation is a challenge in computational biophysics http://t.co/ujGH7OLUkc\n",
        "\n",
        "EvoMRI: Another @PLOSCompBiol article can be edited on @Wikipedia: https://t.co/OLpDjGQZ5w http://t.co/vnQ1GrQDjp http://t.co/jVmDM84lzz #openaccess\n",
        "\n",
        "LizAllenSO: RT @EvoMRI: Another @PLOSCompBiol article can be edited on @Wikipedia: https://t.co/OLpDjGQZ5w http://t.co/vnQ1GrQDjp http://t.co/jVmDM84lz\u2026\n",
        "\n",
        "mariellevolz: RT @EvoMRI: Another @PLOSCompBiol article can be edited on @Wikipedia: https://t.co/OLpDjGQZ5w http://t.co/vnQ1GrQDjp http://t.co/jVmDM84lz\u2026\n",
        "\n",
        "i_am_kilpatrick: RT @EvoMRI: Another @PLOSCompBiol article can be edited on @Wikipedia: https://t.co/OLpDjGQZ5w http://t.co/vnQ1GrQDjp http://t.co/jVmDM84lz\u2026\n",
        "\n",
        "openscience: RT @EvoMRI: Another @PLOSCompBiol article can be edited on @Wikipedia: https://t.co/OLpDjGQZ5w http://t.co/vnQ1GrQDjp http://t.co/jVmDM84lz\u2026\n",
        "\n",
        "majuzub: RT @EvoMRI: Another @PLOSCompBiol article can be edited on @Wikipedia: https://t.co/OLpDjGQZ5w http://t.co/vnQ1GrQDjp http://t.co/jVmDM84lz\u2026\n",
        "\n",
        "PLOSCompBiol: RT @EvoMRI: Another @PLOSCompBiol article can be edited on @Wikipedia: https://t.co/OLpDjGQZ5w http://t.co/vnQ1GrQDjp http://t.co/jVmDM84lz\u2026\n",
        "\n",
        "dbasanta: New way to publish? MT@EvoMRI Another @PLOSCompBiol article can be edited on @Wikipedia: https://t.co/qsWoBDP5vw http://t.co/6dMynrtSxO\n",
        "\n",
        "kozo2: #PLOSCompBio: Multi-state Modeling of Biomolecules http://t.co/CixRnwPd7l\n",
        "\n",
        "NeurolinxOrg: Multi-scale #modeling of biomolecular systems discussed in @PLOSCompBiol: http://t.co/4YPYk0fsGO \n",
        "@salkinstitute @Caltech #simulation\n",
        "\n",
        "researchpad: I read this article on ResearchPad\n",
        "http://t.co/68abx9InPe\n",
        "For best reading experience download ResearchPad from \n",
        " http://t.co/DKqvJMCfOA\n",
        "\n",
        "NIMMLab: If one protein has many states during signaling, how do you model it? Multi-state Modeling of Biomolecules #CompBio http://t.co/60vHLvXAuS\n",
        "\n",
        "SDKaleVT: RT @NIMMLab: If one protein has many states during signaling, how do you model it? Multi-state Modeling of Biomolecules #CompBio http://t.c\u2026\n",
        "\n",
        "kozo2: #PLOSCompBio: Multi-state Modeling of Biomolecules http://t.co/CixRnwPd7l\n",
        "\n",
        "mlpoulter: RT @EvoMRI: Another @PLOSCompBiol article can be edited on @Wikipedia: https://t.co/OLpDjGQZ5w http://t.co/vnQ1GrQDjp http://t.co/jVmDM84lz\u2026\n",
        "\n",
        "WikiResearch: RT @EvoMRI: Another @PLOSCompBiol article can be edited on @Wikipedia: https://t.co/OLpDjGQZ5w http://t.co/vnQ1GrQDjp http://t.co/jVmDM84lz\u2026\n",
        "\n"
       ]
      }
     ],
     "prompt_number": 12
    },
    {
     "cell_type": "markdown",
     "metadata": {},
     "source": [
      "We might want to know whether any of the people tweeting are authors on the article. For this we will need to get the author list. This isn't included in the ALM information but it can be obtained from the search API. In addition the full user name can be obtained from Twitter. Twitter doesn't require this to be a \"real\" name (whatever that means) but for researchers it often is."
     ]
    },
    {
     "cell_type": "code",
     "collapsed": false,
     "input": [
      "query = search.Request('id:%s' % str(doi))\n",
      "query.add_field('author')\n",
      "response = query.get()"
     ],
     "language": "python",
     "metadata": {},
     "outputs": [],
     "prompt_number": 13
    },
    {
     "cell_type": "code",
     "collapsed": false,
     "input": [
      "authors = [author for author in response.get('response').get('docs')[0].get('author')]\n",
      "print authors"
     ],
     "language": "python",
     "metadata": {},
     "outputs": [
      {
       "output_type": "stream",
       "stream": "stdout",
       "text": [
        "[u'Melanie I Stefan', u'Thomas M Bartol', u'Terrence J Sejnowski', u'Mary B Kennedy']\n"
       ]
      }
     ],
     "prompt_number": 14
    },
    {
     "cell_type": "code",
     "collapsed": false,
     "input": [
      "users = [tweet.get('event').get('user_name') for tweet in tweets]\n",
      "for user in users:\n",
      "    for author in authors:\n",
      "        if user.split(' ')[0] in author:\n",
      "            print 'Article Author:%s       Twitter Handle:%s' % (author, user)"
     ],
     "language": "python",
     "metadata": {},
     "outputs": [
      {
       "output_type": "stream",
       "stream": "stdout",
       "text": [
        "Article Author:Melanie I Stefan       Twitter Handle:Melanie Stefan\n"
       ]
      }
     ],
     "prompt_number": 15
    },
    {
     "cell_type": "markdown",
     "metadata": {},
     "source": [
      "So it appears that at least one of our tweeters is an author on the paper. Some things to note here. This was a very rough matching algorithm. This kind of matching will be obviously susceptible to false negatives (where an author doesn't give their 'real' name) and potentially positives depending on how strict you make the checks. If you imagine trying to do a match across the full set of authors in your database this would be very messy. This illustrates the importance of unique identifiers and high quality cross walks between databases."
     ]
    },
    {
     "cell_type": "markdown",
     "metadata": {},
     "source": [
      "Using the same API at a different site\n",
      "--------------------------------------\n",
      "\n",
      "You may find the authors or institutions of interest to you don't show very many results. This may be because our results thus far are limited to articles publishing by PLOS. Crossref, an organisation that works across publishers, providing DOIs, is running a pilot program, called \"DOI Event Tracking\" (DET) using the same application stack but applied to all articles with Crossref DOIs from 2012-2014 although it provides fewer data sources. This pilot service uses the same API, so we can use the same wrapper, we just need to add a few settings."
     ]
    },
    {
     "cell_type": "markdown",
     "metadata": {},
     "source": [
      "First we need a new API key for the DET service. The Crossref DOI Event Tracker API requires a Mozilla Persona Account. You can register for a persona account at: https://login.persona.org/ Once you have that navigate to http://det.labs.crossref.org, login using the Persona account and as above, navigate to \u2018your account\u2019 to get your API key. With this in hand we need to set up our wrapper to use the DET service rather than the PLOS one."
     ]
    },
    {
     "cell_type": "code",
     "collapsed": false,
     "input": [
      "# Set the URL for the DET service\n",
      "config.APIS['det'] = {\n",
      "                      'url' : 'http://det.labs.crossref.org/api/v3/articles',\n",
      "                      'key' : 'your_key_here'\n",
      "                      }"
     ],
     "language": "python",
     "metadata": {},
     "outputs": [],
     "prompt_number": 16
    },
    {
     "cell_type": "markdown",
     "metadata": {},
     "source": [
      "As before we first need to get a list of DOIs. The Crossref metadata search API provides a general way of obtaining DOIs based on a search key."
     ]
    },
    {
     "cell_type": "code",
     "collapsed": false,
     "input": [
      "import requests\n",
      "query = \"author:'Cameron Neylon'\"\n",
      "q = {'q' : query,\n",
      "     'rows' : 99}\n",
      "r = requests.get('http://search.crossref.org/dois', params = q)\n",
      "crossref_ids = [result.get('doi') for result in r.json() if (int(result.get('year', 1)) > 2012)]\n",
      "print len(crossref_ids), crossref_ids[0:3]"
     ],
     "language": "python",
     "metadata": {},
     "outputs": [
      {
       "output_type": "stream",
       "stream": "stdout",
       "text": [
        "12 [u'http://dx.doi.org/10.1371/journal.pbio.1001677', u'http://dx.doi.org/10.1371/journal.pbio.1001691', u'http://dx.doi.org/10.3789/isqv26no2.2014.07']\n"
       ]
      }
     ],
     "prompt_number": 17
    },
    {
     "cell_type": "markdown",
     "metadata": {},
     "source": [
      "We need to clean up the DOIs so they are in the http form to use them in the API wrapper. This ought to be a TODO to clean up the wrapper properly."
     ]
    },
    {
     "cell_type": "code",
     "collapsed": false,
     "input": [
      "crossref_dois = [doi[18:len(doi)] for doi in crossref_ids]\n",
      "crossref_dois[0:3]"
     ],
     "language": "python",
     "metadata": {},
     "outputs": [
      {
       "metadata": {},
       "output_type": "pyout",
       "prompt_number": 18,
       "text": [
        "[u'10.1371/journal.pbio.1001677',\n",
        " u'10.1371/journal.pbio.1001691',\n",
        " u'10.3789/isqv26no2.2014.07']"
       ]
      }
     ],
     "prompt_number": 18
    },
    {
     "cell_type": "code",
     "collapsed": false,
     "input": [
      "crossref_alms = pyalm.get_alm(crossref_dois, instance='det')"
     ],
     "language": "python",
     "metadata": {},
     "outputs": [
      {
       "output_type": "stream",
       "stream": "stdout",
       "text": [
        "http://det.labs.crossref.org/api/v3/articles?api_key=Ub6Atymnc2MzNHNYy___&ids=10.1371%2Fjournal.pbio.1001677%2C10.1371%2Fjournal.pbio.1001691%2C10.3789%2Fisqv26no2.2014.07%2C10.1177%2F1932296813519011%2C10.1111%2Fdme.12097%2C10.4033%2Fiee.2014.7.7.f%2C10.1177%2F1932296814539461%2C10.1007%2Fs12154-012-0090-1%2C10.1002%2Fdmrr.2392%2C10.1371%2Fjournal.pone.0067460%2C10.1021%2Fjf401336a%2C10.7748%2Fns2014.04.28.33.29.s32\n"
       ]
      }
     ],
     "prompt_number": 19
    },
    {
     "cell_type": "code",
     "collapsed": false,
     "input": [
      "for article in crossref_alms:\n",
      "    print article.title\n",
      "    for source in article.sources.iterkeys():\n",
      "        print source, article.sources[source].metrics.total"
     ],
     "language": "python",
     "metadata": {},
     "outputs": [
      {
       "output_type": "stream",
       "stream": "stdout",
       "text": [
        "Insulin-dose-adjusted HbA 1c -defined partial remission phase in a paediatric population-when is the honeymoon over?\n",
        "reddit 0\n",
        "datacite 0\n",
        "pmceuropedata 0\n",
        "wikipedia 0\n",
        "pmceurope 0\n",
        "citeulike 0\n",
        "pubmed 0\n",
        "facebook 0\n",
        "wordpress 0\n",
        "pmc 0\n",
        "mendeley 0\n",
        "crossref 0\n",
        "Selected Wheat Seed Defense Proteins Exhibit Competitive Binding to Model Microbial Lipid Interfaces\n",
        "reddit 0\n",
        "datacite 0\n",
        "pmceuropedata 0\n",
        "wikipedia 0\n",
        "pmceurope 0\n",
        "citeulike 0\n",
        "pubmed 0\n",
        "facebook 0\n",
        "wordpress 0\n",
        "pmc 0\n",
        "mendeley 0\n",
        "crossref 0\n",
        "Architecting the Future of Research Communication: Building the Models and Analytics for an Open Access Future\n",
        "reddit 0\n",
        "datacite 0\n",
        "pmceuropedata 0\n",
        "wikipedia 1\n",
        "pmceurope 1\n",
        "citeulike 0\n",
        "pubmed 1\n",
        "facebook 0\n",
        "wordpress 0\n",
        "pmc 0\n",
        "mendeley 0\n",
        "crossref 0\n",
        "LabTrove: A Lightweight, Web Based, Laboratory \u201cBlog\u201d as a Route towards a Marked Up Record of Work in a Bioscience Research Laboratory\n",
        "reddit 0\n",
        "datacite 0\n",
        "pmceuropedata 0\n",
        "wikipedia 1\n",
        "pmceurope 0\n",
        "citeulike 0\n",
        "pubmed 0\n",
        "facebook 0\n",
        "wordpress 0\n",
        "pmc 0\n",
        "mendeley 0\n",
        "crossref 0\n",
        "Expert Failure: Re-evaluating Research Assessment\n",
        "reddit 0\n",
        "datacite 0\n",
        "pmceuropedata 0\n",
        "wikipedia 1\n",
        "pmceurope 0\n",
        "citeulike 0\n",
        "pubmed 0\n",
        "facebook 0\n",
        "wordpress 0\n",
        "pmc 0\n",
        "mendeley 0\n",
        "crossref 0\n",
        "Greater autonomy means better workers\n",
        "reddit 0\n",
        "datacite 0\n",
        "pmceuropedata 0\n",
        "wikipedia 0\n",
        "pmceurope 0\n",
        "citeulike 0\n",
        "pubmed 0\n",
        "facebook 0\n",
        "wordpress 0\n",
        "pmc 0\n",
        "mendeley 0\n",
        "crossref 0\n",
        "Demographic and personal factors associated with metabolic control and self-care in youth with type 1 diabetes: a systematic review\n",
        "reddit 0\n",
        "datacite 0\n",
        "pmceuropedata 0\n",
        "wikipedia 0\n",
        "pmceurope 0\n",
        "citeulike 0\n",
        "pubmed 0\n",
        "facebook 0\n",
        "wordpress 0\n",
        "pmc 0\n",
        "mendeley 0\n",
        "crossref 0\n",
        "The Minimum Duration of Sensor Data From Which Glycemic Variability Can Be Consistently Assessed\n",
        "reddit 0\n",
        "datacite 0\n",
        "pmceuropedata 0\n",
        "wikipedia 0\n",
        "pmceurope 0\n",
        "citeulike 0\n",
        "pubmed 0\n",
        "facebook 0\n",
        "wordpress 0\n",
        "pmc 0\n",
        "mendeley 0\n",
        "crossref 0\n",
        "The lipidome and proteome of oil bodies from Helianthus annuus (common sunflower)\n",
        "reddit 0\n",
        "datacite 0\n",
        "pmceuropedata 0\n",
        "wikipedia 1\n",
        "pmceurope 2\n",
        "citeulike 0\n",
        "pubmed 1\n",
        "facebook 0\n",
        "wordpress 0\n",
        "pmc 0\n",
        "mendeley 0\n",
        "crossref 0\n",
        "Can Integrated Technology Improve Self-Care Behavior in Youth With Type 1 Diabetes? A Randomized Crossover Trial of Automated Pump Function\n",
        "reddit 0\n",
        "datacite 0\n",
        "pmceuropedata 0\n",
        "wikipedia 0\n",
        "pmceurope 0\n",
        "citeulike 0\n",
        "pubmed 0\n",
        "facebook 0\n",
        "wordpress 0\n",
        "pmc 0\n",
        "mendeley 0\n",
        "crossref 0\n"
       ]
      }
     ],
     "prompt_number": 20
    },
    {
     "cell_type": "markdown",
     "metadata": {},
     "source": [
      "Using the Twitter API\n",
      "---------------------\n",
      "\n",
      "Lets look at the people tweeting and see who has the most reach on Twitter using the Twitter API. Because of rate limits on the Twitter API this will almost certainly be a canned demo but we will see what we can do. Twitter requires OAuth authentication to get interesting information (like number of followers and things like that) so to get the appropriate keys you will need to register for a twitter account and then for an App. I will be obfuscating my keys here."
     ]
    },
    {
     "cell_type": "code",
     "collapsed": false,
     "input": [
      "import twitter\n",
      "twitter_api = twitter.Api(consumer_key='consumer_key',\n",
      "                      consumer_secret='consumer_secret',\n",
      "                      access_token_key='access_token_key',\n",
      "                      access_token_secret='access_token_secret')"
     ],
     "language": "python",
     "metadata": {},
     "outputs": [],
     "prompt_number": 24
    },
    {
     "cell_type": "markdown",
     "metadata": {},
     "source": [
      "I'm using the python-twitter API wrapper to do some calls to find out who amongst those talking about this paper has the most reach. This would be the logical place to start some more sophisticated social network analysis to look at who is talking about which papers and where those conversations go to. You could also imagine looking at network statistics or data mining of those users tweet streams to understand *who* they are, for instance nurses talking about primary care research.\n",
      "\n",
      "We will need a data structure for this. I am using a dictionary of dictionaries. We have one for each user, which is keyed off the screen name. Each dictionary will then be populated with information about the user, including the relevant tweet texts. Then for each unique user we make a call to the twitter API."
     ]
    },
    {
     "cell_type": "code",
     "collapsed": false,
     "input": [
      "twits = {}\n",
      "for tweet in tweets:\n",
      "    t = tweet.get('event')\n",
      "    user = twits.get(t.get('user'), {})\n",
      "    user.update({\n",
      "                              'user_name' : t.get('user_name'),\n",
      "                              'screen_name' : t.get('user')\n",
      "                           })\n",
      "    \n",
      "    ttexts = user.get('tweet_text', [])\n",
      "    ttexts.append(t.get('text'))\n",
      "    turls = user.get('tweet_urls', [])\n",
      "    turls.append(tweet.get('event_url'))\n",
      "    \n",
      "    user['tweet_text'] = ttexts\n",
      "    user['tweet_urls'] = turls\n",
      "    twits[t.get('user')] = user"
     ],
     "language": "python",
     "metadata": {},
     "outputs": [],
     "prompt_number": 25
    },
    {
     "cell_type": "code",
     "collapsed": false,
     "input": [
      "import time\n",
      "for user_name in [t for t in twits.iterkeys()]:\n",
      "    try:\n",
      "        followers = twitter_api.GetFollowerIDs(screen_name=user_name)\n",
      "        print len(followers)\n",
      "    except twitter.TwitterError, e:\n",
      "        print e, 'Sleeping for 15 minutes'\n",
      "        time.sleep(15*60)\n",
      "        followers = twitter_api.GetFollowerIDs(screen_name=user_name)\n",
      "\n",
      "    twits[user_name]['num_followers'] = len([f for f in followers])\n",
      "    twits[user_name]['followers'] = followers"
     ],
     "language": "python",
     "metadata": {},
     "outputs": [
      {
       "output_type": "stream",
       "stream": "stdout",
       "text": [
        "116\n",
        "70"
       ]
      },
      {
       "output_type": "stream",
       "stream": "stdout",
       "text": [
        "\n",
        "445"
       ]
      },
      {
       "output_type": "stream",
       "stream": "stdout",
       "text": [
        "\n",
        "695"
       ]
      },
      {
       "output_type": "stream",
       "stream": "stdout",
       "text": [
        "\n",
        "185"
       ]
      },
      {
       "output_type": "stream",
       "stream": "stdout",
       "text": [
        "\n",
        "4804"
       ]
      },
      {
       "output_type": "stream",
       "stream": "stdout",
       "text": [
        "\n",
        "827"
       ]
      },
      {
       "output_type": "stream",
       "stream": "stdout",
       "text": [
        "\n",
        "1364"
       ]
      },
      {
       "output_type": "stream",
       "stream": "stdout",
       "text": [
        "\n",
        "1"
       ]
      },
      {
       "output_type": "stream",
       "stream": "stdout",
       "text": [
        "\n",
        "2023"
       ]
      },
      {
       "output_type": "stream",
       "stream": "stdout",
       "text": [
        "\n",
        "13"
       ]
      },
      {
       "output_type": "stream",
       "stream": "stdout",
       "text": [
        "\n",
        "378"
       ]
      },
      {
       "output_type": "stream",
       "stream": "stdout",
       "text": [
        "\n",
        "290"
       ]
      },
      {
       "output_type": "stream",
       "stream": "stdout",
       "text": [
        "\n",
        "804"
       ]
      },
      {
       "output_type": "stream",
       "stream": "stdout",
       "text": [
        "\n",
        "236"
       ]
      },
      {
       "output_type": "stream",
       "stream": "stdout",
       "text": [
        "\n",
        "[{u'message': u'Rate limit exceeded', u'code': 88}]"
       ]
      },
      {
       "output_type": "stream",
       "stream": "stdout",
       "text": [
        " Sleeping for 15 minutes\n",
        "31290"
       ]
      },
      {
       "output_type": "stream",
       "stream": "stdout",
       "text": [
        "\n",
        "791"
       ]
      },
      {
       "output_type": "stream",
       "stream": "stdout",
       "text": [
        "\n",
        "1044"
       ]
      },
      {
       "output_type": "stream",
       "stream": "stdout",
       "text": [
        "\n",
        "56"
       ]
      },
      {
       "output_type": "stream",
       "stream": "stdout",
       "text": [
        "\n",
        "173"
       ]
      },
      {
       "output_type": "stream",
       "stream": "stdout",
       "text": [
        "\n",
        "209"
       ]
      },
      {
       "output_type": "stream",
       "stream": "stdout",
       "text": [
        "\n",
        "95"
       ]
      },
      {
       "output_type": "stream",
       "stream": "stdout",
       "text": [
        "\n"
       ]
      }
     ],
     "prompt_number": 26
    },
    {
     "cell_type": "code",
     "collapsed": false,
     "input": [
      "   for user_name in [t for t in twits.iterkeys()]:\n",
      "    try:\n",
      "        user = twitter_api.GetUser(screen_name=user_name)\n",
      "    except twitter.TwitterError, e:\n",
      "        print e, 'Sleeping for 15 minutes'\n",
      "        time.sleep(15*60)\n",
      "        user = twitter_api.GetUser(screen_name=user_name)\n",
      "        \n",
      "    twits[user_name]['twitter_user'] = user"
     ],
     "language": "python",
     "metadata": {},
     "outputs": [],
     "prompt_number": 27
    },
    {
     "cell_type": "code",
     "collapsed": false,
     "input": [
      "for username in twits.iterkeys():\n",
      "    print '%s:%s' % (username, twits[username]['num_followers'])"
     ],
     "language": "python",
     "metadata": {},
     "outputs": [
      {
       "output_type": "stream",
       "stream": "stdout",
       "text": [
        "dagmarwaltemath:116\n",
        "nickjplant:70\n",
        "kastacholamine:445\n",
        "kozo2:695\n",
        "i_am_kilpatrick:185\n",
        "PLOSCompBiol:4804\n",
        "majuzub:827\n",
        "gepasi:1364\n",
        "researchpad:1\n",
        "WikiResearch:2023\n",
        "MelanieIStefan:13\n",
        "RNajmanovich:378\n",
        "LizAllenSO:290\n",
        "dbasanta:804\n",
        "naivelocus:236\n",
        "EvoMRI:2361\n",
        "openscience:31290\n",
        "lenovere:791\n",
        "mlpoulter:1044\n",
        "SDKaleVT:56\n",
        "NIMMLab:173\n",
        "NeurolinxOrg:209\n",
        "mariellevolz:95\n"
       ]
      }
     ],
     "prompt_number": 28
    },
    {
     "cell_type": "code",
     "collapsed": false,
     "input": [
      "for user in twits.iterkeys():\n",
      "    twits[user]['follower_in_set'] = []\n",
      "    \n",
      "for user1, user2 in [(x,y) for x in twits.iterkeys() for y in twits.iterkeys()]:\n",
      "    if twits[user2]['twitter_user'].id in twits[user1]['followers']:\n",
      "        f = twits.get(user1).get('follower_in_set', [])\n",
      "        f.append(user2)\n",
      "        twits[user1]['follower_in_set'] = f"
     ],
     "language": "python",
     "metadata": {},
     "outputs": [],
     "prompt_number": 29
    },
    {
     "cell_type": "code",
     "collapsed": false,
     "input": [
      "for username in twits.iterkeys():\n",
      "    print '%s:%s' % (username, twits[username].get('follower_in_set'))"
     ],
     "language": "python",
     "metadata": {},
     "outputs": [
      {
       "output_type": "stream",
       "stream": "stdout",
       "text": [
        "dagmarwaltemath:[u'gepasi', u'MelanieIStefan', u'lenovere']\n",
        "nickjplant:[]\n",
        "kastacholamine:[u'i_am_kilpatrick', u'RNajmanovich', u'naivelocus']\n",
        "kozo2:[u'openscience']\n",
        "i_am_kilpatrick:[u'kastacholamine', u'PLOSCompBiol', u'EvoMRI']\n",
        "PLOSCompBiol:[u'kastacholamine', u'kozo2', u'i_am_kilpatrick', u'gepasi', u'RNajmanovich', u'dbasanta', u'naivelocus', u'EvoMRI', u'openscience', u'lenovere', u'NIMMLab', u'NeurolinxOrg']\n",
        "majuzub:[u'openscience']\n",
        "gepasi:[u'dagmarwaltemath', u'nickjplant', u'RNajmanovich', u'openscience', u'lenovere']\n",
        "researchpad:[]\n",
        "WikiResearch:[u'EvoMRI', u'openscience', u'mlpoulter']\n",
        "MelanieIStefan:[u'dagmarwaltemath']\n",
        "RNajmanovich:[u'kastacholamine', u'gepasi', u'naivelocus', u'openscience']\n",
        "LizAllenSO:[u'kastacholamine', u'EvoMRI', u'openscience']\n",
        "dbasanta:[u'EvoMRI', u'openscience']\n",
        "naivelocus:[]\n",
        "EvoMRI:[u'kastacholamine', u'i_am_kilpatrick', u'PLOSCompBiol', u'majuzub', u'WikiResearch', u'LizAllenSO', u'naivelocus', u'openscience', u'mlpoulter', u'mariellevolz']\n",
        "openscience:[u'kozo2', u'PLOSCompBiol', u'majuzub', u'gepasi', u'WikiResearch', u'RNajmanovich', u'LizAllenSO', u'dbasanta', u'EvoMRI', u'mlpoulter', u'SDKaleVT', u'NeurolinxOrg', u'mariellevolz']\n",
        "lenovere:[u'dagmarwaltemath', u'nickjplant', u'kozo2', u'PLOSCompBiol', u'gepasi', u'MelanieIStefan', u'RNajmanovich']\n",
        "mlpoulter:[u'PLOSCompBiol', u'EvoMRI', u'openscience']\n",
        "SDKaleVT:[u'openscience', u'NIMMLab']\n",
        "NIMMLab:[u'SDKaleVT']\n",
        "NeurolinxOrg:[u'openscience']\n",
        "mariellevolz:[u'openscience', u'mlpoulter']\n"
       ]
      }
     ],
     "prompt_number": 30
    },
    {
     "cell_type": "code",
     "collapsed": false,
     "input": [],
     "language": "python",
     "metadata": {},
     "outputs": []
    }
   ],
   "metadata": {}
  }
 ]
}