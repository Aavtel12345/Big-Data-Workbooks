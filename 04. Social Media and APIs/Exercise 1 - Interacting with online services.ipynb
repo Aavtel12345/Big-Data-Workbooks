{
 "cells": [
  {
   "cell_type": "markdown",
   "metadata": {},
   "source": [
    "# Ex 1. Interacting with online services"
   ]
  },
  {
   "cell_type": "markdown",
   "metadata": {},
   "source": [
    "In this exercise, we will perform some basic requests obtaining information from the online services."
   ]
  },
  {
   "cell_type": "markdown",
   "metadata": {},
   "source": [
    "## Table of Contents\n",
    "\n",
    "- [Part A: Getting online](#Part-A:-Getting-online)\n",
    "\n",
    "- [Part B: Obtaining metadata from Crossref](#Part-B:-Obtaining-metadata-from-Crossref)\n",
    "\n",
    "- [Part C: Obtaining a list of DOIs](#PART-C:-Obtaining-a-list-of-DOIs)"
   ]
  },
  {
   "cell_type": "markdown",
   "metadata": {},
   "source": [
    "Get everything ready before we start the exercise."
   ]
  },
  {
   "cell_type": "code",
   "execution_count": null,
   "metadata": {
    "collapsed": true
   },
   "outputs": [],
   "source": [
    "%load_ext autoreload\n",
    "%autoreload 2\n",
    "import sys\n",
    "sys.path.append(\"../modules/orcid-python\")\n",
    "sys.path.append(\"../modules/pyalm\")\n",
    "\n",
    "import os\n",
    "#os.environ['PLOS_API_KEY'] = 'user api key'\n",
    "\n",
    "import requests\n",
    "import time\n",
    "import orcid"
   ]
  },
  {
   "cell_type": "markdown",
   "metadata": {},
   "source": [
    "## Part A: Getting online\n",
    "\n",
    "Back to [Table of Contents](#Table-of-Contents).\n",
    "\n",
    "The first part of the exercise is to simply to successfully request a page online and recieve back a 200 HTTP response. We imported the requests library above and will download the google.com page. This exercise is largely to ensure that you have a properly functioning internet connection! \n",
    "\n",
    "<div class=\"alert alert-success\">\n",
    "An example of using the `requests` library is shown in the first notebook from the book chapter. Adapt that code to download the homepage of google.com and show that the HTTP status response code is 200.\n",
    "</div>\n",
    "\n",
    "NOTE FOR EHMAD/CHRISTINA: I'm going to start with all the code in there and then take some it out. That at least proves that it works!"
   ]
  },
  {
   "cell_type": "code",
   "execution_count": null,
   "metadata": {
    "collapsed": true
   },
   "outputs": [],
   "source": [
    "# First give the URL that you want to obtain\n",
    "url = 'http://google.com'\n",
    "\n",
    "# Then set up the request. Look at example Notebook #1 for this session and copy the names of object that the\n",
    "# request response will go into.\n",
    "response = requests.get(url)"
   ]
  },
  {
   "cell_type": "code",
   "execution_count": null,
   "metadata": {
    "collapsed": true
   },
   "outputs": [],
   "source": [
    "assert response.status_code == 200 # If you get the code above working this assertion should pass"
   ]
  },
  {
   "cell_type": "markdown",
   "metadata": {},
   "source": [
    "## Part B: Obtaining metadata from Crossref\n",
    "\n",
    "Back to [Table of Contents](#Table-of-Contents).\n",
    "\n",
    "Now we have a working connection we will obtain some bibliographic metadata from Crossref. In the example notebook we obtained data from a single DOI. First we will replicate that for a different DOI \n",
    "\n",
    "<div class=\"alert alert-success\">\n",
    "Obtain the Crossref metadata for the DOI 10.1038/171740a0 Obtain the names of the authors of this article and its title. \n",
    "</div>"
   ]
  },
  {
   "cell_type": "code",
   "execution_count": null,
   "metadata": {
    "collapsed": true
   },
   "outputs": [],
   "source": [
    "DOI = '10.1038/171740a0'\n",
    "query = 'works/'\n",
    "urlbase = 'http://api.crossref.org/'\n",
    "\n",
    "# Now write the code the obtain the relevant JSON metadata, check that the status code is 200.\n",
    "# In a second cell below uncomment the code to look at the JSON output, then select the author's surnames to print\n",
    "\n",
    "url = urlbase+query+DOI\n",
    "response = requests.get(url)\n",
    "assert response.status_code == 200"
   ]
  },
  {
   "cell_type": "code",
   "execution_count": null,
   "metadata": {
    "collapsed": false
   },
   "outputs": [],
   "source": [
    "j = response.json()\n",
    "j"
   ]
  },
  {
   "cell_type": "code",
   "execution_count": null,
   "metadata": {
    "collapsed": false
   },
   "outputs": [],
   "source": [
    "# Now use your knowledge of python dictionaries to print the surname of each of the authors and its title\n",
    "surname1 = j['message']['author'][0]['family']\n",
    "surname2 = j['message']['author'][1]['family']\n",
    "title = j['message']['title'][0]\n",
    "print surname1\n",
    "print surname2\n",
    "print title"
   ]
  },
  {
   "cell_type": "markdown",
   "metadata": {},
   "source": [
    "NOTE FOR EHMAD/CHRISTINA - The authors surnames are Franklin and Gosling (possibly in capitals). This is the Rosalind Franklin article that provided the evidence backing up Watson and Crick's paper on the structure of DNA. Not sure how to set up the marking for this but they should be able to pull out the surnames by inspecting the JSON."
   ]
  },
  {
   "cell_type": "markdown",
   "metadata": {},
   "source": [
    "## PART C: Obtaining a list of DOIs\n",
    "\n",
    "Back to [Table of Contents](#Table-of-Contents).\n",
    "\n",
    "In this part of the exercise you will do something not covered in the class notes, obtain a set of DOIs from the Crossref search API. In the notes we show collecting DOIs from ORCID. In the second set of exercises we will show an example using a publisher API. \n",
    "\n",
    "To prepare for this you will need to look at the API documentation at https://github.com/CrossRef/rest-api-doc/blob/master/rest_api.md. In particular look at the section on queries. You will see that quite sophisticated queries are possible. You may want to test some examples and look at the results below. Think carefully about how you want to construct the URL for your query as you do this. \n",
    "\n",
    "NOTE: Not too sure what to test here, just make sure they get back enough results? Probably the top ones should stay the top depending on the query but more an exercise in getting them playing with the parameters than anything else.\n"
   ]
  },
  {
   "cell_type": "code",
   "execution_count": null,
   "metadata": {
    "collapsed": true
   },
   "outputs": [],
   "source": [
    "# Construct a URL to search and then from the JSON response collect the DOIs\n",
    "\n",
    "url = 'http://api.crossref.org/works?query=Martin+Karplus'\n",
    "response = requests.get(url)\n",
    "j = response.json()"
   ]
  },
  {
   "cell_type": "code",
   "execution_count": null,
   "metadata": {
    "collapsed": false
   },
   "outputs": [],
   "source": [
    "# Now collect the DOIs from the JSON response\n",
    "dois = []\n",
    "for item in j['message']['items']:\n",
    "    dois.append(item['DOI'])\n",
    "\n",
    "len(dois)"
   ]
  },
  {
   "cell_type": "code",
   "execution_count": null,
   "metadata": {
    "collapsed": true
   },
   "outputs": [],
   "source": [
    "# There should be 20 DOIs because that is the default number of results that the Crossref API returns\n",
    "assert len(dois) == 20"
   ]
  }
 ],
 "metadata": {
  "kernelspec": {
   "display_name": "Python 2",
   "language": "python",
   "name": "python2"
  },
  "language_info": {
   "codemirror_mode": {
    "name": "ipython",
    "version": 2
   },
   "file_extension": ".py",
   "mimetype": "text/x-python",
   "name": "python",
   "nbconvert_exporter": "python",
   "pygments_lexer": "ipython2",
   "version": "2.7.10"
  }
 },
 "nbformat": 4,
 "nbformat_minor": 0
}
