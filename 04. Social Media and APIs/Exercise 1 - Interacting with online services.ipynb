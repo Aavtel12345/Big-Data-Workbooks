{
 "cells": [
  {
   "cell_type": "markdown",
   "metadata": {},
   "source": [
    "# Ex 1. Interacting with online services"
   ]
  },
  {
   "cell_type": "markdown",
   "metadata": {},
   "source": [
    "In this exercise, we will perform some basic requests obtaining information from the online services."
   ]
  },
  {
   "cell_type": "markdown",
   "metadata": {},
   "source": [
    "## Table of Contents\n",
    "\n",
    "- [Part A: Getting online](#Part-A:-Getting-online)\n",
    "\n",
    "- [Part B: Obtaining metadata from Crossref](#Part-B:-Obtaining-metadata-from-Crossref)\n",
    "\n",
    "- [Part C: Obtaining a list of DOIs](#PART-C:-Obtaining-a-list-of-DOIs)"
   ]
  },
  {
   "cell_type": "markdown",
   "metadata": {},
   "source": [
    "Get everything ready before we start the exercise."
   ]
  },
  {
   "cell_type": "code",
   "execution_count": null,
   "metadata": {
    "collapsed": false
   },
   "outputs": [],
   "source": [
    "%load_ext autoreload\n",
    "%autoreload 2\n",
    "import sys\n",
    "sys.path.append(\"../modules/orcid-python\")\n",
    "sys.path.append(\"../modules/pyalm\")\n",
    "\n",
    "import os\n",
    "#os.environ['PLOS_API_KEY'] = 'user api key'\n",
    "\n",
    "import requests\n",
    "import time\n",
    "import orcid"
   ]
  },
  {
   "cell_type": "markdown",
   "metadata": {},
   "source": [
    "## Part A: Getting online\n",
    "\n",
    "Back to [Table of Contents](#Table-of-Contents).\n",
    "\n",
    "The first part of the exercise is to simply to successfully request a page online and recieve back a 200 HTTP response. We imported the requests library above and will download the google.com page. This exercise is largely to ensure that you have a properly functioning internet connection! \n",
    "\n",
    "<div class=\"alert alert-success\">\n",
    "An example of using the `requests` library is shown in the first example notebook from the book chapter (\"1. Programming against an API - Crossref\"). Adapt that code to download the homepage of google.com, store the result of getting the google.com home page in a variable named `response`, and show that the HTTP status response code is 200.  \n",
    "</div>"
   ]
  },
  {
   "cell_type": "code",
   "execution_count": null,
   "metadata": {
    "collapsed": false,
    "nbgrader": {
     "grade": false,
     "grade_id": "A-Get_URL",
     "locked": false,
     "solution": true
    }
   },
   "outputs": [],
   "source": [
    "### BEGIN SOLUTION\n",
    "# First give the URL that you want to obtain\n",
    "url = 'http://google.com'\n",
    "\n",
    "# Then set up the request. Look at example Notebook #1 for this session and copy the names of object that the\n",
    "# request response will go into.\n",
    "response = requests.get(url)\n",
    "\n",
    "# output the response code\n",
    "print( \"response status code: \" + str( response.status_code ) )\n",
    "### END SOLUTION"
   ]
  },
  {
   "cell_type": "code",
   "execution_count": null,
   "metadata": {
    "collapsed": true,
    "nbgrader": {
     "grade": true,
     "grade_id": "A-Get_URL-test",
     "locked": true,
     "points": 1,
     "solution": false
    }
   },
   "outputs": [],
   "source": [
    "assert response.status_code == 200 # If you get the code above working this assertion should pass"
   ]
  },
  {
   "cell_type": "markdown",
   "metadata": {},
   "source": [
    "## Part B: Obtaining metadata from Crossref\n",
    "\n",
    "Back to [Table of Contents](#Table-of-Contents).\n",
    "\n",
    "Now we have a working connection we will obtain some bibliographic metadata from Crossref. In the example notebook we obtained data from a single DOI. First we will replicate that for a different DOI \n",
    "\n",
    "<div class=\"alert alert-success\">\n",
    "Obtain the Crossref metadata for the DOI 10.1038/171740a0 Obtain the names of the authors of this article and its title.  You'll be using `requests.get()` to make your request.  Make sure to store the result of that call in a variable named `response`.\n",
    "</div>"
   ]
  },
  {
   "cell_type": "code",
   "execution_count": null,
   "metadata": {
    "collapsed": true,
    "nbgrader": {
     "grade": false,
     "grade_id": "B-Get_metadata",
     "locked": false,
     "solution": true
    }
   },
   "outputs": [],
   "source": [
    "### BEGIN SOLUTION\n",
    "DOI = '10.1038/171740a0'\n",
    "query = 'works/'\n",
    "urlbase = 'http://api.crossref.org/'\n",
    "\n",
    "# Now write the code the obtain the relevant JSON metadata, check that the status code is 200.\n",
    "# In a second cell below uncomment the code to look at the JSON output, then select the author's surnames to print\n",
    "\n",
    "url = urlbase+query+DOI\n",
    "response = requests.get(url)\n",
    "### END SOLUTION"
   ]
  },
  {
   "cell_type": "code",
   "execution_count": null,
   "metadata": {
    "collapsed": true,
    "nbgrader": {
     "grade": true,
     "grade_id": "B-Get_metadata-test",
     "locked": true,
     "points": 1,
     "solution": false
    }
   },
   "outputs": [],
   "source": [
    "assert response.status_code == 200"
   ]
  },
  {
   "cell_type": "code",
   "execution_count": null,
   "metadata": {
    "collapsed": false
   },
   "outputs": [],
   "source": [
    "# Convert the response to a JSON object and see what we got!\n",
    "j = response.json()\n",
    "j"
   ]
  },
  {
   "cell_type": "markdown",
   "metadata": {},
   "source": [
    "<div class=\"alert alert-success\">\n",
    "When you call `response.json()`, the structured JSON data in the response is converted into a combination of dictionaries (each JSON object, composed of name-value pairs, becomes a python dictionary) and lists (each JSON list of values becomes a python list).  Use your knowledge of python dictionaries and lists to retrieve the surnames of the two authors from the data structure you printed above and store the first nn variable `surname1` and the second in `surname2`, and retrieve the title of the article and store it in the variable `title`.  Then print all three variables out.\n",
    "</div>"
   ]
  },
  {
   "cell_type": "code",
   "execution_count": null,
   "metadata": {
    "collapsed": false,
    "nbgrader": {
     "grade": false,
     "grade_id": "B-Get_article_info",
     "locked": false,
     "solution": true
    }
   },
   "outputs": [],
   "source": [
    "### BEGIN SOLUTION\n",
    "\n",
    "# Now use your knowledge of python dictionaries to print the surname of each of the authors and its title\n",
    "surname1 = j['message']['author'][0]['family']\n",
    "surname2 = j['message']['author'][1]['family']\n",
    "title = j['message']['title'][0]\n",
    "\n",
    "# NOTE FOR EHMAD/CHRISTINA - The authors surnames are Franklin and Gosling (possibly in capitals).\n",
    "# This is the Rosalind Franklin article that provided the evidence backing up Watson and Crick's\n",
    "# paper on the structure of DNA. Not sure how to set up the marking for this but they should be\n",
    "# able to pull out the surnames by inspecting the JSON.\n",
    "\n",
    "### END SOLUTION\n",
    "\n",
    "# Once you've retrieved the values, print them out!\n",
    "print( \"Surname 1 = \" + surname1 )\n",
    "print( \"Surname 2 = \" + surname2 )\n",
    "print( \"Article Title = \" + title )"
   ]
  },
  {
   "cell_type": "code",
   "execution_count": null,
   "metadata": {
    "collapsed": false,
    "nbgrader": {
     "grade": true,
     "grade_id": "B-Get_article_info-test",
     "locked": true,
     "points": 1,
     "solution": false
    }
   },
   "outputs": [],
   "source": [
    "assert surname1.lower() == \"franklin\"\n",
    "assert surname2.lower() == \"gosling\"\n",
    "assert title.lower() == \"molecular configuration in sodium thymonucleate\""
   ]
  },
  {
   "cell_type": "markdown",
   "metadata": {},
   "source": [
    "## PART C: Obtaining a list of DOIs\n",
    "\n",
    "Back to [Table of Contents](#Table-of-Contents).\n",
    "\n",
    "In this part of the exercise you will do something not covered in the class notes, obtain a set of DOIs from the Crossref search API. In the notes we show collecting DOIs from ORCID. In the second set of exercises we will show an example using a publisher API. \n",
    "\n",
    "To prepare for this you will need to look at the API documentation at https://github.com/CrossRef/rest-api-doc/blob/master/rest_api.md. In particular look at the section on queries. You will see that quite sophisticated queries are possible. You may want to test some examples and look at the results below. Think carefully about how you want to construct the URL for your query as you do this.\n",
    "\n",
    "<div class=\"alert alert-success\">\n",
    "Use the CrossRef search API to search for articles by Martin Karplus.  Make a list of the DOIs of each of the results, stored in a variable named `dois`.  Print out the contents of this list.  You should have 20 matches, and so 20 DOIs (the API's default limit of matches returned for a query).\n",
    "</div>"
   ]
  },
  {
   "cell_type": "code",
   "execution_count": null,
   "metadata": {
    "collapsed": true,
    "nbgrader": {
     "grade": false,
     "grade_id": "C-crossref_search-request",
     "locked": false,
     "points": 1,
     "solution": true
    }
   },
   "outputs": [],
   "source": [
    "# Construct a URL for your search, submit it to the API, then call repsonse.json()\n",
    "#    to convert the JSON response to python objects and store the result in a\n",
    "#    variable named json_response.\n",
    "\n",
    "### BEGIN SOLUTION\n",
    "url = 'http://api.crossref.org/works?query=Martin+Karplus'\n",
    "response = requests.get(url)\n",
    "json_response = response.json()\n",
    "### END SOLUTION"
   ]
  },
  {
   "cell_type": "code",
   "execution_count": null,
   "metadata": {
    "collapsed": false,
    "nbgrader": {
     "grade": false,
     "grade_id": "C-crossref_search-doi_list",
     "locked": false,
     "solution": true
    }
   },
   "outputs": [],
   "source": [
    "# Now collect the DOIs from the JSON response into a list stored in variable \"dois\",\n",
    "#    and print the DOIs.\n",
    "dois = []\n",
    "\n",
    "### BEGIN SOLUTION\n",
    "for item in json_response['message']['items']:\n",
    "\n",
    "    current_doi = item[ 'DOI' ]\n",
    "    dois.append( current_doi )\n",
    "    print( \"Current DOI: \" + str( current_doi ) )\n",
    "\n",
    "### END SOLUTION\n",
    "    \n",
    "print( \"Found \" + str( len( dois ) ) + \" DOIs!\" )"
   ]
  },
  {
   "cell_type": "code",
   "execution_count": null,
   "metadata": {
    "collapsed": true,
    "nbgrader": {
     "grade": true,
     "grade_id": "C-crossref_search-doi_list-test",
     "locked": true,
     "points": 1,
     "solution": false
    }
   },
   "outputs": [],
   "source": [
    "# There should be 20 DOIs because that is the default number of results that the Crossref API returns\n",
    "assert len(dois) == 20"
   ]
  }
 ],
 "metadata": {
  "celltoolbar": "Create Assignment",
  "kernelspec": {
   "display_name": "Python 2",
   "language": "python",
   "name": "python2"
  },
  "language_info": {
   "codemirror_mode": {
    "name": "ipython",
    "version": 2
   },
   "file_extension": ".py",
   "mimetype": "text/x-python",
   "name": "python",
   "nbconvert_exporter": "python",
   "pygments_lexer": "ipython2",
   "version": "2.7.6"
  }
 },
 "nbformat": 4,
 "nbformat_minor": 0
}
