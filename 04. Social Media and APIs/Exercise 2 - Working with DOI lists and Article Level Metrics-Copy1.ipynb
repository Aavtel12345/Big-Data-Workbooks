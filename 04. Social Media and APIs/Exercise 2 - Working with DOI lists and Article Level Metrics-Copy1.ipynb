{
 "cells": [
  {
   "cell_type": "markdown",
   "metadata": {},
   "source": [
    "# Exercise 2 - Working with DOI lists and Article Level Metrics"
   ]
  },
  {
   "cell_type": "markdown",
   "metadata": {},
   "source": [
    "In this exercise, we will cover how to collect DOIs and Article Level Metrics(ALM) through API as well as some related analysis."
   ]
  },
  {
   "cell_type": "markdown",
   "metadata": {},
   "source": [
    "## Table of Contents\n",
    "\n",
    "- [Part A: Collecting DOIs](#Part-A:-Collecting-DOIs)\n",
    "- [Part B: Collecting and analysing ALM Data](#Part-B:-Collecting-and-analysing-ALM-Data)"
   ]
  },
  {
   "cell_type": "markdown",
   "metadata": {},
   "source": [
    "Load the required packages before the start of the exercise."
   ]
  },
  {
   "cell_type": "code",
   "execution_count": 19,
   "metadata": {
    "collapsed": false
   },
   "outputs": [
    {
     "name": "stdout",
     "output_type": "stream",
     "text": [
      "The autoreload extension is already loaded. To reload it, use:\n",
      "  %reload_ext autoreload\n"
     ]
    }
   ],
   "source": [
    "%load_ext autoreload\n",
    "%autoreload 2\n",
    "\n",
    "import os\n",
    "#os.environ['PLOS_API_KEY'] = 'user api key'\n",
    "os.environ['PLOS_API_KEY'] = 'NvbJGJZmxrRCLAUgydFx'\n",
    "\n",
    "import sys\n",
    "sys.path.append(\"../modules/orcid-python\")\n",
    "sys.path.append(\"../modules/pyalm\")\n",
    "\n",
    "\n",
    "import requests\n",
    "import time\n",
    "import orcid\n",
    "import pyalm.pyalm as pyalm\n",
    "sys.path.append(\"./modules/pyalm/pyalm\")\n",
    "import utilities.plossearch as search\n"
   ]
  },
  {
   "cell_type": "markdown",
   "metadata": {},
   "source": [
    "## Part A: Collecting DOIs\n",
    "\n",
    "Back to [Table of Contents](#Table-of-Contents).\n",
    "\n",
    "The first part this exercise will show collecting DOIs from a different source, a publisher API. Here we are using the PLOS Search API as an example because the PLOS Lagotto instance has the most information on article level metrics as discussed in the class.\n",
    "\n",
    "We will first show an example of using the provided API wrapper and then you will use this to gather Article Level Metrics information on some authors from Caltech."
   ]
  },
  {
   "cell_type": "code",
   "execution_count": 20,
   "metadata": {
    "collapsed": false
   },
   "outputs": [
    {
     "data": {
      "text/plain": [
       "{u'response': {u'docs': [{u'doi': [u'10.1371/journal.pone.0026543']},\n",
       "   {u'doi': [u'10.1371/journal.pone.0007757']},\n",
       "   {u'doi': [u'10.1371/journal.pone.0008793']},\n",
       "   {u'doi': [u'10.1371/journal.ppat.1001225']},\n",
       "   {u'doi': [u'10.1371/journal.pone.0022201']},\n",
       "   {u'doi': [u'10.1371/journal.pgen.0020117']},\n",
       "   {u'doi': [u'10.1371/journal.pone.0035934']},\n",
       "   {u'doi': [u'10.1371/journal.pone.0000749']},\n",
       "   {u'doi': [u'10.1371/journal.pone.0000787']},\n",
       "   {u'doi': [u'10.1371/journal.pcbi.1000349']},\n",
       "   {u'doi': [u'10.1371/journal.pbio.1000444']},\n",
       "   {u'doi': [u'10.1371/journal.pbio.1001153']},\n",
       "   {u'doi': [u'10.1371/journal.pone.0046473']},\n",
       "   {u'doi': [u'10.1371/journal.pone.0012353']},\n",
       "   {u'doi': [u'10.1371/journal.pone.0029172']},\n",
       "   {u'doi': [u'10.1371/journal.pone.0021074']},\n",
       "   {u'doi': [u'10.1371/journal.pone.0133682']},\n",
       "   {u'doi': [u'10.1371/journal.pbio.0040112']},\n",
       "   {u'doi': [u'10.1371/journal.pgen.0030069']},\n",
       "   {u'doi': [u'10.1371/journal.pcbi.1000354']},\n",
       "   {u'doi': [u'10.1371/journal.pone.0045301']},\n",
       "   {u'doi': [u'10.1371/journal.pone.0015429']},\n",
       "   {u'doi': [u'10.1371/journal.ppat.1003961']},\n",
       "   {u'doi': [u'10.1371/journal.pone.0128944']},\n",
       "   {u'doi': [u'10.1371/journal.ppat.1000908']},\n",
       "   {u'doi': [u'10.1371/journal.pone.0074513']},\n",
       "   {u'doi': [u'10.1371/journal.pcbi.1002811']},\n",
       "   {u'doi': [u'10.1371/journal.pcbi.1000675']},\n",
       "   {u'doi': [u'10.1371/journal.pbio.1000202']},\n",
       "   {u'doi': [u'10.1371/journal.pbio.0040233']},\n",
       "   {u'doi': [u'10.1371/journal.pbio.0020424']},\n",
       "   {u'doi': [u'10.1371/journal.pone.0130582']},\n",
       "   {u'doi': [u'10.1371/journal.pbio.1001272']},\n",
       "   {u'doi': [u'10.1371/journal.pone.0003190']},\n",
       "   {u'doi': [u'10.1371/journal.pone.0004883']},\n",
       "   {u'doi': [u'10.1371/journal.pone.0105626']},\n",
       "   {u'doi': [u'10.1371/journal.pone.0041794']},\n",
       "   {u'doi': [u'10.1371/journal.pone.0043302']},\n",
       "   {u'doi': [u'10.1371/journal.pcbi.1003106']},\n",
       "   {u'doi': [u'10.1371/journal.pone.0019316']},\n",
       "   {u'doi': [u'10.1371/journal.pone.0020230']},\n",
       "   {u'doi': [u'10.1371/journal.pcbi.1002713']},\n",
       "   {u'doi': [u'10.1371/journal.pone.0018377']},\n",
       "   {u'doi': [u'10.1371/journal.pcbi.1000363']},\n",
       "   {u'doi': [u'10.1371/journal.pone.0016791']},\n",
       "   {u'doi': [u'10.1371/journal.pbio.1002137']},\n",
       "   {u'doi': [u'10.1371/journal.pone.0033077']},\n",
       "   {u'doi': [u'10.1371/journal.pbio.0020309']},\n",
       "   {u'doi': [u'10.1371/journal.pone.0029822']},\n",
       "   {u'doi': [u'10.1371/journal.pone.0087122']},\n",
       "   {u'doi': [u'10.1371/journal.pone.0026127']},\n",
       "   {u'doi': [u'10.1371/journal.pone.0028080']},\n",
       "   {u'doi': [u'10.1371/journal.pcbi.1002891']},\n",
       "   {u'doi': [u'10.1371/journal.pcbi.1002069']},\n",
       "   {u'doi': [u'10.1371/journal.pone.0005621']},\n",
       "   {u'doi': [u'10.1371/journal.pone.0023106']},\n",
       "   {u'doi': [u'10.1371/journal.pone.0103369']},\n",
       "   {u'doi': [u'10.1371/journal.pcbi.1003844']},\n",
       "   {u'doi': [u'10.1371/journal.pone.0084455']},\n",
       "   {u'doi': [u'10.1371/journal.pcbi.1002431']},\n",
       "   {u'doi': [u'10.1371/journal.pone.0052463']},\n",
       "   {u'doi': [u'10.1371/journal.pone.0017833']},\n",
       "   {u'doi': [u'10.1371/journal.pcbi.0030081']},\n",
       "   {u'doi': [u'10.1371/journal.pcbi.0020169']},\n",
       "   {u'doi': [u'10.1371/journal.pone.0133489']},\n",
       "   {u'doi': [u'10.1371/journal.pbio.1000246']},\n",
       "   {u'doi': [u'10.1371/journal.pbio.0030257']},\n",
       "   {u'doi': [u'10.1371/journal.pbio.0020002']},\n",
       "   {u'doi': [u'10.1371/journal.pone.0041161']},\n",
       "   {u'doi': [u'10.1371/journal.pgen.1003142']},\n",
       "   {u'doi': [u'10.1371/journal.pone.0119938']},\n",
       "   {u'doi': [u'10.1371/journal.pcbi.1002895']},\n",
       "   {u'doi': [u'10.1371/journal.pone.0084713']},\n",
       "   {u'doi': [u'10.1371/journal.pcbi.1001048']},\n",
       "   {u'doi': [u'10.1371/journal.pone.0067952']},\n",
       "   {u'doi': [u'10.1371/journal.pone.0016838']},\n",
       "   {u'doi': [u'10.1371/journal.pone.0050438']},\n",
       "   {u'doi': [u'10.1371/journal.pone.0013890']},\n",
       "   {u'doi': [u'10.1371/journal.pbio.0040267']},\n",
       "   {u'doi': [u'10.1371/journal.pone.0026204']},\n",
       "   {u'doi': [u'10.1371/journal.pone.0075799']},\n",
       "   {u'doi': [u'10.1371/journal.pone.0076224']},\n",
       "   {u'doi': [u'10.1371/journal.pbio.0000051']},\n",
       "   {u'doi': [u'10.1371/journal.pcbi.1004264']},\n",
       "   {u'doi': [u'10.1371/journal.pcbi.1001100']},\n",
       "   {u'doi': [u'10.1371/journal.pbio.1000367']},\n",
       "   {u'doi': [u'10.1371/journal.pone.0114347']},\n",
       "   {u'doi': [u'10.1371/journal.pone.0005768']},\n",
       "   {u'doi': [u'10.1371/journal.pbio.0060173']},\n",
       "   {u'doi': [u'10.1371/journal.pone.0012288']},\n",
       "   {u'doi': [u'10.1371/journal.pone.0043351']},\n",
       "   {u'doi': [u'10.1371/journal.pone.0001497']},\n",
       "   {u'doi': [u'10.1371/journal.pone.0123331']},\n",
       "   {u'doi': [u'10.1371/journal.pone.0037992']},\n",
       "   {u'doi': [u'10.1371/journal.pcbi.1004104']},\n",
       "   {u'doi': [u'10.1371/journal.pcbi.1004090']},\n",
       "   {u'doi': [u'10.1371/journal.pone.0018086']},\n",
       "   {u'doi': [u'10.1371/journal.pcbi.1003055']},\n",
       "   {u'doi': [u'10.1371/journal.pone.0085492']},\n",
       "   {u'doi': [u'10.1371/journal.pone.0034464']},\n",
       "   {u'doi': [u'10.1371/journal.pone.0032888']},\n",
       "   {u'doi': [u'10.1371/journal.pbio.1001213']},\n",
       "   {u'doi': [u'10.1371/journal.pbio.0020429']},\n",
       "   {u'doi': [u'10.1371/journal.pone.0012903']},\n",
       "   {u'doi': [u'10.1371/journal.pone.0012009']},\n",
       "   {u'doi': [u'10.1371/journal.pbio.0040148']},\n",
       "   {u'doi': [u'10.1371/journal.pone.0025102']},\n",
       "   {u'doi': [u'10.1371/journal.ppat.1003899']},\n",
       "   {u'doi': [u'10.1371/journal.pcbi.1002918']},\n",
       "   {u'doi': [u'10.1371/journal.pone.0122869']},\n",
       "   {u'doi': [u'10.1371/journal.pone.0089712']},\n",
       "   {u'doi': [u'10.1371/journal.pone.0072751']},\n",
       "   {u'doi': [u'10.1371/journal.pone.0020725']},\n",
       "   {u'doi': [u'10.1371/journal.pcbi.1004039']},\n",
       "   {u'doi': [u'10.1371/journal.pone.0136716']},\n",
       "   {u'doi': [u'10.1371/journal.pcbi.1002607']},\n",
       "   {u'doi': [u'10.1371/journal.pone.0011663']},\n",
       "   {u'doi': [u'10.1371/journal.pcbi.1002774']},\n",
       "   {u'doi': [u'10.1371/journal.pgen.1000460']},\n",
       "   {u'doi': [u'10.1371/journal.pbio.0040120']},\n",
       "   {u'doi': [u'10.1371/journal.pone.0010640']},\n",
       "   {u'doi': [u'10.1371/journal.pone.0078726']},\n",
       "   {u'doi': [u'10.1371/journal.pone.0126754']},\n",
       "   {u'doi': [u'10.1371/journal.pone.0060841']},\n",
       "   {u'doi': [u'10.1371/journal.ppat.1004212']},\n",
       "   {u'doi': [u'10.1371/journal.pone.0122957']},\n",
       "   {u'doi': [u'10.1371/journal.pone.0005496']},\n",
       "   {u'doi': [u'10.1371/journal.pone.0005782']},\n",
       "   {u'doi': [u'10.1371/journal.pone.0005344']},\n",
       "   {u'doi': [u'10.1371/journal.pone.0122905']},\n",
       "   {u'doi': [u'10.1371/journal.pone.0123839']},\n",
       "   {u'doi': [u'10.1371/journal.pone.0123329']},\n",
       "   {u'doi': [u'10.1371/journal.pgen.1003195']},\n",
       "   {u'doi': [u'10.1371/journal.pcbi.1003111']},\n",
       "   {u'doi': [u'10.1371/journal.pone.0054971']},\n",
       "   {u'doi': [u'10.1371/journal.pcbi.1004402']},\n",
       "   {u'doi': [u'10.1371/journal.pone.0003610']},\n",
       "   {u'doi': [u'10.1371/journal.pcbi.1004196']},\n",
       "   {u'doi': [u'10.1371/journal.pone.0003478']},\n",
       "   {u'doi': [u'10.1371/journal.pgen.0010061']},\n",
       "   {u'doi': [u'10.1371/journal.pcbi.1001128']},\n",
       "   {u'doi': [u'10.1371/journal.pone.0001676']},\n",
       "   {u'doi': [u'10.1371/journal.pone.0001437']},\n",
       "   {u'doi': [u'10.1371/journal.pone.0102694']},\n",
       "   {u'doi': [u'10.1371/journal.pone.0085872']},\n",
       "   {u'doi': [u'10.1371/journal.pcbi.1000545']},\n",
       "   {u'doi': [u'10.1371/journal.pcbi.1000291']},\n",
       "   {u'doi': [u'10.1371/journal.pone.0000090']},\n",
       "   {u'doi': [u'10.1371/journal.pone.0050644']},\n",
       "   {u'doi': [u'10.1371/journal.pbio.1001306']},\n",
       "   {u'doi': [u'10.1371/journal.pbio.1002042']},\n",
       "   {u'doi': [u'10.1371/journal.pbio.1001252']},\n",
       "   {u'doi': [u'10.1371/journal.pbio.1000516']},\n",
       "   {u'doi': [u'10.1371/journal.pone.0047952']},\n",
       "   {u'doi': [u'10.1371/journal.pone.0012674']},\n",
       "   {u'doi': [u'10.1371/journal.pone.0041040']},\n",
       "   {u'doi': [u'10.1371/journal.pone.0000943']},\n",
       "   {u'doi': [u'10.1371/journal.pone.0008573']},\n",
       "   {u'doi': [u'10.1371/journal.pone.0124159']},\n",
       "   {u'doi': [u'10.1371/journal.pgen.1003079']},\n",
       "   {u'doi': [u'10.1371/journal.pgen.1002528']},\n",
       "   {u'doi': [u'10.1371/journal.pone.0004901']},\n",
       "   {u'doi': [u'10.1371/journal.pone.0127227']},\n",
       "   {u'doi': [u'10.1371/journal.pone.0008228']},\n",
       "   {u'doi': [u'10.1371/journal.pone.0008015']},\n",
       "   {u'doi': [u'10.1371/journal.pone.0009954']},\n",
       "   {u'doi': [u'10.1371/journal.pone.0001253']},\n",
       "   {u'doi': [u'10.1371/journal.pone.0016676']},\n",
       "   {u'doi': [u'10.1371/journal.pgen.1002443']},\n",
       "   {u'doi': [u'10.1371/journal.pone.0011506']},\n",
       "   {u'doi': [u'10.1371/journal.pcbi.0020153']},\n",
       "   {u'doi': [u'10.1371/journal.pone.0057597']},\n",
       "   {u'doi': [u'10.1371/journal.pone.0057516']},\n",
       "   {u'doi': [u'10.1371/journal.pone.0004559']},\n",
       "   {u'doi': [u'10.1371/journal.pone.0004338']},\n",
       "   {u'doi': [u'10.1371/journal.pone.0004503']},\n",
       "   {u'doi': [u'10.1371/journal.pcbi.1003475']},\n",
       "   {u'doi': [u'10.1371/journal.pone.0137367']},\n",
       "   {u'doi': [u'10.1371/journal.pone.0103024']},\n",
       "   {u'doi': [u'10.1371/journal.pone.0117854']},\n",
       "   {u'doi': [u'10.1371/journal.pone.0001923']},\n",
       "   {u'doi': [u'10.1371/journal.pcbi.1002841']},\n",
       "   {u'doi': [u'10.1371/journal.pone.0001295']},\n",
       "   {u'doi': [u'10.1371/journal.pone.0018224']},\n",
       "   {u'doi': [u'10.1371/journal.pcbi.1001066']},\n",
       "   {u'doi': [u'10.1371/journal.pone.0017804']},\n",
       "   {u'doi': [u'10.1371/journal.pone.0067702']},\n",
       "   {u'doi': [u'10.1371/journal.pone.0017013']},\n",
       "   {u'doi': [u'10.1371/journal.pcbi.1000268']},\n",
       "   {u'doi': [u'10.1371/journal.pcbi.0030020']},\n",
       "   {u'doi': [u'10.1371/journal.pone.0066012']},\n",
       "   {u'doi': [u'10.1371/journal.pbio.1001237']},\n",
       "   {u'doi': [u'10.1371/journal.pbio.1000167']},\n",
       "   {u'doi': [u'10.1371/journal.pbio.0020015']},\n",
       "   {u'doi': [u'10.1371/journal.pone.0095990']},\n",
       "   {u'doi': [u'10.1371/journal.pone.0028922']},\n",
       "   {u'doi': [u'10.1371/journal.pone.0007173']},\n",
       "   {u'doi': [u'10.1371/journal.pntd.0000684']},\n",
       "   {u'doi': [u'10.1371/journal.pbio.0050301']},\n",
       "   {u'doi': [u'10.1371/journal.pone.0024925']},\n",
       "   {u'doi': [u'10.1371/journal.ppat.1004495']},\n",
       "   {u'doi': [u'10.1371/journal.ppat.1002527']},\n",
       "   {u'doi': [u'10.1371/journal.ppat.1003106']},\n",
       "   {u'doi': [u'10.1371/journal.pcbi.1003542']},\n",
       "   {u'doi': [u'10.1371/journal.pone.0002150']},\n",
       "   {u'doi': [u'10.1371/journal.pone.0017441']},\n",
       "   {u'doi': [u'10.1371/journal.pone.0048909']},\n",
       "   {u'doi': [u'10.1371/journal.pone.0014360']},\n",
       "   {u'doi': [u'10.1371/journal.pntd.0000246']},\n",
       "   {u'doi': [u'10.1371/journal.pone.0112762']},\n",
       "   {u'doi': [u'10.1371/journal.pmed.0020355']},\n",
       "   {u'doi': [u'10.1371/journal.pone.0069618']},\n",
       "   {u'doi': [u'10.1371/journal.pcbi.1002236']},\n",
       "   {u'doi': [u'10.1371/journal.pcbi.1002202']},\n",
       "   {u'doi': [u'10.1371/journal.pone.0068300']},\n",
       "   {u'doi': [u'10.1371/journal.pcbi.0020059']},\n",
       "   {u'doi': [u'10.1371/journal.pone.0111333']},\n",
       "   {u'doi': [u'10.1371/journal.pone.0026727']},\n",
       "   {u'doi': [u'10.1371/journal.pone.0000928']},\n",
       "   {u'doi': [u'10.1371/journal.pcbi.1000334']},\n",
       "   {u'doi': [u'10.1371/journal.pcbi.1001122']},\n",
       "   {u'doi': [u'10.1371/journal.pgen.1004261']}],\n",
       "  u'numFound': 222,\n",
       "  u'start': 0}}"
      ]
     },
     "execution_count": 20,
     "metadata": {},
     "output_type": "execute_result"
    }
   ],
   "source": [
    "# Initiate and populate a query object\n",
    "query = search.Request('author_affiliate:\"California Institute of Technology\"')\n",
    "\n",
    "# Initiate the actual API call and get some results\n",
    "response = query.get()\n",
    "response"
   ]
  },
  {
   "cell_type": "markdown",
   "metadata": {},
   "source": [
    "This gives 220 DOI's found at PLOS which match the affiliation term \"California Institute of Technology\". You might want to change the search term to see if there are other articles, perhaps listed under Caltech or other variations of the name.\n",
    "\n",
    "This search matches the terms that you will find in the Advanced Search functionality on the PLOS website: http://www.plosone.org/search/advanced?noSearchFlag so you can use that search form to construct a more advanced search and then use it with the function above. For instance a more complex search for Caltech might look like this:"
   ]
  },
  {
   "cell_type": "code",
   "execution_count": 21,
   "metadata": {
    "collapsed": false
   },
   "outputs": [
    {
     "data": {
      "text/plain": [
       "226"
      ]
     },
     "execution_count": 21,
     "metadata": {},
     "output_type": "execute_result"
    }
   ],
   "source": [
    "# Initiate and populate a query object\n",
    "query = search.Request(\"\"\"\n",
    "    author_affiliate:\"California Institute of Technology\"\n",
    "    OR\n",
    "    author_affiliate:\"Caltech\"\n",
    "                       \"\"\")\n",
    "\n",
    "# Initiate the actual API call and get some results\n",
    "caltech = query.get()\n",
    "len(caltech['response']['docs'])"
   ]
  },
  {
   "cell_type": "markdown",
   "metadata": {
    "collapsed": true
   },
   "source": [
    "<div class=\"alert alert-success\">\n",
    "Construct a search that looks for papers from Martin Karplus, Robert Grubbs or Eric Betzig. You should retrieve two articles.\n",
    "</div>"
   ]
  },
  {
   "cell_type": "code",
   "execution_count": 22,
   "metadata": {
    "collapsed": false
   },
   "outputs": [
    {
     "data": {
      "text/plain": [
       "2"
      ]
     },
     "execution_count": 22,
     "metadata": {},
     "output_type": "execute_result"
    }
   ],
   "source": [
    "# Initiate and populate a query object\n",
    "query = search.Request(\"\"\"\n",
    "    author:\"Eric Betzig\"\n",
    "    OR\n",
    "    author:\"Robert Grubbs\"\n",
    "    OR\n",
    "    author:\"Martin Karplus\"\n",
    "                       \"\"\")\n",
    "\n",
    "# Initiate the actual API call and get some results\n",
    "response = query.get()\n",
    "len(response['response']['docs'])"
   ]
  },
  {
   "cell_type": "code",
   "execution_count": 23,
   "metadata": {
    "collapsed": false
   },
   "outputs": [],
   "source": [
    "assert len(response['response']['docs']) == 2"
   ]
  },
  {
   "cell_type": "markdown",
   "metadata": {},
   "source": [
    "## Part B: Collecting and analysing ALM Data\n",
    "\n",
    "Back to [Table of Contents](#Table-of-Contents)."
   ]
  },
  {
   "cell_type": "markdown",
   "metadata": {},
   "source": [
    "<div class=\"alert alert-success\">\n",
    "Based on the example notebooks obtain Article Level Metrics data on these two articles from the PLOS ALM API. Note that the ALM API wrapper can also accept a list of DOIs as well as a single DOI. You will need to construct a list of the two DOIs to pass to the function. Obtain the number of EuropePubmedCentral citations for all the articles.\n",
    "</div>"
   ]
  },
  {
   "cell_type": "code",
   "execution_count": 24,
   "metadata": {
    "collapsed": false
   },
   "outputs": [],
   "source": [
    "# Need to configure the API URL as per the notebook example\n",
    "pyalm.config.APIS = { 'plos' : {'url': 'http://alm.plos.org/api/v5/articles'},\n",
    "                      'det'  : {'url' : 'http://det.labs.crossref.org/api/v5/articles'}\n",
    "                    }"
   ]
  },
  {
   "cell_type": "code",
   "execution_count": 25,
   "metadata": {
    "collapsed": false
   },
   "outputs": [
    {
     "name": "stdout",
     "output_type": "stream",
     "text": [
      "[u'10.1371/journal.pbio.1000137', u'10.1371/journal.pbio.0040144']\n"
     ]
    }
   ],
   "source": [
    "response.get('response').get('docs')\n",
    "\n",
    "dois = [doc.get('doi')[0] for doc in response.get('response').get('docs')]\n",
    "\n",
    "print dois\n",
    "\n",
    "#pyalm.get_alm(dois, info='detail', instance='plos')"
   ]
  },
  {
   "cell_type": "code",
   "execution_count": 26,
   "metadata": {
    "collapsed": false
   },
   "outputs": [
    {
     "data": {
      "text/plain": [
       "list"
      ]
     },
     "execution_count": 26,
     "metadata": {},
     "output_type": "execute_result"
    }
   ],
   "source": [
    "# Create a list of DOIs from the response above. You could either create a new list or use a list comprehension\n",
    "dois = [doc.get('doi')[0] for doc in response.get('response').get('docs')]\n",
    "plos_alm = pyalm.get_alm(dois, info='detail', instance='plos')\n",
    "\n",
    "type(plos_alm) # should be dict"
   ]
  },
  {
   "cell_type": "code",
   "execution_count": 28,
   "metadata": {
    "collapsed": false
   },
   "outputs": [
    {
     "ename": "TypeError",
     "evalue": "list indices must be integers, not str",
     "output_type": "error",
     "traceback": [
      "\u001b[1;31m---------------------------------------------------------------------------\u001b[0m",
      "\u001b[1;31mTypeError\u001b[0m                                 Traceback (most recent call last)",
      "\u001b[1;32m<ipython-input-28-46b094131fac>\u001b[0m in \u001b[0;36m<module>\u001b[1;34m()\u001b[0m\n\u001b[0;32m      2\u001b[0m \u001b[1;31m# [('title1', citations), ('title2', citations)]\u001b[0m\u001b[1;33m\u001b[0m\u001b[1;33m\u001b[0m\u001b[0m\n\u001b[0;32m      3\u001b[0m \u001b[0mcites\u001b[0m \u001b[1;33m=\u001b[0m \u001b[1;33m[\u001b[0m\u001b[1;33m]\u001b[0m\u001b[1;33m\u001b[0m\u001b[0m\n\u001b[1;32m----> 4\u001b[1;33m \u001b[1;32mfor\u001b[0m \u001b[0marticle\u001b[0m \u001b[1;32min\u001b[0m \u001b[0mplos_alm\u001b[0m\u001b[1;33m[\u001b[0m\u001b[1;34m'articles'\u001b[0m\u001b[1;33m]\u001b[0m\u001b[1;33m:\u001b[0m\u001b[1;33m\u001b[0m\u001b[0m\n\u001b[0m\u001b[0;32m      5\u001b[0m     \u001b[0mcites\u001b[0m\u001b[1;33m.\u001b[0m\u001b[0mappend\u001b[0m\u001b[1;33m(\u001b[0m\u001b[1;33m(\u001b[0m\u001b[0marticle\u001b[0m\u001b[1;33m.\u001b[0m\u001b[0mtitle\u001b[0m\u001b[1;33m,\u001b[0m \u001b[0marticle\u001b[0m\u001b[1;33m.\u001b[0m\u001b[0msources\u001b[0m\u001b[1;33m[\u001b[0m\u001b[1;34m'pmceurope'\u001b[0m\u001b[1;33m]\u001b[0m\u001b[1;33m.\u001b[0m\u001b[0mmetrics\u001b[0m\u001b[1;33m.\u001b[0m\u001b[0mtotal\u001b[0m\u001b[1;33m)\u001b[0m\u001b[1;33m)\u001b[0m\u001b[1;33m\u001b[0m\u001b[0m\n\u001b[0;32m      6\u001b[0m \u001b[1;33m\u001b[0m\u001b[0m\n",
      "\u001b[1;31mTypeError\u001b[0m: list indices must be integers, not str"
     ]
    }
   ],
   "source": [
    "# Get the title and number of EuPMC citations for each article. Create a list of tuples called cites as follows\n",
    "# [('title1', citations), ('title2', citations)]\n",
    "cites = []\n",
    "for article in plos_alm['articles']:\n",
    "    cites.append((article.title, article.sources['pmceurope'].metrics.total))\n",
    "    \n",
    "print cites\n",
    "\n"
   ]
  },
  {
   "cell_type": "code",
   "execution_count": 29,
   "metadata": {
    "collapsed": false
   },
   "outputs": [
    {
     "ename": "IndexError",
     "evalue": "list index out of range",
     "output_type": "error",
     "traceback": [
      "\u001b[1;31m---------------------------------------------------------------------------\u001b[0m",
      "\u001b[1;31mIndexError\u001b[0m                                Traceback (most recent call last)",
      "\u001b[1;32m<ipython-input-29-680d6180edc2>\u001b[0m in \u001b[0;36m<module>\u001b[1;34m()\u001b[0m\n\u001b[1;32m----> 1\u001b[1;33m \u001b[1;32massert\u001b[0m \u001b[0mcites\u001b[0m\u001b[1;33m[\u001b[0m\u001b[1;36m0\u001b[0m\u001b[1;33m]\u001b[0m \u001b[1;33m==\u001b[0m \u001b[1;33m(\u001b[0m\u001b[1;34mu'Self-Organization of the <i>Escherichia coli</i> Chemotaxis Network Imaged with Super-Resolution Light Microscopy'\u001b[0m\u001b[1;33m,\u001b[0m \u001b[1;36m108\u001b[0m\u001b[1;33m)\u001b[0m\u001b[1;33m\u001b[0m\u001b[0m\n\u001b[0m\u001b[0;32m      2\u001b[0m \u001b[1;32massert\u001b[0m \u001b[0mcites\u001b[0m\u001b[1;33m[\u001b[0m\u001b[1;36m1\u001b[0m\u001b[1;33m]\u001b[0m \u001b[1;33m==\u001b[0m \u001b[1;33m(\u001b[0m\u001b[1;34mu'A Src-Like Inactive Conformation in the Abl Tyrosine Kinase Domain'\u001b[0m\u001b[1;33m,\u001b[0m \u001b[1;36m90\u001b[0m\u001b[1;33m)\u001b[0m\u001b[1;33m\u001b[0m\u001b[0m\n",
      "\u001b[1;31mIndexError\u001b[0m: list index out of range"
     ]
    }
   ],
   "source": [
    "assert cites[0] == (u'Self-Organization of the <i>Escherichia coli</i> Chemotaxis Network Imaged with Super-Resolution Light Microscopy', 108)\n",
    "assert cites[1] == (u'A Src-Like Inactive Conformation in the Abl Tyrosine Kinase Domain', 90)"
   ]
  },
  {
   "cell_type": "markdown",
   "metadata": {},
   "source": [
    "<div class=\"alert alert-success\">\n",
    "For the papers returned from a search for the first 50 articles affiliated with California Institute of Technology above output the number of EuropePMC citations, Facebook posts and Tweets. It may take some time for the API to return results for 50 articles.\n",
    "</div>"
   ]
  },
  {
   "cell_type": "code",
   "execution_count": 30,
   "metadata": {
    "collapsed": false
   },
   "outputs": [],
   "source": [
    "# Create a list of the first 50 DOIs and get the ALMs from PLOS API\n",
    "caldois = [doc['doi'][0] for doc in caltech['response']['docs']][0:50]\n",
    "cal_alm = pyalm.get_alm(caldois, info='detail', instance='plos')"
   ]
  },
  {
   "cell_type": "code",
   "execution_count": 31,
   "metadata": {
    "collapsed": false
   },
   "outputs": [
    {
     "ename": "TypeError",
     "evalue": "list indices must be integers, not str",
     "output_type": "error",
     "traceback": [
      "\u001b[1;31m---------------------------------------------------------------------------\u001b[0m",
      "\u001b[1;31mTypeError\u001b[0m                                 Traceback (most recent call last)",
      "\u001b[1;32m<ipython-input-31-396549bff2bd>\u001b[0m in \u001b[0;36m<module>\u001b[1;34m()\u001b[0m\n\u001b[0;32m      1\u001b[0m \u001b[1;31m# Construct a list of tuples called `results` as above with each of the elements required plus the title\u001b[0m\u001b[1;33m\u001b[0m\u001b[1;33m\u001b[0m\u001b[0m\n\u001b[0;32m      2\u001b[0m \u001b[0mresults\u001b[0m \u001b[1;33m=\u001b[0m \u001b[1;33m[\u001b[0m\u001b[1;33m]\u001b[0m\u001b[1;33m\u001b[0m\u001b[0m\n\u001b[1;32m----> 3\u001b[1;33m \u001b[1;32mfor\u001b[0m \u001b[0marticle\u001b[0m \u001b[1;32min\u001b[0m \u001b[0mcal_alm\u001b[0m\u001b[1;33m[\u001b[0m\u001b[1;34m'articles'\u001b[0m\u001b[1;33m]\u001b[0m\u001b[1;33m:\u001b[0m\u001b[1;33m\u001b[0m\u001b[0m\n\u001b[0m\u001b[0;32m      4\u001b[0m     results.append((article.title, \n\u001b[0;32m      5\u001b[0m                    \u001b[0marticle\u001b[0m\u001b[1;33m.\u001b[0m\u001b[0msources\u001b[0m\u001b[1;33m[\u001b[0m\u001b[1;34m'pmceurope'\u001b[0m\u001b[1;33m]\u001b[0m\u001b[1;33m.\u001b[0m\u001b[0mmetrics\u001b[0m\u001b[1;33m.\u001b[0m\u001b[0mtotal\u001b[0m\u001b[1;33m,\u001b[0m\u001b[1;33m\u001b[0m\u001b[0m\n",
      "\u001b[1;31mTypeError\u001b[0m: list indices must be integers, not str"
     ]
    }
   ],
   "source": [
    "# Construct a list of tuples called `results` as above with each of the elements required plus the title\n",
    "results = []\n",
    "for article in cal_alm['articles']:\n",
    "    results.append((article.title, \n",
    "                   article.sources['pmceurope'].metrics.total,\n",
    "                   article.sources['facebook'].metrics.total,\n",
    "                   article.sources['twitter'].metrics.total))\n",
    "    \n",
    "results"
   ]
  },
  {
   "cell_type": "code",
   "execution_count": null,
   "metadata": {
    "collapsed": false
   },
   "outputs": [],
   "source": [
    "assert len(results) == 50"
   ]
  },
  {
   "cell_type": "markdown",
   "metadata": {},
   "source": [
    "<div class=\"alert alert-success\">\n",
    "Find articles with at least some tweets and obtain account names of the tweets. Identify whether there are accounts tweeting more than one article. Note that some accounts might tweet about the same article twice. We are only interested in cases where the same account is tweeting about more than one article. Make a list called `common_tweeters` that contains the account handles for anyone who tweeted more than one article.\n",
    "</div>"
   ]
  },
  {
   "cell_type": "code",
   "execution_count": 13,
   "metadata": {
    "collapsed": false
   },
   "outputs": [
    {
     "ename": "NameError",
     "evalue": "name 'cal_alm' is not defined",
     "output_type": "error",
     "traceback": [
      "\u001b[1;31m---------------------------------------------------------------------------\u001b[0m",
      "\u001b[1;31mNameError\u001b[0m                                 Traceback (most recent call last)",
      "\u001b[1;32m<ipython-input-13-1fb95584d328>\u001b[0m in \u001b[0;36m<module>\u001b[1;34m()\u001b[0m\n\u001b[0;32m      2\u001b[0m \u001b[1;31m# but either will work\u001b[0m\u001b[1;33m\u001b[0m\u001b[1;33m\u001b[0m\u001b[0m\n\u001b[0;32m      3\u001b[0m \u001b[0mtweeted\u001b[0m \u001b[1;33m=\u001b[0m \u001b[1;33m[\u001b[0m\u001b[1;33m]\u001b[0m\u001b[1;33m\u001b[0m\u001b[0m\n\u001b[1;32m----> 4\u001b[1;33m \u001b[1;32mfor\u001b[0m \u001b[0marticle\u001b[0m \u001b[1;32min\u001b[0m \u001b[0mcal_alm\u001b[0m\u001b[1;33m[\u001b[0m\u001b[1;34m'articles'\u001b[0m\u001b[1;33m]\u001b[0m\u001b[1;33m:\u001b[0m\u001b[1;33m\u001b[0m\u001b[0m\n\u001b[0m\u001b[0;32m      5\u001b[0m     \u001b[1;32mif\u001b[0m \u001b[0marticle\u001b[0m\u001b[1;33m.\u001b[0m\u001b[0msources\u001b[0m\u001b[1;33m[\u001b[0m\u001b[1;34m'twitter'\u001b[0m\u001b[1;33m]\u001b[0m\u001b[1;33m.\u001b[0m\u001b[0mmetrics\u001b[0m\u001b[1;33m.\u001b[0m\u001b[0mtotal\u001b[0m \u001b[1;33m!=\u001b[0m \u001b[1;36m0\u001b[0m\u001b[1;33m:\u001b[0m\u001b[1;33m\u001b[0m\u001b[0m\n\u001b[0;32m      6\u001b[0m         \u001b[0mtweeted\u001b[0m\u001b[1;33m.\u001b[0m\u001b[0mappend\u001b[0m\u001b[1;33m(\u001b[0m\u001b[0marticle\u001b[0m\u001b[1;33m)\u001b[0m\u001b[1;33m\u001b[0m\u001b[0m\n",
      "\u001b[1;31mNameError\u001b[0m: name 'cal_alm' is not defined"
     ]
    }
   ],
   "source": [
    "# Probably easier to iterate through the article objects than to have to cross reference from the list we just\n",
    "# but either will work\n",
    "tweeted = []\n",
    "for article in cal_alm['articles']:\n",
    "    if article.sources['twitter'].metrics.total != 0:\n",
    "        tweeted.append(article)\n",
    "    \n",
    "len(tweeted)"
   ]
  },
  {
   "cell_type": "code",
   "execution_count": 14,
   "metadata": {
    "collapsed": false
   },
   "outputs": [
    {
     "ename": "AssertionError",
     "evalue": "",
     "output_type": "error",
     "traceback": [
      "\u001b[1;31m---------------------------------------------------------------------------\u001b[0m",
      "\u001b[1;31mAssertionError\u001b[0m                            Traceback (most recent call last)",
      "\u001b[1;32m<ipython-input-14-09588850fb6f>\u001b[0m in \u001b[0;36m<module>\u001b[1;34m()\u001b[0m\n\u001b[1;32m----> 1\u001b[1;33m \u001b[1;32massert\u001b[0m \u001b[0mlen\u001b[0m\u001b[1;33m(\u001b[0m\u001b[0mtweeted\u001b[0m\u001b[1;33m)\u001b[0m \u001b[1;33m>\u001b[0m \u001b[1;36m10\u001b[0m\u001b[1;33m\u001b[0m\u001b[0m\n\u001b[0m",
      "\u001b[1;31mAssertionError\u001b[0m: "
     ]
    }
   ],
   "source": [
    "assert len(tweeted) > 10"
   ]
  },
  {
   "cell_type": "code",
   "execution_count": 15,
   "metadata": {
    "collapsed": false
   },
   "outputs": [
    {
     "data": {
      "text/plain": [
       "0"
      ]
     },
     "execution_count": 15,
     "metadata": {},
     "output_type": "execute_result"
    }
   ],
   "source": [
    "# Now obtain all the account names. Look at the example notebook for how to get this information.\n",
    "unique_accounts = set()\n",
    "for article in tweeted:\n",
    "    for tweet in article.sources['twitter'].events:\n",
    "        unique_accounts.add(tweet['event']['user'])\n",
    "        \n",
    "len(unique_accounts)\n"
   ]
  },
  {
   "cell_type": "code",
   "execution_count": 16,
   "metadata": {
    "collapsed": false
   },
   "outputs": [
    {
     "data": {
      "text/plain": [
       "0"
      ]
     },
     "execution_count": 16,
     "metadata": {},
     "output_type": "execute_result"
    }
   ],
   "source": [
    "# Now check whether an account occurs tweeting more than one article. This requires a little care and attention. \n",
    "common_tweeters = []\n",
    "\n",
    "for account in unique_accounts:\n",
    "    count = 0\n",
    "    for article in tweeted:\n",
    "        tweeters = [tweet['event']['user'] for tweet in article.sources['twitter'].events]\n",
    "        if account in tweeters:\n",
    "            count+=1\n",
    "            \n",
    "    if count > 1:\n",
    "        common_tweeters.append(account)\n",
    "\n",
    "len(common_tweeters)"
   ]
  },
  {
   "cell_type": "code",
   "execution_count": 17,
   "metadata": {
    "collapsed": false
   },
   "outputs": [
    {
     "data": {
      "text/plain": [
       "[]"
      ]
     },
     "execution_count": 17,
     "metadata": {},
     "output_type": "execute_result"
    }
   ],
   "source": [
    "common_tweeters"
   ]
  },
  {
   "cell_type": "code",
   "execution_count": 18,
   "metadata": {
    "collapsed": false
   },
   "outputs": [
    {
     "ename": "AssertionError",
     "evalue": "",
     "output_type": "error",
     "traceback": [
      "\u001b[1;31m---------------------------------------------------------------------------\u001b[0m",
      "\u001b[1;31mAssertionError\u001b[0m                            Traceback (most recent call last)",
      "\u001b[1;32m<ipython-input-18-8f9cf4eb4bdf>\u001b[0m in \u001b[0;36m<module>\u001b[1;34m()\u001b[0m\n\u001b[1;32m----> 1\u001b[1;33m \u001b[1;32massert\u001b[0m \u001b[0mcommon_tweeters\u001b[0m \u001b[1;33m!=\u001b[0m \u001b[1;33m[\u001b[0m\u001b[1;33m]\u001b[0m\u001b[1;33m\u001b[0m\u001b[0m\n\u001b[0m",
      "\u001b[1;31mAssertionError\u001b[0m: "
     ]
    }
   ],
   "source": [
    "assert common_tweeters != []"
   ]
  },
  {
   "cell_type": "code",
   "execution_count": null,
   "metadata": {
    "collapsed": true
   },
   "outputs": [],
   "source": []
  }
 ],
 "metadata": {
  "kernelspec": {
   "display_name": "Python 2",
   "language": "python",
   "name": "python2"
  },
  "language_info": {
   "codemirror_mode": {
    "name": "ipython",
    "version": 2
   },
   "file_extension": ".py",
   "mimetype": "text/x-python",
   "name": "python",
   "nbconvert_exporter": "python",
   "pygments_lexer": "ipython2",
   "version": "2.7.10"
  }
 },
 "nbformat": 4,
 "nbformat_minor": 0
}
