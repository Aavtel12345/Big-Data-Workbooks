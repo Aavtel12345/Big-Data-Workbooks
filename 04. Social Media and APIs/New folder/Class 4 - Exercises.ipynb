{
 "metadata": {
  "name": ""
 },
 "nbformat": 3,
 "nbformat_minor": 0,
 "worksheets": [
  {
   "cells": [
    {
     "cell_type": "markdown",
     "metadata": {},
     "source": [
      "Altmetrics and Web APIs - Class Exercises\n",
      "=========================================\n",
      "\n",
      "Exercise 1 - Obtain an API Key and query PLOS Search API\n",
      "--------------------------------------------------------\n",
      "\n",
      "As described in the practical notes. Navigate first to the PLOS registration site (http://register.plos.org) and register for an account. With the account in hand go to the PLOS ALM App (http://alm.plos.org)log in, go to Your Account details (http://alm.plos.org/users/me) and obtain your PLOS API key.\n",
      "\n",
      "Using http://hurl.it run a search of the corpus of PLOS articles for your chosen PI. You can use the advanced search functionality at the PLOS journals (http://www.plosone.org/search/advanced) to construct your search term. Note that you may need to include both affiliation and name to ensure you get uniquely the right person. You might want to compare the results of a similar search at http://search.crossref.org. \n",
      "\n",
      "Discuss within your group any patterns you see of those PIs who do or do not publish with PLOS. Are there specific disciplines that seem better represented than others?\n",
      "\n",
      "Further work: Consider how searching by name or affiliation is problematic at the scale of intergrating information for thousands of PIs. Look at the functionality offered by http://orcid.org and describe how this could help solve the problem of integrating data on the outputs of specific PIs at scale."
     ]
    },
    {
     "cell_type": "markdown",
     "metadata": {},
     "source": [
      "Exercise 2 - Retrieve Article Level Metrics Data from the PLOS ALM API for your chosen PI\n",
      "-----------------------------------------------------------------------------------------\n",
      "\n",
      "Using the code examples from the practical session, run a search for your PI using the PLOS search API and obtain a list of DOIs related to their papers. If you have found that they have not published with PLOS then obtain instead the list of papers associated with CalTech, and select one of them for further analysis."
     ]
    },
    {
     "cell_type": "code",
     "collapsed": false,
     "input": [
      "# You can cut and paste code directly into this cell and run it live in the IPython Notebook environment if desired\n",
      "# You will need to start by importing the relevant libraries and setting up your API key as shown\n",
      "import pyalm.pyalm as pyalm\n",
      "import pyalm.config as config\n",
      "import pyalm.utilities.plossearch as search\n",
      "import pprint\n",
      "\n",
      "#Set your API Key\n",
      "config.APIS['plos']['key'] = 'YOUR API KEY GOES HERE'"
     ],
     "language": "python",
     "metadata": {},
     "outputs": [],
     "prompt_number": 3
    },
    {
     "cell_type": "code",
     "collapsed": false,
     "input": [
      "#You might want to set up your search term as a string\n",
      "\n",
      "search_term = \"\"\"\n",
      "author_affiliate:\"California Institute of Technology\" AND\n",
      "author:\"My PIs Name\"\n",
      "\"\"\"\n",
      "\n",
      "query = search.Request(search_term)\n",
      "# You can fill in the rest from the practical notes"
     ],
     "language": "python",
     "metadata": {},
     "outputs": [],
     "prompt_number": 5
    },
    {
     "cell_type": "markdown",
     "metadata": {},
     "source": [
      "Using the PLOS ALM code from the practical notes, obtain the ALM objects from the API. Identify any social media activity around these articles. You might want to look at sources including `mendeley`, `facebook` and `twitter`. Counts for these can be found at alm_object.sources['source_name'].metrics.total\n",
      "\n",
      "If you find twitter activity then obtain the event level data about the tweets themselves. If you do not find any twitter activity then select one of the CalTech papers from near the top of the list from the practical notes and use that instead.\n",
      "\n",
      "Search at http://search.twitter.com for your PIs name. Do they have a twitter account? Are the using it to talk about their work? Look at the twitter accounts that you have identified from the PLOS ALM API. Are any of the authors tweetings about their paper? If they are is it the CalTech author tweeting about the article?\n",
      "\n",
      "Within your group discuss any patterns you see within your respective chosen PIs. Who publishes with PLOS and who does not? Who has twitter accounts and who does not? As a group collect and present data on whether having a twitter account is associated with higher twitter activity around articles."
     ]
    },
    {
     "cell_type": "code",
     "collapsed": false,
     "input": [
      "# Any more code can go in here as desired"
     ],
     "language": "python",
     "metadata": {},
     "outputs": []
    },
    {
     "cell_type": "markdown",
     "metadata": {},
     "source": [
      "Homework\n",
      "--------\n",
      "\n",
      "Depending on whether your PI had articles published with PLOS and your interest in developing more API skills select one (or more) of the following three tasks.\n",
      "\n",
      "1. Crossref has an experimental installation of the PLOS ALM App running which they are populating with a large set of articles, but a small set of data sources. The application can be found at http://alm.labs.crossref.org/docs/Home. If your PI does not publish with PLOS you may find some interesting ALM data from this service. \n",
      "    1. Obtain a Mozilla Persona account and then log in using this account to get an API key. \n",
      "    2. Look at the [pyalm code on github](http://github.com/cameronneylon/pyalm) and the Practical Notes to identify how you need to add both the url for this API and your api key to use this instance.\n",
      "    3. Pull ALM data for articles of interest from this API, examine what is available and what information it provides\n",
      "2. Identify a set of user accounts that showed interest in a specific paper and obtain the text of their recent tweets. Consider the balance of scholarly vs non-scholarly activity and discuss how this text corpus might be used for topic modelling or machine learning that could inform a discussion of who these users are and what their influence is. Use either the python-twitter API wrapper or conduct your study manually. Consider the limitations of both approaches in terms of the precision and recall of your data gathering.\n",
      "3. Identify other relevant Web APIs and sources of data tha are of value in tracking the impact of research outputs. How interoperable are these various services? How well do they contribute to the overall ecosystem of data and services that support the monitoring and analysis of research? \n",
      "\n",
      "Examine and critique the (most unstructured) data you have collected in terms of its usability and quality. Consider how this data can or can not be processed and incorporated into the larger dataset that you are using throughout this course. What challenges exist in normalisation, quality assurance and schema management in incorporating this data into a monitoring effort on a large scale. Discuss the role of unique persistable identifiers such as DOIs in resolving the potential normalisation and de-duplication issues and identify gaps in the current identifier ecosystem that would need to be filled for data aggregation to work at scale."
     ]
    },
    {
     "cell_type": "code",
     "collapsed": false,
     "input": [],
     "language": "python",
     "metadata": {},
     "outputs": []
    }
   ],
   "metadata": {}
  }
 ]
}