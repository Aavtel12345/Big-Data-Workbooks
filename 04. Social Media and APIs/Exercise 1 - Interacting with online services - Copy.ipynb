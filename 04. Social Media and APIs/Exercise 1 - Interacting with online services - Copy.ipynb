{
 "cells": [
  {
   "cell_type": "markdown",
   "metadata": {},
   "source": [
    "# Ex 1. Interacting with online services"
   ]
  },
  {
   "cell_type": "markdown",
   "metadata": {},
   "source": [
    "In this exercise, we will perform some basic requests obtaining information from the online services."
   ]
  },
  {
   "cell_type": "markdown",
   "metadata": {},
   "source": [
    "## Table of Contents\n",
    "\n",
    "- [Part A: Getting online](#Part-A:-Getting-online)\n",
    "\n",
    "- [Part B: Obtaining metadata from Crossref](#Part-B:-Obtaining-metadata-from-Crossref)\n",
    "\n",
    "- [Part C: Obtaining a list of DOIs](#PART-C:-Obtaining-a-list-of-DOIs)"
   ]
  },
  {
   "cell_type": "markdown",
   "metadata": {},
   "source": [
    "Get everything ready before we start the exercise."
   ]
  },
  {
   "cell_type": "code",
   "execution_count": 26,
   "metadata": {
    "collapsed": false
   },
   "outputs": [
    {
     "name": "stdout",
     "output_type": "stream",
     "text": [
      "The autoreload extension is already loaded. To reload it, use:\n",
      "  %reload_ext autoreload\n"
     ]
    },
    {
     "ename": "KeyError",
     "evalue": "'PLOS_API_KEY'",
     "output_type": "error",
     "traceback": [
      "\u001b[1;31m---------------------------------------------------------------------------\u001b[0m",
      "\u001b[1;31mKeyError\u001b[0m                                  Traceback (most recent call last)",
      "\u001b[1;32m<ipython-input-26-e2418b74b453>\u001b[0m in \u001b[0;36m<module>\u001b[1;34m()\u001b[0m\n\u001b[0;32m      7\u001b[0m \u001b[1;32mimport\u001b[0m \u001b[0mtime\u001b[0m\u001b[1;33m\u001b[0m\u001b[0m\n\u001b[0;32m      8\u001b[0m \u001b[1;32mimport\u001b[0m \u001b[0morcid\u001b[0m\u001b[1;33m\u001b[0m\u001b[0m\n\u001b[1;32m----> 9\u001b[1;33m \u001b[1;32mimport\u001b[0m \u001b[0mpyalm\u001b[0m\u001b[1;33m.\u001b[0m\u001b[0mpyalm\u001b[0m \u001b[1;32mas\u001b[0m \u001b[0mpyalm\u001b[0m\u001b[1;33m\u001b[0m\u001b[0m\n\u001b[0m",
      "\u001b[1;32mC:\\Python27\\lib\\site-packages\\pyalm-0.1-py2.7.egg\\pyalm\\pyalm.py\u001b[0m in \u001b[0;36m<module>\u001b[1;34m()\u001b[0m\n\u001b[0;32m      2\u001b[0m \u001b[1;32mfrom\u001b[0m \u001b[0mutils\u001b[0m \u001b[1;32mimport\u001b[0m \u001b[0mdictmapper\u001b[0m\u001b[1;33m,\u001b[0m \u001b[0mMappingRule\u001b[0m \u001b[1;32mas\u001b[0m \u001b[0mto\u001b[0m\u001b[1;33m\u001b[0m\u001b[0m\n\u001b[0;32m      3\u001b[0m \u001b[1;32mimport\u001b[0m \u001b[0mcleanup\u001b[0m\u001b[1;33m\u001b[0m\u001b[0m\n\u001b[1;32m----> 4\u001b[1;33m \u001b[1;32mimport\u001b[0m \u001b[0mconfig\u001b[0m\u001b[1;33m\u001b[0m\u001b[0m\n\u001b[0m\u001b[0;32m      5\u001b[0m \u001b[1;33m\u001b[0m\u001b[0m\n\u001b[0;32m      6\u001b[0m \u001b[0mBASE_HEADERS\u001b[0m \u001b[1;33m=\u001b[0m \u001b[1;33m{\u001b[0m\u001b[1;34m'Accept'\u001b[0m\u001b[1;33m:\u001b[0m \u001b[1;34m'application/json'\u001b[0m\u001b[1;33m}\u001b[0m\u001b[1;33m\u001b[0m\u001b[0m\n",
      "\u001b[1;32mC:\\Python27\\lib\\site-packages\\pyalm-0.1-py2.7.egg\\pyalm\\config.py\u001b[0m in \u001b[0;36m<module>\u001b[1;34m()\u001b[0m\n\u001b[0;32m      1\u001b[0m \u001b[1;32mtry\u001b[0m\u001b[1;33m:\u001b[0m\u001b[1;33m\u001b[0m\u001b[0m\n\u001b[1;32m----> 2\u001b[1;33m     \u001b[1;32mfrom\u001b[0m \u001b[0mapi_key\u001b[0m \u001b[1;32mimport\u001b[0m \u001b[1;33m*\u001b[0m\u001b[1;33m\u001b[0m\u001b[0m\n\u001b[0m\u001b[0;32m      3\u001b[0m \u001b[1;33m\u001b[0m\u001b[0m\n\u001b[0;32m      4\u001b[0m \u001b[1;32mexcept\u001b[0m \u001b[0mImportError\u001b[0m\u001b[1;33m:\u001b[0m \u001b[1;31m# This will happen when external integration platforms try to get key\u001b[0m\u001b[1;33m\u001b[0m\u001b[0m\n\u001b[0;32m      5\u001b[0m     \u001b[0mAPI_KEY\u001b[0m \u001b[1;33m=\u001b[0m \u001b[1;33m{\u001b[0m\u001b[1;33m}\u001b[0m\u001b[1;33m\u001b[0m\u001b[0m\n",
      "\u001b[1;32mC:\\Python27\\lib\\site-packages\\pyalm-0.1-py2.7.egg\\pyalm\\api_key.py\u001b[0m in \u001b[0;36m<module>\u001b[1;34m()\u001b[0m\n\u001b[0;32m      4\u001b[0m \u001b[1;32mimport\u001b[0m \u001b[0mos\u001b[0m\u001b[1;33m\u001b[0m\u001b[0m\n\u001b[0;32m      5\u001b[0m \u001b[1;33m\u001b[0m\u001b[0m\n\u001b[1;32m----> 6\u001b[1;33m API_KEY = { 'plos'       : os.environ['PLOS_API_KEY'],\n\u001b[0m\u001b[0;32m      7\u001b[0m             \u001b[1;34m'ojs'\u001b[0m        \u001b[1;33m:\u001b[0m \u001b[1;34m'YOUR API KEY GOES HERE'\u001b[0m\u001b[1;33m,\u001b[0m\u001b[1;33m\u001b[0m\u001b[0m\n\u001b[0;32m      8\u001b[0m             'copernicus' : 'YOUR API KEY GOES HERE'}\n",
      "\u001b[1;32mC:\\Python27\\lib\\os.pyc\u001b[0m in \u001b[0;36m__getitem__\u001b[1;34m(self, key)\u001b[0m\n\u001b[0;32m    423\u001b[0m                 \u001b[0mself\u001b[0m\u001b[1;33m.\u001b[0m\u001b[0mdata\u001b[0m\u001b[1;33m[\u001b[0m\u001b[0mkey\u001b[0m\u001b[1;33m.\u001b[0m\u001b[0mupper\u001b[0m\u001b[1;33m(\u001b[0m\u001b[1;33m)\u001b[0m\u001b[1;33m]\u001b[0m \u001b[1;33m=\u001b[0m \u001b[0mitem\u001b[0m\u001b[1;33m\u001b[0m\u001b[0m\n\u001b[0;32m    424\u001b[0m             \u001b[1;32mdef\u001b[0m \u001b[0m__getitem__\u001b[0m\u001b[1;33m(\u001b[0m\u001b[0mself\u001b[0m\u001b[1;33m,\u001b[0m \u001b[0mkey\u001b[0m\u001b[1;33m)\u001b[0m\u001b[1;33m:\u001b[0m\u001b[1;33m\u001b[0m\u001b[0m\n\u001b[1;32m--> 425\u001b[1;33m                 \u001b[1;32mreturn\u001b[0m \u001b[0mself\u001b[0m\u001b[1;33m.\u001b[0m\u001b[0mdata\u001b[0m\u001b[1;33m[\u001b[0m\u001b[0mkey\u001b[0m\u001b[1;33m.\u001b[0m\u001b[0mupper\u001b[0m\u001b[1;33m(\u001b[0m\u001b[1;33m)\u001b[0m\u001b[1;33m]\u001b[0m\u001b[1;33m\u001b[0m\u001b[0m\n\u001b[0m\u001b[0;32m    426\u001b[0m             \u001b[1;32mtry\u001b[0m\u001b[1;33m:\u001b[0m\u001b[1;33m\u001b[0m\u001b[0m\n\u001b[0;32m    427\u001b[0m                 \u001b[0munsetenv\u001b[0m\u001b[1;33m\u001b[0m\u001b[0m\n",
      "\u001b[1;31mKeyError\u001b[0m: 'PLOS_API_KEY'"
     ]
    }
   ],
   "source": [
    "%load_ext autoreload\n",
    "%autoreload 2\n",
    "import sys\n",
    "sys.path.append(\"../modules/orcid-python\")\n",
    "sys.path.append(\"../modules/pyalm\")\n",
    "import requests\n",
    "import time\n",
    "import orcid\n",
    "import pyalm.pyalm as pyalm"
   ]
  },
  {
   "cell_type": "markdown",
   "metadata": {},
   "source": [
    "## Part A: Getting online\n",
    "\n",
    "Back to [Table of Contents](#Table-of-Contents).\n",
    "\n",
    "The first part of the exercise is to simply to successfully request a page online and recieve back a 200 HTTP response. We imported the requests library above and will download the google.com page. This exercise is largely to ensure that you have a properly functioning internet connection! \n",
    "\n",
    "<div class=\"alert alert-success\">\n",
    "An example of using the `requests` library is shown in the first notebook from the book chapter. Adapt that code to download the homepage of google.com and show that the HTTP status response code is 200.\n",
    "</div>\n",
    "\n",
    "NOTE FOR EHMAD/CHRISTINA: I'm going to start with all the code in there and then take some it out. That at least proves that it works!"
   ]
  },
  {
   "cell_type": "code",
   "execution_count": 27,
   "metadata": {
    "collapsed": false
   },
   "outputs": [],
   "source": [
    "# First give the URL that you want to obtain\n",
    "url = 'http://google.com'\n",
    "\n",
    "# Then set up the request. Look at example Notebook #1 for this session and copy the names of object that the\n",
    "# request response will go into.\n",
    "response = requests.get(url)"
   ]
  },
  {
   "cell_type": "code",
   "execution_count": 28,
   "metadata": {
    "collapsed": false
   },
   "outputs": [],
   "source": [
    "assert response.status_code == 200 # If you get the code above working this assertion should pass"
   ]
  },
  {
   "cell_type": "markdown",
   "metadata": {},
   "source": [
    "## Part B: Obtaining metadata from Crossref\n",
    "\n",
    "Back to [Table of Contents](#Table-of-Contents).\n",
    "\n",
    "Now we have a working connection we will obtain some bibliographic metadata from Crossref. In the example notebook we obtained data from a single DOI. First we will replicate that for a different DOI \n",
    "\n",
    "<div class=\"alert alert-success\">\n",
    "Obtain the Crossref metadata for the DOI 10.1038/171740a0 Obtain the names of the authors of this article and its title. \n",
    "</div>"
   ]
  },
  {
   "cell_type": "code",
   "execution_count": 29,
   "metadata": {
    "collapsed": true
   },
   "outputs": [],
   "source": [
    "DOI = '10.1038/171740a0'\n",
    "query = 'works/'\n",
    "urlbase = 'http://api.crossref.org/'\n",
    "\n",
    "# Now write the code the obtain the relevant JSON metadata, check that the status code is 200.\n",
    "# In a second cell below uncomment the code to look at the JSON output, then select the author's surnames to print\n",
    "\n",
    "url = urlbase+query+DOI\n",
    "response = requests.get(url)\n",
    "assert response.status_code == 200"
   ]
  },
  {
   "cell_type": "code",
   "execution_count": 21,
   "metadata": {
    "collapsed": false
   },
   "outputs": [
    {
     "data": {
      "text/plain": [
       "{u'message': {u'DOI': u'10.1038/171740a0',\n",
       "  u'ISSN': [u'0028-0836'],\n",
       "  u'URL': u'http://dx.doi.org/10.1038/171740a0',\n",
       "  u'alternative-id': [u'171740a0'],\n",
       "  u'author': [{u'affiliation': [],\n",
       "    u'family': u'FRANKLIN',\n",
       "    u'given': u'ROSALIND E.'},\n",
       "   {u'affiliation': [], u'family': u'GOSLING', u'given': u'R. G.'}],\n",
       "  u'container-title': [u'Nature'],\n",
       "  u'deposited': {u'date-parts': [[2011, 8, 22]], u'timestamp': 1313971200000L},\n",
       "  u'indexed': {u'date-parts': [[2015, 6, 7]], u'timestamp': 1433643716355L},\n",
       "  u'issue': u'4356',\n",
       "  u'issued': {u'date-parts': [[1953, 4, 25]]},\n",
       "  u'member': u'http://id.crossref.org/member/339',\n",
       "  u'page': u'740-741',\n",
       "  u'prefix': u'http://id.crossref.org/prefix/10.1038',\n",
       "  u'publisher': u'Nature Publishing Group',\n",
       "  u'reference-count': 8,\n",
       "  u'score': 1.0,\n",
       "  u'source': u'CrossRef',\n",
       "  u'subject': [u'General'],\n",
       "  u'subtitle': [],\n",
       "  u'title': [u'Molecular Configuration in Sodium Thymonucleate'],\n",
       "  u'type': u'journal-article',\n",
       "  u'volume': u'171'},\n",
       " u'message-type': u'work',\n",
       " u'message-version': u'1.0.0',\n",
       " u'status': u'ok'}"
      ]
     },
     "execution_count": 21,
     "metadata": {},
     "output_type": "execute_result"
    }
   ],
   "source": [
    "j = response.json()\n",
    "j"
   ]
  },
  {
   "cell_type": "code",
   "execution_count": 22,
   "metadata": {
    "collapsed": false
   },
   "outputs": [
    {
     "name": "stdout",
     "output_type": "stream",
     "text": [
      "FRANKLIN\n",
      "GOSLING\n",
      "Molecular Configuration in Sodium Thymonucleate\n"
     ]
    }
   ],
   "source": [
    "# Now use your knowledge of python dictionaries to print the surname of each of the authors and its title\n",
    "surname1 = j['message']['author'][0]['family']\n",
    "surname2 = j['message']['author'][1]['family']\n",
    "title = j['message']['title'][0]\n",
    "print surname1\n",
    "print surname2\n",
    "print title"
   ]
  },
  {
   "cell_type": "markdown",
   "metadata": {},
   "source": [
    "NOTE FOR EHMAD/CHRISTINA - The authors surnames are Franklin and Gosling (possibly in capitals). This is the Rosalind Franklin article that provided the evidence backing up Watson and Crick's paper on the structure of DNA. Not sure how to set up the marking for this but they should be able to pull out the surnames by inspecting the JSON."
   ]
  },
  {
   "cell_type": "markdown",
   "metadata": {},
   "source": [
    "## PART C: Obtaining a list of DOIs\n",
    "\n",
    "Back to [Table of Contents](#Table-of-Contents).\n",
    "\n",
    "In this part of the exercise you will do something not covered in the class notes, obtain a set of DOIs from the Crossref search API. In the notes we show collecting DOIs from ORCID. In the second set of exercises we will show an example using a publisher API. \n",
    "\n",
    "To prepare for this you will need to look at the API documentation at https://github.com/CrossRef/rest-api-doc/blob/master/rest_api.md. In particular look at the section on queries. You will see that quite sophisticated queries are possible. You may want to test some examples and look at the results below. Think carefully about how you want to construct the URL for your query as you do this. \n",
    "\n",
    "NOTE: Not too sure what to test here, just make sure they get back enough results? Probably the top ones should stay the top depending on the query but more an exercise in getting them playing with the parameters than anything else.\n"
   ]
  },
  {
   "cell_type": "code",
   "execution_count": 23,
   "metadata": {
    "collapsed": false
   },
   "outputs": [],
   "source": [
    "# Construct a URL to search and then from the JSON response collect the DOIs\n",
    "\n",
    "url = 'http://api.crossref.org/works?query=Martin+Karplus'\n",
    "response = requests.get(url)\n",
    "j = response.json()"
   ]
  },
  {
   "cell_type": "code",
   "execution_count": 24,
   "metadata": {
    "collapsed": false
   },
   "outputs": [
    {
     "data": {
      "text/plain": [
       "20"
      ]
     },
     "execution_count": 24,
     "metadata": {},
     "output_type": "execute_result"
    }
   ],
   "source": [
    "# Now collect the DOIs from the JSON response\n",
    "dois = []\n",
    "for item in j['message']['items']:\n",
    "    dois.append(item['DOI'])\n",
    "\n",
    "len(dois)"
   ]
  },
  {
   "cell_type": "code",
   "execution_count": 25,
   "metadata": {
    "collapsed": true
   },
   "outputs": [],
   "source": [
    "# There should be 20 DOIs because that is the default number of results that the Crossref API returns\n",
    "assert len(dois) == 20"
   ]
  },
  {
   "cell_type": "code",
   "execution_count": null,
   "metadata": {
    "collapsed": true
   },
   "outputs": [],
   "source": []
  },
  {
   "cell_type": "code",
   "execution_count": null,
   "metadata": {
    "collapsed": true
   },
   "outputs": [],
   "source": []
  },
  {
   "cell_type": "code",
   "execution_count": null,
   "metadata": {
    "collapsed": true
   },
   "outputs": [],
   "source": []
  }
 ],
 "metadata": {
  "kernelspec": {
   "display_name": "Python 2",
   "language": "python",
   "name": "python2"
  },
  "language_info": {
   "codemirror_mode": {
    "name": "ipython",
    "version": 2
   },
   "file_extension": ".py",
   "mimetype": "text/x-python",
   "name": "python",
   "nbconvert_exporter": "python",
   "pygments_lexer": "ipython2",
   "version": "2.7.10"
  }
 },
 "nbformat": 4,
 "nbformat_minor": 0
}
